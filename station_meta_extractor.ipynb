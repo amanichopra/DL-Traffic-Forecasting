{
 "cells": [
  {
   "cell_type": "code",
   "execution_count": 3,
   "metadata": {},
   "outputs": [],
   "source": [
    "import pandas as pd\n",
    "from glob import glob"
   ]
  },
  {
   "cell_type": "code",
   "execution_count": 26,
   "metadata": {},
   "outputs": [
    {
     "data": {
      "text/html": [
       "<div>\n",
       "<style scoped>\n",
       "    .dataframe tbody tr th:only-of-type {\n",
       "        vertical-align: middle;\n",
       "    }\n",
       "\n",
       "    .dataframe tbody tr th {\n",
       "        vertical-align: top;\n",
       "    }\n",
       "\n",
       "    .dataframe thead th {\n",
       "        text-align: right;\n",
       "    }\n",
       "</style>\n",
       "<table border=\"1\" class=\"dataframe\">\n",
       "  <thead>\n",
       "    <tr style=\"text-align: right;\">\n",
       "      <th></th>\n",
       "      <th>Feature</th>\n",
       "      <th>Description</th>\n",
       "    </tr>\n",
       "  </thead>\n",
       "  <tbody>\n",
       "    <tr>\n",
       "      <th>0</th>\n",
       "      <td>ID</td>\n",
       "      <td>An integer value that uniquely indenties the ...</td>\n",
       "    </tr>\n",
       "    <tr>\n",
       "      <th>1</th>\n",
       "      <td>Freeway</td>\n",
       "      <td>Freeway Number.</td>\n",
       "    </tr>\n",
       "    <tr>\n",
       "      <th>2</th>\n",
       "      <td>Freeway Direction</td>\n",
       "      <td>A string indicating the freeway direction.</td>\n",
       "    </tr>\n",
       "    <tr>\n",
       "      <th>3</th>\n",
       "      <td>County Identifier</td>\n",
       "      <td>The unique number that identifies the county ...</td>\n",
       "    </tr>\n",
       "    <tr>\n",
       "      <th>4</th>\n",
       "      <td>City</td>\n",
       "      <td>City.</td>\n",
       "    </tr>\n",
       "    <tr>\n",
       "      <th>5</th>\n",
       "      <td>State Postmile</td>\n",
       "      <td>State Postmile.</td>\n",
       "    </tr>\n",
       "    <tr>\n",
       "      <th>6</th>\n",
       "      <td>Absolute Postmile</td>\n",
       "      <td>Absolute Postmile.</td>\n",
       "    </tr>\n",
       "    <tr>\n",
       "      <th>7</th>\n",
       "      <td>Latitude</td>\n",
       "      <td>Latitude.</td>\n",
       "    </tr>\n",
       "    <tr>\n",
       "      <th>8</th>\n",
       "      <td>Longitude</td>\n",
       "      <td>Longitude.</td>\n",
       "    </tr>\n",
       "    <tr>\n",
       "      <th>9</th>\n",
       "      <td>Length</td>\n",
       "      <td>Length</td>\n",
       "    </tr>\n",
       "    <tr>\n",
       "      <th>10</th>\n",
       "      <td>Type</td>\n",
       "      <td>Type.</td>\n",
       "    </tr>\n",
       "    <tr>\n",
       "      <th>11</th>\n",
       "      <td>Lanes</td>\n",
       "      <td>Total number of lanes.</td>\n",
       "    </tr>\n",
       "    <tr>\n",
       "      <th>12</th>\n",
       "      <td>Name</td>\n",
       "      <td>Name.</td>\n",
       "    </tr>\n",
       "    <tr>\n",
       "      <th>13</th>\n",
       "      <td>User IDs[1-4]</td>\n",
       "      <td>User-entered string identifier.</td>\n",
       "    </tr>\n",
       "  </tbody>\n",
       "</table>\n",
       "</div>"
      ],
      "text/plain": [
       "              Feature                                        Description\n",
       "0                  ID   An integer value that uniquely indenties the ...\n",
       "1             Freeway                                    Freeway Number.\n",
       "2   Freeway Direction         A string indicating the freeway direction.\n",
       "3   County Identifier   The unique number that identifies the county ...\n",
       "4                City                                             City. \n",
       "5      State Postmile                                   State Postmile. \n",
       "6   Absolute Postmile                                Absolute Postmile. \n",
       "7            Latitude                                          Latitude.\n",
       "8           Longitude                                         Longitude.\n",
       "9              Length                                             Length\n",
       "10               Type                                             Type. \n",
       "11              Lanes                            Total number of lanes. \n",
       "12               Name                                             Name. \n",
       "13      User IDs[1-4]                    User-entered string identifier."
      ]
     },
     "execution_count": 26,
     "metadata": {},
     "output_type": "execute_result"
    }
   ],
   "source": [
    "data_dict = pd.read_csv('./data/pems/meta_dict.csv', names=['Feature', 'Description']).iloc[1:].reset_index(drop=True)\n",
    "data_dict"
   ]
  },
  {
   "cell_type": "code",
   "execution_count": 23,
   "metadata": {},
   "outputs": [
    {
     "data": {
      "text/plain": [
       "['./data/pems/d07_text_meta_2020_11_16.txt',\n",
       " './data/pems/d07_text_meta_2021_10_20.txt',\n",
       " './data/pems/d07_text_meta_2021_03_27.txt']"
      ]
     },
     "execution_count": 23,
     "metadata": {},
     "output_type": "execute_result"
    }
   ],
   "source": [
    "meta_txt_files = glob('./data/pems/*.txt')\n",
    "meta_txt_files"
   ]
  },
  {
   "cell_type": "code",
   "execution_count": 31,
   "metadata": {},
   "outputs": [
    {
     "name": "stdout",
     "output_type": "stream",
     "text": [
      "<class 'pandas.core.frame.DataFrame'>\n",
      "RangeIndex: 4888 entries, 0 to 4887\n",
      "Data columns (total 18 columns):\n",
      " #   Column     Non-Null Count  Dtype  \n",
      "---  ------     --------------  -----  \n",
      " 0   ID         4888 non-null   int64  \n",
      " 1   Fwy        4888 non-null   int64  \n",
      " 2   Dir        4888 non-null   object \n",
      " 3   District   4888 non-null   int64  \n",
      " 4   County     4888 non-null   int64  \n",
      " 5   City       4377 non-null   float64\n",
      " 6   State_PM   4888 non-null   object \n",
      " 7   Abs_PM     4888 non-null   float64\n",
      " 8   Latitude   4883 non-null   float64\n",
      " 9   Longitude  4883 non-null   float64\n",
      " 10  Length     2775 non-null   float64\n",
      " 11  Type       4888 non-null   object \n",
      " 12  Lanes      4888 non-null   int64  \n",
      " 13  Name       4888 non-null   object \n",
      " 14  User_ID_1  4888 non-null   int64  \n",
      " 15  User_ID_2  0 non-null      float64\n",
      " 16  User_ID_3  0 non-null      float64\n",
      " 17  User_ID_4  0 non-null      float64\n",
      "dtypes: float64(8), int64(6), object(4)\n",
      "memory usage: 687.5+ KB\n"
     ]
    }
   ],
   "source": [
    "meta = pd.read_csv(meta_txt_files[0], delimiter='\\t')\n",
    "meta.info()"
   ]
  },
  {
   "cell_type": "code",
   "execution_count": 32,
   "metadata": {},
   "outputs": [],
   "source": [
    "meta = meta.drop(columns=['User_ID_2', 'User_ID_3', 'User_ID_4'])\n",
    "meta = meta[(~meta['Longitude'].isna()) & (~meta['Latitude'].isna())].reset_index(drop=True)"
   ]
  },
  {
   "cell_type": "code",
   "execution_count": 33,
   "metadata": {},
   "outputs": [],
   "source": [
    "import pickle"
   ]
  },
  {
   "cell_type": "code",
   "execution_count": 34,
   "metadata": {},
   "outputs": [],
   "source": [
    "with open('./data/loaded/meta.dat', 'wb') as f:\n",
    "    pickle.dump(meta[['ID', 'Fwy', 'Dir', 'Latitude', 'Longitude', 'Length', 'Type', 'Lanes']], f)"
   ]
  }
 ],
 "metadata": {
  "kernelspec": {
   "display_name": "Python 3",
   "language": "python",
   "name": "python3"
  },
  "language_info": {
   "codemirror_mode": {
    "name": "ipython",
    "version": 3
   },
   "file_extension": ".py",
   "mimetype": "text/x-python",
   "name": "python",
   "nbconvert_exporter": "python",
   "pygments_lexer": "ipython3",
   "version": "3.8.3"
  }
 },
 "nbformat": 4,
 "nbformat_minor": 4
}
