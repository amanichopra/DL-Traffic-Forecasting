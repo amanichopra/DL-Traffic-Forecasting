{
 "cells": [
  {
   "cell_type": "code",
   "execution_count": 1,
   "metadata": {},
   "outputs": [],
   "source": [
    "import numpy as np\n",
    "import pandas as pd\n",
    "import pickle\n",
    "import glob\n",
    "import gzip\n",
    "import tqdm"
   ]
  },
  {
   "cell_type": "markdown",
   "metadata": {},
   "source": [
    "This file explores the processed data given to us by Yixuan. It assumes the `adj_mat.pkl` and `LA_part0_speed.h5` files are in the data/processed/ directory."
   ]
  },
  {
   "cell_type": "code",
   "execution_count": 76,
   "metadata": {},
   "outputs": [],
   "source": [
    "# read data\n",
    "with open('../data/processed/adj_mat.pkl', 'rb') as f:\n",
    "  adj_mat = pickle.load(f)\n",
    "\n",
    "speed_df = pd.DataFrame(pd.read_hdf('../data/processed/LA_part0_speed.h5'))"
   ]
  },
  {
   "cell_type": "code",
   "execution_count": 3,
   "metadata": {},
   "outputs": [
    {
     "name": "stdout",
     "output_type": "stream",
     "text": [
      "['716942', '763237', '716951', '718371', '716953']\n",
      "\n",
      "[[1.         0.         0.         ... 0.         0.         0.        ]\n",
      " [0.         1.         0.15040863 ... 0.         0.         0.        ]\n",
      " [0.         0.         1.         ... 0.66280293 0.         0.        ]\n",
      " ...\n",
      " [0.         0.         0.16950457 ... 1.         0.         0.        ]\n",
      " [0.         0.         0.15010625 ... 0.73429793 1.         0.        ]\n",
      " [0.         0.         0.254592   ... 0.25498593 0.68657154 1.        ]]\n"
     ]
    }
   ],
   "source": [
    "# adjacency matrix: (station x station) with distances between each\n",
    "print(adj_mat[0][0:5])\n",
    "print()\n",
    "print(adj_mat[2])"
   ]
  },
  {
   "cell_type": "code",
   "execution_count": 4,
   "metadata": {},
   "outputs": [
    {
     "data": {
      "text/html": [
       "<div>\n",
       "<style scoped>\n",
       "    .dataframe tbody tr th:only-of-type {\n",
       "        vertical-align: middle;\n",
       "    }\n",
       "\n",
       "    .dataframe tbody tr th {\n",
       "        vertical-align: top;\n",
       "    }\n",
       "\n",
       "    .dataframe thead th {\n",
       "        text-align: right;\n",
       "    }\n",
       "</style>\n",
       "<table border=\"1\" class=\"dataframe\">\n",
       "  <thead>\n",
       "    <tr style=\"text-align: right;\">\n",
       "      <th></th>\n",
       "      <th>716942</th>\n",
       "      <th>763237</th>\n",
       "      <th>716951</th>\n",
       "      <th>718371</th>\n",
       "      <th>716953</th>\n",
       "      <th>716939</th>\n",
       "      <th>716940</th>\n",
       "      <th>716941</th>\n",
       "      <th>716943</th>\n",
       "      <th>716944</th>\n",
       "      <th>...</th>\n",
       "      <th>718166</th>\n",
       "      <th>760635</th>\n",
       "      <th>774671</th>\n",
       "      <th>760643</th>\n",
       "      <th>718173</th>\n",
       "      <th>775610</th>\n",
       "      <th>718045</th>\n",
       "      <th>760650</th>\n",
       "      <th>773012</th>\n",
       "      <th>767750</th>\n",
       "    </tr>\n",
       "  </thead>\n",
       "  <tbody>\n",
       "    <tr>\n",
       "      <th>2018-01-01 00:00:00</th>\n",
       "      <td>68.1</td>\n",
       "      <td>71.6</td>\n",
       "      <td>62.9</td>\n",
       "      <td>69.7</td>\n",
       "      <td>70.1</td>\n",
       "      <td>67.5</td>\n",
       "      <td>71.0</td>\n",
       "      <td>66.5</td>\n",
       "      <td>64.4</td>\n",
       "      <td>69.7</td>\n",
       "      <td>...</td>\n",
       "      <td>54.8</td>\n",
       "      <td>69.6</td>\n",
       "      <td>66.9</td>\n",
       "      <td>70.3</td>\n",
       "      <td>69.6</td>\n",
       "      <td>62.5</td>\n",
       "      <td>65.4</td>\n",
       "      <td>72.3</td>\n",
       "      <td>69.8</td>\n",
       "      <td>68.6</td>\n",
       "    </tr>\n",
       "    <tr>\n",
       "      <th>2018-01-01 00:05:00</th>\n",
       "      <td>67.7</td>\n",
       "      <td>71.3</td>\n",
       "      <td>62.1</td>\n",
       "      <td>69.8</td>\n",
       "      <td>69.7</td>\n",
       "      <td>64.4</td>\n",
       "      <td>71.0</td>\n",
       "      <td>65.9</td>\n",
       "      <td>63.2</td>\n",
       "      <td>69.2</td>\n",
       "      <td>...</td>\n",
       "      <td>54.8</td>\n",
       "      <td>68.9</td>\n",
       "      <td>66.6</td>\n",
       "      <td>67.9</td>\n",
       "      <td>67.8</td>\n",
       "      <td>60.6</td>\n",
       "      <td>64.7</td>\n",
       "      <td>74.4</td>\n",
       "      <td>69.1</td>\n",
       "      <td>67.6</td>\n",
       "    </tr>\n",
       "    <tr>\n",
       "      <th>2018-01-01 00:10:00</th>\n",
       "      <td>67.9</td>\n",
       "      <td>70.7</td>\n",
       "      <td>62.6</td>\n",
       "      <td>70.2</td>\n",
       "      <td>70.4</td>\n",
       "      <td>66.9</td>\n",
       "      <td>70.7</td>\n",
       "      <td>66.0</td>\n",
       "      <td>63.4</td>\n",
       "      <td>69.4</td>\n",
       "      <td>...</td>\n",
       "      <td>55.0</td>\n",
       "      <td>68.6</td>\n",
       "      <td>66.1</td>\n",
       "      <td>66.2</td>\n",
       "      <td>66.8</td>\n",
       "      <td>61.0</td>\n",
       "      <td>64.8</td>\n",
       "      <td>74.5</td>\n",
       "      <td>68.5</td>\n",
       "      <td>67.4</td>\n",
       "    </tr>\n",
       "    <tr>\n",
       "      <th>2018-01-01 00:15:00</th>\n",
       "      <td>68.2</td>\n",
       "      <td>70.8</td>\n",
       "      <td>63.3</td>\n",
       "      <td>69.4</td>\n",
       "      <td>70.2</td>\n",
       "      <td>67.9</td>\n",
       "      <td>70.7</td>\n",
       "      <td>65.8</td>\n",
       "      <td>63.9</td>\n",
       "      <td>69.7</td>\n",
       "      <td>...</td>\n",
       "      <td>52.8</td>\n",
       "      <td>68.2</td>\n",
       "      <td>66.3</td>\n",
       "      <td>66.2</td>\n",
       "      <td>66.4</td>\n",
       "      <td>45.0</td>\n",
       "      <td>54.6</td>\n",
       "      <td>74.9</td>\n",
       "      <td>69.2</td>\n",
       "      <td>65.8</td>\n",
       "    </tr>\n",
       "    <tr>\n",
       "      <th>2018-01-01 00:20:00</th>\n",
       "      <td>68.7</td>\n",
       "      <td>70.6</td>\n",
       "      <td>64.1</td>\n",
       "      <td>69.5</td>\n",
       "      <td>70.2</td>\n",
       "      <td>65.2</td>\n",
       "      <td>71.7</td>\n",
       "      <td>66.6</td>\n",
       "      <td>64.2</td>\n",
       "      <td>69.1</td>\n",
       "      <td>...</td>\n",
       "      <td>49.8</td>\n",
       "      <td>66.5</td>\n",
       "      <td>65.8</td>\n",
       "      <td>64.8</td>\n",
       "      <td>65.6</td>\n",
       "      <td>45.9</td>\n",
       "      <td>47.8</td>\n",
       "      <td>74.0</td>\n",
       "      <td>68.9</td>\n",
       "      <td>64.8</td>\n",
       "    </tr>\n",
       "  </tbody>\n",
       "</table>\n",
       "<p>5 rows × 179 columns</p>\n",
       "</div>"
      ],
      "text/plain": [
       "                     716942  763237  716951  718371  716953  716939  716940  \\\n",
       "2018-01-01 00:00:00    68.1    71.6    62.9    69.7    70.1    67.5    71.0   \n",
       "2018-01-01 00:05:00    67.7    71.3    62.1    69.8    69.7    64.4    71.0   \n",
       "2018-01-01 00:10:00    67.9    70.7    62.6    70.2    70.4    66.9    70.7   \n",
       "2018-01-01 00:15:00    68.2    70.8    63.3    69.4    70.2    67.9    70.7   \n",
       "2018-01-01 00:20:00    68.7    70.6    64.1    69.5    70.2    65.2    71.7   \n",
       "\n",
       "                     716941  716943  716944  ...  718166  760635  774671  \\\n",
       "2018-01-01 00:00:00    66.5    64.4    69.7  ...    54.8    69.6    66.9   \n",
       "2018-01-01 00:05:00    65.9    63.2    69.2  ...    54.8    68.9    66.6   \n",
       "2018-01-01 00:10:00    66.0    63.4    69.4  ...    55.0    68.6    66.1   \n",
       "2018-01-01 00:15:00    65.8    63.9    69.7  ...    52.8    68.2    66.3   \n",
       "2018-01-01 00:20:00    66.6    64.2    69.1  ...    49.8    66.5    65.8   \n",
       "\n",
       "                     760643  718173  775610  718045  760650  773012  767750  \n",
       "2018-01-01 00:00:00    70.3    69.6    62.5    65.4    72.3    69.8    68.6  \n",
       "2018-01-01 00:05:00    67.9    67.8    60.6    64.7    74.4    69.1    67.6  \n",
       "2018-01-01 00:10:00    66.2    66.8    61.0    64.8    74.5    68.5    67.4  \n",
       "2018-01-01 00:15:00    66.2    66.4    45.0    54.6    74.9    69.2    65.8  \n",
       "2018-01-01 00:20:00    64.8    65.6    45.9    47.8    74.0    68.9    64.8  \n",
       "\n",
       "[5 rows x 179 columns]"
      ]
     },
     "execution_count": 4,
     "metadata": {},
     "output_type": "execute_result"
    }
   ],
   "source": [
    "# speed dataframe: timestamps (5 min intervals) x speed for each station\n",
    "speed_df.head()"
   ]
  },
  {
   "cell_type": "markdown",
   "metadata": {},
   "source": [
    "#### Explore Station Metadata"
   ]
  },
  {
   "cell_type": "code",
   "execution_count": 5,
   "metadata": {},
   "outputs": [],
   "source": [
    "# get station metadata for the stations in the adjacency list\n",
    "station_list = [int(x) for x in adj_mat[0]]\n",
    "\n",
    "meta = pd.read_csv('../data/pems/d07_text_meta_2021_10_20.txt', sep='\\t')\n",
    "meta = meta[['ID', 'Fwy', 'Dir', 'District', 'County', 'City', 'State_PM', 'Abs_PM',\n",
    "             'Latitude', 'Longitude', 'Length', 'Type', 'Lanes', 'Name']]\n",
    "\n",
    "meta = meta[[x in station_list for x in meta['ID']]]\n",
    "meta.index = list(meta['ID'])"
   ]
  },
  {
   "cell_type": "code",
   "execution_count": 54,
   "metadata": {},
   "outputs": [
    {
     "data": {
      "image/png": "[encoded data removed]",
      "text/plain": [
       "<Figure size 432x288 with 1 Axes>"
      ]
     },
     "metadata": {
      "needs_background": "light"
     },
     "output_type": "display_data"
    }
   ],
   "source": [
    "# map of station locations colored by freeway number\n",
    "colors = [{10: 'tab:green', 110: 'tab:blue', 5: 'tab:red', 101: 'tab:orange'}[x] for x in meta['Fwy']]\n",
    "p = meta.plot.scatter('Latitude', 'Longitude', title='Station Locations', c=colors)"
   ]
  },
  {
   "cell_type": "code",
   "execution_count": 31,
   "metadata": {},
   "outputs": [
    {
     "data": {
      "image/png": "[encoded data removed]",
      "text/plain": [
       "<Figure size 432x288 with 1 Axes>"
      ]
     },
     "metadata": {
      "needs_background": "light"
     },
     "output_type": "display_data"
    }
   ],
   "source": [
    "p = meta['Fwy'].value_counts(ascending=True).plot.barh(title='Freeway Numbers')"
   ]
  },
  {
   "cell_type": "code",
   "execution_count": 28,
   "metadata": {},
   "outputs": [
    {
     "data": {
      "image/png": "[encoded data removed]",
      "text/plain": [
       "<Figure size 432x288 with 1 Axes>"
      ]
     },
     "metadata": {
      "needs_background": "light"
     },
     "output_type": "display_data"
    }
   ],
   "source": [
    "p = meta['Type'].value_counts(ascending=True).plot.barh(title='Lane Type')"
   ]
  },
  {
   "cell_type": "code",
   "execution_count": 30,
   "metadata": {},
   "outputs": [
    {
     "data": {
      "image/png": "[encoded data removed]",
      "text/plain": [
       "<Figure size 432x288 with 1 Axes>"
      ]
     },
     "metadata": {
      "needs_background": "light"
     },
     "output_type": "display_data"
    }
   ],
   "source": [
    "p = meta['Lanes'].value_counts(ascending=True).plot.barh(title='Number of Lanes')"
   ]
  }
 ],
 "metadata": {
  "interpreter": {
   "hash": "204cf5d3f5647f0ec4a3d9ec54333faff9b2a303c47d78d833f35458ec3cbf7b"
  },
  "kernelspec": {
   "display_name": "Python 3.8.8 64-bit ('base': conda)",
   "language": "python",
   "name": "python3"
  },
  "language_info": {
   "codemirror_mode": {
    "name": "ipython",
    "version": 3
   },
   "file_extension": ".py",
   "mimetype": "text/x-python",
   "name": "python",
   "nbconvert_exporter": "python",
   "pygments_lexer": "ipython3",
   "version": "3.8.8"
  },
  "orig_nbformat": 4
 },
 "nbformat": 4,
 "nbformat_minor": 2
}
