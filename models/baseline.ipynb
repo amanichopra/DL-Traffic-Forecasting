{
 "cells": [
  {
   "cell_type": "code",
   "execution_count": null,
   "metadata": {},
   "outputs": [],
   "source": [
    "import numpy as np\n",
    "import pandas as pd\n",
    "import pickle\n",
    "import yaml\n",
    "from tqdm.notebook import tqdm\n",
    "from sklearn.metrics import mean_absolute_error, mean_squared_error, r2_score\n",
    "import sys\n",
    "sys.path.append('../utils')\n",
    "from utils import load_processed_data, cv, get_test_metrics"
   ]
  },
  {
   "cell_type": "markdown",
   "metadata": {},
   "source": [
    "## Baseline Models\n",
    "- Selects a few stations from the preprocessed Fwy 405 N data\n",
    "- Uses very basic prediction methods (e.g. using mean values)\n",
    "- Considers MAE and RMSE on the test data\n",
    "- Allows us to see baseline accuracy metrics\n",
    "\n",
    "Note: must run the notebook `/preprocessing/preprocess.ipynb` to get the required data, or import processed data from Google Drive explained on main README."
   ]
  },
  {
   "cell_type": "code",
   "execution_count": null,
   "metadata": {},
   "outputs": [],
   "source": [
    "station_meta = pd.read_csv('../data/processed/fwy_405_n_ds/meta.csv')\n",
    "station_meta.head()"
   ]
  },
  {
   "cell_type": "code",
   "execution_count": null,
   "metadata": {},
   "outputs": [],
   "source": [
    "_, _, station_data = load_processed_data('../data/processed/rdp_ds')\n",
    "station_data.head()"
   ]
  },
  {
   "cell_type": "code",
   "execution_count": null,
   "metadata": {},
   "outputs": [],
   "source": [
    "with open('../models/env.yaml') as f:\n",
    "    ENV = yaml.load(f, Loader=yaml.FullLoader)"
   ]
  },
  {
   "cell_type": "markdown",
   "metadata": {},
   "source": [
    "### Construct Model"
   ]
  },
  {
   "cell_type": "code",
   "execution_count": null,
   "metadata": {},
   "outputs": [],
   "source": [
    "class baseline_mod:\n",
    "    def __init__(self, pred_method='mean'):\n",
    "        self.train_data = None\n",
    "        if pred_method in ['mean', 'mean_tod']: # tod=time of day\n",
    "            self.pred_method = pred_method\n",
    "        else:\n",
    "            raise Exception(\"Prediction method must be 'mean' or 'mean_tod'!\")\n",
    "    \n",
    "    def fit(self, train_data):\n",
    "        if type(train_data) != pd.Series: \n",
    "            raise Exception('Train data must be of type pd.Series!')\n",
    "        self.train_data = train_data\n",
    "    \n",
    "    def predict(self, test_data):\n",
    "        if self.train_data is None: \n",
    "            raise Exception('You must fit before predicting!')\n",
    "        if type(test_data) != pd.Series:\n",
    "            raise Exception('Test data must be of type pd.Series!')\n",
    "        \n",
    "        if self.pred_method == 'mean_tod':\n",
    "            df = self.train_data.to_frame().reset_index().rename(columns={'index': 'Time', self.train_data.name: 'Speed'})\n",
    "            df['H'] = [x.hour for x in df['Time']]\n",
    "            df['M'] = [x.minute for x in df['Time']]\n",
    "            dm = df.groupby(['H', 'M']).mean()['Speed']\n",
    "\n",
    "            preds = [dm[x.hour][x.minute] for x in test_data.index] \n",
    "            return np.array(preds)\n",
    "        else:\n",
    "            mean = np.mean(train_data.values)\n",
    "            return np.array([mean for x in range(test_data.shape[0])])"
   ]
  },
  {
   "cell_type": "markdown",
   "metadata": {},
   "source": [
    "### Train Test Split"
   ]
  },
  {
   "cell_type": "code",
   "execution_count": null,
   "metadata": {},
   "outputs": [],
   "source": [
    "# good example stations to try\n",
    "#   717711  (difficult)\n",
    "#   716659  (many random outliers)\n",
    "#   761455  (periodic)\n",
    "#   772455  (very periodic)\n",
    "\n",
    "# select station randomly chosen from env var\n",
    "STATION = ENV['station_id']\n",
    "\n",
    "# use may, june as train data and july as test data\n",
    "df = station_data.loc[station_data.index.month.isin([5, 6, 7]), STATION]\n",
    "train_data = df[(df.index.month == 5) | (df.index.month == 6)]\n",
    "test_data = df[df.index.month == 7]"
   ]
  },
  {
   "cell_type": "code",
   "execution_count": null,
   "metadata": {},
   "outputs": [],
   "source": [
    "train_data.plot()"
   ]
  },
  {
   "cell_type": "markdown",
   "metadata": {},
   "source": [
    "### Mean Fill\n",
    "Simply predict the mean value"
   ]
  },
  {
   "cell_type": "code",
   "execution_count": null,
   "metadata": {},
   "outputs": [],
   "source": [
    "baseline = baseline_mod(pred_method='mean')\n",
    "baseline.fit(train_data)\n",
    "train_preds = baseline.predict(train_data)\n",
    "test_preds = baseline.predict(test_data)"
   ]
  },
  {
   "cell_type": "code",
   "execution_count": null,
   "metadata": {},
   "outputs": [],
   "source": [
    "# with open('./trained/baseline/baseline_mean.dat', 'wb') as f:\n",
    "#     pickle.dump(baseline, f)"
   ]
  },
  {
   "cell_type": "code",
   "execution_count": null,
   "metadata": {},
   "outputs": [],
   "source": [
    "import plotly.graph_objects as go"
   ]
  },
  {
   "cell_type": "code",
   "execution_count": null,
   "metadata": {},
   "outputs": [],
   "source": [
    "# results\n",
    "print('MAE:  %.3f' % mean_absolute_error(test_data.values, test_preds))\n",
    "print('RMSE: %.3f' % mean_squared_error(test_data.values, test_preds, squared=False))\n",
    "\n",
    "fig = go.Figure()\n",
    "fig.add_trace(go.Line(x=df.index, y=df, name='True Values'))\n",
    "fig.add_trace(go.Line(x=train_data.index, y=train_preds, name='Predicted Values (Train)'))\n",
    "fig.add_trace(go.Line(x=test_data.index, y=test_preds.flatten(), name='Predicted Values (Test)'))\n",
    "fig.update_layout(\n",
    "    title=\"Baseline (Mean) Forecast Results\",\n",
    "    xaxis_title=\"Time\",\n",
    "    yaxis_title=\"Forecast\")"
   ]
  },
  {
   "cell_type": "code",
   "execution_count": null,
   "metadata": {},
   "outputs": [],
   "source": [
    "# fig.write_html('../plots/baseline_mean.html')"
   ]
  },
  {
   "cell_type": "markdown",
   "metadata": {},
   "source": [
    "Tune:"
   ]
  },
  {
   "cell_type": "markdown",
   "metadata": {},
   "source": [
    "No tuning needed since there are no hyperparameters in the baseline mean model."
   ]
  },
  {
   "cell_type": "markdown",
   "metadata": {},
   "source": [
    "Evaluate:"
   ]
  },
  {
   "cell_type": "code",
   "execution_count": null,
   "metadata": {},
   "outputs": [],
   "source": [
    "cv_metrics = cv(baseline, train_data, folds=ENV['cv_folds'])\n",
    "cv_metrics"
   ]
  },
  {
   "cell_type": "code",
   "execution_count": null,
   "metadata": {},
   "outputs": [],
   "source": [
    "test_metrics = get_test_metrics(test_data, test_preds)\n",
    "test_metrics"
   ]
  },
  {
   "cell_type": "code",
   "execution_count": null,
   "metadata": {},
   "outputs": [],
   "source": [
    "# metrics = {'cv': cv_metrics, 'test': test_metrics}\n",
    "\n",
    "# with open('./trained/baseline/metrics_baseline_mean.dat', 'wb') as f:\n",
    "#     pickle.dump(metrics, f)"
   ]
  },
  {
   "cell_type": "markdown",
   "metadata": {},
   "source": [
    "### Daily Mean\n",
    "Predict using the mean value based on the time of day"
   ]
  },
  {
   "cell_type": "code",
   "execution_count": null,
   "metadata": {},
   "outputs": [],
   "source": [
    "baseline = baseline_mod(pred_method='mean_tod')\n",
    "baseline.fit(train_data)\n",
    "train_preds = baseline.predict(train_data)\n",
    "test_preds = baseline.predict(test_data)"
   ]
  },
  {
   "cell_type": "code",
   "execution_count": null,
   "metadata": {},
   "outputs": [],
   "source": [
    "# with open('./trained/baseline/baseline_tod.dat', 'wb') as f:\n",
    "#     pickle.dump(baseline, f)"
   ]
  },
  {
   "cell_type": "code",
   "execution_count": null,
   "metadata": {},
   "outputs": [],
   "source": [
    "# results\n",
    "print('MAE:  %.3f' % mean_absolute_error(test_data.values, test_preds))\n",
    "print('RMSE: %.3f' % mean_squared_error(test_data.values, test_preds, squared=False))\n",
    "\n",
    "fig = go.Figure()\n",
    "fig.add_trace(go.Line(x=df.index, y=df, name='True Values'))\n",
    "fig.add_trace(go.Line(x=train_data.index, y=train_preds, name='Predicted Values (Train)'))\n",
    "fig.add_trace(go.Line(x=test_data.index, y=test_preds.flatten(), name='Predicted Values (Test)'))\n",
    "fig.update_layout(\n",
    "    title=\"Baseline (Mean TOD) Forecast Results\",\n",
    "    xaxis_title=\"Time\",\n",
    "    yaxis_title=\"Forecast\")"
   ]
  },
  {
   "cell_type": "code",
   "execution_count": null,
   "metadata": {},
   "outputs": [],
   "source": [
    "# fig.write_html('../plots/baseline_tod.html')"
   ]
  },
  {
   "cell_type": "markdown",
   "metadata": {},
   "source": [
    "Tune:"
   ]
  },
  {
   "cell_type": "markdown",
   "metadata": {},
   "source": [
    "No tuning needed since there are no hyperparameters in the basline time of day model."
   ]
  },
  {
   "cell_type": "markdown",
   "metadata": {},
   "source": [
    "Evaluate:"
   ]
  },
  {
   "cell_type": "code",
   "execution_count": null,
   "metadata": {},
   "outputs": [],
   "source": [
    "cv_metrics = cv(baseline, train_data, metrics=['mse', 'mae', 'rmse', 'r2'], folds=ENV['cv_folds'])\n",
    "cv_metrics"
   ]
  },
  {
   "cell_type": "code",
   "execution_count": null,
   "metadata": {},
   "outputs": [],
   "source": [
    "test_metrics = get_test_metrics(test_data, test_preds)\n",
    "test_metrics"
   ]
  },
  {
   "cell_type": "code",
   "execution_count": null,
   "metadata": {},
   "outputs": [],
   "source": [
    "# metrics = {'cv': cv_metrics, 'test': test_metrics}\n",
    "\n",
    "# with open('./trained/baseline/metrics_baseline_tod.dat', 'wb') as f:\n",
    "#     pickle.dump(metrics, f)"
   ]
  }
 ],
 "metadata": {
  "interpreter": {
   "hash": "fbea80f5f99f05ed1ff990162c03fa63640519513bc9bb441ffdaf59137f5ac4"
  },
  "kernelspec": {
   "display_name": "Python 3 (ipykernel)",
   "language": "python",
   "name": "python3"
  },
  "language_info": {
   "codemirror_mode": {
    "name": "ipython",
    "version": 3
   },
   "file_extension": ".py",
   "mimetype": "text/x-python",
   "name": "python",
   "nbconvert_exporter": "python",
   "pygments_lexer": "ipython3",
   "version": "3.9.10"
  }
 },
 "nbformat": 4,
 "nbformat_minor": 2
}
