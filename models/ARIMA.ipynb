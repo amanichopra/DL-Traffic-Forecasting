{
 "cells": [
  {
   "cell_type": "markdown",
   "metadata": {},
   "source": [
    "# Load Data"
   ]
  },
  {
   "cell_type": "code",
   "execution_count": null,
   "metadata": {},
   "outputs": [],
   "source": [
    "import pickle\n",
    "import pandas as pd\n",
    "import plotly.express as px\n",
    "import plotly.graph_objects as go"
   ]
  },
  {
   "cell_type": "code",
   "execution_count": null,
   "metadata": {},
   "outputs": [],
   "source": [
    " with open('../data/processed/rdp_ds/adj_mat.dat', 'rb')  as f:\n",
    "    adj_mat = pickle.load(f)\n",
    "\n",
    "with open('../data/processed/rdp_ds/adj_mat_ind_station_mapper.dat', 'rb') as f:\n",
    "    ind_station_mapper = pickle.load(f)\n",
    "\n",
    "with open('../data/processed/rdp_ds/speeds.dat', 'rb')  as f:\n",
    "    speed_df = pickle.load(f)"
   ]
  },
  {
   "cell_type": "markdown",
   "metadata": {},
   "source": [
    "**Get Time Series for Station with Most Data**"
   ]
  },
  {
   "cell_type": "code",
   "execution_count": null,
   "metadata": {},
   "outputs": [],
   "source": [
    "station_speed = speed_df[speed_df.apply(lambda x: x.isna().sum()).idxmin()]\n",
    "station_speed = station_speed.fillna(method='ffill') # ffill since only 2 missing values. we could also drop these\n",
    "station_speed = station_speed[station_speed.index.month == 6] # subset and choose data in june\n",
    "station_speed"
   ]
  },
  {
   "cell_type": "code",
   "execution_count": null,
   "metadata": {},
   "outputs": [],
   "source": [
    "fig = px.line(x=station_speed.index, y=station_speed, title='Time Series Plot')\n",
    "fig.update_xaxes(title='Time')\n",
    "fig.update_yaxes(title='Speed (mph)')"
   ]
  },
  {
   "cell_type": "code",
   "execution_count": null,
   "metadata": {},
   "outputs": [],
   "source": [
    "from statsmodels.tsa.seasonal import seasonal_decompose"
   ]
  },
  {
   "cell_type": "code",
   "execution_count": null,
   "metadata": {},
   "outputs": [],
   "source": [
    "fig = seasonal_decompose(station_speed, period=5*12*24).plot()\n",
    "fig.set_size_inches(13, 8)"
   ]
  },
  {
   "cell_type": "markdown",
   "metadata": {},
   "source": [
    "We clearly see seasonality the same time each day during night time. We will remove this by taking the difference of the 288 (daily) lag."
   ]
  },
  {
   "cell_type": "code",
   "execution_count": null,
   "metadata": {},
   "outputs": [],
   "source": [
    "import numpy as np"
   ]
  },
  {
   "cell_type": "code",
   "execution_count": null,
   "metadata": {},
   "outputs": [],
   "source": [
    "station_speed_no_seasonal = (station_speed - station_speed.shift(288)).dropna()\n",
    "fig = px.line(x=station_speed_no_seasonal.index, y=station_speed_no_seasonal, title='Time Series Plot w/ Seasonal Component Removed')\n",
    "fig.update_xaxes(title='Time')\n",
    "fig.update_yaxes(title='')"
   ]
  },
  {
   "cell_type": "code",
   "execution_count": null,
   "metadata": {},
   "outputs": [],
   "source": [
    "station_speed_no_seasonal_stationary = (station_speed_no_seasonal - station_speed_no_seasonal.shift(1)).dropna()\n",
    "fig = px.line(x=station_speed_no_seasonal_stationary.index, y=station_speed_no_seasonal_stationary, title='Time Series Plot w/ Seasonal Component Removed and First Difference')\n",
    "fig.update_xaxes(title='Time')\n",
    "fig.update_yaxes(title='')"
   ]
  },
  {
   "cell_type": "code",
   "execution_count": null,
   "metadata": {},
   "outputs": [],
   "source": [
    "fig = seasonal_decompose(station_speed_no_seasonal, period=5*12*24).plot()\n",
    "fig.set_size_inches(13, 8)"
   ]
  },
  {
   "cell_type": "markdown",
   "metadata": {},
   "source": [
    "**Test if Time Series is Stationary**"
   ]
  },
  {
   "cell_type": "markdown",
   "metadata": {},
   "source": [
    "$H_0:$ The time series is non-stationary.\n",
    "<br>\n",
    "$H_1:$ The time series is stationary."
   ]
  },
  {
   "cell_type": "code",
   "execution_count": null,
   "metadata": {},
   "outputs": [],
   "source": [
    "from statsmodels.tsa.stattools import adfuller"
   ]
  },
  {
   "cell_type": "code",
   "execution_count": null,
   "metadata": {},
   "outputs": [],
   "source": [
    "test_stat, p, _, _ , _, _ = adfuller(station_speed_no_seasonal_stationary.dropna())\n",
    "p"
   ]
  },
  {
   "cell_type": "markdown",
   "metadata": {},
   "source": [
    "We can conclude the time series is stationary."
   ]
  },
  {
   "cell_type": "markdown",
   "metadata": {},
   "source": [
    "**Build Auto ARIMA Model**"
   ]
  },
  {
   "cell_type": "code",
   "execution_count": null,
   "metadata": {},
   "outputs": [],
   "source": [
    "cutoff = int(station_speed.shape[0] * 0.75)\n",
    "differencing = station_speed.shift(288) + station_speed.shift(1)\n",
    "train = (station_speed - differencing).iloc[:cutoff].dropna()\n",
    "test = station_speed.iloc[cutoff:]"
   ]
  },
  {
   "cell_type": "code",
   "execution_count": null,
   "metadata": {},
   "outputs": [],
   "source": [
    "import pmdarima as pmd"
   ]
  },
  {
   "cell_type": "code",
   "execution_count": null,
   "metadata": {
    "scrolled": true
   },
   "outputs": [],
   "source": [
    "def arimamodel(timeseriesarray):\n",
    "    autoarima_model = pmd.auto_arima(timeseriesarray, \n",
    "                              start_p=1, \n",
    "                              start_q=1,\n",
    "                              test=\"adf\",\n",
    "                              trace=True)\n",
    "    return autoarima_model\n",
    "\n",
    "arima_model = arimamodel(train)\n",
    "arima_model.summary()"
   ]
  },
  {
   "cell_type": "code",
   "execution_count": null,
   "metadata": {},
   "outputs": [],
   "source": [
    "# with open('./trained/ARIMA/arima(0,0,1).dat', 'wb') as f:\n",
    "#     pickle.dump(arima_model, f)"
   ]
  },
  {
   "cell_type": "markdown",
   "metadata": {},
   "source": [
    "Evaluate:"
   ]
  },
  {
   "cell_type": "code",
   "execution_count": null,
   "metadata": {},
   "outputs": [],
   "source": [
    "preds, conf = arima_model.predict(test.shape[0], return_conf_int=True, alpha=0.05)\n",
    "\n",
    "conf = pd.DataFrame(conf).rename(columns={0: 'lower', 1: 'upper'})\n",
    "conf['diff'] = differencing.iloc[cutoff:].values\n",
    "conf = conf.apply(lambda x: [x['lower'] + x['diff'], x['upper'] + x['diff']], axis=1).apply(pd.Series).values\n",
    "\n",
    "preds = preds + differencing.iloc[cutoff:]"
   ]
  },
  {
   "cell_type": "code",
   "execution_count": null,
   "metadata": {},
   "outputs": [],
   "source": [
    "fig = go.Figure()\n",
    "fig.add_trace(go.Line(x=test.index, y=test, name='True Values'))\n",
    "fig.add_trace(go.Line(x=test.index, y=preds, name='Predicted Values'))\n",
    "fig.update_layout(\n",
    "    title=\"ARIMA(0,0,1) Forecast Results\",\n",
    "    xaxis_title=\"Time\",\n",
    "    yaxis_title=\"Forecast\")\n",
    "fig.add_traces([go.Scatter(x =test.index, y=conf[:, 1],\n",
    "                    mode = 'lines', line_color = 'rgba(0,0,0,0)',\n",
    "                    showlegend = False),\n",
    "                go.Scatter(x=test.index, y=conf[:,0],\n",
    "                    mode = 'lines', line_color = 'rgba(0,0,0,0)',\n",
    "                    name = '95% CI',\n",
    "                    fill='tonexty', fillcolor = 'rgba(255, 0, 0, 0.2)')])\n"
   ]
  },
  {
   "cell_type": "code",
   "execution_count": null,
   "metadata": {},
   "outputs": [],
   "source": [
    "# fig.write_html('../plots/ARIMA(0,0,1).html')"
   ]
  },
  {
   "cell_type": "code",
   "execution_count": null,
   "metadata": {},
   "outputs": [],
   "source": [
    "from sklearn.metrics import mean_squared_error, r2_score"
   ]
  },
  {
   "cell_type": "code",
   "execution_count": null,
   "metadata": {},
   "outputs": [],
   "source": [
    "# with open('./trained/ARIMA/metrics_ARIMA(0,0,1).dat', 'wb') as f:\n",
    "#     metrics = {'mse': mean_squared_error(test, preds), 'rmse': mean_squared_error(test, preds, squared=False), 'r2': r2_score(test, preds), 'aic': arima_model.aic()}\n",
    "#     pickle.dump(metrics, f)"
   ]
  },
  {
   "cell_type": "markdown",
   "metadata": {},
   "source": [
    "**Build ARIMA Based on PACF and ACF**"
   ]
  },
  {
   "cell_type": "code",
   "execution_count": null,
   "metadata": {},
   "outputs": [],
   "source": [
    "from statsmodels.graphics.tsaplots import plot_acf,plot_pacf\n",
    "import statsmodels.api as sm\n",
    "import matplotlib.pyplot as plt"
   ]
  },
  {
   "cell_type": "code",
   "execution_count": null,
   "metadata": {},
   "outputs": [],
   "source": [
    "fig = plt.figure(figsize=(18,12))\n",
    "ax1 = fig.add_subplot(211)\n",
    "fig = sm.graphics.tsa.plot_acf(station_speed_no_seasonal_stationary, lags=50, ax=ax1)\n",
    "ax2 = fig.add_subplot(212)\n",
    "fig = sm.graphics.tsa.plot_pacf(station_speed_no_seasonal_stationary, lags=50, ax=ax2)"
   ]
  },
  {
   "cell_type": "markdown",
   "metadata": {},
   "source": [
    "PACF suggests 2 significant lags in the AR model. ACF suggests 2 significant lags in MA model."
   ]
  },
  {
   "cell_type": "code",
   "execution_count": null,
   "metadata": {},
   "outputs": [],
   "source": [
    "from statsmodels.tsa.arima_model import ARIMA"
   ]
  },
  {
   "cell_type": "code",
   "execution_count": null,
   "metadata": {},
   "outputs": [],
   "source": [
    "order = (2, 0, 2)\n",
    "arima_model_custom = ARIMA(train, order=order)\n",
    "arima_model_custom = arima_model_custom.fit()\n"
   ]
  },
  {
   "cell_type": "code",
   "execution_count": null,
   "metadata": {},
   "outputs": [],
   "source": [
    "arima_model_custom.summary()"
   ]
  },
  {
   "cell_type": "code",
   "execution_count": null,
   "metadata": {},
   "outputs": [],
   "source": [
    "# with open(f'./trained/ARIMA/arima({order[0]},{order[1]},{order[2]}).dat', 'wb') as f:\n",
    "#     pickle.dump(arima_model_custom, f)"
   ]
  },
  {
   "cell_type": "markdown",
   "metadata": {},
   "source": [
    "Evaluate:"
   ]
  },
  {
   "cell_type": "code",
   "execution_count": null,
   "metadata": {},
   "outputs": [],
   "source": [
    "preds, std_err, conf = arima_model_custom.forecast(test.shape[0], alpha=0.05)\n",
    "\n",
    "conf = pd.DataFrame(conf).rename(columns={0: 'lower', 1: 'upper'})\n",
    "conf['diff'] = differencing.iloc[cutoff:].values\n",
    "conf = conf.apply(lambda x: [x['lower'] + x['diff'], x['upper'] + x['diff']], axis=1).apply(pd.Series).values\n",
    "\n",
    "preds = preds + differencing.iloc[cutoff:]\n"
   ]
  },
  {
   "cell_type": "code",
   "execution_count": null,
   "metadata": {},
   "outputs": [],
   "source": [
    "fig = go.Figure()\n",
    "fig.add_trace(go.Line(x=test.index, y=test, name='True Values'))\n",
    "fig.add_trace(go.Line(x=test.index, y=preds, name='Predicted Values'))\n",
    "fig.update_layout(\n",
    "    title=f\"ARIMA({order[0]},{order[1]},{order[2]}) Forecast Results\",\n",
    "    xaxis_title=\"Time\",\n",
    "    yaxis_title=\"Forecast\")\n",
    "fig.add_traces([go.Scatter(x =test.index, y=conf[:, 1],\n",
    "                    mode = 'lines', line_color = 'rgba(0,0,0,0)',\n",
    "                    showlegend = False),\n",
    "                go.Scatter(x=test.index, y=conf[:,0],\n",
    "                    mode = 'lines', line_color = 'rgba(0,0,0,0)',\n",
    "                    name = '95% CI',\n",
    "                    fill='tonexty', fillcolor = 'rgba(255, 0, 0, 0.2)')])\n"
   ]
  },
  {
   "cell_type": "code",
   "execution_count": null,
   "metadata": {},
   "outputs": [],
   "source": [
    "# fig.write_html(f'../plots/ARIMA({order[0]},{order[1]},{order[2]}).html')"
   ]
  },
  {
   "cell_type": "code",
   "execution_count": null,
   "metadata": {},
   "outputs": [],
   "source": [
    "# with open(f'./trained/ARIMA/metrics_ARIMA({order[0]},{order[1]},{order[2]}).dat', 'wb') as f:\n",
    "#     metrics = {'mse': mean_squared_error(test, preds), 'rmse': mean_squared_error(test, preds, squared=False), 'r2': r2_score(test, preds), 'aic': arima_model_custom.aic}\n",
    "#     pickle.dump(metrics, f)"
   ]
  }
 ],
 "metadata": {
  "kernelspec": {
   "display_name": "Python 3 (ipykernel)",
   "language": "python",
   "name": "python3"
  },
  "language_info": {
   "codemirror_mode": {
    "name": "ipython",
    "version": 3
   },
   "file_extension": ".py",
   "mimetype": "text/x-python",
   "name": "python",
   "nbconvert_exporter": "python",
   "pygments_lexer": "ipython3",
   "version": "3.9.10"
  }
 },
 "nbformat": 4,
 "nbformat_minor": 4
}
