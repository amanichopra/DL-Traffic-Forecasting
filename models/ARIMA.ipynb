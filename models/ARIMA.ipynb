{
 "cells": [
  {
   "cell_type": "markdown",
   "metadata": {},
   "source": [
    "# Load Data"
   ]
  },
  {
   "cell_type": "code",
   "execution_count": null,
   "metadata": {},
   "outputs": [],
   "source": [
    "import pickle\n",
    "import yaml\n",
    "import pandas as pd\n",
    "import plotly.express as px\n",
    "import plotly.graph_objects as go\n",
    "from random import choice\n",
    "import sys\n",
    "sys.path.append('../utils')\n",
    "from utils import load_processed_data, cv, get_test_metrics"
   ]
  },
  {
   "cell_type": "code",
   "execution_count": null,
   "metadata": {},
   "outputs": [],
   "source": [
    "adj_mat, ind_station_mapper, speed_df = load_processed_data('../data/processed/rdp_ds')"
   ]
  },
  {
   "cell_type": "code",
   "execution_count": null,
   "metadata": {},
   "outputs": [],
   "source": [
    "with open('../models/env.yaml') as f:\n",
    "    ENV = yaml.load(f, Loader=yaml.FullLoader)"
   ]
  },
  {
   "cell_type": "markdown",
   "metadata": {},
   "source": [
    "**Choice Station**"
   ]
  },
  {
   "cell_type": "code",
   "execution_count": null,
   "metadata": {},
   "outputs": [],
   "source": [
    "station_speed = speed_df[ENV['station_id']]\n",
    "station_speed = station_speed[station_speed.index.month.isin([5, 6, 7])] # subset and choose data in may-july"
   ]
  },
  {
   "cell_type": "code",
   "execution_count": null,
   "metadata": {
    "scrolled": false
   },
   "outputs": [],
   "source": [
    "fig = px.line(x=station_speed.index, y=station_speed, title='Time Series Plot')\n",
    "fig.update_xaxes(title='Time')\n",
    "fig.update_yaxes(title='Speed (mph)')"
   ]
  },
  {
   "cell_type": "code",
   "execution_count": null,
   "metadata": {},
   "outputs": [],
   "source": [
    "from statsmodels.tsa.seasonal import seasonal_decompose"
   ]
  },
  {
   "cell_type": "code",
   "execution_count": null,
   "metadata": {},
   "outputs": [],
   "source": [
    "fig = seasonal_decompose(station_speed, period=5*12*24).plot()\n",
    "fig.set_size_inches(13, 8)"
   ]
  },
  {
   "cell_type": "markdown",
   "metadata": {},
   "source": [
    "We clearly see seasonality the same time each day during night time. We will remove this by taking the difference of the 288 (daily) lag."
   ]
  },
  {
   "cell_type": "code",
   "execution_count": null,
   "metadata": {},
   "outputs": [],
   "source": [
    "import numpy as np"
   ]
  },
  {
   "cell_type": "code",
   "execution_count": null,
   "metadata": {},
   "outputs": [],
   "source": [
    "station_speed_no_seasonal = (station_speed - station_speed.shift(288)).dropna()\n",
    "fig = px.line(x=station_speed_no_seasonal.index, y=station_speed_no_seasonal, title='Time Series Plot w/ Seasonal Component Removed')\n",
    "fig.update_xaxes(title='Time')\n",
    "fig.update_yaxes(title='')"
   ]
  },
  {
   "cell_type": "code",
   "execution_count": null,
   "metadata": {},
   "outputs": [],
   "source": [
    "station_speed_no_seasonal_stationary = (station_speed_no_seasonal - station_speed_no_seasonal.shift(1)).dropna()\n",
    "fig = px.line(x=station_speed_no_seasonal_stationary.index, y=station_speed_no_seasonal_stationary, title='Time Series Plot w/ Seasonal Component Removed and First Difference')\n",
    "fig.update_xaxes(title='Time')\n",
    "fig.update_yaxes(title='')"
   ]
  },
  {
   "cell_type": "code",
   "execution_count": null,
   "metadata": {},
   "outputs": [],
   "source": [
    "fig = seasonal_decompose(station_speed_no_seasonal, period=5*12*24).plot()\n",
    "fig.set_size_inches(13, 8)"
   ]
  },
  {
   "cell_type": "markdown",
   "metadata": {},
   "source": [
    "**Test if Time Series is Stationary**"
   ]
  },
  {
   "cell_type": "markdown",
   "metadata": {},
   "source": [
    "$H_0:$ The time series is non-stationary.\n",
    "<br>\n",
    "$H_1:$ The time series is stationary."
   ]
  },
  {
   "cell_type": "code",
   "execution_count": null,
   "metadata": {},
   "outputs": [],
   "source": [
    "from statsmodels.tsa.stattools import adfuller"
   ]
  },
  {
   "cell_type": "code",
   "execution_count": null,
   "metadata": {},
   "outputs": [],
   "source": [
    "test_stat, p, _, _ , _, _ = adfuller(station_speed_no_seasonal_stationary.dropna())\n",
    "p"
   ]
  },
  {
   "cell_type": "markdown",
   "metadata": {},
   "source": [
    "We can conclude the time series is stationary."
   ]
  },
  {
   "cell_type": "markdown",
   "metadata": {},
   "source": [
    "**Build Auto ARIMA Model**"
   ]
  },
  {
   "cell_type": "code",
   "execution_count": null,
   "metadata": {},
   "outputs": [],
   "source": [
    "differencing = station_speed.shift(288) + station_speed.shift(1)\n",
    "train_raw = (station_speed - differencing)\n",
    "train_raw = train_raw[train_raw.index.month.isin([5, 6])]\n",
    "train = train_raw.dropna()\n",
    "test = station_speed[station_speed.index.month == 7]"
   ]
  },
  {
   "cell_type": "code",
   "execution_count": null,
   "metadata": {},
   "outputs": [],
   "source": [
    "import pmdarima as pmd"
   ]
  },
  {
   "cell_type": "code",
   "execution_count": null,
   "metadata": {
    "scrolled": true
   },
   "outputs": [],
   "source": [
    "def arimamodel(timeseriesarray):\n",
    "    autoarima_model = pmd.auto_arima(timeseriesarray, \n",
    "                              start_p=1, \n",
    "                              start_q=1,\n",
    "                              test=\"adf\",\n",
    "                              trace=True)\n",
    "    return autoarima_model\n",
    "\n",
    "arima_model = arimamodel(train)\n",
    "arima_model.summary()"
   ]
  },
  {
   "cell_type": "code",
   "execution_count": null,
   "metadata": {},
   "outputs": [],
   "source": [
    "# with open('./trained/ARIMA/arima(1,0,5).dat', 'wb') as f:\n",
    "#     pickle.dump(arima_model, f)"
   ]
  },
  {
   "cell_type": "markdown",
   "metadata": {},
   "source": [
    "Evaluate:"
   ]
  },
  {
   "cell_type": "code",
   "execution_count": null,
   "metadata": {},
   "outputs": [],
   "source": [
    "# # use to load model for evaluation instead of training above\n",
    "# import pickle\n",
    "# with open('./trained/ARIMA/arima(1,0,5).dat', 'rb') as f:\n",
    "#     arima_model = pickle.load(f)"
   ]
  },
  {
   "cell_type": "code",
   "execution_count": null,
   "metadata": {},
   "outputs": [],
   "source": [
    "import statsmodels.api as sm\n",
    "\n",
    "# need to create ARIMA model class as we need to feed in a model that can be trained to perform CV. auto arima can't be retrained.\n",
    "class custom_arima_mod:\n",
    "    def __init__(self):\n",
    "        self.train = None\n",
    "        self.mod = None\n",
    "        \n",
    "    def fit(self, train, order=(1, 0, 5)): # use same order as order determined from auto arima\n",
    "        self.train = train\n",
    "        self.mod = sm.tsa.arima.ARIMA(self.train, order=order)\n",
    "        self.mod = self.mod.fit()\n",
    "    \n",
    "    def predict(self, test):\n",
    "        return self.mod.forecast(steps=test.shape[0])\n",
    "        \n",
    "m = custom_arima_mod()\n",
    "cv_metrics = cv(m, train, metrics=['mse', 'mae', 'rmse', 'r2'])\n",
    "test_preds = arima_model.predict(test.shape[0])\n",
    "test_metrics = get_test_metrics(test, test_preds)\n",
    "\n",
    "# metrics = {'cv': cv_metrics, 'test': test_metrics}\n",
    "\n",
    "# with open('./trained/ARIMA/metrics_ARIMA(1,0,5).dat', 'wb') as f:\n",
    "#     pickle.dump(metrics, f)"
   ]
  },
  {
   "cell_type": "code",
   "execution_count": null,
   "metadata": {},
   "outputs": [],
   "source": [
    "train_preds, train_conf = arima_model.predict_in_sample(return_conf_int=True, alpha=0.05)\n",
    "train_conf = pd.DataFrame(train_conf).rename(columns={0: 'lower', 1: 'upper'})\n",
    "train_conf['diff'] = differencing.loc[train_raw.index].dropna().values\n",
    "train_conf = train_conf.apply(lambda x: [x['lower'] + x['diff'], x['upper'] + x['diff']], axis=1).apply(pd.Series).values\n",
    "train_preds = train_preds + differencing.loc[train_raw.index].dropna()\n",
    "\n",
    "test_preds, test_conf = arima_model.predict(test.shape[0], return_conf_int=True, alpha=0.05)\n",
    "test_conf = pd.DataFrame(test_conf).rename(columns={0: 'lower', 1: 'upper'})\n",
    "test_conf['diff'] = differencing.loc[test.index].dropna().values\n",
    "test_conf = test_conf.apply(lambda x: [x['lower'] + x['diff'], x['upper'] + x['diff']], axis=1).apply(pd.Series).values\n",
    "test_preds = test_preds + differencing.loc[test.index].dropna()"
   ]
  },
  {
   "cell_type": "code",
   "execution_count": null,
   "metadata": {},
   "outputs": [],
   "source": [
    "fig = go.Figure()\n",
    "fig.add_trace(go.Line(x=station_speed.index, y=station_speed, name='True Values'))\n",
    "fig.add_trace(go.Line(x=train.index, y=train_preds, name='Predicted Values (Train)', line=dict(color='rgba(255, 0, 0)')))\n",
    "fig.add_trace(go.Line(x=test.index, y=test_preds, name='Predicted Values (Test)', line=dict(color='rgba(44, 160, 44)')))\n",
    "fig.update_layout(\n",
    "    title=\"ARIMA (1, 0, 5) Forecast Results\",\n",
    "    xaxis_title=\"Time\",\n",
    "    yaxis_title=\"Forecast\")\n",
    "\n",
    "fig.add_traces([go.Scatter(x=train_raw.index, y=train_conf[:, 1],\n",
    "                    mode = 'lines', line_color = 'rgba(0,0,0,0)',\n",
    "                    showlegend = False),\n",
    "                go.Scatter(x=train_raw.index, y=train_conf[:,0],\n",
    "                    mode = 'lines', line_color = 'rgba(0,0,0,0)',\n",
    "                    name = '95% CI (Train)',\n",
    "                    fill='tonexty', fillcolor = 'rgba(255, 0, 0, 0.2)')])\n",
    "\n",
    "fig.add_traces([go.Scatter(x=test.index, y=test_conf[:, 1],\n",
    "                    mode = 'lines', line_color = 'rgba(0,0,0,0)',\n",
    "                    showlegend = False),\n",
    "                go.Scatter(x=test.index, y=test_conf[:,0],\n",
    "                    mode = 'lines', line_color = 'rgba(0,0,0,0)',\n",
    "                    name = '95% CI (Test)',\n",
    "                    fill='tonexty', fillcolor = 'rgba(44, 160, 44, 0.2)')])\n"
   ]
  },
  {
   "cell_type": "code",
   "execution_count": null,
   "metadata": {},
   "outputs": [],
   "source": [
    "# fig.write_html('../plots/ARIMA(1,0,5).html')"
   ]
  },
  {
   "cell_type": "markdown",
   "metadata": {},
   "source": [
    "**Analyze PACF and ACF**"
   ]
  },
  {
   "cell_type": "code",
   "execution_count": null,
   "metadata": {},
   "outputs": [],
   "source": [
    "from statsmodels.graphics.tsaplots import plot_acf,plot_pacf\n",
    "import statsmodels.api as sm\n",
    "import matplotlib.pyplot as plt"
   ]
  },
  {
   "cell_type": "code",
   "execution_count": null,
   "metadata": {},
   "outputs": [],
   "source": [
    "fig = plt.figure(figsize=(18,12))\n",
    "ax1 = fig.add_subplot(211)\n",
    "fig = sm.graphics.tsa.plot_acf(station_speed_no_seasonal_stationary, lags=50, ax=ax1)\n",
    "ax2 = fig.add_subplot(212)\n",
    "fig = sm.graphics.tsa.plot_pacf(station_speed_no_seasonal_stationary, lags=50, ax=ax2)"
   ]
  },
  {
   "cell_type": "markdown",
   "metadata": {},
   "source": [
    "PACF suggests 1 significant lags in the AR model, and ACF suggests 1 significant lags in MA model. This verifies that the auto arima method resulted in a reasonable model."
   ]
  }
 ],
 "metadata": {
  "kernelspec": {
   "display_name": "Python 3 (ipykernel)",
   "language": "python",
   "name": "python3"
  },
  "language_info": {
   "codemirror_mode": {
    "name": "ipython",
    "version": 3
   },
   "file_extension": ".py",
   "mimetype": "text/x-python",
   "name": "python",
   "nbconvert_exporter": "python",
   "pygments_lexer": "ipython3",
   "version": "3.9.10"
  }
 },
 "nbformat": 4,
 "nbformat_minor": 4
}
