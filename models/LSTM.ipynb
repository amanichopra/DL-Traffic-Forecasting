{
 "cells": [
  {
   "cell_type": "markdown",
   "metadata": {},
   "source": [
    "# Load Data"
   ]
  },
  {
   "cell_type": "code",
   "execution_count": 1,
   "metadata": {},
   "outputs": [],
   "source": [
    "import pickle\n",
    "import pandas as pd\n",
    "import plotly.express as px\n",
    "import plotly.graph_objects as go"
   ]
  },
  {
   "cell_type": "code",
   "execution_count": 2,
   "metadata": {},
   "outputs": [],
   "source": [
    "with open('../data/processed/rdp_ds/adj_mat.dat', 'rb')  as f:\n",
    "    adj_mat = pickle.load(f)\n",
    "\n",
    "with open('../data/processed/rdp_ds/adj_mat_ind_station_mapper.dat', 'rb') as f:\n",
    "    ind_station_mapper = pickle.load(f)\n",
    "\n",
    "with open('../data/processed/rdp_ds/speeds.dat', 'rb')  as f:\n",
    "    speed_df = pickle.load(f)"
   ]
  },
  {
   "cell_type": "markdown",
   "metadata": {},
   "source": [
    "**Get Time Series for Station with Most Data**"
   ]
  },
  {
   "cell_type": "code",
   "execution_count": null,
   "metadata": {},
   "outputs": [],
   "source": [
    "station_speed = speed_df[speed_df.apply(lambda x: x.isna().sum()).idxmin()]\n",
    "station_speed = station_speed.fillna(method='ffill') # ffill since only 2 missing values. we could also drop these\n",
    "station_speed = station_speed[station_speed.index.month == 6] # subset and choose data in june\n",
    "station_speed"
   ]
  },
  {
   "cell_type": "code",
   "execution_count": null,
   "metadata": {},
   "outputs": [],
   "source": [
    "fig = px.line(x=station_speed.index, y=station_speed, title='Time Series Plot')\n",
    "fig.update_xaxes(title='Time')\n",
    "fig.update_yaxes(title='Speed (mph)')"
   ]
  },
  {
   "cell_type": "markdown",
   "metadata": {},
   "source": [
    "# Prepare Data for Model"
   ]
  },
  {
   "cell_type": "code",
   "execution_count": null,
   "metadata": {},
   "outputs": [],
   "source": [
    "from sklearn.preprocessing import MinMaxScaler\n",
    "import numpy as np"
   ]
  },
  {
   "cell_type": "code",
   "execution_count": null,
   "metadata": {},
   "outputs": [],
   "source": [
    "# convert an array of values into a dataset matrix\n",
    "def construct_dataset(dataset, look_back=1):\n",
    "    X = []\n",
    "    y = []\n",
    "    for i in range(dataset.shape[0] - look_back - 1):\n",
    "        X.append(dataset[i:(i+look_back)].flatten())\n",
    "        y.append(dataset[i + look_back].flatten())\n",
    "    return np.array(X), np.array(y)\n",
    "\n",
    "def reshape_inp(inp):\n",
    "    return inp.reshape(inp.shape[0], 1, inp.shape[1])"
   ]
  },
  {
   "cell_type": "code",
   "execution_count": null,
   "metadata": {},
   "outputs": [],
   "source": [
    "# normalize data\n",
    "scaler = MinMaxScaler(feature_range=(0, 1))\n",
    "scaled_speeds = scaler.fit_transform(station_speed.dropna().values.reshape(-1, 1))\n",
    "\n",
    "# create train-test data\n",
    "cutoff = int(scaled_speeds.shape[0] * 0.75)\n",
    "train = scaled_speeds[:cutoff]\n",
    "test = scaled_speeds[cutoff:]\n",
    "\n",
    "# build dataset\n",
    "num_lags = 1\n",
    "X_train, y_train = construct_dataset(train, look_back=num_lags)\n",
    "X_test, y_test = construct_dataset(test, look_back=num_lags)\n",
    "\n",
    "# reshape inp\n",
    "X_train = reshape_inp(X_train)\n",
    "X_test = reshape_inp(X_test)"
   ]
  },
  {
   "cell_type": "markdown",
   "metadata": {},
   "source": [
    "# Build Model"
   ]
  },
  {
   "cell_type": "code",
   "execution_count": null,
   "metadata": {},
   "outputs": [],
   "source": [
    "from keras.models import Sequential\n",
    "from keras.layers import Dense\n",
    "from keras.layers import LSTM\n",
    "import keras"
   ]
  },
  {
   "cell_type": "code",
   "execution_count": null,
   "metadata": {},
   "outputs": [],
   "source": [
    "# create and fit the LSTM network\n",
    "model = Sequential()\n",
    "model.add(LSTM(4, input_shape=(1, num_lags)))\n",
    "model.add(Dense(1))\n",
    "model.compile(loss='mean_squared_error', optimizer='adam')\n",
    "model.fit(X_train, y_train, epochs=25, batch_size=1, verbose=2)"
   ]
  },
  {
   "cell_type": "code",
   "execution_count": null,
   "metadata": {},
   "outputs": [],
   "source": [
    "# model.save('./trained/LSTM')"
   ]
  },
  {
   "cell_type": "markdown",
   "metadata": {},
   "source": [
    "# Evaluate"
   ]
  },
  {
   "cell_type": "code",
   "execution_count": null,
   "metadata": {},
   "outputs": [],
   "source": [
    "from sklearn.metrics import mean_squared_error, r2_score"
   ]
  },
  {
   "cell_type": "code",
   "execution_count": null,
   "metadata": {},
   "outputs": [],
   "source": [
    "# make predictions\n",
    "pred_train = model.predict(X_train)\n",
    "pred_test = model.predict(X_test)\n",
    "\n",
    "# invert predictions\n",
    "pred_train = scaler.inverse_transform(pred_train)\n",
    "y_train = scaler.inverse_transform(y_train)\n",
    "pred_test = scaler.inverse_transform(pred_test)\n",
    "y_test = scaler.inverse_transform(y_test)"
   ]
  },
  {
   "cell_type": "code",
   "execution_count": null,
   "metadata": {},
   "outputs": [],
   "source": [
    "# shift train predictions for plotting\n",
    "train_pred_plot = np.empty_like(scaled_speeds)\n",
    "train_pred_plot[:, :] = np.nan\n",
    "train_pred_plot[num_lags:(len(pred_train) + num_lags), :] = pred_train\n",
    "\n",
    "# shift test predictions for plotting\n",
    "test_pred_plot = np.empty_like(scaled_speeds)\n",
    "test_pred_plot[:, :] = np.nan\n",
    "test_pred_plot[num_lags:(len(pred_test) + num_lags), :] = pred_test"
   ]
  },
  {
   "cell_type": "code",
   "execution_count": null,
   "metadata": {},
   "outputs": [],
   "source": [
    "import plotly.graph_objects as go"
   ]
  },
  {
   "cell_type": "code",
   "execution_count": null,
   "metadata": {},
   "outputs": [],
   "source": [
    "fig = go.Figure()\n",
    "fig.add_trace(go.Line(x=station_speed.index, y=station_speed, name='True Values'))\n",
    "fig.add_trace(go.Line(x=station_speed[:cutoff].index, y=train_pred_plot.flatten(), name='Predicted Values (Train)'))\n",
    "fig.add_trace(go.Line(x=station_speed[cutoff:].index, y=test_pred_plot.flatten(), name='Predicted Values (Test)'))\n",
    "fig.update_layout(\n",
    "    title=\"LSTM Forecast Results\",\n",
    "    xaxis_title=\"Time\",\n",
    "    yaxis_title=\"Forecast\")"
   ]
  },
  {
   "cell_type": "code",
   "execution_count": null,
   "metadata": {},
   "outputs": [],
   "source": [
    "# calculate root mean squared error\n",
    "rmse_train = mean_squared_error(y_train[:, 0], pred_train[:,0], squared=False)\n",
    "print('Train Score: %.2f RMSE' % (mse_train))\n",
    "rmse_test = mean_squared_error(y_test[:, 0], pred_test[:,0], squared=False)\n",
    "print('Test Score: %.2f RMSE' % (mse_test))"
   ]
  },
  {
   "cell_type": "code",
   "execution_count": null,
   "metadata": {},
   "outputs": [],
   "source": [
    "# with open('./trained/LSTM/metrics_LSTM.dat', 'wb') as f:\n",
    "#     metrics = {'mse': mean_squared_error(y_test[:, 0], pred_test[:,0]), 'rmse': rmse_test, 'r2': r2_score(y_test[:, 0], pred_test[:,0])}\n",
    "#     pickle.dump(metrics, f)"
   ]
  }
 ],
 "metadata": {
  "kernelspec": {
   "display_name": "Python 3 (ipykernel)",
   "language": "python",
   "name": "python3"
  },
  "language_info": {
   "codemirror_mode": {
    "name": "ipython",
    "version": 3
   },
   "file_extension": ".py",
   "mimetype": "text/x-python",
   "name": "python",
   "nbconvert_exporter": "python",
   "pygments_lexer": "ipython3",
   "version": "3.9.10"
  }
 },
 "nbformat": 4,
 "nbformat_minor": 4
}
