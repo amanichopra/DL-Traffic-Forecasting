{
 "cells": [
  {
   "cell_type": "markdown",
   "metadata": {},
   "source": [
    "# Load Data"
   ]
  },
  {
   "cell_type": "code",
   "execution_count": null,
   "metadata": {},
   "outputs": [],
   "source": [
    "import pickle\n",
    "import pandas as pd\n",
    "import plotly.express as px\n",
    "import plotly.graph_objects as go\n",
    "import sys\n",
    "sys.path.append('../utils')\n",
    "from utils import load_processed_data, cv, get_test_metrics"
   ]
  },
  {
   "cell_type": "code",
   "execution_count": null,
   "metadata": {},
   "outputs": [],
   "source": [
    "adj_mat, ind_station_mapper, speed_df = load_processed_data('../data/processed/rdp_ds')"
   ]
  },
  {
   "cell_type": "code",
   "execution_count": null,
   "metadata": {},
   "outputs": [],
   "source": [
    "with open('./env.dat', 'rb') as f:\n",
    "    ENV = pickle.load(f)"
   ]
  },
  {
   "cell_type": "markdown",
   "metadata": {},
   "source": [
    "**Choose Station**"
   ]
  },
  {
   "cell_type": "code",
   "execution_count": null,
   "metadata": {},
   "outputs": [],
   "source": [
    "station_speed = speed_df[ENV['station_id']]\n",
    "station_speed = station_speed[station_speed.index.month.isin([5, 6, 7])] # subset and choose data in may-july\n",
    "station_speed"
   ]
  },
  {
   "cell_type": "code",
   "execution_count": null,
   "metadata": {},
   "outputs": [],
   "source": [
    "fig = px.line(x=station_speed.index, y=station_speed, title='Time Series Plot')\n",
    "fig.update_xaxes(title='Time')\n",
    "fig.update_yaxes(title='Speed (mph)')"
   ]
  },
  {
   "cell_type": "markdown",
   "metadata": {},
   "source": [
    "# Prepare Data for Model"
   ]
  },
  {
   "cell_type": "code",
   "execution_count": null,
   "metadata": {},
   "outputs": [],
   "source": [
    "from sklearn.preprocessing import MinMaxScaler\n",
    "import numpy as np"
   ]
  },
  {
   "cell_type": "code",
   "execution_count": null,
   "metadata": {},
   "outputs": [],
   "source": [
    "# convert an array of values into a dataset matrix\n",
    "def construct_dataset(dataset, look_back=1):\n",
    "    X = []\n",
    "    y = []\n",
    "    for i in range(dataset.shape[0] - look_back - 1):\n",
    "        X.append(dataset[i:(i+look_back)].flatten())\n",
    "        y.append(dataset[i + look_back].flatten())\n",
    "    return np.array(X), np.array(y)\n",
    "\n",
    "def reshape_inp(inp):\n",
    "    return inp.reshape(inp.shape[0], 1, inp.shape[1])"
   ]
  },
  {
   "cell_type": "code",
   "execution_count": null,
   "metadata": {},
   "outputs": [],
   "source": [
    "scaled_speeds.shape"
   ]
  },
  {
   "cell_type": "code",
   "execution_count": null,
   "metadata": {},
   "outputs": [],
   "source": []
  },
  {
   "cell_type": "code",
   "execution_count": null,
   "metadata": {},
   "outputs": [],
   "source": [
    "# normalize data\n",
    "scaler = MinMaxScaler(feature_range=(0, 1))\n",
    "scaled_speeds = scaler.fit_transform(station_speed.values.reshape(-1, 1))\n",
    "\n",
    "# create train-test data\n",
    "cutoff = station_speed[(station_speed.index.month == 5) | (station_speed.index.month == 6)].index.shape[0]\n",
    "train = scaled_speeds[:cutoff]\n",
    "test = scaled_speeds[cutoff:]\n",
    "\n",
    "# build dataset\n",
    "num_lags = 2\n",
    "X_train, y_train = construct_dataset(train, look_back=num_lags)\n",
    "X_test, y_test = construct_dataset(test, look_back=num_lags)\n",
    "\n",
    "# reshape inp\n",
    "X_train = reshape_inp(X_train)\n",
    "X_test = reshape_inp(X_test)"
   ]
  },
  {
   "cell_type": "markdown",
   "metadata": {},
   "source": [
    "# Build Model"
   ]
  },
  {
   "cell_type": "code",
   "execution_count": null,
   "metadata": {},
   "outputs": [],
   "source": [
    "from keras.models import Sequential\n",
    "from keras.layers import Dense\n",
    "from keras.layers import LSTM\n",
    "import keras\n",
    "from time import time"
   ]
  },
  {
   "cell_type": "code",
   "execution_count": null,
   "metadata": {},
   "outputs": [],
   "source": [
    "# create and fit the LSTM network\n",
    "model = Sequential()\n",
    "model.add(LSTM(4, input_shape=(1, num_lags)))\n",
    "model.add(Dense(1))\n",
    "model.compile(loss='mean_squared_error', optimizer='adam')\n",
    "start = time()\n",
    "model.fit(X_train, y_train, epochs=25, batch_size=1, verbose=2)\n",
    "end = time()"
   ]
  },
  {
   "cell_type": "code",
   "execution_count": null,
   "metadata": {},
   "outputs": [],
   "source": [
    "# model.save('./trained/LSTM')"
   ]
  },
  {
   "cell_type": "markdown",
   "metadata": {},
   "source": [
    "# Evaluate"
   ]
  },
  {
   "cell_type": "code",
   "execution_count": null,
   "metadata": {},
   "outputs": [],
   "source": [
    "# make predictions\n",
    "train_preds = model.predict(X_train)\n",
    "test_preds = model.predict(X_test)\n",
    "\n",
    "# invert predictions\n",
    "train_preds = scaler.inverse_transform(train_preds)\n",
    "y_train = scaler.inverse_transform(y_train)\n",
    "test_preds = scaler.inverse_transform(test_preds)\n",
    "y_test = scaler.inverse_transform(y_test)"
   ]
  },
  {
   "cell_type": "code",
   "execution_count": null,
   "metadata": {},
   "outputs": [],
   "source": [
    "# shift train predictions for plotting\n",
    "train_pred_plot = np.empty_like(scaled_speeds)\n",
    "train_pred_plot[:, :] = np.nan\n",
    "train_pred_plot[num_lags:(len(train_preds) + num_lags), :] = train_preds\n",
    "\n",
    "# shift test predictions for plotting\n",
    "test_pred_plot = np.empty_like(scaled_speeds)\n",
    "test_pred_plot[:, :] = np.nan\n",
    "test_pred_plot[num_lags:(len(test_preds) + num_lags), :] = test_preds"
   ]
  },
  {
   "cell_type": "code",
   "execution_count": null,
   "metadata": {},
   "outputs": [],
   "source": [
    "import plotly.graph_objects as go"
   ]
  },
  {
   "cell_type": "code",
   "execution_count": null,
   "metadata": {},
   "outputs": [],
   "source": [
    "fig = go.Figure()\n",
    "fig.add_trace(go.Line(x=station_speed.index, y=station_speed, name='True Values'))\n",
    "fig.add_trace(go.Line(x=station_speed[:cutoff].index, y=train_pred_plot.flatten(), name='Predicted Values (Train)'))\n",
    "fig.add_trace(go.Line(x=station_speed[cutoff:].index, y=test_pred_plot.flatten(), name='Predicted Values (Test)'))\n",
    "fig.update_layout(\n",
    "    title=\"LSTM Forecast Results\",\n",
    "    xaxis_title=\"Time\",\n",
    "    yaxis_title=\"Forecast\")"
   ]
  },
  {
   "cell_type": "code",
   "execution_count": null,
   "metadata": {},
   "outputs": [],
   "source": [
    "# fig.write_html('../plots/LSTM.html')"
   ]
  },
  {
   "cell_type": "code",
   "execution_count": null,
   "metadata": {},
   "outputs": [],
   "source": [
    "cv_metrics = cv(model, [X_train, y_train], metrics=['mse', 'mae', 'rmse', 'r2'], epochs=10)\n",
    "test_metrics = get_test_metrics(y_test, test_preds)\n",
    "metrics = {'cv': cv_metrics, 'test': test_metrics}"
   ]
  },
  {
   "cell_type": "code",
   "execution_count": null,
   "metadata": {},
   "outputs": [],
   "source": [
    "# with open('./trained/LSTM/metrics_LSTM.dat', 'wb') as f:\n",
    "#     pickle.dump(metrics, f)"
   ]
  }
 ],
 "metadata": {
  "kernelspec": {
   "display_name": "Python 3 (ipykernel)",
   "language": "python",
   "name": "python3"
  },
  "language_info": {
   "codemirror_mode": {
    "name": "ipython",
    "version": 3
   },
   "file_extension": ".py",
   "mimetype": "text/x-python",
   "name": "python",
   "nbconvert_exporter": "python",
   "pygments_lexer": "ipython3",
   "version": "3.9.10"
  }
 },
 "nbformat": 4,
 "nbformat_minor": 4
}
