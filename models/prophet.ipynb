{
 "cells": [
  {
   "cell_type": "code",
   "execution_count": 1,
   "metadata": {
    "id": "gmd3j_0ts59f"
   },
   "outputs": [],
   "source": [
    "import numpy as np\n",
    "import pandas as pd\n",
    "import pickle\n",
    "from tqdm.notebook import tqdm\n",
    "from sklearn.metrics import mean_absolute_error, mean_squared_error, r2_score\n",
    "from prophet import Prophet\n",
    "import sys\n",
    "sys.path.append('../utils')\n",
    "from utils import load_processed_data"
   ]
  },
  {
   "cell_type": "markdown",
   "metadata": {
    "id": "fmkf0Iayyld9"
   },
   "source": [
    "# Prophet Model\n",
    "\n",
    "Uses Facebook Prophet package to forecast speed of a single sensor using a decomposible time series model that takes into account many types of seasonality.\n",
    "\n",
    "Read more: https://facebook.github.io/prophet/docs/quick_start.html#python-api\n",
    "\n"
   ]
  },
  {
   "cell_type": "markdown",
   "metadata": {
    "id": "XMtEhwlItrNl"
   },
   "source": [
    "### Setup"
   ]
  },
  {
   "cell_type": "code",
   "execution_count": 2,
   "metadata": {
    "id": "VLmXyCcCtAIF"
   },
   "outputs": [],
   "source": [
    "station_meta = pd.read_csv('../data/processed/fwy_405_n_ds/meta.csv')"
   ]
  },
  {
   "cell_type": "code",
   "execution_count": 3,
   "metadata": {
    "id": "qbUS2L5itlk1"
   },
   "outputs": [
    {
     "data": {
      "text/html": [
       "<div>\n",
       "<style scoped>\n",
       "    .dataframe tbody tr th:only-of-type {\n",
       "        vertical-align: middle;\n",
       "    }\n",
       "\n",
       "    .dataframe tbody tr th {\n",
       "        vertical-align: top;\n",
       "    }\n",
       "\n",
       "    .dataframe thead th {\n",
       "        text-align: right;\n",
       "    }\n",
       "</style>\n",
       "<table border=\"1\" class=\"dataframe\">\n",
       "  <thead>\n",
       "    <tr style=\"text-align: right;\">\n",
       "      <th></th>\n",
       "      <th>715898</th>\n",
       "      <th>716016</th>\n",
       "      <th>716023</th>\n",
       "      <th>716026</th>\n",
       "      <th>716028</th>\n",
       "      <th>716067</th>\n",
       "      <th>716069</th>\n",
       "      <th>716078</th>\n",
       "      <th>716081</th>\n",
       "      <th>716142</th>\n",
       "      <th>...</th>\n",
       "      <th>776773</th>\n",
       "      <th>776825</th>\n",
       "      <th>776826</th>\n",
       "      <th>776843</th>\n",
       "      <th>776845</th>\n",
       "      <th>776945</th>\n",
       "      <th>776981</th>\n",
       "      <th>777066</th>\n",
       "      <th>777068</th>\n",
       "      <th>777169</th>\n",
       "    </tr>\n",
       "  </thead>\n",
       "  <tbody>\n",
       "    <tr>\n",
       "      <th>2021-01-01 00:00:00</th>\n",
       "      <td>70.2</td>\n",
       "      <td>65.1</td>\n",
       "      <td>68.1</td>\n",
       "      <td>65.0</td>\n",
       "      <td>68.9</td>\n",
       "      <td>67.4</td>\n",
       "      <td>68.9</td>\n",
       "      <td>71.0</td>\n",
       "      <td>68.1</td>\n",
       "      <td>69.2</td>\n",
       "      <td>...</td>\n",
       "      <td>69.3</td>\n",
       "      <td>69.1</td>\n",
       "      <td>65.7</td>\n",
       "      <td>65.3</td>\n",
       "      <td>65.0</td>\n",
       "      <td>65.0</td>\n",
       "      <td>69.8</td>\n",
       "      <td>68.6</td>\n",
       "      <td>69.1</td>\n",
       "      <td>66.0</td>\n",
       "    </tr>\n",
       "    <tr>\n",
       "      <th>2021-01-01 00:05:00</th>\n",
       "      <td>70.0</td>\n",
       "      <td>64.9</td>\n",
       "      <td>69.6</td>\n",
       "      <td>65.0</td>\n",
       "      <td>55.5</td>\n",
       "      <td>67.7</td>\n",
       "      <td>70.8</td>\n",
       "      <td>70.0</td>\n",
       "      <td>67.3</td>\n",
       "      <td>70.4</td>\n",
       "      <td>...</td>\n",
       "      <td>69.1</td>\n",
       "      <td>68.9</td>\n",
       "      <td>65.8</td>\n",
       "      <td>66.6</td>\n",
       "      <td>64.9</td>\n",
       "      <td>65.0</td>\n",
       "      <td>69.6</td>\n",
       "      <td>68.4</td>\n",
       "      <td>68.9</td>\n",
       "      <td>65.8</td>\n",
       "    </tr>\n",
       "    <tr>\n",
       "      <th>2021-01-01 00:10:00</th>\n",
       "      <td>69.9</td>\n",
       "      <td>65.2</td>\n",
       "      <td>71.2</td>\n",
       "      <td>64.9</td>\n",
       "      <td>51.0</td>\n",
       "      <td>68.3</td>\n",
       "      <td>70.9</td>\n",
       "      <td>70.3</td>\n",
       "      <td>68.3</td>\n",
       "      <td>67.8</td>\n",
       "      <td>...</td>\n",
       "      <td>69.2</td>\n",
       "      <td>69.0</td>\n",
       "      <td>65.8</td>\n",
       "      <td>66.3</td>\n",
       "      <td>65.0</td>\n",
       "      <td>65.1</td>\n",
       "      <td>69.7</td>\n",
       "      <td>68.9</td>\n",
       "      <td>69.0</td>\n",
       "      <td>65.9</td>\n",
       "    </tr>\n",
       "    <tr>\n",
       "      <th>2021-01-01 00:15:00</th>\n",
       "      <td>69.8</td>\n",
       "      <td>65.2</td>\n",
       "      <td>68.9</td>\n",
       "      <td>64.8</td>\n",
       "      <td>46.8</td>\n",
       "      <td>67.1</td>\n",
       "      <td>69.0</td>\n",
       "      <td>70.0</td>\n",
       "      <td>68.7</td>\n",
       "      <td>69.5</td>\n",
       "      <td>...</td>\n",
       "      <td>68.8</td>\n",
       "      <td>68.7</td>\n",
       "      <td>65.9</td>\n",
       "      <td>67.1</td>\n",
       "      <td>65.0</td>\n",
       "      <td>65.1</td>\n",
       "      <td>69.4</td>\n",
       "      <td>68.8</td>\n",
       "      <td>68.7</td>\n",
       "      <td>65.6</td>\n",
       "    </tr>\n",
       "    <tr>\n",
       "      <th>2021-01-01 00:20:00</th>\n",
       "      <td>69.8</td>\n",
       "      <td>65.1</td>\n",
       "      <td>67.4</td>\n",
       "      <td>64.8</td>\n",
       "      <td>63.6</td>\n",
       "      <td>66.8</td>\n",
       "      <td>68.7</td>\n",
       "      <td>70.5</td>\n",
       "      <td>68.3</td>\n",
       "      <td>67.2</td>\n",
       "      <td>...</td>\n",
       "      <td>68.8</td>\n",
       "      <td>68.6</td>\n",
       "      <td>65.6</td>\n",
       "      <td>67.8</td>\n",
       "      <td>65.0</td>\n",
       "      <td>64.9</td>\n",
       "      <td>69.3</td>\n",
       "      <td>68.9</td>\n",
       "      <td>68.6</td>\n",
       "      <td>65.5</td>\n",
       "    </tr>\n",
       "  </tbody>\n",
       "</table>\n",
       "<p>5 rows × 760 columns</p>\n",
       "</div>"
      ],
      "text/plain": [
       "                     715898  716016  716023  716026  716028  716067  716069  \\\n",
       "2021-01-01 00:00:00    70.2    65.1    68.1    65.0    68.9    67.4    68.9   \n",
       "2021-01-01 00:05:00    70.0    64.9    69.6    65.0    55.5    67.7    70.8   \n",
       "2021-01-01 00:10:00    69.9    65.2    71.2    64.9    51.0    68.3    70.9   \n",
       "2021-01-01 00:15:00    69.8    65.2    68.9    64.8    46.8    67.1    69.0   \n",
       "2021-01-01 00:20:00    69.8    65.1    67.4    64.8    63.6    66.8    68.7   \n",
       "\n",
       "                     716078  716081  716142  ...  776773  776825  776826  \\\n",
       "2021-01-01 00:00:00    71.0    68.1    69.2  ...    69.3    69.1    65.7   \n",
       "2021-01-01 00:05:00    70.0    67.3    70.4  ...    69.1    68.9    65.8   \n",
       "2021-01-01 00:10:00    70.3    68.3    67.8  ...    69.2    69.0    65.8   \n",
       "2021-01-01 00:15:00    70.0    68.7    69.5  ...    68.8    68.7    65.9   \n",
       "2021-01-01 00:20:00    70.5    68.3    67.2  ...    68.8    68.6    65.6   \n",
       "\n",
       "                     776843  776845  776945  776981  777066  777068  777169  \n",
       "2021-01-01 00:00:00    65.3    65.0    65.0    69.8    68.6    69.1    66.0  \n",
       "2021-01-01 00:05:00    66.6    64.9    65.0    69.6    68.4    68.9    65.8  \n",
       "2021-01-01 00:10:00    66.3    65.0    65.1    69.7    68.9    69.0    65.9  \n",
       "2021-01-01 00:15:00    67.1    65.0    65.1    69.4    68.8    68.7    65.6  \n",
       "2021-01-01 00:20:00    67.8    65.0    64.9    69.3    68.9    68.6    65.5  \n",
       "\n",
       "[5 rows x 760 columns]"
      ]
     },
     "execution_count": 3,
     "metadata": {},
     "output_type": "execute_result"
    }
   ],
   "source": [
    "_, _, station_data = load_processed_data('../data/processed/rdp_ds')\n",
    "\n",
    "station_data.head()"
   ]
  },
  {
   "cell_type": "markdown",
   "metadata": {
    "id": "yV1gIFyEt_g9"
   },
   "source": [
    "### Select Sensor\n",
    "\n",
    "Choose sensor ID and split into train/test"
   ]
  },
  {
   "cell_type": "code",
   "execution_count": 4,
   "metadata": {},
   "outputs": [],
   "source": [
    "from random import choice"
   ]
  },
  {
   "cell_type": "code",
   "execution_count": 6,
   "metadata": {
    "id": "-psCUx8ItnBO"
   },
   "outputs": [],
   "source": [
    "# good example stations to try\n",
    "#   717711  (difficult)\n",
    "#   716659  (many random outliers)\n",
    "#   761455  (periodic)\n",
    "#   772455  (very periodic)\n",
    "\n",
    "# select a station number to use\n",
    "STATION = choice(station_data.columns)\n",
    "\n",
    "\n",
    "# use may, june as train data and july as test data\n",
    "train_data = station_data[STATION][station_data.index < pd.to_datetime('2021-07-01')]\n",
    "test_data = station_data[STATION][station_data.index >= pd.to_datetime('2021-07-01')]"
   ]
  },
  {
   "cell_type": "markdown",
   "metadata": {
    "id": "Xo2_NBkNzaYv"
   },
   "source": [
    "### Model"
   ]
  },
  {
   "cell_type": "code",
   "execution_count": 8,
   "metadata": {},
   "outputs": [],
   "source": [
    "from time import time"
   ]
  },
  {
   "cell_type": "code",
   "execution_count": 9,
   "metadata": {
    "colab": {
     "base_uri": "https://localhost:8080/"
    },
    "id": "EBIUms24tpdV",
    "outputId": "33a73765-2c82-494e-e036-eace48c14d4a"
   },
   "outputs": [
    {
     "name": "stdout",
     "output_type": "stream",
     "text": [
      "Initial log joint probability = -31.9988\n",
      "    Iter      log prob        ||dx||      ||grad||       alpha      alpha0  # evals  Notes \n",
      "Error evaluating model log probability: Non-finite gradient.\n",
      "Error evaluating model log probability: Non-finite gradient.\n",
      "\n",
      "      58        214714   1.59562e-05       460.145           1           1       96   \n",
      "Optimization terminated normally: \n",
      "  Convergence detected: relative gradient magnitude is below tolerance\n"
     ]
    }
   ],
   "source": [
    "# convert to fbprophet format\n",
    "df = pd.DataFrame({'ds': train_data.index, 'y': train_data.values})\n",
    "df.head()\n",
    "\n",
    "# initialize model\n",
    "m = Prophet(yearly_seasonality=False)\n",
    "start = time()\n",
    "m.fit(df)\n",
    "end = time()\n",
    "train_time = end - start"
   ]
  },
  {
   "cell_type": "code",
   "execution_count": 10,
   "metadata": {},
   "outputs": [],
   "source": [
    "# with open('./trained/prophet/prophet.dat', 'wb') as f:\n",
    "#     pickle.dump(m, f)"
   ]
  },
  {
   "cell_type": "markdown",
   "metadata": {},
   "source": [
    "### Evaluate"
   ]
  },
  {
   "cell_type": "code",
   "execution_count": 11,
   "metadata": {
    "id": "PKOPGkZOuEEG"
   },
   "outputs": [],
   "source": [
    "# predict test data\n",
    "future = pd.DataFrame({'ds': train_data.index.union(test_data.index)})\n",
    "forecast = m.predict(future)\n",
    "\n",
    "preds = forecast[forecast['ds'].isin(test_data.index)]['yhat'].values"
   ]
  },
  {
   "cell_type": "code",
   "execution_count": 15,
   "metadata": {},
   "outputs": [],
   "source": [
    "import plotly.graph_objects as go"
   ]
  },
  {
   "cell_type": "code",
   "execution_count": null,
   "metadata": {
    "colab": {
     "base_uri": "https://localhost:8080/",
     "height": 311
    },
    "id": "cBqA4PYEvrax",
    "outputId": "c7ff3e46-7653-4cda-d4b1-4533c6bcd48d"
   },
   "outputs": [],
   "source": [
    "# results\n",
    "mae = mean_absolute_error(test_data.values, preds)\n",
    "rmse = mean_squared_error(test_data.values, preds, squared=False)\n",
    "mse = mean_squared_error(test_data.values, preds)\n",
    "print('MAE:  %.3f' % mae)\n",
    "print('RMSE: %.3f' % rmse)\n",
    "print('MSE: %.3f' % mse)\n",
    "\n",
    "fig = go.Figure()\n",
    "fig.add_trace(go.Line(x=test_data.index, y=test_data, name='True Values'))\n",
    "fig.add_trace(go.Line(x=test_data.index, y=preds, name='Predicted Values'))\n",
    "fig.update_layout(\n",
    "    title=\"Prophet Forecast Results\",\n",
    "    xaxis_title=\"Time\",\n",
    "    yaxis_title=\"Forecast\")"
   ]
  },
  {
   "cell_type": "code",
   "execution_count": 21,
   "metadata": {},
   "outputs": [],
   "source": [
    "# fig.write_html('../plots/prophet.html')"
   ]
  },
  {
   "cell_type": "code",
   "execution_count": 13,
   "metadata": {},
   "outputs": [],
   "source": [
    "# with open('./trained/prophet/metrics_prophet.dat', 'wb') as f:\n",
    "#     metrics = {'mse': mse, 'rmse': rmse, 'r2': r2_score(test_data.values, preds), 'train_time': train_time}\n",
    "#     pickle.dump(metrics, f)"
   ]
  },
  {
   "cell_type": "code",
   "execution_count": 14,
   "metadata": {
    "colab": {
     "base_uri": "https://localhost:8080/",
     "height": 585
    },
    "id": "4AUzmhBb01HS",
    "outputId": "cf2d2884-f649-40c5-f731-a0ff2015a424"
   },
   "outputs": [
    {
     "data": {
      "image/png": "[encoded data removed]",
      "text/plain": [
       "<Figure size 720x576 with 3 Axes>"
      ]
     },
     "metadata": {},
     "output_type": "display_data"
    }
   ],
   "source": [
    "# model component\n",
    "p = m.plot_components(forecast, figsize=(10, 8))"
   ]
  }
 ],
 "metadata": {
  "colab": {
   "collapsed_sections": [],
   "name": "Traffic Data Prophet.ipynb",
   "provenance": []
  },
  "kernelspec": {
   "display_name": "Python 3 (ipykernel)",
   "language": "python",
   "name": "python3"
  },
  "language_info": {
   "codemirror_mode": {
    "name": "ipython",
    "version": 3
   },
   "file_extension": ".py",
   "mimetype": "text/x-python",
   "name": "python",
   "nbconvert_exporter": "python",
   "pygments_lexer": "ipython3",
   "version": "3.9.10"
  }
 },
 "nbformat": 4,
 "nbformat_minor": 1
}
