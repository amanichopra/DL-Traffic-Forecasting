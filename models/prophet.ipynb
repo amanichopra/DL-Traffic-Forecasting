{
 "cells": [
  {
   "cell_type": "code",
   "execution_count": null,
   "metadata": {
    "id": "gmd3j_0ts59f"
   },
   "outputs": [],
   "source": [
    "import numpy as np\n",
    "import pandas as pd\n",
    "import pickle\n",
    "from tqdm.notebook import tqdm\n",
    "from sklearn.metrics import mean_absolute_error, mean_squared_error, r2_score\n",
    "from prophet import Prophet\n",
    "import sys\n",
    "sys.path.append('../utils')\n",
    "from utils import load_processed_data, cv, get_test_metrics"
   ]
  },
  {
   "cell_type": "markdown",
   "metadata": {
    "id": "fmkf0Iayyld9"
   },
   "source": [
    "# Prophet Model\n",
    "\n",
    "Uses Facebook Prophet package to forecast speed of a single sensor using a decomposible time series model that takes into account many types of seasonality.\n",
    "\n",
    "Read more: https://facebook.github.io/prophet/docs/quick_start.html#python-api\n",
    "\n"
   ]
  },
  {
   "cell_type": "markdown",
   "metadata": {
    "id": "XMtEhwlItrNl"
   },
   "source": [
    "### Setup"
   ]
  },
  {
   "cell_type": "code",
   "execution_count": null,
   "metadata": {
    "id": "VLmXyCcCtAIF"
   },
   "outputs": [],
   "source": [
    "station_meta = pd.read_csv('../data/processed/fwy_405_n_ds/meta.csv')"
   ]
  },
  {
   "cell_type": "code",
   "execution_count": null,
   "metadata": {
    "id": "qbUS2L5itlk1"
   },
   "outputs": [],
   "source": [
    "_, _, station_data = load_processed_data('../data/processed/rdp_ds')\n",
    "station_data.head()"
   ]
  },
  {
   "cell_type": "code",
   "execution_count": null,
   "metadata": {},
   "outputs": [],
   "source": [
    "with open('./env.dat', 'rb') as f:\n",
    "    ENV = pickle.load(f)"
   ]
  },
  {
   "cell_type": "markdown",
   "metadata": {
    "id": "yV1gIFyEt_g9"
   },
   "source": [
    "### Select Sensor\n",
    "\n",
    "Choose sensor ID and split into train/test"
   ]
  },
  {
   "cell_type": "code",
   "execution_count": null,
   "metadata": {
    "id": "-psCUx8ItnBO"
   },
   "outputs": [],
   "source": [
    "# good example stations to try\n",
    "#   717711  (difficult)\n",
    "#   716659  (many random outliers)\n",
    "#   761455  (periodic)\n",
    "#   772455  (very periodic)\n",
    "\n",
    "# select a station number to use\n",
    "STATION = ENV['station_id']\n",
    "\n",
    "\n",
    "# use may, june as train data and july as test data\n",
    "station_data = station_data.loc[station_data.index.month.isin([5, 6, 7]), STATION]\n",
    "train_data = station_data[(station_data.index.month == 5) | (station_data.index.month == 6)]\n",
    "test_data = station_data[station_data.index.month == 7]"
   ]
  },
  {
   "cell_type": "markdown",
   "metadata": {
    "id": "Xo2_NBkNzaYv"
   },
   "source": [
    "### Model"
   ]
  },
  {
   "cell_type": "code",
   "execution_count": null,
   "metadata": {},
   "outputs": [],
   "source": [
    "from time import time"
   ]
  },
  {
   "cell_type": "code",
   "execution_count": null,
   "metadata": {
    "colab": {
     "base_uri": "https://localhost:8080/"
    },
    "id": "EBIUms24tpdV",
    "outputId": "33a73765-2c82-494e-e036-eace48c14d4a"
   },
   "outputs": [],
   "source": [
    "# convert to fbprophet format\n",
    "df = pd.DataFrame({'ds': train_data.index, 'y': train_data.values})\n",
    "df.head()\n",
    "\n",
    "# initialize model\n",
    "m = Prophet(yearly_seasonality=False)\n",
    "start = time()\n",
    "m.fit(df)\n",
    "end = time()\n",
    "train_time = end - start"
   ]
  },
  {
   "cell_type": "code",
   "execution_count": null,
   "metadata": {},
   "outputs": [],
   "source": [
    "# with open('./trained/prophet/prophet.dat', 'wb') as f:\n",
    "#     pickle.dump(m, f)"
   ]
  },
  {
   "cell_type": "markdown",
   "metadata": {},
   "source": [
    "### Evaluate"
   ]
  },
  {
   "cell_type": "code",
   "execution_count": null,
   "metadata": {},
   "outputs": [],
   "source": [
    "# # use to load model for evaluation instead of training above\n",
    "# import pickle\n",
    "# with open('./trained/prophet/prophet.dat', 'rb') as f:\n",
    "#     m = pickle.load(f)"
   ]
  },
  {
   "cell_type": "code",
   "execution_count": null,
   "metadata": {
    "id": "PKOPGkZOuEEG"
   },
   "outputs": [],
   "source": [
    "# predict test data\n",
    "future = pd.DataFrame({'ds': station_data.index})\n",
    "forecast = m.predict(future)"
   ]
  },
  {
   "cell_type": "code",
   "execution_count": null,
   "metadata": {},
   "outputs": [],
   "source": [
    "train_preds = forecast[forecast['ds'].isin(train_data.index)]['yhat'].values\n",
    "train_conf = forecast.loc[forecast['ds'].isin(train_data.index), ['yhat_lower', 'yhat_upper']].values\n",
    "\n",
    "test_preds = forecast[forecast['ds'].isin(test_data.index)]['yhat'].values\n",
    "test_conf = forecast.loc[forecast['ds'].isin(test_data.index), ['yhat_lower', 'yhat_upper']].values"
   ]
  },
  {
   "cell_type": "code",
   "execution_count": null,
   "metadata": {},
   "outputs": [],
   "source": [
    "import plotly.graph_objects as go"
   ]
  },
  {
   "cell_type": "code",
   "execution_count": null,
   "metadata": {
    "colab": {
     "base_uri": "https://localhost:8080/",
     "height": 311
    },
    "id": "cBqA4PYEvrax",
    "outputId": "c7ff3e46-7653-4cda-d4b1-4533c6bcd48d"
   },
   "outputs": [],
   "source": [
    "# results\n",
    "mae = mean_absolute_error(test_data.values, test_preds)\n",
    "rmse = mean_squared_error(test_data.values, test_preds, squared=False)\n",
    "mse = mean_squared_error(test_data.values, test_preds)\n",
    "print('MAE:  %.3f' % mae)\n",
    "print('RMSE: %.3f' % rmse)\n",
    "print('MSE: %.3f' % mse)\n",
    "\n",
    "fig = go.Figure()\n",
    "fig.add_trace(go.Line(x=station_data.index, y=station_data, name='True Values'))\n",
    "fig.add_trace(go.Line(x=train_data.index, y=train_preds, name='Predicted Values (Train)', line=dict(color='rgba(255, 0, 0)')))\n",
    "fig.add_trace(go.Line(x=test_data.index, y=test_preds, name='Predicted Values (Test)', line=dict(color='rgba(44, 160, 44)')))\n",
    "fig.update_layout(\n",
    "    title=\"Prophet Forecast Results\",\n",
    "    xaxis_title=\"Time\",\n",
    "    yaxis_title=\"Forecast\")\n",
    "\n",
    "fig.add_traces([go.Scatter(x=train_data.index, y=train_conf[:, 1],\n",
    "                    mode = 'lines', line_color = 'rgba(0,0,0,0)',\n",
    "                    showlegend = False),\n",
    "                go.Scatter(x=train_data.index, y=train_conf[:,0],\n",
    "                    mode = 'lines', line_color = 'rgba(0,0,0,0)',\n",
    "                    name = '95% CI (Train)',\n",
    "                    fill='tonexty', fillcolor = 'rgba(255, 0, 0, 0.2)')])\n",
    "\n",
    "fig.add_traces([go.Scatter(x=test_data.index, y=test_conf[:, 1],\n",
    "                    mode = 'lines', line_color = 'rgba(0,0,0,0)',\n",
    "                    showlegend = False),\n",
    "                go.Scatter(x=test_data.index, y=test_conf[:,0],\n",
    "                    mode = 'lines', line_color = 'rgba(0,0,0,0)',\n",
    "                    name = '95% CI (Test)',\n",
    "                    fill='tonexty', fillcolor = 'rgba(44, 160, 44, 0.2)')])\n"
   ]
  },
  {
   "cell_type": "code",
   "execution_count": null,
   "metadata": {},
   "outputs": [],
   "source": [
    "# fig.write_html('../plots/prophet.html')"
   ]
  },
  {
   "cell_type": "markdown",
   "metadata": {},
   "source": [
    "Evaluate:"
   ]
  },
  {
   "cell_type": "code",
   "execution_count": null,
   "metadata": {},
   "outputs": [],
   "source": [
    "cv_metrics = cv1(Prophet(yearly_seasonality=False), station_data, metrics=['mse', 'mae', 'rmse', 'r2'])\n",
    "test_metrics = get_test_metrics(test_data, test_preds)\n",
    "\n",
    "metrics = {'cv': cv_metrics, 'test': test_metrics}"
   ]
  },
  {
   "cell_type": "code",
   "execution_count": null,
   "metadata": {},
   "outputs": [],
   "source": [
    "# with open('./trained/prophet/metrics_prophet.dat', 'wb') as f:\n",
    "#     pickle.dump(metrics, f)"
   ]
  },
  {
   "cell_type": "code",
   "execution_count": null,
   "metadata": {
    "colab": {
     "base_uri": "https://localhost:8080/",
     "height": 585
    },
    "id": "4AUzmhBb01HS",
    "outputId": "cf2d2884-f649-40c5-f731-a0ff2015a424"
   },
   "outputs": [],
   "source": [
    "# model component\n",
    "p = m.plot_components(forecast, figsize=(10, 8))"
   ]
  }
 ],
 "metadata": {
  "colab": {
   "collapsed_sections": [],
   "name": "Traffic Data Prophet.ipynb",
   "provenance": []
  },
  "kernelspec": {
   "display_name": "Python 3 (ipykernel)",
   "language": "python",
   "name": "python3"
  },
  "language_info": {
   "codemirror_mode": {
    "name": "ipython",
    "version": 3
   },
   "file_extension": ".py",
   "mimetype": "text/x-python",
   "name": "python",
   "nbconvert_exporter": "python",
   "pygments_lexer": "ipython3",
   "version": "3.9.10"
  }
 },
 "nbformat": 4,
 "nbformat_minor": 1
}
