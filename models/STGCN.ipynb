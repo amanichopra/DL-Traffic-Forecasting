{
 "cells": [
  {
   "cell_type": "markdown",
   "metadata": {
    "id": "vb5hDVdse8XJ"
   },
   "source": [
    "# STGCN"
   ]
  },
  {
   "cell_type": "markdown",
   "metadata": {
    "id": "Wi1LFBCae4Or"
   },
   "source": [
    "This folder follows the same structure of the files that lie in the [main](https://github.com/VeritasYin/STGCN_IJCAI-18) Github repository. Many directories not directly relevant to STGCN training have been omitted. The STGCN is loaded on Google Drive and can be trained [here](https://drive.google.com/file/d/17spvTDAU4Le-15dqlv6hhmARRofuVJO1/view?usp=sharing) to make use of Colab’s GPUs."
   ]
  },
  {
   "cell_type": "markdown",
   "metadata": {
    "id": "iCMCLA29X3Ab"
   },
   "source": [
    "# Load Data"
   ]
  },
  {
   "cell_type": "code",
   "execution_count": null,
   "metadata": {
    "colab": {
     "base_uri": "https://localhost:8080/"
    },
    "id": "caPBv6CZ3pVz",
    "outputId": "12128dc1-2b78-4c09-96c6-7b97b98d551e"
   },
   "outputs": [],
   "source": [
    "from google.colab import drive\n",
    "drive.mount('/content/drive')"
   ]
  },
  {
   "cell_type": "markdown",
   "metadata": {
    "id": "gQwbP0kHe4Wq"
   },
   "source": [
    "In order to run this notebook, you will have to request access to [this](https://drive.google.com/drive/folders/1OrNCjHFZ71M5OiIQtu9G7C61kFl8aVGT?usp=sharing) Google Drive folder, copy into your Drive, and change the path below."
   ]
  },
  {
   "cell_type": "code",
   "execution_count": null,
   "metadata": {
    "id": "8O2odaVu3xUC"
   },
   "outputs": [],
   "source": [
    "import os\n",
    "aman_path_to_capstone_dir = 'drive/MyDrive/School/Undergrad/Spring 2022/Capstone/Models/' \n",
    "os.chdir(f'{aman_path_to_capstone_dir}STGCN Training/models')"
   ]
  },
  {
   "cell_type": "code",
   "execution_count": null,
   "metadata": {
    "colab": {
     "base_uri": "https://localhost:8080/"
    },
    "id": "51EkAoaoP5pB",
    "outputId": "7f03858c-20b3-433e-d8b8-befef9daee61"
   },
   "outputs": [],
   "source": [
    "import pandas as pd\n",
    "import numpy as np\n",
    "from sklearn.metrics import mean_absolute_error, mean_squared_error\n",
    "!pip3 install prophet\n",
    "import sys\n",
    "sys.path.append('/content/drive/MyDrive/School/Undergrad/Spring 2022/Capstone/Models/STGCN Training/utils/')\n",
    "from utils import load_processed_data"
   ]
  },
  {
   "cell_type": "markdown",
   "metadata": {
    "id": "hSMJGL9reubd"
   },
   "source": [
    "### Format"
   ]
  },
  {
   "cell_type": "code",
   "execution_count": null,
   "metadata": {
    "id": "hlwc5ofT3M9p"
   },
   "outputs": [],
   "source": [
    "adj_mat, ind_station_mapper, speeds = load_processed_data('../data/processed/fwy_405_n_ds')"
   ]
  },
  {
   "cell_type": "code",
   "execution_count": null,
   "metadata": {
    "id": "Y825i8sM5604"
   },
   "outputs": [],
   "source": [
    "import yaml\n",
    "\n",
    "with open('../models/env.yaml') as f:\n",
    "    ENV = yaml.load(f, Loader=yaml.Loader)"
   ]
  },
  {
   "cell_type": "code",
   "execution_count": null,
   "metadata": {
    "id": "f7xOuxyQZwIG"
   },
   "outputs": [],
   "source": [
    "# subset and choose data in may-july\n",
    "speeds = speeds[speeds.index.month.isin([5, 6, 7])] \n",
    "\n",
    "# write to file\n",
    "outfile = '../data/processed/fwy_405_n_ds/speeds_form.csv'\n",
    "speeds.to_csv(outfile, index=False, header=False)\n",
    "\n",
    "# write to file\n",
    "outfile = '../data/processed/fwy_405_n_ds/adj_mat_form.csv'\n",
    "pd.DataFrame(adj_mat).to_csv(outfile, index=False, header=False)"
   ]
  },
  {
   "cell_type": "markdown",
   "metadata": {
    "id": "7Cjkbraueq_5"
   },
   "source": [
    "# Build Model"
   ]
  },
  {
   "cell_type": "code",
   "execution_count": null,
   "metadata": {
    "colab": {
     "base_uri": "https://localhost:8080/"
    },
    "id": "1UD55FAmmVg2",
    "outputId": "ff7b7c24-bd85-4820-e02a-e1f19fcb06fa"
   },
   "outputs": [],
   "source": [
    "%cd ../utils/STGCN"
   ]
  },
  {
   "cell_type": "code",
   "execution_count": null,
   "metadata": {
    "colab": {
     "base_uri": "https://localhost:8080/"
    },
    "id": "ZfpHLzRhCFDH",
    "outputId": "daf4cec3-741c-44c6-ecb0-7fd35fbd0d84"
   },
   "outputs": [],
   "source": [
    "!python main.py --epoch=25 --save=1"
   ]
  },
  {
   "cell_type": "markdown",
   "metadata": {},
   "source": [
    "Tune:"
   ]
  },
  {
   "cell_type": "code",
   "execution_count": null,
   "metadata": {},
   "outputs": [],
   "source": [
    "from utils import STGCN_grid_search\n",
    "import os"
   ]
  },
  {
   "cell_type": "code",
   "execution_count": 4,
   "metadata": {},
   "outputs": [],
   "source": [
    "param_grid = {  \n",
    "    'k': [2, 4, 6, 8, 10, 12],\n",
    "    'epochs': [5, 10, 15, 20, 25, 30],\n",
    "    'opt': ['RMSProp', 'Adam'],\n",
    "    'ks': [1, 3, 5],\n",
    "    'num_lags': [4, 8, 12],\n",
    "    'lr': [1e-3, 1e-2, 1e-1, 1, 10]\n",
    "}"
   ]
  },
  {
   "cell_type": "code",
   "execution_count": null,
   "metadata": {},
   "outputs": [],
   "source": [
    "STGCN_grid_search('rmse', ENV['cv_folds'], param_grid, f'{os.getcwd()}/main.py')"
   ]
  },
  {
   "cell_type": "markdown",
   "metadata": {},
   "source": [
    "# Build Best Model"
   ]
  },
  {
   "cell_type": "code",
   "execution_count": null,
   "metadata": {},
   "outputs": [],
   "source": [
    "with open('./trained/STGCN/grid_search_STGCN.dat', 'rb') as f:\n",
    "    grid_search_results = pickle.load(f)"
   ]
  },
  {
   "cell_type": "code",
   "execution_count": null,
   "metadata": {},
   "outputs": [],
   "source": [
    "!python main.py --epoch=25 --save=1 --params=str(grid_search_results['best_params'])"
   ]
  },
  {
   "cell_type": "markdown",
   "metadata": {
    "id": "2yGoMe0_ulDN"
   },
   "source": [
    "# Evaluate"
   ]
  },
  {
   "cell_type": "code",
   "execution_count": null,
   "metadata": {
    "id": "o2Fcm0lAlt93"
   },
   "outputs": [],
   "source": [
    "actual = np.load('../../models/trained/STGCN/preds/actual.npy')\n",
    "predicted = np.load('../../models/trained/STGCN/preds/predicted.npy')"
   ]
  },
  {
   "cell_type": "code",
   "execution_count": null,
   "metadata": {
    "colab": {
     "base_uri": "https://localhost:8080/"
    },
    "id": "BEB3pjFoqsqY",
    "outputId": "67498644-ab27-48cd-888d-56facdbaeb1e"
   },
   "outputs": [],
   "source": [
    "# helper code to figure out what timestamps were used in the test set\n",
    "new = [[x[0] for x in y] for y in actual]\n",
    "new = np.array(new)\n",
    "\n",
    "seq = new[0:100,5]\n",
    "\n",
    "full = speeds.iloc[:,5].values\n",
    "\n",
    "for i in range(len(full) - len(seq)):\n",
    "    if (full[i:i+len(seq)] == seq).all():\n",
    "        print(i)\n"
   ]
  },
  {
   "cell_type": "code",
   "execution_count": null,
   "metadata": {
    "colab": {
     "base_uri": "https://localhost:8080/",
     "height": 490
    },
    "id": "U979X_Mn9V8x",
    "outputId": "348982ab-5ad2-4f25-a962-fcfaddd6f389"
   },
   "outputs": [],
   "source": [
    "# format into dataframes\n",
    "ts_start = 11246\n",
    "\n",
    "actual_df = pd.DataFrame([[x[0] for x in y] for y in actual])\n",
    "actual_df.columns = speeds.columns\n",
    "actual_df.index = speeds.index[ts_start:ts_start+new.shape[0]]\n",
    "\n",
    "predicted_df = pd.DataFrame([[x[0] for x in y] for y in predicted])\n",
    "predicted_df.columns = speeds.columns\n",
    "predicted_df.index = speeds.index[ts_start:ts_start+new.shape[0]]\n",
    "\n",
    "print(predicted_df.shape)\n",
    "predicted_df.head()"
   ]
  },
  {
   "cell_type": "code",
   "execution_count": null,
   "metadata": {
    "id": "2obn4vL_9tG_"
   },
   "outputs": [],
   "source": [
    "import plotly.graph_objects as go"
   ]
  },
  {
   "cell_type": "code",
   "execution_count": null,
   "metadata": {
    "colab": {
     "base_uri": "https://localhost:8080/",
     "height": 698
    },
    "id": "nW9kNnkDd_H3",
    "outputId": "88daf22f-def2-4890-d38b-8d6b20a91676"
   },
   "outputs": [],
   "source": [
    "station = 771826\n",
    "cutoff = int(0.75 * actual_df.index.shape[0])\n",
    "\n",
    "fig = go.Figure()\n",
    "fig.add_trace(go.Line(x=actual_df.index, y=actual_df[station], name='True Values'))\n",
    "fig.add_trace(go.Line(x=predicted_df.index[:cutoff], y=predicted_df.loc[:(predicted_df.index[cutoff]), station], name='Predicted Values (Train)'))\n",
    "fig.add_trace(go.Line(x=predicted_df.index[cutoff:], y=predicted_df.loc[(predicted_df.index[cutoff]):, station], name='Predicted Values (Test)'))\n",
    "fig.update_layout(\n",
    "    title=\"STGCN Forecast Results\",\n",
    "    xaxis_title=\"Time\",\n",
    "    yaxis_title=\"Forecast\")"
   ]
  },
  {
   "cell_type": "code",
   "execution_count": null,
   "metadata": {
    "id": "trYiZTk2_R0U"
   },
   "outputs": [],
   "source": [
    "# fig.write_html('../plots/STGCN.html')"
   ]
  },
  {
   "cell_type": "code",
   "execution_count": null,
   "metadata": {},
   "outputs": [],
   "source": [
    "from utils import STGCN_cv"
   ]
  },
  {
   "cell_type": "code",
   "execution_count": null,
   "metadata": {},
   "outputs": [],
   "source": [
    "STGCN_cv(f'{os.getcwd()}/main.py', ENV['cv_folds'])"
   ]
  },
  {
   "cell_type": "code",
   "execution_count": null,
   "metadata": {},
   "outputs": [],
   "source": [
    "## station map plotting\n",
    "meta = pd.read_csv('https://jda-cloud.s3.us-east-2.amazonaws.com/rdp_ds/meta.csv')\n",
    "\n",
    "stations = [int(x) for x in predicted_df.columns]\n",
    "locations = meta[meta['ID'].isin(list(stations))][['ID', 'Longitude', 'Latitude']]\n",
    "\n",
    "locations['RMSE'] = [mean_squared_error(actual_df[str(x)], predicted_df[str(x)], squared=False) for x in locations['ID']]\n",
    "locations['MAE'] = [mean_absolute_error(actual_df[str(x)], predicted_df[str(x)]) for x in locations['ID']]\n",
    "\n",
    "fig = px.scatter(\n",
    "    locations, \n",
    "    x=\"Longitude\", y=\"Latitude\",\n",
    "    height=600, width=800,\n",
    "    color='RMSE',\n",
    "    title='RMSE By Station Location'\n",
    ")\n",
    "\n",
    "fig"
   ]
  },
  {
   "cell_type": "code",
   "execution_count": null,
   "metadata": {},
   "outputs": [],
   "source": [
    "fig = px.histogram(\n",
    "    locations, \n",
    "    x=\"RMSE\",\n",
    "    height=400, width=600,\n",
    "    title='RMSE Distribution'\n",
    ")"
   ]
  }
 ],
 "metadata": {
  "accelerator": "GPU",
  "colab": {
   "collapsed_sections": [],
   "name": "STGCN.ipynb",
   "provenance": []
  },
  "kernelspec": {
   "display_name": "Python 3 (ipykernel)",
   "language": "python",
   "name": "python3"
  },
  "language_info": {
   "codemirror_mode": {
    "name": "ipython",
    "version": 3
   },
   "file_extension": ".py",
   "mimetype": "text/x-python",
   "name": "python",
   "nbconvert_exporter": "python",
   "pygments_lexer": "ipython3",
   "version": "3.9.10"
  }
 },
 "nbformat": 4,
 "nbformat_minor": 1
}
