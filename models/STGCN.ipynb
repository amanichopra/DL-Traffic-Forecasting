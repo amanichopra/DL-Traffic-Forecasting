{
  "cells": [
    {
      "cell_type": "markdown",
      "metadata": {
        "id": "iCMCLA29X3Ab"
      },
      "source": [
        "# PeMS STGNN\n",
        "\n",
        "Based on:\n",
        "https://github.com/VeritasYin/STGCN_IJCAI-18"
      ]
    },
    {
      "cell_type": "code",
      "execution_count": 1,
      "metadata": {
        "id": "51EkAoaoP5pB"
      },
      "outputs": [],
      "source": [
        "import pandas as pd\n",
        "import numpy as np\n",
        "import os\n",
        "from sklearn.metrics import mean_absolute_error, mean_squared_error"
      ]
    },
    {
      "cell_type": "code",
      "execution_count": 2,
      "metadata": {
        "colab": {
          "base_uri": "https://localhost:8080/"
        },
        "id": "muVvR49ZXvgV",
        "outputId": "edc7f116-b8b2-4bb2-d82a-78199c562893"
      },
      "outputs": [
        {
          "name": "stderr",
          "output_type": "stream",
          "text": [
            "Cloning into 'STGCN_IJCAI-18'...\n"
          ]
        }
      ],
      "source": [
        "! git clone https://github.com/jackarnold84/STGCN_IJCAI-18.git"
      ]
    },
    {
      "cell_type": "markdown",
      "metadata": {
        "id": "hSMJGL9reubd"
      },
      "source": [
        "### Format Dataset"
      ]
    },
    {
      "cell_type": "code",
      "execution_count": 3,
      "metadata": {
        "id": "izQYE0q3P7rb"
      },
      "outputs": [],
      "source": [
        "# update with the location of the speeds.csv and adj_mat.csv files\n",
        "speeds_file = '/content/speeds.csv'\n",
        "adj_mat_file = '/content/adj_mat.csv'"
      ]
    },
    {
      "cell_type": "code",
      "execution_count": 4,
      "metadata": {
        "id": "3-uvOICdYxeR"
      },
      "outputs": [],
      "source": [
        "speeds = pd.read_csv('../data/processed/fwy_405_n_ds/csvs/speeds.csv')\n",
        "adj_mat = pd.read_csv('../data/processed/fwy_405_n_ds/csvs/adj_mat.csv')"
      ]
    },
    {
      "cell_type": "code",
      "execution_count": 5,
      "metadata": {
        "id": "f7xOuxyQZwIG"
      },
      "outputs": [],
      "source": [
        "# update speed dataset to match the tool\n",
        "speeds.index = list(pd.to_datetime(speeds['Unnamed: 0']))\n",
        "speeds = speeds.iloc[:,1:]\n",
        "\n",
        "# subset amount of data used for training\n",
        "speeds = speeds.loc[ (speeds.index > pd.to_datetime('05/01/2021')) & (speeds.index < pd.to_datetime('07/01/2021')) ]\n",
        "\n",
        "# write to file\n",
        "outfile = 'STGCN_IJCAI-18/dataset/PeMSD7_V_%d.csv' % speeds.shape[1]\n",
        "speeds.to_csv(outfile, index=False, header=False)\n",
        "\n",
        "# format adjacency matrix\n",
        "adj_mat = adj_mat.iloc[:,1:]\n",
        "\n",
        "# write to file\n",
        "outfile = 'STGCN_IJCAI-18/dataset/PeMSD7_W_%d.csv' % speeds.shape[1]\n",
        "adj_mat.to_csv(outfile, index=False, header=False)"
      ]
    },
    {
      "cell_type": "markdown",
      "metadata": {
        "id": "7Cjkbraueq_5"
      },
      "source": [
        "### Train Model"
      ]
    },
    {
      "cell_type": "code",
      "execution_count": 6,
      "metadata": {
        "colab": {
          "base_uri": "https://localhost:8080/"
        },
        "id": "s_o-Jal9fguj",
        "outputId": "e664cf40-62d0-4bc2-8846-4e33ebbd9723"
      },
      "outputs": [
        {
          "name": "stdout",
          "output_type": "stream",
          "text": [
            "/content/STGCN_IJCAI-18\n"
          ]
        }
      ],
      "source": [
        "%cd STGCN_IJCAI-18/"
      ]
    },
    {
      "cell_type": "code",
      "execution_count": 7,
      "metadata": {
        "colab": {
          "base_uri": "https://localhost:8080/"
        },
        "id": "ZfpHLzRhCFDH",
        "outputId": "078b0482-7645-41f0-ae0a-7dbc060a2ecf"
      },
      "outputs": [
        {
          "name": "stdout",
          "output_type": "stream",
          "text": [
            "WARNING:tensorflow:From /usr/local/lib/python3.7/dist-packages/tensorflow/python/compat/v2_compat.py:107: disable_resource_variables (from tensorflow.python.ops.variable_scope) is deprecated and will be removed in a future version.\n",
            "Instructions for updating:\n",
            "non-resource variables are not supported in the long term\n",
            "\n",
            "==> Running main.py...\n",
            "\n",
            "Training configs: Namespace(batch_size=50, epoch=10, graph='default', inf_mode='merge', ks=3, kt=3, lr=0.001, n_his=12, n_pred=9, n_route=105, opt='RMSProp', save=10)\n",
            ">> Loading dataset with Mean: 60.58, STD: 12.63\n",
            "WARNING:tensorflow:From /usr/local/lib/python3.7/dist-packages/tensorflow/python/util/dispatch.py:1082: calling dropout (from tensorflow.python.ops.nn_ops) with keep_prob is deprecated and will be removed in a future version.\n",
            "Instructions for updating:\n",
            "Please use `rate` instead of `keep_prob`. Rate should be set to `rate = 1 - keep_prob`.\n",
            "WARNING:tensorflow:From /usr/local/lib/python3.7/dist-packages/tensorflow/python/training/rmsprop.py:188: calling Ones.__init__ (from tensorflow.python.ops.init_ops) with dtype is deprecated and will be removed in a future version.\n",
            "Instructions for updating:\n",
            "Call initializer instance with the dtype argument instead of passing it to the constructor\n",
            "Epoch  0, Step   0: [1280.714, 100.897]\n",
            "Epoch  0, Step  50: [208.769, 119.512]\n",
            "Epoch  0, Step 100: [156.896, 100.824]\n",
            "Epoch  0, Step 150: [179.027, 107.692]\n",
            "Epoch  0 Training Time 15.332s\n",
            "Time Step 3: MAPE  6.479%,  6.929%; MAE  2.936, 3.115; RMSE  4.978,  5.208.\n",
            "Time Step 6: MAPE  8.957%,  9.501%; MAE  4.058, 4.302; RMSE  7.213,  7.530.\n",
            "Time Step 9: MAPE 10.802%, 11.386%; MAE  4.875, 5.143; RMSE  8.790,  9.083.\n",
            "Epoch  0 Inference Time 12.428s\n",
            "Epoch  1, Step   0: [140.790, 97.629]\n",
            "Epoch  1, Step  50: [156.724, 101.186]\n",
            "Epoch  1, Step 100: [124.268, 100.017]\n",
            "Epoch  1, Step 150: [113.941, 95.988]\n",
            "Epoch  1 Training Time 11.878s\n",
            "Time Step 3: MAPE  6.360%,  6.636%; MAE  2.936, 3.097; RMSE  4.684,  4.831.\n",
            "Time Step 6: MAPE  8.836%,  9.087%; MAE  4.058, 4.261; RMSE  6.626,  6.785.\n",
            "Time Step 9: MAPE 10.744%, 11.091%; MAE  4.875, 5.202; RMSE  8.007,  8.180.\n",
            "Epoch  1 Inference Time 12.035s\n",
            "Epoch  2, Step   0: [128.212, 120.513]\n",
            "Epoch  2, Step  50: [145.773, 98.414]\n",
            "Epoch  2, Step 100: [87.140, 89.845]\n",
            "Epoch  2, Step 150: [109.501, 94.086]\n",
            "Epoch  2 Training Time 11.882s\n",
            "Time Step 3: MAPE  5.955%,  6.353%; MAE  2.600, 2.794; RMSE  4.526,  4.761.\n",
            "Time Step 6: MAPE  8.277%,  8.655%; MAE  3.438, 3.676; RMSE  6.322,  6.529.\n",
            "Time Step 9: MAPE 10.040%, 10.345%; MAE  4.049, 4.261; RMSE  7.545,  7.637.\n",
            "Epoch  2 Inference Time 11.993s\n",
            "Epoch  3, Step   0: [97.244, 110.814]\n",
            "Epoch  3, Step  50: [154.071, 105.652]\n",
            "Epoch  3, Step 100: [87.075, 91.800]\n",
            "Epoch  3, Step 150: [94.795, 86.606]\n",
            "Epoch  3 Training Time 11.922s\n",
            "Time Step 3: MAPE  5.955%,  6.353%; MAE  2.600, 2.794; RMSE  4.526,  4.761.\n",
            "Time Step 6: MAPE  8.277%,  8.655%; MAE  3.438, 3.676; RMSE  6.322,  6.529.\n",
            "Time Step 9: MAPE 10.040%, 10.345%; MAE  4.049, 4.261; RMSE  7.545,  7.637.\n",
            "Epoch  3 Inference Time 6.094s\n",
            "Epoch  4, Step   0: [81.657, 80.098]\n",
            "Epoch  4, Step  50: [136.722, 101.927]\n",
            "Epoch  4, Step 100: [111.534, 95.968]\n",
            "Epoch  4, Step 150: [107.323, 101.678]\n",
            "Epoch  4 Training Time 11.891s\n",
            "Time Step 3: MAPE  5.955%,  6.353%; MAE  2.600, 2.794; RMSE  4.526,  4.761.\n",
            "Time Step 6: MAPE  8.277%,  8.655%; MAE  3.438, 3.676; RMSE  6.322,  6.529.\n",
            "Time Step 9: MAPE 10.040%, 10.345%; MAE  4.049, 4.261; RMSE  7.545,  7.637.\n",
            "Epoch  4 Inference Time 5.999s\n",
            "Epoch  5, Step   0: [98.681, 111.747]\n",
            "Epoch  5, Step  50: [102.016, 99.785]\n",
            "Epoch  5, Step 100: [85.636, 97.101]\n",
            "Epoch  5, Step 150: [93.352, 94.148]\n",
            "Epoch  5 Training Time 11.865s\n",
            "Time Step 3: MAPE  5.822%,  6.111%; MAE  2.484, 2.626; RMSE  4.276,  4.410.\n",
            "Time Step 6: MAPE  8.116%,  8.446%; MAE  3.278, 3.465; RMSE  5.914,  6.000.\n",
            "Time Step 9: MAPE  9.810%, 10.162%; MAE  3.831, 4.026; RMSE  7.010,  7.018.\n",
            "Epoch  5 Inference Time 11.987s\n",
            "Epoch  6, Step   0: [78.198, 96.098]\n",
            "Epoch  6, Step  50: [79.000, 95.685]\n",
            "Epoch  6, Step 100: [81.630, 93.895]\n",
            "Epoch  6, Step 150: [106.558, 113.747]\n",
            "Epoch  6 Training Time 11.885s\n",
            "Time Step 3: MAPE  5.577%,  5.837%; MAE  2.484, 2.661; RMSE  4.276,  4.462.\n",
            "Time Step 6: MAPE  7.793%,  7.931%; MAE  3.278, 3.594; RMSE  5.914,  6.169.\n",
            "Time Step 9: MAPE  9.398%,  9.490%; MAE  3.831, 4.271; RMSE  7.010,  7.361.\n",
            "Epoch  6 Inference Time 11.985s\n",
            "Epoch  7, Step   0: [77.775, 92.090]\n",
            "Epoch  7, Step  50: [84.901, 107.291]\n",
            "Epoch  7, Step 100: [95.273, 105.902]\n",
            "Epoch  7, Step 150: [95.133, 97.009]\n",
            "Epoch  7 Training Time 11.905s\n",
            "Time Step 3: MAPE  5.577%,  5.841%; MAE  2.484, 2.659; RMSE  4.275,  4.405.\n",
            "Time Step 6: MAPE  7.793%,  7.923%; MAE  3.278, 3.533; RMSE  5.914,  6.061.\n",
            "Time Step 9: MAPE  9.336%,  9.474%; MAE  3.831, 4.163; RMSE  7.010,  7.173.\n",
            "Epoch  7 Inference Time 12.016s\n",
            "Epoch  8, Step   0: [83.776, 106.509]\n",
            "Epoch  8, Step  50: [79.549, 98.923]\n",
            "Epoch  8, Step 100: [79.600, 99.602]\n",
            "Epoch  8, Step 150: [78.737, 101.315]\n",
            "Epoch  8 Training Time 11.889s\n",
            "Time Step 3: MAPE  5.577%,  5.841%; MAE  2.484, 2.659; RMSE  4.275,  4.405.\n",
            "Time Step 6: MAPE  7.793%,  7.923%; MAE  3.278, 3.533; RMSE  5.914,  6.061.\n",
            "Time Step 9: MAPE  9.336%,  9.474%; MAE  3.831, 4.163; RMSE  7.010,  7.173.\n",
            "Epoch  8 Inference Time 6.022s\n",
            "Epoch  9, Step   0: [78.531, 100.837]\n",
            "Epoch  9, Step  50: [76.362, 95.645]\n",
            "Epoch  9, Step 100: [83.035, 95.321]\n",
            "Epoch  9, Step 150: [77.239, 90.200]\n",
            "Epoch  9 Training Time 11.914s\n",
            "Time Step 3: MAPE  5.565%,  5.744%; MAE  2.480, 2.616; RMSE  4.231,  4.361.\n",
            "Time Step 6: MAPE  7.760%,  7.790%; MAE  3.278, 3.474; RMSE  5.914,  5.958.\n",
            "Time Step 9: MAPE  9.252%,  9.259%; MAE  3.831, 4.051; RMSE  7.010,  6.979.\n",
            "Epoch  9 Inference Time 11.975s\n",
            "<< Saving model to ./output/models/STGCN-1830 ...\n",
            "Training model finished!\n",
            ">> Loading saved model from ./output/models/STGCN-1830 ...\n",
            "Time Step 3: MAPE  5.744%; MAE  2.616; RMSE  4.361.\n",
            "Time Step 6: MAPE  7.790%; MAE  3.474; RMSE  5.958.\n",
            "Time Step 9: MAPE  9.259%; MAE  4.051; RMSE  6.979.\n",
            "Model Test Time 6.847s\n",
            "Testing model finished!\n",
            ">> Loading saved model from ./output/models/STGCN-1830 ...\n",
            "\n",
            "==> Saving predictions to /results ...\n",
            "==> Complete\n"
          ]
        }
      ],
      "source": [
        "! python main.py --n_route=105 --n_his=12 --n_pred=9 --epoch=10"
      ]
    },
    {
      "cell_type": "markdown",
      "metadata": {
        "id": "2yGoMe0_ulDN"
      },
      "source": [
        "### Extract Results"
      ]
    },
    {
      "cell_type": "code",
      "execution_count": 8,
      "metadata": {
        "id": "o2Fcm0lAlt93"
      },
      "outputs": [],
      "source": [
        "actual = np.load('results/actual.npy')\n",
        "predicted = np.load('results/predicted.npy')"
      ]
    },
    {
      "cell_type": "code",
      "execution_count": 9,
      "metadata": {
        "colab": {
          "base_uri": "https://localhost:8080/"
        },
        "id": "BEB3pjFoqsqY",
        "outputId": "b08c0481-47d9-4b33-d113-7db8837ceb84"
      },
      "outputs": [
        {
          "name": "stdout",
          "output_type": "stream",
          "text": [
            "11246\n"
          ]
        }
      ],
      "source": [
        "# helper code to figure out what timestamps were used in the test set\n",
        "new = [[x[0] for x in y] for y in actual]\n",
        "new = np.array(new)\n",
        "\n",
        "seq = new[0:100,5]\n",
        "\n",
        "full = speeds.iloc[:,5].values\n",
        "\n",
        "for i in range(len(full) - len(seq)):\n",
        "  if (full[i:i+len(seq)] == seq).all():\n",
        "    print(i)\n"
      ]
    },
    {
      "cell_type": "code",
      "execution_count": 10,
      "metadata": {
        "colab": {
          "base_uri": "https://localhost:8080/",
          "height": 490
        },
        "id": "U979X_Mn9V8x",
        "outputId": "383c824f-f716-4cbd-f1a1-b2864cfacccb"
      },
      "outputs": [
        {
          "name": "stdout",
          "output_type": "stream",
          "text": [
            "(1340, 105)\n"
          ]
        },
        {
          "data": {
            "text/html": [
              "\n",
              "  <div id=\"df-a78038db-89f9-4941-97e1-4a2c6fe5f83e\">\n",
              "    <div class=\"colab-df-container\">\n",
              "      <div>\n",
              "<style scoped>\n",
              "    .dataframe tbody tr th:only-of-type {\n",
              "        vertical-align: middle;\n",
              "    }\n",
              "\n",
              "    .dataframe tbody tr th {\n",
              "        vertical-align: top;\n",
              "    }\n",
              "\n",
              "    .dataframe thead th {\n",
              "        text-align: right;\n",
              "    }\n",
              "</style>\n",
              "<table border=\"1\" class=\"dataframe\">\n",
              "  <thead>\n",
              "    <tr style=\"text-align: right;\">\n",
              "      <th></th>\n",
              "      <th>771826</th>\n",
              "      <th>717696</th>\n",
              "      <th>718219</th>\n",
              "      <th>717701</th>\n",
              "      <th>717703</th>\n",
              "      <th>718227</th>\n",
              "      <th>717706</th>\n",
              "      <th>717709</th>\n",
              "      <th>716632</th>\n",
              "      <th>771845</th>\n",
              "      <th>...</th>\n",
              "      <th>767351</th>\n",
              "      <th>717819</th>\n",
              "      <th>717823</th>\n",
              "      <th>767367</th>\n",
              "      <th>717825</th>\n",
              "      <th>717827</th>\n",
              "      <th>771808</th>\n",
              "      <th>771767</th>\n",
              "      <th>772011</th>\n",
              "      <th>772024</th>\n",
              "    </tr>\n",
              "  </thead>\n",
              "  <tbody>\n",
              "    <tr>\n",
              "      <th>2021-06-09 01:15:00</th>\n",
              "      <td>69.078659</td>\n",
              "      <td>68.284225</td>\n",
              "      <td>68.191635</td>\n",
              "      <td>67.898865</td>\n",
              "      <td>64.640404</td>\n",
              "      <td>71.026184</td>\n",
              "      <td>70.098549</td>\n",
              "      <td>68.949120</td>\n",
              "      <td>70.719437</td>\n",
              "      <td>68.809822</td>\n",
              "      <td>...</td>\n",
              "      <td>63.201031</td>\n",
              "      <td>67.765167</td>\n",
              "      <td>66.757439</td>\n",
              "      <td>63.395809</td>\n",
              "      <td>66.961090</td>\n",
              "      <td>67.569954</td>\n",
              "      <td>59.815231</td>\n",
              "      <td>60.536907</td>\n",
              "      <td>68.186478</td>\n",
              "      <td>66.785988</td>\n",
              "    </tr>\n",
              "    <tr>\n",
              "      <th>2021-06-09 01:20:00</th>\n",
              "      <td>69.080429</td>\n",
              "      <td>65.744797</td>\n",
              "      <td>68.497330</td>\n",
              "      <td>68.208748</td>\n",
              "      <td>65.354111</td>\n",
              "      <td>71.323563</td>\n",
              "      <td>70.007713</td>\n",
              "      <td>69.335785</td>\n",
              "      <td>70.765518</td>\n",
              "      <td>68.726982</td>\n",
              "      <td>...</td>\n",
              "      <td>63.534912</td>\n",
              "      <td>67.880455</td>\n",
              "      <td>67.060616</td>\n",
              "      <td>63.539101</td>\n",
              "      <td>66.778282</td>\n",
              "      <td>67.373680</td>\n",
              "      <td>59.431446</td>\n",
              "      <td>59.471676</td>\n",
              "      <td>68.174629</td>\n",
              "      <td>66.823929</td>\n",
              "    </tr>\n",
              "    <tr>\n",
              "      <th>2021-06-09 01:25:00</th>\n",
              "      <td>69.238525</td>\n",
              "      <td>66.980591</td>\n",
              "      <td>68.404434</td>\n",
              "      <td>68.106148</td>\n",
              "      <td>66.017990</td>\n",
              "      <td>71.165390</td>\n",
              "      <td>70.291199</td>\n",
              "      <td>69.741287</td>\n",
              "      <td>70.783752</td>\n",
              "      <td>68.879768</td>\n",
              "      <td>...</td>\n",
              "      <td>63.529613</td>\n",
              "      <td>67.861099</td>\n",
              "      <td>66.693268</td>\n",
              "      <td>63.339645</td>\n",
              "      <td>66.967415</td>\n",
              "      <td>67.569504</td>\n",
              "      <td>58.560482</td>\n",
              "      <td>59.606178</td>\n",
              "      <td>68.192673</td>\n",
              "      <td>66.440353</td>\n",
              "    </tr>\n",
              "    <tr>\n",
              "      <th>2021-06-09 01:30:00</th>\n",
              "      <td>68.802185</td>\n",
              "      <td>66.882042</td>\n",
              "      <td>68.450340</td>\n",
              "      <td>68.289886</td>\n",
              "      <td>65.211121</td>\n",
              "      <td>71.129547</td>\n",
              "      <td>69.826485</td>\n",
              "      <td>68.753609</td>\n",
              "      <td>70.699181</td>\n",
              "      <td>68.439758</td>\n",
              "      <td>...</td>\n",
              "      <td>63.075199</td>\n",
              "      <td>67.522285</td>\n",
              "      <td>66.337296</td>\n",
              "      <td>63.214336</td>\n",
              "      <td>66.765793</td>\n",
              "      <td>67.153793</td>\n",
              "      <td>59.416775</td>\n",
              "      <td>57.173382</td>\n",
              "      <td>68.041611</td>\n",
              "      <td>65.656288</td>\n",
              "    </tr>\n",
              "    <tr>\n",
              "      <th>2021-06-09 01:35:00</th>\n",
              "      <td>68.682121</td>\n",
              "      <td>67.275772</td>\n",
              "      <td>68.363922</td>\n",
              "      <td>67.974846</td>\n",
              "      <td>65.980484</td>\n",
              "      <td>70.900597</td>\n",
              "      <td>69.405693</td>\n",
              "      <td>68.043755</td>\n",
              "      <td>70.595856</td>\n",
              "      <td>68.386589</td>\n",
              "      <td>...</td>\n",
              "      <td>63.461418</td>\n",
              "      <td>67.972313</td>\n",
              "      <td>67.010017</td>\n",
              "      <td>63.219185</td>\n",
              "      <td>66.529778</td>\n",
              "      <td>66.770721</td>\n",
              "      <td>60.954956</td>\n",
              "      <td>59.159359</td>\n",
              "      <td>68.107048</td>\n",
              "      <td>65.794144</td>\n",
              "    </tr>\n",
              "  </tbody>\n",
              "</table>\n",
              "<p>5 rows × 105 columns</p>\n",
              "</div>\n",
              "      <button class=\"colab-df-convert\" onclick=\"convertToInteractive('df-a78038db-89f9-4941-97e1-4a2c6fe5f83e')\"\n",
              "              title=\"Convert this dataframe to an interactive table.\"\n",
              "              style=\"display:none;\">\n",
              "        \n",
              "  <svg xmlns=\"http://www.w3.org/2000/svg\" height=\"24px\"viewBox=\"0 0 24 24\"\n",
              "       width=\"24px\">\n",
              "    <path d=\"M0 0h24v24H0V0z\" fill=\"none\"/>\n",
              "    <path d=\"M18.56 5.44l.94 2.06.94-2.06 2.06-.94-2.06-.94-.94-2.06-.94 2.06-2.06.94zm-11 1L8.5 8.5l.94-2.06 2.06-.94-2.06-.94L8.5 2.5l-.94 2.06-2.06.94zm10 10l.94 2.06.94-2.06 2.06-.94-2.06-.94-.94-2.06-.94 2.06-2.06.94z\"/><path d=\"M17.41 7.96l-1.37-1.37c-.4-.4-.92-.59-1.43-.59-.52 0-1.04.2-1.43.59L10.3 9.45l-7.72 7.72c-.78.78-.78 2.05 0 2.83L4 21.41c.39.39.9.59 1.41.59.51 0 1.02-.2 1.41-.59l7.78-7.78 2.81-2.81c.8-.78.8-2.07 0-2.86zM5.41 20L4 18.59l7.72-7.72 1.47 1.35L5.41 20z\"/>\n",
              "  </svg>\n",
              "      </button>\n",
              "      \n",
              "  <style>\n",
              "    .colab-df-container {\n",
              "      display:flex;\n",
              "      flex-wrap:wrap;\n",
              "      gap: 12px;\n",
              "    }\n",
              "\n",
              "    .colab-df-convert {\n",
              "      background-color: #E8F0FE;\n",
              "      border: none;\n",
              "      border-radius: 50%;\n",
              "      cursor: pointer;\n",
              "      display: none;\n",
              "      fill: #1967D2;\n",
              "      height: 32px;\n",
              "      padding: 0 0 0 0;\n",
              "      width: 32px;\n",
              "    }\n",
              "\n",
              "    .colab-df-convert:hover {\n",
              "      background-color: #E2EBFA;\n",
              "      box-shadow: 0px 1px 2px rgba(60, 64, 67, 0.3), 0px 1px 3px 1px rgba(60, 64, 67, 0.15);\n",
              "      fill: #174EA6;\n",
              "    }\n",
              "\n",
              "    [theme=dark] .colab-df-convert {\n",
              "      background-color: #3B4455;\n",
              "      fill: #D2E3FC;\n",
              "    }\n",
              "\n",
              "    [theme=dark] .colab-df-convert:hover {\n",
              "      background-color: #434B5C;\n",
              "      box-shadow: 0px 1px 3px 1px rgba(0, 0, 0, 0.15);\n",
              "      filter: drop-shadow(0px 1px 2px rgba(0, 0, 0, 0.3));\n",
              "      fill: #FFFFFF;\n",
              "    }\n",
              "  </style>\n",
              "\n",
              "      <script>\n",
              "        const buttonEl =\n",
              "          document.querySelector('#df-a78038db-89f9-4941-97e1-4a2c6fe5f83e button.colab-df-convert');\n",
              "        buttonEl.style.display =\n",
              "          google.colab.kernel.accessAllowed ? 'block' : 'none';\n",
              "\n",
              "        async function convertToInteractive(key) {\n",
              "          const element = document.querySelector('#df-a78038db-89f9-4941-97e1-4a2c6fe5f83e');\n",
              "          const dataTable =\n",
              "            await google.colab.kernel.invokeFunction('convertToInteractive',\n",
              "                                                     [key], {});\n",
              "          if (!dataTable) return;\n",
              "\n",
              "          const docLinkHtml = 'Like what you see? Visit the ' +\n",
              "            '<a target=\"_blank\" href=https://colab.research.google.com/notebooks/data_table.ipynb>data table notebook</a>'\n",
              "            + ' to learn more about interactive tables.';\n",
              "          element.innerHTML = '';\n",
              "          dataTable['output_type'] = 'display_data';\n",
              "          await google.colab.output.renderOutput(dataTable, element);\n",
              "          const docLink = document.createElement('div');\n",
              "          docLink.innerHTML = docLinkHtml;\n",
              "          element.appendChild(docLink);\n",
              "        }\n",
              "      </script>\n",
              "    </div>\n",
              "  </div>\n",
              "  "
            ],
            "text/plain": [
              "                        771826     717696     718219     717701     717703  \\\n",
              "2021-06-09 01:15:00  69.078659  68.284225  68.191635  67.898865  64.640404   \n",
              "2021-06-09 01:20:00  69.080429  65.744797  68.497330  68.208748  65.354111   \n",
              "2021-06-09 01:25:00  69.238525  66.980591  68.404434  68.106148  66.017990   \n",
              "2021-06-09 01:30:00  68.802185  66.882042  68.450340  68.289886  65.211121   \n",
              "2021-06-09 01:35:00  68.682121  67.275772  68.363922  67.974846  65.980484   \n",
              "\n",
              "                        718227     717706     717709     716632     771845  \\\n",
              "2021-06-09 01:15:00  71.026184  70.098549  68.949120  70.719437  68.809822   \n",
              "2021-06-09 01:20:00  71.323563  70.007713  69.335785  70.765518  68.726982   \n",
              "2021-06-09 01:25:00  71.165390  70.291199  69.741287  70.783752  68.879768   \n",
              "2021-06-09 01:30:00  71.129547  69.826485  68.753609  70.699181  68.439758   \n",
              "2021-06-09 01:35:00  70.900597  69.405693  68.043755  70.595856  68.386589   \n",
              "\n",
              "                     ...     767351     717819     717823     767367  \\\n",
              "2021-06-09 01:15:00  ...  63.201031  67.765167  66.757439  63.395809   \n",
              "2021-06-09 01:20:00  ...  63.534912  67.880455  67.060616  63.539101   \n",
              "2021-06-09 01:25:00  ...  63.529613  67.861099  66.693268  63.339645   \n",
              "2021-06-09 01:30:00  ...  63.075199  67.522285  66.337296  63.214336   \n",
              "2021-06-09 01:35:00  ...  63.461418  67.972313  67.010017  63.219185   \n",
              "\n",
              "                        717825     717827     771808     771767     772011  \\\n",
              "2021-06-09 01:15:00  66.961090  67.569954  59.815231  60.536907  68.186478   \n",
              "2021-06-09 01:20:00  66.778282  67.373680  59.431446  59.471676  68.174629   \n",
              "2021-06-09 01:25:00  66.967415  67.569504  58.560482  59.606178  68.192673   \n",
              "2021-06-09 01:30:00  66.765793  67.153793  59.416775  57.173382  68.041611   \n",
              "2021-06-09 01:35:00  66.529778  66.770721  60.954956  59.159359  68.107048   \n",
              "\n",
              "                        772024  \n",
              "2021-06-09 01:15:00  66.785988  \n",
              "2021-06-09 01:20:00  66.823929  \n",
              "2021-06-09 01:25:00  66.440353  \n",
              "2021-06-09 01:30:00  65.656288  \n",
              "2021-06-09 01:35:00  65.794144  \n",
              "\n",
              "[5 rows x 105 columns]"
            ]
          },
          "execution_count": 10,
          "metadata": {},
          "output_type": "execute_result"
        }
      ],
      "source": [
        "# format into dataframes\n",
        "ts_start = 11246\n",
        "\n",
        "actual_df = pd.DataFrame([[x[0] for x in y] for y in actual])\n",
        "actual_df.columns = speeds.columns\n",
        "actual_df.index = speeds.index[ts_start:ts_start+new.shape[0]]\n",
        "\n",
        "predicted_df = pd.DataFrame([[x[0] for x in y] for y in predicted])\n",
        "predicted_df.columns = speeds.columns\n",
        "predicted_df.index = speeds.index[ts_start:ts_start+new.shape[0]]\n",
        "\n",
        "print(predicted_df.shape)\n",
        "predicted_df.head()"
      ]
    },
    {
      "cell_type": "code",
      "execution_count": 11,
      "metadata": {
        "colab": {
          "base_uri": "https://localhost:8080/",
          "height": 376
        },
        "id": "CU-jEfb4_K-q",
        "outputId": "717057c7-7711-4835-c165-dfcf47ed6db2"
      },
      "outputs": [
        {
          "name": "stdout",
          "output_type": "stream",
          "text": [
            "MAE:  2.658\n",
            "RMSE: 4.089\n"
          ]
        },
        {
          "data": {
            "image/png": "[encoded data removed]",
            "text/plain": [
              "<Figure size 1080x360 with 1 Axes>"
            ]
          },
          "metadata": {
            "needs_background": "light"
          },
          "output_type": "display_data"
        }
      ],
      "source": [
        "# show results for example station\n",
        "my_station = '716632'\n",
        "\n",
        "print('MAE:  %.3f' % mean_absolute_error(actual_df[my_station], predicted_df[my_station]))\n",
        "print('RMSE: %.3f' % mean_squared_error(actual_df[my_station], predicted_df[my_station], squared=False))\n",
        "\n",
        "p = pd.DataFrame({\n",
        "    'Actual': actual_df[my_station], \n",
        "    'Predicted': predicted_df[my_station]\n",
        "}).plot(figsize=(15, 5))"
      ]
    }
  ],
  "metadata": {
    "accelerator": "GPU",
    "colab": {
      "collapsed_sections": [],
      "name": "PeMS STGNN.ipynb",
      "provenance": []
    },
    "kernelspec": {
      "display_name": "Python 3",
      "name": "python3"
    },
    "language_info": {
      "name": "python"
    }
  },
  "nbformat": 4,
  "nbformat_minor": 0
}
