{
 "cells": [
  {
   "cell_type": "code",
   "execution_count": null,
   "metadata": {},
   "outputs": [],
   "source": [
    "test"
   ]
  },
  {
   "cell_type": "markdown",
   "metadata": {},
   "source": [
    "<a id='top'></a>\n",
    "\n",
    "# Table of Contents"
   ]
  },
  {
   "cell_type": "markdown",
   "metadata": {},
   "source": [
    "1. [EDA for Station Metadata](#eda_station_meta)\n",
    "2. [EDA for Speed Data](#eda_station_speed)\n",
    "3. [EDA for Processed Data](#eda_processed_data)"
   ]
  },
  {
   "cell_type": "markdown",
   "metadata": {},
   "source": [
    "<a id='eda_station_meta'></a>\n",
    "\n",
    "# EDA for Station Metadata"
   ]
  },
  {
   "cell_type": "markdown",
   "metadata": {},
   "source": [
    "**Load**"
   ]
  },
  {
   "cell_type": "code",
   "execution_count": null,
   "metadata": {},
   "outputs": [],
   "source": [
    "import pickle\n",
    "import numpy as np"
   ]
  },
  {
   "cell_type": "code",
   "execution_count": null,
   "metadata": {},
   "outputs": [],
   "source": [
    "with open('./data/loaded/meta.dat', 'rb') as f:\n",
    "    meta = pickle.load(f)\n",
    "    \n",
    "meta"
   ]
  },
  {
   "cell_type": "code",
   "execution_count": null,
   "metadata": {},
   "outputs": [],
   "source": [
    "import plotly.express as px"
   ]
  },
  {
   "cell_type": "code",
   "execution_count": null,
   "metadata": {
    "scrolled": false
   },
   "outputs": [],
   "source": [
    "fwy_freq = meta['Fwy'].value_counts()\n",
    "fwy_freq.index = fwy_freq.index.astype(int)\n",
    "fwy_freq = fwy_freq.sort_index()\n",
    "fwy_freq.index = fwy_freq.index.astype(str)\n",
    "fig = px.bar(fwy_freq, title='Frequency of Stations Across Highways in LA District 7')\n",
    "fig.update_xaxes(title='Fwy #')\n",
    "fig.update_yaxes(title='Freq')\n",
    "fig.update_layout(showlegend=False)\n",
    "fig"
   ]
  },
  {
   "cell_type": "code",
   "execution_count": null,
   "metadata": {},
   "outputs": [],
   "source": [
    "fig = px.bar(meta['Dir'].value_counts(), title='Frequency of Stations of Different Highway Directions in LA District 7')\n",
    "fig.update_xaxes(title='Direction')\n",
    "fig.update_yaxes(title='Freq')\n",
    "fig.update_layout(showlegend=False)\n",
    "fig"
   ]
  },
  {
   "cell_type": "code",
   "execution_count": null,
   "metadata": {},
   "outputs": [],
   "source": [
    "fig = px.bar(meta['Type'].value_counts(), title='Frequency of Stations of Different Highway Types in LA District 7')\n",
    "fig.update_xaxes(title='Type')\n",
    "fig.update_yaxes(title='Freq')\n",
    "fig.update_layout(showlegend=False)\n",
    "fig"
   ]
  },
  {
   "cell_type": "markdown",
   "metadata": {},
   "source": [
    "**Build Map Visualizing all Stations and General Statistics**"
   ]
  },
  {
   "cell_type": "code",
   "execution_count": null,
   "metadata": {},
   "outputs": [],
   "source": [
    "from folium import Map\n",
    "import folium.plugins as plugins\n",
    "import folium"
   ]
  },
  {
   "cell_type": "code",
   "execution_count": null,
   "metadata": {},
   "outputs": [],
   "source": [
    "dir_mapper = {'S': 'south', 'N': 'north', 'E': 'east', 'W': 'west'}\n",
    "m = Map(location=(34.0522,-118.2437), tiles='https://tile.jawg.io/jawg-dark/{z}/{x}/{y}{r}.png?access-token=yxQukjQJyY3mRrF6htcGR22i1QJ6BP6wslSe2Cmq2k4aT8S0wbDtYMEaPhc8s240', attr='<a href=\"http://jawg.io\" title=\"Tiles Courtesy of Jawg Maps\" target=\"_blank\">&copy; <b>Jawg</b>Maps</a> &copy; <a href=\"https://www.openstreetmap.org/copyright\">OpenStreetMap</a> contributors', control_scale=True, max_bounds=True, prefer_canvas=True, zoom_start=10)\n",
    "for ind, row in meta.iterrows():\n",
    "    icon = folium.features.CustomIcon(f\"./data/icons/{(dir_mapper[row['Dir']])}.png\", icon_size=(15, 15))\n",
    "    style = 'font-family: Impact, Haettenschweiler, \"Franklin Gothic Bold\", Charcoal, \"Helvetica Inserat\", \"Bitstream Vera Sans Bold\", \"Arial Black\", \"sans serif\";'\n",
    "    html = f'''<body style=\"{style}\"><div align=\"center\", style=\"background-color: #BAD6FF; font-family: Arial\">''' + row.to_frame().transpose()[['ID', 'Fwy', 'Length', 'Type', 'Lanes']].transpose().to_html(justify=\"center\", header=False, index=True, index_names=False, col_space=300, classes=\"table-condensed table-responsive table-success\") + '</div></body>' \n",
    "    popup = folium.Popup(html, max_width=300)                \n",
    "    folium.Marker(row[['Latitude', 'Longitude']].values.tolist(), icon=icon, popup=popup).add_to(m)\n",
    "#m.save('./plots/station_map.html')"
   ]
  },
  {
   "cell_type": "markdown",
   "metadata": {},
   "source": [
    "**Downsample Stations Using RDP**"
   ]
  },
  {
   "cell_type": "code",
   "execution_count": null,
   "metadata": {},
   "outputs": [],
   "source": [
    "from simplification.cutil import (\n",
    "    simplify_coords,\n",
    "    simplify_coords_idx,\n",
    "    simplify_coords_vw,\n",
    "    simplify_coords_vw_idx,\n",
    "    simplify_coords_vwp,\n",
    ")\n",
    "import pandas as pd"
   ]
  },
  {
   "cell_type": "code",
   "execution_count": null,
   "metadata": {},
   "outputs": [],
   "source": [
    "ds_coords = pd.DataFrame(simplify_coords(meta[[\"Latitude\", 'Longitude']].values, 0.01), columns=['Latitude', 'Longitude'])\n",
    "ds_coords"
   ]
  },
  {
   "cell_type": "markdown",
   "metadata": {},
   "source": [
    "**Downsample Stations Using Rules**"
   ]
  },
  {
   "cell_type": "markdown",
   "metadata": {},
   "source": [
    "All Stations"
   ]
  },
  {
   "cell_type": "code",
   "execution_count": null,
   "metadata": {
    "scrolled": true
   },
   "outputs": [],
   "source": [
    "m = Map(location=(34.0522,-118.2437), tiles='https://tile.jawg.io/jawg-dark/{z}/{x}/{y}{r}.png?access-token=yxQukjQJyY3mRrF6htcGR22i1QJ6BP6wslSe2Cmq2k4aT8S0wbDtYMEaPhc8s240', attr='<a href=\"http://jawg.io\" title=\"Tiles Courtesy of Jawg Maps\" target=\"_blank\">&copy; <b>Jawg</b>Maps</a> &copy; <a href=\"https://www.openstreetmap.org/copyright\">OpenStreetMap</a> contributors', control_scale=True, max_bounds=True, prefer_canvas=True, zoom_start=10)\n",
    "for ind, row in meta[meta['Dir'] == 'N'].iterrows():\n",
    "    icon = folium.features.CustomIcon(f\"./data/icons/north.png\", icon_size=(15, 15))\n",
    "    style = 'font-family: Impact, Haettenschweiler, \"Franklin Gothic Bold\", Charcoal, \"Helvetica Inserat\", \"Bitstream Vera Sans Bold\", \"Arial Black\", \"sans serif\";'\n",
    "    html = f'''<body style=\"{style}\"><div align=\"center\", style=\"background-color: #BAD6FF; font-family: Arial\">''' + row.to_frame().transpose()[['ID', 'Fwy', 'Length', 'Type', 'Lanes']].transpose().to_html(justify=\"center\", header=False, index=True, index_names=False, col_space=300, classes=\"table-condensed table-responsive table-success\") + '</div></body>' \n",
    "    popup = folium.Popup(html, max_width=300)                \n",
    "    folium.Marker(row[['Latitude', 'Longitude']].values.tolist(), icon=icon, popup=popup).add_to(m)"
   ]
  },
  {
   "cell_type": "markdown",
   "metadata": {},
   "source": [
    "After Downsampling"
   ]
  },
  {
   "cell_type": "code",
   "execution_count": null,
   "metadata": {},
   "outputs": [],
   "source": [
    "# 1 deg lat = 69 mi\n",
    "# 1 deg long = 54 mi\n",
    "distance_between_stations = meta[meta['Dir'] == 'N'].sort_values(['Latitude', 'Longitude'])[['Latitude', 'Longitude']].diff()\n",
    "stations = distance_between_stations[((distance_between_stations['Latitude'] * 69) > 0.1) | ((distance_between_stations['Longitude'] * 54) > 0.1)].index.tolist()\n",
    "#stations = set(stations).union(set([s - 1 for s in stations]))\n",
    "len(stations)"
   ]
  },
  {
   "cell_type": "code",
   "execution_count": null,
   "metadata": {},
   "outputs": [],
   "source": [
    "m = Map(location=(34.0522,-118.2437), tiles='https://tile.jawg.io/jawg-dark/{z}/{x}/{y}{r}.png?access-token=yxQukjQJyY3mRrF6htcGR22i1QJ6BP6wslSe2Cmq2k4aT8S0wbDtYMEaPhc8s240', attr='<a href=\"http://jawg.io\" title=\"Tiles Courtesy of Jawg Maps\" target=\"_blank\">&copy; <b>Jawg</b>Maps</a> &copy; <a href=\"https://www.openstreetmap.org/copyright\">OpenStreetMap</a> contributors', control_scale=True, max_bounds=True, prefer_canvas=True, zoom_start=10)\n",
    "for ind, row in meta[meta.index.isin(stations)].iterrows():\n",
    "    icon = folium.features.CustomIcon(f\"./data/icons/north.png\", icon_size=(15, 15))\n",
    "    style = 'font-family: Impact, Haettenschweiler, \"Franklin Gothic Bold\", Charcoal, \"Helvetica Inserat\", \"Bitstream Vera Sans Bold\", \"Arial Black\", \"sans serif\";'\n",
    "    html = f'''<body style=\"{style}\"><div align=\"center\", style=\"background-color: #BAD6FF; font-family: Arial\">''' + row.to_frame().transpose()[['ID', 'Fwy', 'Length', 'Type', 'Lanes']].transpose().to_html(justify=\"center\", header=False, index=True, index_names=False, col_space=300, classes=\"table-condensed table-responsive table-success\") + '</div></body>' \n",
    "    popup = folium.Popup(html, max_width=300)                \n",
    "    folium.Marker(row[['Latitude', 'Longitude']].values.tolist(), icon=icon, popup=popup).add_to(m)"
   ]
  },
  {
   "cell_type": "markdown",
   "metadata": {},
   "source": [
    "<a id='eda_station_speed'></a>\n",
    "\n",
    "# EDA for Speed Data"
   ]
  },
  {
   "cell_type": "markdown",
   "metadata": {},
   "source": [
    "**Data Dictionary**"
   ]
  },
  {
   "cell_type": "code",
   "execution_count": null,
   "metadata": {},
   "outputs": [],
   "source": [
    "from glob import glob\n",
    "files = glob('./data/pems/*.gz')\n",
    "len(files)"
   ]
  },
  {
   "cell_type": "code",
   "execution_count": null,
   "metadata": {},
   "outputs": [],
   "source": [
    "data_dict = pd.read_csv('./data/pems/station_dict.csv', names=['Feature', 'Description', 'Unit']).iloc[1:].reset_index(drop=True)\n",
    "data_dict"
   ]
  },
  {
   "cell_type": "markdown",
   "metadata": {},
   "source": [
    "**Missing Values**"
   ]
  },
  {
   "cell_type": "code",
   "execution_count": null,
   "metadata": {},
   "outputs": [],
   "source": [
    "import gzip\n",
    "from collections import Counter\n",
    "\n",
    "all_stations_missing = {}\n",
    "for attr in [\"Total Flow\", \"Avg Occupancy\", \"Avg Speed\"]:\n",
    "    all_stations_missing[attr] = Counter()\n",
    "\n",
    "missing_vals = {}\n",
    "total_vals = 0\n",
    "\n",
    "for i in range(len(files)):\n",
    "    print(f'Filename: {files[i]}')\n",
    "    print(f'Total Values Loaded: {total_vals}')\n",
    "    with gzip.open(files[i]) as f:\n",
    "        df = pd.read_csv(f, index_col=False, names=data_dict['Feature'].values.tolist())[['Timestamp', 'Station', 'Station Length', 'Samples', 'Total Flow', 'Avg Occupancy', 'Avg Speed', 'Lane N Samples', 'Lane N Flow', 'Lane N Avg Occ', 'Lane N Avg Speed', 'Lane N Observed']]\n",
    "        # df = pd.read_csv(f, index_col=False, usecols=range(17), header=None)\n",
    "        # df = df.set_axis(data_dict['Feature'].values.tolist(), axis=1)[['Timestamp', 'Station', 'Station Length', 'Samples', 'Total Flow', 'Avg Occupancy', 'Avg Speed', 'Lane N Samples', 'Lane N Flow', 'Lane N Avg Occ', 'Lane N Avg Speed', 'Lane N Observed']]\n",
    "    missing_vals[files[i]] = {}\n",
    "    for attr in [\"Total Flow\", \"Avg Occupancy\", \"Avg Speed\"]:\n",
    "        total_vals += len(df)\n",
    "        missing_vals[files[i]][attr] = df[attr].isnull().sum()\n",
    "        stations_missing = Counter(dict(df['Station'][df[attr].isnull()].value_counts()))\n",
    "        all_stations_missing[attr] = all_stations_missing[attr] + stations_missing\n",
    "       \n",
    "    "
   ]
  },
  {
   "cell_type": "code",
   "execution_count": null,
   "metadata": {},
   "outputs": [],
   "source": [
    "total_missing_flow = sum(day[\"Total Flow\"] for k, day in missing_vals.items())\n",
    "total_missing_speed = sum(day[\"Avg Speed\"] for k, day in missing_vals.items())\n",
    "total_missing_occ = sum(day[\"Avg Occupancy\"] for k, day in missing_vals.items())\n",
    "\n",
    "print(f'Total Missing Flow Values: {total_missing_flow}')\n",
    "print(f'Total Missing Speed Values: {total_missing_speed}')\n",
    "print(f'Total Missing Occupancy Values: {total_missing_occ}')\n",
    "\n",
    "print(f'Proporation of Missing Speed Values: {total_missing_speed / total_vals}')\n",
    "print(f'Proportion of Missing Flow Values: {total_missing_flow / total_vals}')"
   ]
  },
  {
   "cell_type": "code",
   "execution_count": null,
   "metadata": {},
   "outputs": [],
   "source": [
    "import matplotlib.pyplot as plt\n",
    "\n",
    "missing_ref = all_stations_missing['Avg Occupancy']\n",
    "\n",
    "for station in df['Station']:\n",
    "    if station not in missing_ref:\n",
    "        missing_ref[station] = 0\n",
    "\n",
    "n, bins, patches = plt.hist(missing_ref.values(), 15, facecolor='blue', alpha=0.5)\n",
    "plt.xlabel('Number of Missing Values')\n",
    "plt.ylabel('Station Frequency')\n",
    "plt.title('Histogram of Missing Values Per Station')\n",
    "plt.show()"
   ]
  },
  {
   "cell_type": "markdown",
   "metadata": {},
   "source": [
    "**Top 5 Sensors w/ Highest Avg. Speed on 01/05/2021**"
   ]
  },
  {
   "cell_type": "code",
   "execution_count": null,
   "metadata": {},
   "outputs": [],
   "source": [
    "import gzip\n",
    "with gzip.open(files[0]) as f: # load one file just to explore\n",
    "    df = pd.read_csv(f, index_col=False, names=data_dict['Feature'].values.tolist())[['Timestamp', 'Station', 'Station Length', 'Samples', 'Total Flow', 'Avg Occupancy', 'Avg Speed', 'Lane N Samples', 'Lane N Flow', 'Lane N Avg Occ', 'Lane N Avg Speed', 'Lane N Observed']]\n",
    "    # df = pd.read_csv(f, index_col=False, usecols=range(17), header=None)\n",
    "    # df = df.set_axis(data_dict['Feature'].values.tolist(), axis=1)[['Timestamp', 'Station', 'Station Length', 'Samples', 'Total Flow', 'Avg Occupancy', 'Avg Speed', 'Lane N Samples', 'Lane N Flow', 'Lane N Avg Occ', 'Lane N Avg Speed', 'Lane N Observed']]\n",
    "df.head()"
   ]
  },
  {
   "cell_type": "code",
   "execution_count": null,
   "metadata": {},
   "outputs": [],
   "source": [
    "dir_mapper = {'N': 'north', 'E': 'east', 'S': 'south', 'W': 'west'}"
   ]
  },
  {
   "cell_type": "code",
   "execution_count": null,
   "metadata": {
    "scrolled": false
   },
   "outputs": [],
   "source": [
    "high_speed_sensors = df.groupby('Station')['Avg Speed'].mean().dropna().sort_values().tail(5)\n",
    "high_speed_sensors_meta = meta.merge(high_speed_sensors, left_on='ID', right_index=True)\n",
    "\n",
    "m = Map(location=(34.0522,-118.2437), tiles='https://tile.jawg.io/jawg-dark/{z}/{x}/{y}{r}.png?access-token=yxQukjQJyY3mRrF6htcGR22i1QJ6BP6wslSe2Cmq2k4aT8S0wbDtYMEaPhc8s240', attr='<a href=\"http://jawg.io\" title=\"Tiles Courtesy of Jawg Maps\" target=\"_blank\">&copy; <b>Jawg</b>Maps</a> &copy; <a href=\"https://www.openstreetmap.org/copyright\">OpenStreetMap</a> contributors', control_scale=True, max_bounds=True, prefer_canvas=True, zoom_start=10)\n",
    "for ind, row in high_speed_sensors_meta.iterrows():\n",
    "    icon = folium.features.CustomIcon(f\"./data/icons/{dir_mapper[row['Dir']]}.png\", icon_size=(15, 15))\n",
    "    style = 'font-family: Impact, Haettenschweiler, \"Franklin Gothic Bold\", Charcoal, \"Helvetica Inserat\", \"Bitstream Vera Sans Bold\", \"Arial Black\", \"sans serif\";'\n",
    "    html = f'''<body style=\"{style}\"><div align=\"center\", style=\"background-color: #BAD6FF; font-family: Arial\">''' + row.to_frame().transpose()[['ID', 'Fwy', 'Length', 'Type', 'Lanes', 'Avg Speed']].transpose().to_html(justify=\"center\", header=False, index=True, index_names=False, col_space=300, classes=\"table-condensed table-responsive table-success\") + '</div></body>' \n",
    "    popup = folium.Popup(html, max_width=300)                \n",
    "    folium.Marker(row[['Latitude', 'Longitude']].values.tolist(), icon=icon, popup=popup).add_to(m)"
   ]
  },
  {
   "cell_type": "markdown",
   "metadata": {},
   "source": [
    "**Top 5 Sensors w/ Lowest Avg. Speed on 01/05/2021**"
   ]
  },
  {
   "cell_type": "code",
   "execution_count": null,
   "metadata": {},
   "outputs": [],
   "source": [
    "low_speed_sensors = df.groupby('Station')['Avg Speed'].mean().dropna().sort_values().head(5)\n",
    "low_speed_sensors_meta = meta.merge(low_speed_sensors, left_on='ID', right_index=True)\n",
    "\n",
    "m = Map(location=(34.0522,-118.2437), tiles='https://tile.jawg.io/jawg-dark/{z}/{x}/{y}{r}.png?access-token=yxQukjQJyY3mRrF6htcGR22i1QJ6BP6wslSe2Cmq2k4aT8S0wbDtYMEaPhc8s240', attr='<a href=\"http://jawg.io\" title=\"Tiles Courtesy of Jawg Maps\" target=\"_blank\">&copy; <b>Jawg</b>Maps</a> &copy; <a href=\"https://www.openstreetmap.org/copyright\">OpenStreetMap</a> contributors', control_scale=True, max_bounds=True, prefer_canvas=True, zoom_start=10)\n",
    "for ind, row in low_speed_sensors_meta.iterrows():  \n",
    "    icon = folium.features.CustomIcon(f\"./data/icons/{dir_mapper[row['Dir']]}.png\", icon_size=(15, 15))\n",
    "    style = 'font-family: Impact, Haettenschweiler, \"Franklin Gothic Bold\", Charcoal, \"Helvetica Inserat\", \"Bitstream Vera Sans Bold\", \"Arial Black\", \"sans serif\";'\n",
    "    html = f'''<body style=\"{style}\"><div align=\"center\", style=\"background-color: #BAD6FF; font-family: Arial\">''' + row.to_frame().transpose()[['ID', 'Fwy', 'Length', 'Type', 'Lanes', 'Avg Speed']].transpose().to_html(justify=\"center\", header=False, index=True, index_names=False, col_space=300, classes=\"table-condensed table-responsive table-success\") + '</div></body>' \n",
    "    popup = folium.Popup(html, max_width=300)                \n",
    "    folium.Marker(row[['Latitude', 'Longitude']].values.tolist(), icon=icon, popup=popup).add_to(m)\n"
   ]
  },
  {
   "cell_type": "markdown",
   "metadata": {},
   "source": [
    "**How Does Speed Change Over Time for a Particular Station on 01/05/2021?**"
   ]
  },
  {
   "cell_type": "code",
   "execution_count": null,
   "metadata": {},
   "outputs": [],
   "source": [
    "# find station that has most speed readings\n",
    "station_most_speed_readings = df.groupby('Station')['Avg Speed'].count().idxmax()\n",
    "df[df['Station'] == station_most_speed_readings].head()"
   ]
  },
  {
   "cell_type": "code",
   "execution_count": null,
   "metadata": {},
   "outputs": [],
   "source": [
    "import plotly.express as px\n",
    "\n",
    "px.line(df[df['Station'] == station_most_speed_readings], x='Timestamp', y='Avg Speed', title=f'Avg Speed vs. Time for Station {station_most_speed_readings}')"
   ]
  },
  {
   "cell_type": "code",
   "execution_count": null,
   "metadata": {},
   "outputs": [],
   "source": [
    "# same thing as above for station 760375\n",
    "df.loc[df['Station'] == 760375, ['Timestamp', 'Avg Speed']].set_index('Timestamp').plot(figsize=[20, 5], title='Average Speed', color='tab:blue')\n"
   ]
  },
  {
   "cell_type": "markdown",
   "metadata": {},
   "source": [
    "**How Does Occupancy Change Over Time for a Particular Station?**"
   ]
  },
  {
   "cell_type": "code",
   "execution_count": null,
   "metadata": {},
   "outputs": [],
   "source": [
    "df.loc[df['Station'] == 760375, ['Timestamp', 'Avg Occupancy']].set_index('Timestamp').plot(figsize=[20, 5], title='Average Occupancy', color='tab:green')\n"
   ]
  },
  {
   "cell_type": "markdown",
   "metadata": {},
   "source": [
    "**How Does Flow Change Over Time for a Particular Station**"
   ]
  },
  {
   "cell_type": "code",
   "execution_count": null,
   "metadata": {},
   "outputs": [],
   "source": [
    "df.loc[df['Station'] == 760375, ['Timestamp', 'Total Flow']].set_index('Timestamp').plot(figsize=[20, 5], title='Flow', color='tab:orange')\n"
   ]
  },
  {
   "cell_type": "markdown",
   "metadata": {},
   "source": [
    "**How Speed Changes with PM?**"
   ]
  },
  {
   "cell_type": "code",
   "execution_count": null,
   "metadata": {},
   "outputs": [],
   "source": [
    "def map_to_time_group(time):\n",
    "    if time.hour >= 7 and time.hour <= 9:\n",
    "        return 'Morning Commute'\n",
    "    elif time.hour >= 16 and time.hour <= 18:\n",
    "        return 'Evening Commute'\n",
    "    else:\n",
    "        return None\n",
    "    \n",
    "hwy_5_nb_stations_pm = meta.loc[(meta['Fwy'] == 5) & (meta['Dir'] == 'N'), ['ID', 'Abs_PM']].drop_duplicates()\n",
    "route = df[df['Station'].isin(hwy_5_nb_stations_pm['ID'])].reset_index(drop=True)\n",
    "route = route.merge(hwy_5_nb_stations_pm, left_on='Station', right_on='ID')\n",
    "route['Time Group'] = pd.to_datetime(route['Timestamp']).map(map_to_time_group)"
   ]
  },
  {
   "cell_type": "code",
   "execution_count": null,
   "metadata": {},
   "outputs": [],
   "source": [
    "route[route['Time Group'] == 'Evening Commute'].plot.scatter(\n",
    "    'Abs_PM', 'Avg Speed', color='tab:purple', label='Evening Commute', \n",
    "    figsize=(20,5), title='Speed Along Fwy 5 Route (6/1/21 4pm-7pm)'\n",
    ")"
   ]
  },
  {
   "cell_type": "markdown",
   "metadata": {},
   "source": [
    "**Speed vs. Time of Day for Month of June**"
   ]
  },
  {
   "cell_type": "code",
   "execution_count": null,
   "metadata": {},
   "outputs": [],
   "source": [
    "from tqdm.notebook import tqdm"
   ]
  },
  {
   "cell_type": "code",
   "execution_count": null,
   "metadata": {},
   "outputs": [],
   "source": [
    "# load data for entire month of June\n",
    "data_list = []\n",
    "for i in tqdm( range(151, 181) ):\n",
    "    with gzip.open(files[i]) as f:\n",
    "        df = pd.read_csv(f, index_col=False, names=colnames)[colnames_subset]\n",
    "        # df = pd.read_csv(f, index_col=False, usecols=range(17), header=None)\n",
    "        # df = df.set_axis(data_dict['Feature'].values.tolist(), axis=1)[['Timestamp', 'Station', 'Station Length', 'Samples', 'Total Flow', 'Avg Occupancy', 'Avg Speed', 'Lane N Samples', 'Lane N Flow', 'Lane N Avg Occ', 'Lane N Avg Speed', 'Lane N Observed']]\n",
    "\n",
    "        df['Timestamp'] = pd.to_datetime(df['Timestamp'])\n",
    "\n",
    "        sub = df[[x in northbound_stations for x in df['Station']]]\n",
    "        sub = pd.DataFrame(sub.reset_index(drop=True))\n",
    "        sub = sub.merge(meta[['ID', 'Abs_PM']], left_on='Station', right_on='ID')\n",
    "        data_list.append(sub)   \n",
    "df = pd.concat(data_list)"
   ]
  },
  {
   "cell_type": "code",
   "execution_count": null,
   "metadata": {},
   "outputs": [],
   "source": [
    "# compute average speed for different hours of the day along the route\n",
    "d = {}\n",
    "for h in [9, 12, 15, 18, 21]:\n",
    "    d[h] = df[[x.hour == h for x in df['Timestamp']]].groupby('Abs_PM').mean()['Avg Speed']\n",
    "\n",
    "pd.DataFrame(d).plot(figsize=(20,5), title='Speed Along Fwy 5 During Different Times of Day')"
   ]
  },
  {
   "cell_type": "markdown",
   "metadata": {},
   "source": [
    "**Correlations**"
   ]
  },
  {
   "cell_type": "code",
   "execution_count": null,
   "metadata": {},
   "outputs": [],
   "source": [
    "import numpy as np"
   ]
  },
  {
   "cell_type": "code",
   "execution_count": null,
   "metadata": {},
   "outputs": [],
   "source": [
    "# correlation between speed and occupancy\n",
    "corrs = []\n",
    "for s in [760375, 769926, 769402, 776657, 716237, 774946, 771690, 716312]:\n",
    "    df_sub = df[df['Station'] == s]\n",
    "    corr = df_sub[['Avg Speed', 'Avg Occupancy']].corr()['Avg Speed']['Avg Occupancy']\n",
    "    corrs.append(corr)\n",
    "\n",
    "print(np.mean(corrs))"
   ]
  },
  {
   "cell_type": "code",
   "execution_count": null,
   "metadata": {},
   "outputs": [],
   "source": [
    "# correlation between rush hour and occupancy\n",
    "# rush hour is an indicator of timestamp during morning or evening commute\n",
    "corrs = []\n",
    "for s in [760375, 769926, 769402, 776657, 716237, 774946, 771690, 716312]:\n",
    "    df_sub = pd.DataFrame(df[df['Station'] == s])\n",
    "    df_sub['Rush Hour'] = [1 if (x.hour >= 7 and x.hour <= 9) or (x.hour >= 16 and x.hour <= 18) else 0 for x in pd.to_datetime(df_sub['Timestamp'])]\n",
    "    corr = df_sub[['Rush Hour', 'Avg Occupancy']].corr()['Rush Hour']['Avg Occupancy']\n",
    "    corrs.append(corr)\n",
    "\n",
    "print(np.mean(corrs))"
   ]
  },
  {
   "cell_type": "code",
   "execution_count": null,
   "metadata": {},
   "outputs": [],
   "source": [
    "import statsmodels.api as sm\n",
    "import scipy.stats as stats"
   ]
  },
  {
   "cell_type": "code",
   "execution_count": null,
   "metadata": {},
   "outputs": [],
   "source": [
    "reg_data = route[['Abs_PM', 'Avg Speed']].dropna()\n",
    "model = sm.OLS(reg_data['Abs_PM'], reg_data['Avg Speed'])\n",
    "results = model.fit()\n",
    "slope = results.params[0]"
   ]
  },
  {
   "cell_type": "code",
   "execution_count": null,
   "metadata": {},
   "outputs": [],
   "source": [
    "t_value = (slope / results.bse) #bse = standard error\n",
    "p_value = stats.t.sf(t_value, results.df_resid) #calculate p-value from t-statistic lookup tables\n",
    "p_value"
   ]
  },
  {
   "cell_type": "code",
   "execution_count": null,
   "metadata": {},
   "outputs": [],
   "source": [
    "from datetime import datetime"
   ]
  },
  {
   "cell_type": "code",
   "execution_count": null,
   "metadata": {},
   "outputs": [],
   "source": [
    "reg_data = route[['Timestamp', 'Avg Speed']].dropna()\n",
    "reg_data['Timestamp'] = pd.to_datetime(reg_data['Timestamp']).map(lambda x: datetime.timestamp(x)*1000)\n",
    "\n",
    "model = sm.OLS(reg_data['Timestamp'], reg_data['Avg Speed'])\n",
    "results = model.fit()\n",
    "slope = results.params[0]"
   ]
  },
  {
   "cell_type": "code",
   "execution_count": null,
   "metadata": {},
   "outputs": [],
   "source": [
    "t_value = (slope / results.bse) #bse = standard error\n",
    "p_value = stats.t.sf(t_value, results.df_resid) #calculate p-value from t-statistic lookup tables\n",
    "p_value"
   ]
  },
  {
   "cell_type": "markdown",
   "metadata": {},
   "source": [
    "<a id='eda_processed_data'></a>\n",
    "\n",
    "# EDA for Processed Data"
   ]
  },
  {
   "cell_type": "code",
   "execution_count": null,
   "metadata": {},
   "outputs": [],
   "source": [
    "import pickle\n",
    "import pandas as pd\n",
    "import plotly.express as px"
   ]
  },
  {
   "cell_type": "code",
   "execution_count": null,
   "metadata": {},
   "outputs": [],
   "source": [
    " with open('./data/processed/adj_mat.dat', 'rb')  as f:\n",
    "    adj_mat = pickle.load(f)\n",
    "\n",
    "with open('./data/processed/adj_mat_ind_station_mapper.dat', 'rb') as f:\n",
    "    ind_station_mapper = pickle.load(f)\n",
    "\n",
    "with open('./data/processed/speeds.dat', 'rb') as f:\n",
    "    speed_df = pickle.load(f)"
   ]
  },
  {
   "cell_type": "markdown",
   "metadata": {},
   "source": [
    "**Stations in Processed Data**"
   ]
  },
  {
   "cell_type": "code",
   "execution_count": null,
   "metadata": {
    "scrolled": false
   },
   "outputs": [],
   "source": [
    "with open('./data/loaded/meta.dat', 'rb') as f:\n",
    "    meta = pickle.load(f)\n",
    "meta_subs = meta[meta['ID'].isin(ind_station_mapper.values())].reset_index(drop=True)\n",
    "dir_mapper = {'N': 'north', 'E': 'east', 'S': 'south', 'W': 'west'}\n",
    "\n",
    "m = Map(location=(34.0522,-118.2437), tiles='https://tile.jawg.io/jawg-dark/{z}/{x}/{y}{r}.png?access-token=yxQukjQJyY3mRrF6htcGR22i1QJ6BP6wslSe2Cmq2k4aT8S0wbDtYMEaPhc8s240', attr='<a href=\"http://jawg.io\" title=\"Tiles Courtesy of Jawg Maps\" target=\"_blank\">&copy; <b>Jawg</b>Maps</a> &copy; <a href=\"https://www.openstreetmap.org/copyright\">OpenStreetMap</a> contributors', control_scale=True, max_bounds=True, prefer_canvas=True, zoom_start=10)\n",
    "for ind, row in meta_subs.iterrows():  \n",
    "    icon = folium.features.CustomIcon(f\"./data/icons/{dir_mapper[row['Dir']]}.png\", icon_size=(15, 15))\n",
    "    style = 'font-family: Impact, Haettenschweiler, \"Franklin Gothic Bold\", Charcoal, \"Helvetica Inserat\", \"Bitstream Vera Sans Bold\", \"Arial Black\", \"sans serif\";'\n",
    "    html = f'''<body style=\"{style}\"><div align=\"center\", style=\"background-color: #BAD6FF; font-family: Arial\">''' + row.to_frame().transpose()[['ID', 'Fwy', 'Length', 'Type', 'Lanes']].transpose().to_html(justify=\"center\", header=False, index=True, index_names=False, col_space=300, classes=\"table-condensed table-responsive table-success\") + '</div></body>' \n",
    "    popup = folium.Popup(html, max_width=300)                \n",
    "    folium.Marker(row[['Latitude', 'Longitude']].values.tolist(), icon=icon, popup=popup).add_to(m)\n",
    "#m.save('./plots/stations_processed.html')"
   ]
  },
  {
   "cell_type": "code",
   "execution_count": null,
   "metadata": {},
   "outputs": [],
   "source": [
    "display(speed_df.apply(lambda x: (x.isna().sum() / speed_df.shape[0])*100).describe()) # descriptive stats\n",
    "\n",
    "fig = px.violin(speed_df.apply(lambda x: (x.isna().sum() / speed_df.shape[0]) * 100), title='Distribution of % of Missing Speeds for Stations')\n",
    "fig.update_xaxes(title=\"\")\n",
    "fig.update_yaxes(title=\"%\")"
   ]
  },
  {
   "cell_type": "code",
   "execution_count": null,
   "metadata": {
    "scrolled": false
   },
   "outputs": [],
   "source": [
    "fig = px.box(speed_df.groupby([speed_df.index.month, speed_df.index.day]).mean().mean(axis=1), title='Distribution of Avg. Speed/Day in 2021')\n",
    "fig.update_xaxes(title=\"\")\n",
    "fig.update_yaxes(title=\"Speed (mph)\")"
   ]
  },
  {
   "cell_type": "code",
   "execution_count": null,
   "metadata": {},
   "outputs": [],
   "source": [
    "fig = px.violin(speed_df.sample(5).values.flatten(), title='Distribution of Speed in 2021')\n",
    "fig.update_xaxes(title=\"\")\n",
    "fig.update_yaxes(title=\"Speed (mph)\")"
   ]
  },
  {
   "cell_type": "markdown",
   "metadata": {},
   "source": [
    "**[Navigate to the Top](#top)**"
   ]
  }
 ],
 "metadata": {
  "kernelspec": {
   "display_name": "Python 3 (ipykernel)",
   "language": "python",
   "name": "python3"
  },
  "language_info": {
   "codemirror_mode": {
    "name": "ipython",
    "version": 3
   },
   "file_extension": ".py",
   "mimetype": "text/x-python",
   "name": "python",
   "nbconvert_exporter": "python",
   "pygments_lexer": "ipython3",
   "version": "3.9.10"
  }
 },
 "nbformat": 4,
 "nbformat_minor": 4
}
