{
 "cells": [
  {
   "cell_type": "markdown",
   "metadata": {},
   "source": [
    "# EDA for Station Metadata"
   ]
  },
  {
   "cell_type": "markdown",
   "metadata": {},
   "source": [
    "**Load**"
   ]
  },
  {
   "cell_type": "code",
   "execution_count": 1,
   "metadata": {},
   "outputs": [],
   "source": [
    "import pickle"
   ]
  },
  {
   "cell_type": "code",
   "execution_count": 2,
   "metadata": {},
   "outputs": [
    {
     "data": {
      "text/html": [
       "<div>\n",
       "<style scoped>\n",
       "    .dataframe tbody tr th:only-of-type {\n",
       "        vertical-align: middle;\n",
       "    }\n",
       "\n",
       "    .dataframe tbody tr th {\n",
       "        vertical-align: top;\n",
       "    }\n",
       "\n",
       "    .dataframe thead th {\n",
       "        text-align: right;\n",
       "    }\n",
       "</style>\n",
       "<table border=\"1\" class=\"dataframe\">\n",
       "  <thead>\n",
       "    <tr style=\"text-align: right;\">\n",
       "      <th></th>\n",
       "      <th>ID</th>\n",
       "      <th>Fwy</th>\n",
       "      <th>Dir</th>\n",
       "      <th>Latitude</th>\n",
       "      <th>Longitude</th>\n",
       "      <th>Length</th>\n",
       "      <th>Type</th>\n",
       "      <th>Lanes</th>\n",
       "    </tr>\n",
       "  </thead>\n",
       "  <tbody>\n",
       "    <tr>\n",
       "      <th>0</th>\n",
       "      <td>715898</td>\n",
       "      <td>5</td>\n",
       "      <td>S</td>\n",
       "      <td>33.880183</td>\n",
       "      <td>-118.021787</td>\n",
       "      <td>0.430</td>\n",
       "      <td>ML</td>\n",
       "      <td>3</td>\n",
       "    </tr>\n",
       "    <tr>\n",
       "      <th>1</th>\n",
       "      <td>715900</td>\n",
       "      <td>5</td>\n",
       "      <td>S</td>\n",
       "      <td>33.882892</td>\n",
       "      <td>-118.026822</td>\n",
       "      <td>NaN</td>\n",
       "      <td>OR</td>\n",
       "      <td>1</td>\n",
       "    </tr>\n",
       "    <tr>\n",
       "      <th>2</th>\n",
       "      <td>715901</td>\n",
       "      <td>5</td>\n",
       "      <td>N</td>\n",
       "      <td>33.883400</td>\n",
       "      <td>-118.027451</td>\n",
       "      <td>NaN</td>\n",
       "      <td>OR</td>\n",
       "      <td>1</td>\n",
       "    </tr>\n",
       "    <tr>\n",
       "      <th>3</th>\n",
       "      <td>715903</td>\n",
       "      <td>5</td>\n",
       "      <td>N</td>\n",
       "      <td>33.886992</td>\n",
       "      <td>-118.034125</td>\n",
       "      <td>NaN</td>\n",
       "      <td>OR</td>\n",
       "      <td>1</td>\n",
       "    </tr>\n",
       "    <tr>\n",
       "      <th>4</th>\n",
       "      <td>715904</td>\n",
       "      <td>5</td>\n",
       "      <td>S</td>\n",
       "      <td>33.892489</td>\n",
       "      <td>-118.044573</td>\n",
       "      <td>NaN</td>\n",
       "      <td>OR</td>\n",
       "      <td>1</td>\n",
       "    </tr>\n",
       "    <tr>\n",
       "      <th>...</th>\n",
       "      <td>...</td>\n",
       "      <td>...</td>\n",
       "      <td>...</td>\n",
       "      <td>...</td>\n",
       "      <td>...</td>\n",
       "      <td>...</td>\n",
       "      <td>...</td>\n",
       "      <td>...</td>\n",
       "    </tr>\n",
       "    <tr>\n",
       "      <th>4878</th>\n",
       "      <td>777066</td>\n",
       "      <td>405</td>\n",
       "      <td>S</td>\n",
       "      <td>34.161152</td>\n",
       "      <td>-118.469631</td>\n",
       "      <td>0.455</td>\n",
       "      <td>ML</td>\n",
       "      <td>3</td>\n",
       "    </tr>\n",
       "    <tr>\n",
       "      <th>4879</th>\n",
       "      <td>777067</td>\n",
       "      <td>405</td>\n",
       "      <td>N</td>\n",
       "      <td>34.161136</td>\n",
       "      <td>-118.469426</td>\n",
       "      <td>0.790</td>\n",
       "      <td>HV</td>\n",
       "      <td>1</td>\n",
       "    </tr>\n",
       "    <tr>\n",
       "      <th>4880</th>\n",
       "      <td>777068</td>\n",
       "      <td>405</td>\n",
       "      <td>S</td>\n",
       "      <td>34.161152</td>\n",
       "      <td>-118.469631</td>\n",
       "      <td>0.790</td>\n",
       "      <td>HV</td>\n",
       "      <td>1</td>\n",
       "    </tr>\n",
       "    <tr>\n",
       "      <th>4881</th>\n",
       "      <td>777168</td>\n",
       "      <td>10</td>\n",
       "      <td>E</td>\n",
       "      <td>34.068993</td>\n",
       "      <td>-118.149756</td>\n",
       "      <td>0.450</td>\n",
       "      <td>HV</td>\n",
       "      <td>1</td>\n",
       "    </tr>\n",
       "    <tr>\n",
       "      <th>4882</th>\n",
       "      <td>777169</td>\n",
       "      <td>10</td>\n",
       "      <td>W</td>\n",
       "      <td>34.069270</td>\n",
       "      <td>-118.149982</td>\n",
       "      <td>0.259</td>\n",
       "      <td>HV</td>\n",
       "      <td>2</td>\n",
       "    </tr>\n",
       "  </tbody>\n",
       "</table>\n",
       "<p>4883 rows × 8 columns</p>\n",
       "</div>"
      ],
      "text/plain": [
       "          ID  Fwy Dir   Latitude   Longitude  Length Type  Lanes\n",
       "0     715898    5   S  33.880183 -118.021787   0.430   ML      3\n",
       "1     715900    5   S  33.882892 -118.026822     NaN   OR      1\n",
       "2     715901    5   N  33.883400 -118.027451     NaN   OR      1\n",
       "3     715903    5   N  33.886992 -118.034125     NaN   OR      1\n",
       "4     715904    5   S  33.892489 -118.044573     NaN   OR      1\n",
       "...      ...  ...  ..        ...         ...     ...  ...    ...\n",
       "4878  777066  405   S  34.161152 -118.469631   0.455   ML      3\n",
       "4879  777067  405   N  34.161136 -118.469426   0.790   HV      1\n",
       "4880  777068  405   S  34.161152 -118.469631   0.790   HV      1\n",
       "4881  777168   10   E  34.068993 -118.149756   0.450   HV      1\n",
       "4882  777169   10   W  34.069270 -118.149982   0.259   HV      2\n",
       "\n",
       "[4883 rows x 8 columns]"
      ]
     },
     "execution_count": 2,
     "metadata": {},
     "output_type": "execute_result"
    }
   ],
   "source": [
    "with open('./data/loaded/meta.dat', 'rb') as f:\n",
    "    meta = pickle.load(f)\n",
    "meta"
   ]
  },
  {
   "cell_type": "markdown",
   "metadata": {},
   "source": [
    "**Build Map Visualizing all Stations and General Statistics**"
   ]
  },
  {
   "cell_type": "code",
   "execution_count": 7,
   "metadata": {},
   "outputs": [],
   "source": [
    "from folium import Map\n",
    "import folium.plugins as plugins\n",
    "import folium"
   ]
  },
  {
   "cell_type": "code",
   "execution_count": 79,
   "metadata": {},
   "outputs": [],
   "source": [
    "dir_mapper = {'S': 'south', 'N': 'north', 'E': 'east', 'W': 'west'}\n",
    "m = Map(location=(34.0522,-118.2437), tiles='https://tile.jawg.io/jawg-dark/{z}/{x}/{y}{r}.png?access-token=yxQukjQJyY3mRrF6htcGR22i1QJ6BP6wslSe2Cmq2k4aT8S0wbDtYMEaPhc8s240', attr='<a href=\"http://jawg.io\" title=\"Tiles Courtesy of Jawg Maps\" target=\"_blank\">&copy; <b>Jawg</b>Maps</a> &copy; <a href=\"https://www.openstreetmap.org/copyright\">OpenStreetMap</a> contributors', control_scale=True, max_bounds=True, prefer_canvas=True, zoom_start=10)\n",
    "for ind, row in meta.iterrows():\n",
    "    icon = folium.features.CustomIcon(f\"./data/icons/{(dir_mapper[row['Dir']])}.png\", icon_size=(15, 15))\n",
    "    style = 'font-family: Impact, Haettenschweiler, \"Franklin Gothic Bold\", Charcoal, \"Helvetica Inserat\", \"Bitstream Vera Sans Bold\", \"Arial Black\", \"sans serif\";'\n",
    "    html = f'''<body style=\"{style}\"><div align=\"center\", style=\"background-color: #BAD6FF; font-family: Arial\">''' + row.to_frame().transpose()[['ID', 'Fwy', 'Length', 'Type', 'Lanes']].transpose().to_html(justify=\"center\", header=False, index=True, index_names=False, col_space=300, classes=\"table-condensed table-responsive table-success\") + '</div></body>' \n",
    "    popup = folium.Popup(html, max_width=300)                \n",
    "    folium.Marker(row[['Latitude', 'Longitude']].values.tolist(), icon=icon, popup=popup).add_to(m)"
   ]
  },
  {
   "cell_type": "code",
   "execution_count": 81,
   "metadata": {},
   "outputs": [],
   "source": [
    "m.save('./plots/station_map.html')"
   ]
  },
  {
   "cell_type": "markdown",
   "metadata": {},
   "source": [
    "**Downsample Stations Using RDP**"
   ]
  },
  {
   "cell_type": "code",
   "execution_count": 4,
   "metadata": {},
   "outputs": [],
   "source": [
    "from simplification.cutil import (\n",
    "    simplify_coords,\n",
    "    simplify_coords_idx,\n",
    "    simplify_coords_vw,\n",
    "    simplify_coords_vw_idx,\n",
    "    simplify_coords_vwp,\n",
    ")\n",
    "import pandas as pd"
   ]
  },
  {
   "cell_type": "code",
   "execution_count": 5,
   "metadata": {},
   "outputs": [
    {
     "data": {
      "text/html": [
       "<div>\n",
       "<style scoped>\n",
       "    .dataframe tbody tr th:only-of-type {\n",
       "        vertical-align: middle;\n",
       "    }\n",
       "\n",
       "    .dataframe tbody tr th {\n",
       "        vertical-align: top;\n",
       "    }\n",
       "\n",
       "    .dataframe thead th {\n",
       "        text-align: right;\n",
       "    }\n",
       "</style>\n",
       "<table border=\"1\" class=\"dataframe\">\n",
       "  <thead>\n",
       "    <tr style=\"text-align: right;\">\n",
       "      <th></th>\n",
       "      <th>Latitude</th>\n",
       "      <th>Longitude</th>\n",
       "    </tr>\n",
       "  </thead>\n",
       "  <tbody>\n",
       "    <tr>\n",
       "      <th>0</th>\n",
       "      <td>33.880183</td>\n",
       "      <td>-118.021787</td>\n",
       "    </tr>\n",
       "    <tr>\n",
       "      <th>1</th>\n",
       "      <td>33.916643</td>\n",
       "      <td>-118.079557</td>\n",
       "    </tr>\n",
       "    <tr>\n",
       "      <th>2</th>\n",
       "      <td>34.007592</td>\n",
       "      <td>-118.157266</td>\n",
       "    </tr>\n",
       "    <tr>\n",
       "      <th>3</th>\n",
       "      <td>34.029033</td>\n",
       "      <td>-118.217141</td>\n",
       "    </tr>\n",
       "    <tr>\n",
       "      <th>4</th>\n",
       "      <td>34.080943</td>\n",
       "      <td>-118.222370</td>\n",
       "    </tr>\n",
       "    <tr>\n",
       "      <th>...</th>\n",
       "      <td>...</td>\n",
       "      <td>...</td>\n",
       "    </tr>\n",
       "    <tr>\n",
       "      <th>1037</th>\n",
       "      <td>34.055122</td>\n",
       "      <td>-118.212293</td>\n",
       "    </tr>\n",
       "    <tr>\n",
       "      <th>1038</th>\n",
       "      <td>33.873704</td>\n",
       "      <td>-118.219282</td>\n",
       "    </tr>\n",
       "    <tr>\n",
       "      <th>1039</th>\n",
       "      <td>34.024458</td>\n",
       "      <td>-118.239564</td>\n",
       "    </tr>\n",
       "    <tr>\n",
       "      <th>1040</th>\n",
       "      <td>34.161152</td>\n",
       "      <td>-118.469631</td>\n",
       "    </tr>\n",
       "    <tr>\n",
       "      <th>1041</th>\n",
       "      <td>34.069270</td>\n",
       "      <td>-118.149982</td>\n",
       "    </tr>\n",
       "  </tbody>\n",
       "</table>\n",
       "<p>1042 rows × 2 columns</p>\n",
       "</div>"
      ],
      "text/plain": [
       "       Latitude   Longitude\n",
       "0     33.880183 -118.021787\n",
       "1     33.916643 -118.079557\n",
       "2     34.007592 -118.157266\n",
       "3     34.029033 -118.217141\n",
       "4     34.080943 -118.222370\n",
       "...         ...         ...\n",
       "1037  34.055122 -118.212293\n",
       "1038  33.873704 -118.219282\n",
       "1039  34.024458 -118.239564\n",
       "1040  34.161152 -118.469631\n",
       "1041  34.069270 -118.149982\n",
       "\n",
       "[1042 rows x 2 columns]"
      ]
     },
     "execution_count": 5,
     "metadata": {},
     "output_type": "execute_result"
    }
   ],
   "source": [
    "ds_coords = pd.DataFrame(simplify_coords(meta[[\"Latitude\", 'Longitude']].values, 0.01), columns=['Latitude', 'Longitude'])\n",
    "ds_coords"
   ]
  },
  {
   "cell_type": "markdown",
   "metadata": {},
   "source": [
    "**Downsample Stations Using Rules**"
   ]
  },
  {
   "cell_type": "markdown",
   "metadata": {},
   "source": [
    "All Stations"
   ]
  },
  {
   "cell_type": "code",
   "execution_count": null,
   "metadata": {
    "scrolled": true
   },
   "outputs": [],
   "source": [
    "m = Map(location=(34.0522,-118.2437), tiles='https://tile.jawg.io/jawg-dark/{z}/{x}/{y}{r}.png?access-token=yxQukjQJyY3mRrF6htcGR22i1QJ6BP6wslSe2Cmq2k4aT8S0wbDtYMEaPhc8s240', attr='<a href=\"http://jawg.io\" title=\"Tiles Courtesy of Jawg Maps\" target=\"_blank\">&copy; <b>Jawg</b>Maps</a> &copy; <a href=\"https://www.openstreetmap.org/copyright\">OpenStreetMap</a> contributors', control_scale=True, max_bounds=True, prefer_canvas=True, zoom_start=10)\n",
    "for ind, row in meta[meta['Dir'] == 'N'].iterrows():\n",
    "    icon = folium.features.CustomIcon(f\"./data/icons/north.png\", icon_size=(15, 15))\n",
    "    style = 'font-family: Impact, Haettenschweiler, \"Franklin Gothic Bold\", Charcoal, \"Helvetica Inserat\", \"Bitstream Vera Sans Bold\", \"Arial Black\", \"sans serif\";'\n",
    "    html = f'''<body style=\"{style}\"><div align=\"center\", style=\"background-color: #BAD6FF; font-family: Arial\">''' + row.to_frame().transpose()[['ID', 'Fwy', 'Length', 'Type', 'Lanes']].transpose().to_html(justify=\"center\", header=False, index=True, index_names=False, col_space=300, classes=\"table-condensed table-responsive table-success\") + '</div></body>' \n",
    "    popup = folium.Popup(html, max_width=300)                \n",
    "    folium.Marker(row[['Latitude', 'Longitude']].values.tolist(), icon=icon, popup=popup).add_to(m)\n",
    "m"
   ]
  },
  {
   "cell_type": "markdown",
   "metadata": {},
   "source": [
    "After Downsampling"
   ]
  },
  {
   "cell_type": "code",
   "execution_count": 135,
   "metadata": {},
   "outputs": [
    {
     "data": {
      "text/plain": [
       "333"
      ]
     },
     "execution_count": 135,
     "metadata": {},
     "output_type": "execute_result"
    }
   ],
   "source": [
    "# 1 deg lat = 69 mi\n",
    "# 1 deg long = 54 mi\n",
    "distance_between_stations = meta[meta['Dir'] == 'N'].sort_values(['Latitude', 'Longitude'])[['Latitude', 'Longitude']].diff()\n",
    "stations = distance_between_stations[((distance_between_stations['Latitude'] * 69) > 0.1) | ((distance_between_stations['Longitude'] * 54) > 0.1)].index.tolist()\n",
    "#stations = set(stations).union(set([s - 1 for s in stations]))\n",
    "len(stations)"
   ]
  },
  {
   "cell_type": "code",
   "execution_count": null,
   "metadata": {},
   "outputs": [],
   "source": [
    "m = Map(location=(34.0522,-118.2437), tiles='https://tile.jawg.io/jawg-dark/{z}/{x}/{y}{r}.png?access-token=yxQukjQJyY3mRrF6htcGR22i1QJ6BP6wslSe2Cmq2k4aT8S0wbDtYMEaPhc8s240', attr='<a href=\"http://jawg.io\" title=\"Tiles Courtesy of Jawg Maps\" target=\"_blank\">&copy; <b>Jawg</b>Maps</a> &copy; <a href=\"https://www.openstreetmap.org/copyright\">OpenStreetMap</a> contributors', control_scale=True, max_bounds=True, prefer_canvas=True, zoom_start=10)\n",
    "for ind, row in meta[meta.index.isin(stations)].iterrows():\n",
    "    icon = folium.features.CustomIcon(f\"./data/icons/north.png\", icon_size=(15, 15))\n",
    "    style = 'font-family: Impact, Haettenschweiler, \"Franklin Gothic Bold\", Charcoal, \"Helvetica Inserat\", \"Bitstream Vera Sans Bold\", \"Arial Black\", \"sans serif\";'\n",
    "    html = f'''<body style=\"{style}\"><div align=\"center\", style=\"background-color: #BAD6FF; font-family: Arial\">''' + row.to_frame().transpose()[['ID', 'Fwy', 'Length', 'Type', 'Lanes']].transpose().to_html(justify=\"center\", header=False, index=True, index_names=False, col_space=300, classes=\"table-condensed table-responsive table-success\") + '</div></body>' \n",
    "    popup = folium.Popup(html, max_width=300)                \n",
    "    folium.Marker(row[['Latitude', 'Longitude']].values.tolist(), icon=icon, popup=popup).add_to(m)\n",
    "m"
   ]
  },
  {
   "cell_type": "markdown",
   "metadata": {},
   "source": [
    "# EDA for Speed Data"
   ]
  },
  {
   "cell_type": "markdown",
   "metadata": {},
   "source": [
    "**Data Dictionary**"
   ]
  },
  {
   "cell_type": "code",
   "execution_count": 20,
   "metadata": {},
   "outputs": [
    {
     "data": {
      "text/html": [
       "<div>\n",
       "<style scoped>\n",
       "    .dataframe tbody tr th:only-of-type {\n",
       "        vertical-align: middle;\n",
       "    }\n",
       "\n",
       "    .dataframe tbody tr th {\n",
       "        vertical-align: top;\n",
       "    }\n",
       "\n",
       "    .dataframe thead th {\n",
       "        text-align: right;\n",
       "    }\n",
       "</style>\n",
       "<table border=\"1\" class=\"dataframe\">\n",
       "  <thead>\n",
       "    <tr style=\"text-align: right;\">\n",
       "      <th></th>\n",
       "      <th>Feature</th>\n",
       "      <th>Description</th>\n",
       "      <th>Unit</th>\n",
       "    </tr>\n",
       "  </thead>\n",
       "  <tbody>\n",
       "    <tr>\n",
       "      <th>0</th>\n",
       "      <td>Timestamp</td>\n",
       "      <td>The date and time of the beginning of the summ...</td>\n",
       "      <td>NaN</td>\n",
       "    </tr>\n",
       "    <tr>\n",
       "      <th>1</th>\n",
       "      <td>Station</td>\n",
       "      <td>Unique station identifier. Use this value to c...</td>\n",
       "      <td>NaN</td>\n",
       "    </tr>\n",
       "    <tr>\n",
       "      <th>2</th>\n",
       "      <td>District</td>\n",
       "      <td>District #</td>\n",
       "      <td>NaN</td>\n",
       "    </tr>\n",
       "    <tr>\n",
       "      <th>3</th>\n",
       "      <td>Freeway #</td>\n",
       "      <td>Freeway #</td>\n",
       "      <td>NaN</td>\n",
       "    </tr>\n",
       "    <tr>\n",
       "      <th>4</th>\n",
       "      <td>Direction of Travel</td>\n",
       "      <td>N | S | E | W</td>\n",
       "      <td>NaN</td>\n",
       "    </tr>\n",
       "    <tr>\n",
       "      <th>5</th>\n",
       "      <td>Lane Type</td>\n",
       "      <td>A string indicating the type of lane. Possible...</td>\n",
       "      <td>NaN</td>\n",
       "    </tr>\n",
       "    <tr>\n",
       "      <th>6</th>\n",
       "      <td>Station Length</td>\n",
       "      <td>Segment length covered by the station in miles...</td>\n",
       "      <td>NaN</td>\n",
       "    </tr>\n",
       "    <tr>\n",
       "      <th>7</th>\n",
       "      <td>Samples</td>\n",
       "      <td>Total number of samples received for all lanes.</td>\n",
       "      <td>NaN</td>\n",
       "    </tr>\n",
       "    <tr>\n",
       "      <th>8</th>\n",
       "      <td>% Observed</td>\n",
       "      <td>Percentage of individual lane points at this l...</td>\n",
       "      <td>%</td>\n",
       "    </tr>\n",
       "    <tr>\n",
       "      <th>9</th>\n",
       "      <td>Total Flow</td>\n",
       "      <td>Sum of flows over the 5-minute period across a...</td>\n",
       "      <td>Veh/5-min</td>\n",
       "    </tr>\n",
       "    <tr>\n",
       "      <th>10</th>\n",
       "      <td>Avg Occupancy</td>\n",
       "      <td>Average occupancy across all lanes over the 5-...</td>\n",
       "      <td>%</td>\n",
       "    </tr>\n",
       "    <tr>\n",
       "      <th>11</th>\n",
       "      <td>Avg Speed</td>\n",
       "      <td>Flow-weighted average speed over the 5-minute ...</td>\n",
       "      <td>Mph</td>\n",
       "    </tr>\n",
       "    <tr>\n",
       "      <th>12</th>\n",
       "      <td>Lane N Samples</td>\n",
       "      <td>Number of good samples received for lane N. N ...</td>\n",
       "      <td>NaN</td>\n",
       "    </tr>\n",
       "    <tr>\n",
       "      <th>13</th>\n",
       "      <td>Lane N Flow</td>\n",
       "      <td>Total flow for lane N over the 5-minute period...</td>\n",
       "      <td>Veh/5-min</td>\n",
       "    </tr>\n",
       "    <tr>\n",
       "      <th>14</th>\n",
       "      <td>Lane N Avg Occ</td>\n",
       "      <td>Average occupancy for lane N expressed as a de...</td>\n",
       "      <td>%</td>\n",
       "    </tr>\n",
       "    <tr>\n",
       "      <th>15</th>\n",
       "      <td>Lane N Avg Speed</td>\n",
       "      <td>Flow-weighted average of lane N speeds. If flo...</td>\n",
       "      <td>Mph</td>\n",
       "    </tr>\n",
       "    <tr>\n",
       "      <th>16</th>\n",
       "      <td>Lane N Observed</td>\n",
       "      <td>1 indicates observed data, 0 indicates imputed.</td>\n",
       "      <td>NaN</td>\n",
       "    </tr>\n",
       "  </tbody>\n",
       "</table>\n",
       "</div>"
      ],
      "text/plain": [
       "                Feature                                        Description  \\\n",
       "0             Timestamp  The date and time of the beginning of the summ...   \n",
       "1               Station  Unique station identifier. Use this value to c...   \n",
       "2              District                                        District #    \n",
       "3             Freeway #                                          Freeway #   \n",
       "4   Direction of Travel                                     N | S | E | W    \n",
       "5             Lane Type  A string indicating the type of lane. Possible...   \n",
       "6        Station Length  Segment length covered by the station in miles...   \n",
       "7               Samples   Total number of samples received for all lanes.    \n",
       "8            % Observed  Percentage of individual lane points at this l...   \n",
       "9            Total Flow  Sum of flows over the 5-minute period across a...   \n",
       "10        Avg Occupancy  Average occupancy across all lanes over the 5-...   \n",
       "11            Avg Speed  Flow-weighted average speed over the 5-minute ...   \n",
       "12       Lane N Samples  Number of good samples received for lane N. N ...   \n",
       "13          Lane N Flow  Total flow for lane N over the 5-minute period...   \n",
       "14       Lane N Avg Occ  Average occupancy for lane N expressed as a de...   \n",
       "15     Lane N Avg Speed  Flow-weighted average of lane N speeds. If flo...   \n",
       "16      Lane N Observed    1 indicates observed data, 0 indicates imputed.   \n",
       "\n",
       "         Unit  \n",
       "0         NaN  \n",
       "1         NaN  \n",
       "2         NaN  \n",
       "3         NaN  \n",
       "4         NaN  \n",
       "5         NaN  \n",
       "6         NaN  \n",
       "7         NaN  \n",
       "8           %  \n",
       "9   Veh/5-min  \n",
       "10          %  \n",
       "11        Mph  \n",
       "12        NaN  \n",
       "13  Veh/5-min  \n",
       "14          %  \n",
       "15        Mph  \n",
       "16        NaN  "
      ]
     },
     "execution_count": 20,
     "metadata": {},
     "output_type": "execute_result"
    }
   ],
   "source": [
    "data_dict = pd.read_csv('./data/pems/station_dict.csv', names=['Feature', 'Description', 'Unit']).iloc[1:].reset_index(drop=True)\n",
    "data_dict"
   ]
  },
  {
   "cell_type": "code",
   "execution_count": 21,
   "metadata": {},
   "outputs": [
    {
     "data": {
      "text/plain": [
       "365"
      ]
     },
     "execution_count": 21,
     "metadata": {},
     "output_type": "execute_result"
    }
   ],
   "source": [
    "from glob import glob\n",
    "files = glob('./data/pems/*.gz')\n",
    "len(files)"
   ]
  },
  {
   "cell_type": "code",
   "execution_count": 53,
   "metadata": {},
   "outputs": [
    {
     "data": {
      "text/html": [
       "<div>\n",
       "<style scoped>\n",
       "    .dataframe tbody tr th:only-of-type {\n",
       "        vertical-align: middle;\n",
       "    }\n",
       "\n",
       "    .dataframe tbody tr th {\n",
       "        vertical-align: top;\n",
       "    }\n",
       "\n",
       "    .dataframe thead th {\n",
       "        text-align: right;\n",
       "    }\n",
       "</style>\n",
       "<table border=\"1\" class=\"dataframe\">\n",
       "  <thead>\n",
       "    <tr style=\"text-align: right;\">\n",
       "      <th></th>\n",
       "      <th>Timestamp</th>\n",
       "      <th>Station</th>\n",
       "      <th>Station Length</th>\n",
       "      <th>Samples</th>\n",
       "      <th>Total Flow</th>\n",
       "      <th>Avg Occupancy</th>\n",
       "      <th>Avg Speed</th>\n",
       "      <th>Lane N Samples</th>\n",
       "      <th>Lane N Flow</th>\n",
       "      <th>Lane N Avg Occ</th>\n",
       "      <th>Lane N Avg Speed</th>\n",
       "      <th>Lane N Observed</th>\n",
       "    </tr>\n",
       "  </thead>\n",
       "  <tbody>\n",
       "    <tr>\n",
       "      <th>0</th>\n",
       "      <td>01/05/2021 00:00:00</td>\n",
       "      <td>715898</td>\n",
       "      <td>0.43</td>\n",
       "      <td>0</td>\n",
       "      <td>202.0</td>\n",
       "      <td>0.0357</td>\n",
       "      <td>70.4</td>\n",
       "      <td>0.0</td>\n",
       "      <td>54.0</td>\n",
       "      <td>0.0254</td>\n",
       "      <td>74.2</td>\n",
       "      <td>0</td>\n",
       "    </tr>\n",
       "    <tr>\n",
       "      <th>1</th>\n",
       "      <td>01/05/2021 00:00:00</td>\n",
       "      <td>715900</td>\n",
       "      <td>NaN</td>\n",
       "      <td>0</td>\n",
       "      <td>NaN</td>\n",
       "      <td>NaN</td>\n",
       "      <td>NaN</td>\n",
       "      <td>0.0</td>\n",
       "      <td>NaN</td>\n",
       "      <td>NaN</td>\n",
       "      <td>NaN</td>\n",
       "      <td>0</td>\n",
       "    </tr>\n",
       "    <tr>\n",
       "      <th>2</th>\n",
       "      <td>01/05/2021 00:00:00</td>\n",
       "      <td>715901</td>\n",
       "      <td>NaN</td>\n",
       "      <td>0</td>\n",
       "      <td>NaN</td>\n",
       "      <td>NaN</td>\n",
       "      <td>NaN</td>\n",
       "      <td>0.0</td>\n",
       "      <td>NaN</td>\n",
       "      <td>NaN</td>\n",
       "      <td>NaN</td>\n",
       "      <td>0</td>\n",
       "    </tr>\n",
       "    <tr>\n",
       "      <th>3</th>\n",
       "      <td>01/05/2021 00:00:00</td>\n",
       "      <td>715903</td>\n",
       "      <td>NaN</td>\n",
       "      <td>0</td>\n",
       "      <td>NaN</td>\n",
       "      <td>NaN</td>\n",
       "      <td>NaN</td>\n",
       "      <td>0.0</td>\n",
       "      <td>NaN</td>\n",
       "      <td>NaN</td>\n",
       "      <td>NaN</td>\n",
       "      <td>0</td>\n",
       "    </tr>\n",
       "    <tr>\n",
       "      <th>4</th>\n",
       "      <td>01/05/2021 00:00:00</td>\n",
       "      <td>715904</td>\n",
       "      <td>NaN</td>\n",
       "      <td>9</td>\n",
       "      <td>NaN</td>\n",
       "      <td>NaN</td>\n",
       "      <td>NaN</td>\n",
       "      <td>9.0</td>\n",
       "      <td>NaN</td>\n",
       "      <td>NaN</td>\n",
       "      <td>NaN</td>\n",
       "      <td>0</td>\n",
       "    </tr>\n",
       "  </tbody>\n",
       "</table>\n",
       "</div>"
      ],
      "text/plain": [
       "             Timestamp  Station  Station Length  Samples  Total Flow  \\\n",
       "0  01/05/2021 00:00:00   715898            0.43        0       202.0   \n",
       "1  01/05/2021 00:00:00   715900             NaN        0         NaN   \n",
       "2  01/05/2021 00:00:00   715901             NaN        0         NaN   \n",
       "3  01/05/2021 00:00:00   715903             NaN        0         NaN   \n",
       "4  01/05/2021 00:00:00   715904             NaN        9         NaN   \n",
       "\n",
       "   Avg Occupancy  Avg Speed  Lane N Samples  Lane N Flow  Lane N Avg Occ  \\\n",
       "0         0.0357       70.4             0.0         54.0          0.0254   \n",
       "1            NaN        NaN             0.0          NaN             NaN   \n",
       "2            NaN        NaN             0.0          NaN             NaN   \n",
       "3            NaN        NaN             0.0          NaN             NaN   \n",
       "4            NaN        NaN             9.0          NaN             NaN   \n",
       "\n",
       "   Lane N Avg Speed  Lane N Observed  \n",
       "0              74.2                0  \n",
       "1               NaN                0  \n",
       "2               NaN                0  \n",
       "3               NaN                0  \n",
       "4               NaN                0  "
      ]
     },
     "execution_count": 53,
     "metadata": {},
     "output_type": "execute_result"
    }
   ],
   "source": [
    "import gzip\n",
    "with gzip.open(files[0]) as f:\n",
    "    df = pd.read_csv(f, index_col=False, names=data_dict['Feature'].values.tolist())[['Timestamp', 'Station', 'Station Length', 'Samples', 'Total Flow', 'Avg Occupancy', 'Avg Speed', 'Lane N Samples', 'Lane N Flow', 'Lane N Avg Occ', 'Lane N Avg Speed', 'Lane N Observed']]\n",
    "df.head()"
   ]
  },
  {
   "cell_type": "code",
   "execution_count": 49,
   "metadata": {},
   "outputs": [],
   "source": [
    "dir_mapper = {'N': 'north', 'E': 'east', 'S': 'south', 'W': 'west'}"
   ]
  },
  {
   "cell_type": "markdown",
   "metadata": {},
   "source": [
    "**Top 5 Sensors w/ Highest Avg. Speed on 01/05/2021**"
   ]
  },
  {
   "cell_type": "code",
   "execution_count": null,
   "metadata": {
    "scrolled": false
   },
   "outputs": [],
   "source": [
    "high_speed_sensors = df.groupby('Station')['Avg Speed'].mean().dropna().sort_values().tail(5)\n",
    "high_speed_sensors_meta = meta.merge(high_speed_sensors, left_on='ID', right_index=True)\n",
    "\n",
    "m = Map(location=(34.0522,-118.2437), tiles='https://tile.jawg.io/jawg-dark/{z}/{x}/{y}{r}.png?access-token=yxQukjQJyY3mRrF6htcGR22i1QJ6BP6wslSe2Cmq2k4aT8S0wbDtYMEaPhc8s240', attr='<a href=\"http://jawg.io\" title=\"Tiles Courtesy of Jawg Maps\" target=\"_blank\">&copy; <b>Jawg</b>Maps</a> &copy; <a href=\"https://www.openstreetmap.org/copyright\">OpenStreetMap</a> contributors', control_scale=True, max_bounds=True, prefer_canvas=True, zoom_start=10)\n",
    "for ind, row in high_speed_sensors_meta.iterrows():\n",
    "    icon = folium.features.CustomIcon(f\"./data/icons/{dir_mapper[row['Dir']]}.png\", icon_size=(15, 15))\n",
    "    style = 'font-family: Impact, Haettenschweiler, \"Franklin Gothic Bold\", Charcoal, \"Helvetica Inserat\", \"Bitstream Vera Sans Bold\", \"Arial Black\", \"sans serif\";'\n",
    "    html = f'''<body style=\"{style}\"><div align=\"center\", style=\"background-color: #BAD6FF; font-family: Arial\">''' + row.to_frame().transpose()[['ID', 'Fwy', 'Length', 'Type', 'Lanes', 'Avg Speed']].transpose().to_html(justify=\"center\", header=False, index=True, index_names=False, col_space=300, classes=\"table-condensed table-responsive table-success\") + '</div></body>' \n",
    "    popup = folium.Popup(html, max_width=300)                \n",
    "    folium.Marker(row[['Latitude', 'Longitude']].values.tolist(), icon=icon, popup=popup).add_to(m)\n",
    "m\n"
   ]
  },
  {
   "cell_type": "markdown",
   "metadata": {},
   "source": [
    "**Top 5 Sensors w/ Lowest Avg. Speed on 01/05/2021**"
   ]
  },
  {
   "cell_type": "code",
   "execution_count": null,
   "metadata": {},
   "outputs": [],
   "source": [
    "low_speed_sensors = df.groupby('Station')['Avg Speed'].mean().dropna().sort_values().head(5)\n",
    "low_speed_sensors_meta = meta.merge(low_speed_sensors, left_on='ID', right_index=True)\n",
    "\n",
    "m = Map(location=(34.0522,-118.2437), tiles='https://tile.jawg.io/jawg-dark/{z}/{x}/{y}{r}.png?access-token=yxQukjQJyY3mRrF6htcGR22i1QJ6BP6wslSe2Cmq2k4aT8S0wbDtYMEaPhc8s240', attr='<a href=\"http://jawg.io\" title=\"Tiles Courtesy of Jawg Maps\" target=\"_blank\">&copy; <b>Jawg</b>Maps</a> &copy; <a href=\"https://www.openstreetmap.org/copyright\">OpenStreetMap</a> contributors', control_scale=True, max_bounds=True, prefer_canvas=True, zoom_start=10)\n",
    "for ind, row in low_speed_sensors_meta.iterrows():  \n",
    "    icon = folium.features.CustomIcon(f\"./data/icons/{dir_mapper[row['Dir']]}.png\", icon_size=(15, 15))\n",
    "    style = 'font-family: Impact, Haettenschweiler, \"Franklin Gothic Bold\", Charcoal, \"Helvetica Inserat\", \"Bitstream Vera Sans Bold\", \"Arial Black\", \"sans serif\";'\n",
    "    html = f'''<body style=\"{style}\"><div align=\"center\", style=\"background-color: #BAD6FF; font-family: Arial\">''' + row.to_frame().transpose()[['ID', 'Fwy', 'Length', 'Type', 'Lanes', 'Avg Speed']].transpose().to_html(justify=\"center\", header=False, index=True, index_names=False, col_space=300, classes=\"table-condensed table-responsive table-success\") + '</div></body>' \n",
    "    popup = folium.Popup(html, max_width=300)                \n",
    "    folium.Marker(row[['Latitude', 'Longitude']].values.tolist(), icon=icon, popup=popup).add_to(m)\n",
    "m\n"
   ]
  },
  {
   "cell_type": "markdown",
   "metadata": {},
   "source": [
    "**How Does Speed Change Over Time for a Particular Station**"
   ]
  },
  {
   "cell_type": "code",
   "execution_count": 65,
   "metadata": {},
   "outputs": [
    {
     "data": {
      "text/html": [
       "<div>\n",
       "<style scoped>\n",
       "    .dataframe tbody tr th:only-of-type {\n",
       "        vertical-align: middle;\n",
       "    }\n",
       "\n",
       "    .dataframe tbody tr th {\n",
       "        vertical-align: top;\n",
       "    }\n",
       "\n",
       "    .dataframe thead th {\n",
       "        text-align: right;\n",
       "    }\n",
       "</style>\n",
       "<table border=\"1\" class=\"dataframe\">\n",
       "  <thead>\n",
       "    <tr style=\"text-align: right;\">\n",
       "      <th></th>\n",
       "      <th>Timestamp</th>\n",
       "      <th>Station</th>\n",
       "      <th>Station Length</th>\n",
       "      <th>Samples</th>\n",
       "      <th>Total Flow</th>\n",
       "      <th>Avg Occupancy</th>\n",
       "      <th>Avg Speed</th>\n",
       "      <th>Lane N Samples</th>\n",
       "      <th>Lane N Flow</th>\n",
       "      <th>Lane N Avg Occ</th>\n",
       "      <th>Lane N Avg Speed</th>\n",
       "      <th>Lane N Observed</th>\n",
       "    </tr>\n",
       "  </thead>\n",
       "  <tbody>\n",
       "    <tr>\n",
       "      <th>0</th>\n",
       "      <td>01/05/2021 00:00:00</td>\n",
       "      <td>715898</td>\n",
       "      <td>0.43</td>\n",
       "      <td>0</td>\n",
       "      <td>202.0</td>\n",
       "      <td>0.0357</td>\n",
       "      <td>70.4</td>\n",
       "      <td>0.0</td>\n",
       "      <td>54.0</td>\n",
       "      <td>0.0254</td>\n",
       "      <td>74.2</td>\n",
       "      <td>0</td>\n",
       "    </tr>\n",
       "    <tr>\n",
       "      <th>4888</th>\n",
       "      <td>01/05/2021 00:05:00</td>\n",
       "      <td>715898</td>\n",
       "      <td>0.43</td>\n",
       "      <td>0</td>\n",
       "      <td>198.0</td>\n",
       "      <td>0.0346</td>\n",
       "      <td>70.0</td>\n",
       "      <td>0.0</td>\n",
       "      <td>53.0</td>\n",
       "      <td>0.0246</td>\n",
       "      <td>73.8</td>\n",
       "      <td>0</td>\n",
       "    </tr>\n",
       "    <tr>\n",
       "      <th>9776</th>\n",
       "      <td>01/05/2021 00:10:00</td>\n",
       "      <td>715898</td>\n",
       "      <td>0.43</td>\n",
       "      <td>0</td>\n",
       "      <td>193.0</td>\n",
       "      <td>0.0349</td>\n",
       "      <td>69.8</td>\n",
       "      <td>0.0</td>\n",
       "      <td>51.0</td>\n",
       "      <td>0.0248</td>\n",
       "      <td>73.7</td>\n",
       "      <td>0</td>\n",
       "    </tr>\n",
       "    <tr>\n",
       "      <th>14664</th>\n",
       "      <td>01/05/2021 00:15:00</td>\n",
       "      <td>715898</td>\n",
       "      <td>0.43</td>\n",
       "      <td>0</td>\n",
       "      <td>188.0</td>\n",
       "      <td>0.0337</td>\n",
       "      <td>69.7</td>\n",
       "      <td>0.0</td>\n",
       "      <td>50.0</td>\n",
       "      <td>0.0240</td>\n",
       "      <td>73.5</td>\n",
       "      <td>0</td>\n",
       "    </tr>\n",
       "    <tr>\n",
       "      <th>19552</th>\n",
       "      <td>01/05/2021 00:20:00</td>\n",
       "      <td>715898</td>\n",
       "      <td>0.43</td>\n",
       "      <td>0</td>\n",
       "      <td>179.0</td>\n",
       "      <td>0.0322</td>\n",
       "      <td>69.6</td>\n",
       "      <td>0.0</td>\n",
       "      <td>48.0</td>\n",
       "      <td>0.0229</td>\n",
       "      <td>73.4</td>\n",
       "      <td>0</td>\n",
       "    </tr>\n",
       "  </tbody>\n",
       "</table>\n",
       "</div>"
      ],
      "text/plain": [
       "                 Timestamp  Station  Station Length  Samples  Total Flow  \\\n",
       "0      01/05/2021 00:00:00   715898            0.43        0       202.0   \n",
       "4888   01/05/2021 00:05:00   715898            0.43        0       198.0   \n",
       "9776   01/05/2021 00:10:00   715898            0.43        0       193.0   \n",
       "14664  01/05/2021 00:15:00   715898            0.43        0       188.0   \n",
       "19552  01/05/2021 00:20:00   715898            0.43        0       179.0   \n",
       "\n",
       "       Avg Occupancy  Avg Speed  Lane N Samples  Lane N Flow  Lane N Avg Occ  \\\n",
       "0             0.0357       70.4             0.0         54.0          0.0254   \n",
       "4888          0.0346       70.0             0.0         53.0          0.0246   \n",
       "9776          0.0349       69.8             0.0         51.0          0.0248   \n",
       "14664         0.0337       69.7             0.0         50.0          0.0240   \n",
       "19552         0.0322       69.6             0.0         48.0          0.0229   \n",
       "\n",
       "       Lane N Avg Speed  Lane N Observed  \n",
       "0                  74.2                0  \n",
       "4888               73.8                0  \n",
       "9776               73.7                0  \n",
       "14664              73.5                0  \n",
       "19552              73.4                0  "
      ]
     },
     "execution_count": 65,
     "metadata": {},
     "output_type": "execute_result"
    }
   ],
   "source": [
    "# find station that has most speed readings\n",
    "station_most_speed_readings = df.groupby('Station')['Avg Speed'].count().idxmax()\n",
    "df[df['Station'] == station_most_speed_readings].head()"
   ]
  },
  {
   "cell_type": "code",
   "execution_count": 31,
   "metadata": {},
   "outputs": [],
   "source": [
    "import plotly.express as px"
   ]
  },
  {
   "cell_type": "code",
   "execution_count": null,
   "metadata": {},
   "outputs": [],
   "source": [
    "px.line(df[df['Station'] == station_most_speed_readings], x='Timestamp', y='Avg Speed', title=f'Avg Speed vs. Time for Station {station_most_speed_readings}')"
   ]
  },
  {
   "cell_type": "markdown",
   "metadata": {},
   "source": [
    "# EDA for Processed Data"
   ]
  },
  {
   "cell_type": "code",
   "execution_count": 20,
   "metadata": {},
   "outputs": [],
   "source": [
    "import pickle\n",
    "import pandas as pd"
   ]
  },
  {
   "cell_type": "code",
   "execution_count": 3,
   "metadata": {},
   "outputs": [],
   "source": [
    "## save adj_mat \n",
    "with open('./data/processed/adj_mat.dat', 'rb')  as f:\n",
    "    adj_mat = pickle.load(f)\n",
    "\n",
    "## save mapper for adj_mat index to station ID\n",
    "with open('./data/processed/adj_mat_ind_station_mapper.dat', 'rb') as f:\n",
    "    ind_station_mapper = pickle.load(f)\n",
    "\n",
    "## save full speed df concatenated for all days in 2021\n",
    "with open('./data/processed/speeds.dat', 'rb')  as f:\n",
    "    speed_df = pickle.load(f)"
   ]
  },
  {
   "cell_type": "markdown",
   "metadata": {},
   "source": [
    "**Stations in Processed Data**"
   ]
  },
  {
   "cell_type": "code",
   "execution_count": 15,
   "metadata": {
    "scrolled": false
   },
   "outputs": [],
   "source": [
    "with open('./data/loaded/meta.dat', 'rb') as f:\n",
    "    meta = pickle.load(f)\n",
    "meta_subs = meta[meta['ID'].isin(ind_station_mapper.values())].reset_index(drop=True)\n",
    "dir_mapper = {'N': 'north', 'E': 'east', 'S': 'south', 'W': 'west'}\n",
    "\n",
    "m = Map(location=(34.0522,-118.2437), tiles='https://tile.jawg.io/jawg-dark/{z}/{x}/{y}{r}.png?access-token=yxQukjQJyY3mRrF6htcGR22i1QJ6BP6wslSe2Cmq2k4aT8S0wbDtYMEaPhc8s240', attr='<a href=\"http://jawg.io\" title=\"Tiles Courtesy of Jawg Maps\" target=\"_blank\">&copy; <b>Jawg</b>Maps</a> &copy; <a href=\"https://www.openstreetmap.org/copyright\">OpenStreetMap</a> contributors', control_scale=True, max_bounds=True, prefer_canvas=True, zoom_start=10)\n",
    "for ind, row in meta_subs.iterrows():  \n",
    "    icon = folium.features.CustomIcon(f\"./data/icons/{dir_mapper[row['Dir']]}.png\", icon_size=(15, 15))\n",
    "    style = 'font-family: Impact, Haettenschweiler, \"Franklin Gothic Bold\", Charcoal, \"Helvetica Inserat\", \"Bitstream Vera Sans Bold\", \"Arial Black\", \"sans serif\";'\n",
    "    html = f'''<body style=\"{style}\"><div align=\"center\", style=\"background-color: #BAD6FF; font-family: Arial\">''' + row.to_frame().transpose()[['ID', 'Fwy', 'Length', 'Type', 'Lanes']].transpose().to_html(justify=\"center\", header=False, index=True, index_names=False, col_space=300, classes=\"table-condensed table-responsive table-success\") + '</div></body>' \n",
    "    popup = folium.Popup(html, max_width=300)                \n",
    "    folium.Marker(row[['Latitude', 'Longitude']].values.tolist(), icon=icon, popup=popup).add_to(m)\n",
    "m.save('./plots/stations_processed.html')"
   ]
  },
  {
   "cell_type": "markdown",
   "metadata": {},
   "source": [
    "**Distribution of % of Missing Speeds for Stations**"
   ]
  },
  {
   "cell_type": "code",
   "execution_count": 40,
   "metadata": {},
   "outputs": [
    {
     "data": {
      "text/plain": [
       "count    760.000000\n",
       "mean       0.062776\n",
       "std        1.024385\n",
       "min        0.001901\n",
       "25%        0.006655\n",
       "50%        0.009507\n",
       "75%        0.010457\n",
       "max       19.972241\n",
       "dtype: float64"
      ]
     },
     "execution_count": 40,
     "metadata": {},
     "output_type": "execute_result"
    }
   ],
   "source": [
    "speed_df.apply(lambda x: (x.isna().sum() / speed_df.shape[0])*100).describe()"
   ]
  },
  {
   "cell_type": "code",
   "execution_count": 72,
   "metadata": {},
   "outputs": [
    {
     "data": {
      "application/vnd.plotly.v1+json": {
       "config": {
        "plotlyServerURL": "https://plot.ly"
       },
       "data": [
        {
         "alignmentgroup": "True",
         "hovertemplate": "variable=%{x}<br>value=%{y}<extra></extra>",
         "legendgroup": "",
         "marker": {
          "color": "#636efa"
         },
         "name": "",
         "notched": false,
         "offsetgroup": "",
         "orientation": "v",
         "showlegend": false,
         "type": "box",
         "x": [
          "0",
          "0",
          "0",
          "0",
          "0",
          "0",
          "0",
          "0",
          "0",
          "0",
          "0",
          "0",
          "0",
          "0",
          "0",
          "0",
          "0",
          "0",
          "0",
          "0",
          "0",
          "0",
          "0",
          "0",
          "0",
          "0",
          "0",
          "0",
          "0",
          "0",
          "0",
          "0",
          "0",
          "0",
          "0",
          "0",
          "0",
          "0",
          "0",
          "0",
          "0",
          "0",
          "0",
          "0",
          "0",
          "0",
          "0",
          "0",
          "0",
          "0",
          "0",
          "0",
          "0",
          "0",
          "0",
          "0",
          "0",
          "0",
          "0",
          "0",
          "0",
          "0",
          "0",
          "0",
          "0",
          "0",
          "0",
          "0",
          "0",
          "0",
          "0",
          "0",
          "0",
          "0",
          "0",
          "0",
          "0",
          "0",
          "0",
          "0",
          "0",
          "0",
          "0",
          "0",
          "0",
          "0",
          "0",
          "0",
          "0",
          "0",
          "0",
          "0",
          "0",
          "0",
          "0",
          "0",
          "0",
          "0",
          "0",
          "0",
          "0",
          "0",
          "0",
          "0",
          "0",
          "0",
          "0",
          "0",
          "0",
          "0",
          "0",
          "0",
          "0",
          "0",
          "0",
          "0",
          "0",
          "0",
          "0",
          "0",
          "0",
          "0",
          "0",
          "0",
          "0",
          "0",
          "0",
          "0",
          "0",
          "0",
          "0",
          "0",
          "0",
          "0",
          "0",
          "0",
          "0",
          "0",
          "0",
          "0",
          "0",
          "0",
          "0",
          "0",
          "0",
          "0",
          "0",
          "0",
          "0",
          "0",
          "0",
          "0",
          "0",
          "0",
          "0",
          "0",
          "0",
          "0",
          "0",
          "0",
          "0",
          "0",
          "0",
          "0",
          "0",
          "0",
          "0",
          "0",
          "0",
          "0",
          "0",
          "0",
          "0",
          "0",
          "0",
          "0",
          "0",
          "0",
          "0",
          "0",
          "0",
          "0",
          "0",
          "0",
          "0",
          "0",
          "0",
          "0",
          "0",
          "0",
          "0",
          "0",
          "0",
          "0",
          "0",
          "0",
          "0",
          "0",
          "0",
          "0",
          "0",
          "0",
          "0",
          "0",
          "0",
          "0",
          "0",
          "0",
          "0",
          "0",
          "0",
          "0",
          "0",
          "0",
          "0",
          "0",
          "0",
          "0",
          "0",
          "0",
          "0",
          "0",
          "0",
          "0",
          "0",
          "0",
          "0",
          "0",
          "0",
          "0",
          "0",
          "0",
          "0",
          "0",
          "0",
          "0",
          "0",
          "0",
          "0",
          "0",
          "0",
          "0",
          "0",
          "0",
          "0",
          "0",
          "0",
          "0",
          "0",
          "0",
          "0",
          "0",
          "0",
          "0",
          "0",
          "0",
          "0",
          "0",
          "0",
          "0",
          "0",
          "0",
          "0",
          "0",
          "0",
          "0",
          "0",
          "0",
          "0",
          "0",
          "0",
          "0",
          "0",
          "0",
          "0",
          "0",
          "0",
          "0",
          "0",
          "0",
          "0",
          "0",
          "0",
          "0",
          "0",
          "0",
          "0",
          "0",
          "0",
          "0",
          "0",
          "0",
          "0",
          "0",
          "0",
          "0",
          "0",
          "0",
          "0",
          "0",
          "0",
          "0",
          "0",
          "0",
          "0",
          "0",
          "0",
          "0",
          "0",
          "0",
          "0",
          "0",
          "0",
          "0",
          "0",
          "0",
          "0",
          "0",
          "0",
          "0",
          "0",
          "0",
          "0",
          "0",
          "0",
          "0",
          "0",
          "0",
          "0",
          "0",
          "0",
          "0",
          "0",
          "0",
          "0",
          "0",
          "0",
          "0",
          "0",
          "0",
          "0",
          "0",
          "0",
          "0",
          "0",
          "0",
          "0",
          "0",
          "0",
          "0",
          "0",
          "0",
          "0",
          "0",
          "0",
          "0",
          "0",
          "0",
          "0",
          "0",
          "0",
          "0",
          "0",
          "0",
          "0"
         ],
         "x0": " ",
         "xaxis": "x",
         "y": [
          64.65368786549706,
          64.89354395102352,
          65.48587947733913,
          63.402812043128634,
          63.07175188511164,
          62.970855263157915,
          61.49096765350866,
          59.73368375365501,
          64.13388706140363,
          65.39443119517544,
          63.08842653508769,
          63.02988898026334,
          62.74611293859649,
          61.033871527777684,
          59.22377604166668,
          63.96832236842119,
          65.14781615497074,
          63.15734100877186,
          62.626364674707695,
          62.49791027046786,
          61.12141173245601,
          59.992028051900526,
          63.83824561403515,
          65.27467150950287,
          62.573403234649106,
          61.90236522295337,
          62.64790981359649,
          62.15071271929813,
          62.142768640350916,
          64.10596125731001,
          65.07828490497076,
          62.556334978070126,
          61.84043037280713,
          61.661161366959135,
          61.61925621345033,
          60.69130299707606,
          63.509774762427,
          65.24992415935675,
          62.07013751827485,
          62.053675986842315,
          61.71656158625728,
          62.04470952600802,
          60.46005528143278,
          63.640011878655095,
          64.72001233552635,
          63.149006761695816,
          61.85819456701979,
          61.80281980994154,
          61.497425611156885,
          60.988855994152104,
          63.13847359283637,
          64.59840095029234,
          61.875748812134454,
          61.558286275584955,
          61.51209247076027,
          61.09062911184204,
          60.18319809941526,
          62.72166895102342,
          64.49196134868419,
          61.704237938596464,
          61.334130116959244,
          61.87831871345027,
          60.83347816154969,
          60.1943023574561,
          62.66943759137432,
          64.70574607090646,
          61.878101242690065,
          61.21312108555181,
          61.52886239035084,
          61.35926260964894,
          60.2012541118422,
          62.80864400584806,
          64.51258342868037,
          62.05788879751459,
          61.045181377924145,
          60.85699332967838,
          60.59976973684198,
          59.481637426900576,
          62.31856268274863,
          63.73598090277777,
          61.537432383040894,
          60.926255939327696,
          60.81115816885959,
          61.2561472039474,
          60.01773391812871,
          61.6884379568714,
          63.545068073830436,
          61.54982821637422,
          60.93318896198847,
          60.386851699561376,
          60.23916301169587,
          60.330741502193,
          62.317454312865536,
          64.19036778143278,
          61.352746253654914,
          61.14155107821659,
          60.87808753654973,
          60.53609694809939,
          59.958654970760264,
          62.488644919590726,
          64.36060495496882,
          61.97922331871344,
          61.38912876226392,
          61.1979486476608,
          60.671430464181284,
          60.32905199195917,
          62.64306743421065,
          64.27403326023388,
          61.722566703216344,
          61.258469024122995,
          61.08378837719302,
          60.620682565789394,
          60.52108552631581,
          62.93707145467854,
          64.35045184576025,
          62.14110060307019,
          61.32956597222236,
          60.80178408260235,
          60.290427631578886,
          59.82355994152049,
          62.50671653568638,
          64.26997715643267,
          61.54324972587718,
          61.11251507675451,
          61.03586485745617,
          60.628640452757814,
          60.01729669225149,
          62.57202622441533,
          64.50017863669584,
          61.63473090277777,
          61.198050529970914,
          60.87844572368422,
          60.617521929824456,
          60.15711577119884,
          62.78974141081883,
          64.21353298611109,
          61.716194718567216,
          61.25731039839205,
          60.726386604532216,
          60.47207876461983,
          59.58744334795324,
          62.32483598318729,
          64.0085329861111,
          61.03796874999997,
          60.684524396930065,
          60.30072277046789,
          59.76027412280702,
          59.643749086257344,
          62.68630893640363,
          64.2146482090643,
          64.44155838815787,
          60.720882218567375,
          60.24436860380116,
          60.10169088084793,
          59.13685352704679,
          61.752248263889044,
          63.618949195906495,
          59.85562088815785,
          60.220048428362766,
          60.2114555921053,
          59.48688779239757,
          59.06221811038019,
          61.42283762792415,
          63.13518411915197,
          59.36514437134507,
          59.909810398392,
          59.92530701754387,
          59.60140031067245,
          59.338399122807026,
          61.25675484283642,
          63.36917626096495,
          59.771203399122676,
          59.99782483552653,
          59.77742552997073,
          59.448418311403415,
          59.29100146198835,
          61.63987207602355,
          63.46271061769008,
          60.926996984649016,
          60.52640442251483,
          59.91691017909359,
          59.596578033625676,
          59.92072277046786,
          62.60391995614048,
          64.69177037646196,
          64.22824241593558,
          60.576935307017656,
          59.925298336988355,
          59.96155170701138,
          59.28226471125737,
          62.19531250000013,
          63.688942342836306,
          59.83833881578945,
          60.1530573830411,
          60.21721171418131,
          59.62323601973675,
          59.356918402777794,
          61.922337353801296,
          63.67889071637425,
          59.81382218567246,
          59.98520285087743,
          60.1474926900586,
          59.80451388888883,
          59.730471948099485,
          61.98034996345037,
          63.53860836988298,
          60.202499823300556,
          60.59525950292421,
          60.258816246345035,
          59.974749177631544,
          59.818580500731045,
          61.90210206505863,
          63.83084429824562,
          61.21703718932741,
          60.54563916301192,
          60.377362481725115,
          60.22032986111104,
          60.03861339546789,
          62.27224581397599,
          63.75168631213453,
          61.2723368969297,
          60.88663468567267,
          60.86741593567251,
          59.896329038742564,
          59.75521518640352,
          62.229237938596654,
          64.18896381578944,
          61.3310224780701,
          60.57545184576048,
          60.29780610380116,
          60.03211440058475,
          59.882824378655016,
          62.74721902412296,
          64.21593019005847,
          61.50096445540931,
          60.59487573099435,
          60.35479989035086,
          59.6747906176136,
          59.01966968201751,
          62.1992141812867,
          63.97516995614042,
          61.32581921330265,
          60.114139254386195,
          60.36734283625735,
          60.10366822002917,
          59.67677860014628,
          62.630958972953266,
          64.34405062134499,
          64.82358232821643,
          60.51355994152064,
          60.380954404239866,
          60.00845486111102,
          59.879401041666775,
          62.79094937865502,
          64.50297377558473,
          60.03165021929819,
          60.122144554093765,
          61.51874999999987,
          60.48819490131579,
          59.402083790204685,
          62.05899442616979,
          63.720296966374235,
          59.443899853801085,
          60.11069398757326,
          60.10850740131583,
          59.76406067251466,
          59.48739172149125,
          62.17129340277791,
          63.983574946639905,
          60.17574287280697,
          60.76707145467852,
          60.46791483918139,
          59.55702485380113,
          59.256939418859616,
          62.072928088450396,
          63.70485654239768,
          60.527445175438515,
          60.21647203947383,
          60.5139057931287,
          60.3275561951754,
          60.07357821637432,
          62.234606633772046,
          63.766383863304114,
          61.237295778508624,
          60.31685261330425,
          60.23827668128656,
          59.75247669956138,
          59.52661001461998,
          62.14254203216391,
          63.686115679824596,
          60.96177700348452,
          60.252138614766324,
          60.173928179824536,
          59.558252253737855,
          59.45547035326885,
          62.02026577616546,
          63.68139521034884,
          61.08873863969503,
          60.17773334432734,
          59.860214825601595,
          59.24446748367702,
          59.272147405452955,
          62.293165342559845,
          64.677265101523,
          61.46114521541687,
          60.33443546613916,
          60.242542205309064,
          59.9331544457284,
          59.859597648322094,
          62.29909454662933,
          63.83733305645129,
          60.944935192702225,
          60.40829849890826,
          59.78730457794035,
          60.675465230944276,
          59.77102058740679,
          61.893056110907516,
          63.281514244880086,
          60.48913495001929,
          60.0463509601292,
          59.926039834359486,
          59.5220444884198,
          59.35747581354452,
          61.884036939314115,
          63.530343465992416,
          60.4583177587217,
          59.457127675168785,
          60.17968566769281,
          63.976568454998464,
          63.55076040750517,
          63.23539284667269,
          64.02576086558194,
          60.68642626795647,
          60.37781488199964,
          60.03552110817945,
          58.835828019642335,
          59.19166254397542,
          62.57790649736161,
          64.05314149076521,
          61.22408751099373,
          60.76221095353299,
          60.22017003811205,
          59.472815889768384,
          58.67650478232192,
          61.634437298446336,
          63.48420138888888,
          60.97037479844614,
          60.41870785693374,
          59.405284374083905,
          57.289639676781,
          57.76933862870129,
          61.0463045730687,
          63.240252958343525,
          61.51292463720305,
          60.296655359558024,
          60.56616867399085,
          59.107678758289474,
          63.746340802403424,
          64.68154872807591,
          64.48172973729952,
          61.95330936468026,
          62.29180352538728,
          61.15995842494882,
          60.553988090002846,
          63.187970127035015
         ],
         "y0": " ",
         "yaxis": "y"
        }
       ],
       "layout": {
        "boxmode": "group",
        "legend": {
         "tracegroupgap": 0
        },
        "template": {
         "data": {
          "bar": [
           {
            "error_x": {
             "color": "#2a3f5f"
            },
            "error_y": {
             "color": "#2a3f5f"
            },
            "marker": {
             "line": {
              "color": "#E5ECF6",
              "width": 0.5
             }
            },
            "type": "bar"
           }
          ],
          "barpolar": [
           {
            "marker": {
             "line": {
              "color": "#E5ECF6",
              "width": 0.5
             }
            },
            "type": "barpolar"
           }
          ],
          "carpet": [
           {
            "aaxis": {
             "endlinecolor": "#2a3f5f",
             "gridcolor": "white",
             "linecolor": "white",
             "minorgridcolor": "white",
             "startlinecolor": "#2a3f5f"
            },
            "baxis": {
             "endlinecolor": "#2a3f5f",
             "gridcolor": "white",
             "linecolor": "white",
             "minorgridcolor": "white",
             "startlinecolor": "#2a3f5f"
            },
            "type": "carpet"
           }
          ],
          "choropleth": [
           {
            "colorbar": {
             "outlinewidth": 0,
             "ticks": ""
            },
            "type": "choropleth"
           }
          ],
          "contour": [
           {
            "colorbar": {
             "outlinewidth": 0,
             "ticks": ""
            },
            "colorscale": [
             [
              0,
              "#0d0887"
             ],
             [
              0.1111111111111111,
              "#46039f"
             ],
             [
              0.2222222222222222,
              "#7201a8"
             ],
             [
              0.3333333333333333,
              "#9c179e"
             ],
             [
              0.4444444444444444,
              "#bd3786"
             ],
             [
              0.5555555555555556,
              "#d8576b"
             ],
             [
              0.6666666666666666,
              "#ed7953"
             ],
             [
              0.7777777777777778,
              "#fb9f3a"
             ],
             [
              0.8888888888888888,
              "#fdca26"
             ],
             [
              1,
              "#f0f921"
             ]
            ],
            "type": "contour"
           }
          ],
          "contourcarpet": [
           {
            "colorbar": {
             "outlinewidth": 0,
             "ticks": ""
            },
            "type": "contourcarpet"
           }
          ],
          "heatmap": [
           {
            "colorbar": {
             "outlinewidth": 0,
             "ticks": ""
            },
            "colorscale": [
             [
              0,
              "#0d0887"
             ],
             [
              0.1111111111111111,
              "#46039f"
             ],
             [
              0.2222222222222222,
              "#7201a8"
             ],
             [
              0.3333333333333333,
              "#9c179e"
             ],
             [
              0.4444444444444444,
              "#bd3786"
             ],
             [
              0.5555555555555556,
              "#d8576b"
             ],
             [
              0.6666666666666666,
              "#ed7953"
             ],
             [
              0.7777777777777778,
              "#fb9f3a"
             ],
             [
              0.8888888888888888,
              "#fdca26"
             ],
             [
              1,
              "#f0f921"
             ]
            ],
            "type": "heatmap"
           }
          ],
          "heatmapgl": [
           {
            "colorbar": {
             "outlinewidth": 0,
             "ticks": ""
            },
            "colorscale": [
             [
              0,
              "#0d0887"
             ],
             [
              0.1111111111111111,
              "#46039f"
             ],
             [
              0.2222222222222222,
              "#7201a8"
             ],
             [
              0.3333333333333333,
              "#9c179e"
             ],
             [
              0.4444444444444444,
              "#bd3786"
             ],
             [
              0.5555555555555556,
              "#d8576b"
             ],
             [
              0.6666666666666666,
              "#ed7953"
             ],
             [
              0.7777777777777778,
              "#fb9f3a"
             ],
             [
              0.8888888888888888,
              "#fdca26"
             ],
             [
              1,
              "#f0f921"
             ]
            ],
            "type": "heatmapgl"
           }
          ],
          "histogram": [
           {
            "marker": {
             "colorbar": {
              "outlinewidth": 0,
              "ticks": ""
             }
            },
            "type": "histogram"
           }
          ],
          "histogram2d": [
           {
            "colorbar": {
             "outlinewidth": 0,
             "ticks": ""
            },
            "colorscale": [
             [
              0,
              "#0d0887"
             ],
             [
              0.1111111111111111,
              "#46039f"
             ],
             [
              0.2222222222222222,
              "#7201a8"
             ],
             [
              0.3333333333333333,
              "#9c179e"
             ],
             [
              0.4444444444444444,
              "#bd3786"
             ],
             [
              0.5555555555555556,
              "#d8576b"
             ],
             [
              0.6666666666666666,
              "#ed7953"
             ],
             [
              0.7777777777777778,
              "#fb9f3a"
             ],
             [
              0.8888888888888888,
              "#fdca26"
             ],
             [
              1,
              "#f0f921"
             ]
            ],
            "type": "histogram2d"
           }
          ],
          "histogram2dcontour": [
           {
            "colorbar": {
             "outlinewidth": 0,
             "ticks": ""
            },
            "colorscale": [
             [
              0,
              "#0d0887"
             ],
             [
              0.1111111111111111,
              "#46039f"
             ],
             [
              0.2222222222222222,
              "#7201a8"
             ],
             [
              0.3333333333333333,
              "#9c179e"
             ],
             [
              0.4444444444444444,
              "#bd3786"
             ],
             [
              0.5555555555555556,
              "#d8576b"
             ],
             [
              0.6666666666666666,
              "#ed7953"
             ],
             [
              0.7777777777777778,
              "#fb9f3a"
             ],
             [
              0.8888888888888888,
              "#fdca26"
             ],
             [
              1,
              "#f0f921"
             ]
            ],
            "type": "histogram2dcontour"
           }
          ],
          "mesh3d": [
           {
            "colorbar": {
             "outlinewidth": 0,
             "ticks": ""
            },
            "type": "mesh3d"
           }
          ],
          "parcoords": [
           {
            "line": {
             "colorbar": {
              "outlinewidth": 0,
              "ticks": ""
             }
            },
            "type": "parcoords"
           }
          ],
          "pie": [
           {
            "automargin": true,
            "type": "pie"
           }
          ],
          "scatter": [
           {
            "marker": {
             "colorbar": {
              "outlinewidth": 0,
              "ticks": ""
             }
            },
            "type": "scatter"
           }
          ],
          "scatter3d": [
           {
            "line": {
             "colorbar": {
              "outlinewidth": 0,
              "ticks": ""
             }
            },
            "marker": {
             "colorbar": {
              "outlinewidth": 0,
              "ticks": ""
             }
            },
            "type": "scatter3d"
           }
          ],
          "scattercarpet": [
           {
            "marker": {
             "colorbar": {
              "outlinewidth": 0,
              "ticks": ""
             }
            },
            "type": "scattercarpet"
           }
          ],
          "scattergeo": [
           {
            "marker": {
             "colorbar": {
              "outlinewidth": 0,
              "ticks": ""
             }
            },
            "type": "scattergeo"
           }
          ],
          "scattergl": [
           {
            "marker": {
             "colorbar": {
              "outlinewidth": 0,
              "ticks": ""
             }
            },
            "type": "scattergl"
           }
          ],
          "scattermapbox": [
           {
            "marker": {
             "colorbar": {
              "outlinewidth": 0,
              "ticks": ""
             }
            },
            "type": "scattermapbox"
           }
          ],
          "scatterpolar": [
           {
            "marker": {
             "colorbar": {
              "outlinewidth": 0,
              "ticks": ""
             }
            },
            "type": "scatterpolar"
           }
          ],
          "scatterpolargl": [
           {
            "marker": {
             "colorbar": {
              "outlinewidth": 0,
              "ticks": ""
             }
            },
            "type": "scatterpolargl"
           }
          ],
          "scatterternary": [
           {
            "marker": {
             "colorbar": {
              "outlinewidth": 0,
              "ticks": ""
             }
            },
            "type": "scatterternary"
           }
          ],
          "surface": [
           {
            "colorbar": {
             "outlinewidth": 0,
             "ticks": ""
            },
            "colorscale": [
             [
              0,
              "#0d0887"
             ],
             [
              0.1111111111111111,
              "#46039f"
             ],
             [
              0.2222222222222222,
              "#7201a8"
             ],
             [
              0.3333333333333333,
              "#9c179e"
             ],
             [
              0.4444444444444444,
              "#bd3786"
             ],
             [
              0.5555555555555556,
              "#d8576b"
             ],
             [
              0.6666666666666666,
              "#ed7953"
             ],
             [
              0.7777777777777778,
              "#fb9f3a"
             ],
             [
              0.8888888888888888,
              "#fdca26"
             ],
             [
              1,
              "#f0f921"
             ]
            ],
            "type": "surface"
           }
          ],
          "table": [
           {
            "cells": {
             "fill": {
              "color": "#EBF0F8"
             },
             "line": {
              "color": "white"
             }
            },
            "header": {
             "fill": {
              "color": "#C8D4E3"
             },
             "line": {
              "color": "white"
             }
            },
            "type": "table"
           }
          ]
         },
         "layout": {
          "annotationdefaults": {
           "arrowcolor": "#2a3f5f",
           "arrowhead": 0,
           "arrowwidth": 1
          },
          "autotypenumbers": "strict",
          "coloraxis": {
           "colorbar": {
            "outlinewidth": 0,
            "ticks": ""
           }
          },
          "colorscale": {
           "diverging": [
            [
             0,
             "#8e0152"
            ],
            [
             0.1,
             "#c51b7d"
            ],
            [
             0.2,
             "#de77ae"
            ],
            [
             0.3,
             "#f1b6da"
            ],
            [
             0.4,
             "#fde0ef"
            ],
            [
             0.5,
             "#f7f7f7"
            ],
            [
             0.6,
             "#e6f5d0"
            ],
            [
             0.7,
             "#b8e186"
            ],
            [
             0.8,
             "#7fbc41"
            ],
            [
             0.9,
             "#4d9221"
            ],
            [
             1,
             "#276419"
            ]
           ],
           "sequential": [
            [
             0,
             "#0d0887"
            ],
            [
             0.1111111111111111,
             "#46039f"
            ],
            [
             0.2222222222222222,
             "#7201a8"
            ],
            [
             0.3333333333333333,
             "#9c179e"
            ],
            [
             0.4444444444444444,
             "#bd3786"
            ],
            [
             0.5555555555555556,
             "#d8576b"
            ],
            [
             0.6666666666666666,
             "#ed7953"
            ],
            [
             0.7777777777777778,
             "#fb9f3a"
            ],
            [
             0.8888888888888888,
             "#fdca26"
            ],
            [
             1,
             "#f0f921"
            ]
           ],
           "sequentialminus": [
            [
             0,
             "#0d0887"
            ],
            [
             0.1111111111111111,
             "#46039f"
            ],
            [
             0.2222222222222222,
             "#7201a8"
            ],
            [
             0.3333333333333333,
             "#9c179e"
            ],
            [
             0.4444444444444444,
             "#bd3786"
            ],
            [
             0.5555555555555556,
             "#d8576b"
            ],
            [
             0.6666666666666666,
             "#ed7953"
            ],
            [
             0.7777777777777778,
             "#fb9f3a"
            ],
            [
             0.8888888888888888,
             "#fdca26"
            ],
            [
             1,
             "#f0f921"
            ]
           ]
          },
          "colorway": [
           "#636efa",
           "#EF553B",
           "#00cc96",
           "#ab63fa",
           "#FFA15A",
           "#19d3f3",
           "#FF6692",
           "#B6E880",
           "#FF97FF",
           "#FECB52"
          ],
          "font": {
           "color": "#2a3f5f"
          },
          "geo": {
           "bgcolor": "white",
           "lakecolor": "white",
           "landcolor": "#E5ECF6",
           "showlakes": true,
           "showland": true,
           "subunitcolor": "white"
          },
          "hoverlabel": {
           "align": "left"
          },
          "hovermode": "closest",
          "mapbox": {
           "style": "light"
          },
          "paper_bgcolor": "white",
          "plot_bgcolor": "#E5ECF6",
          "polar": {
           "angularaxis": {
            "gridcolor": "white",
            "linecolor": "white",
            "ticks": ""
           },
           "bgcolor": "#E5ECF6",
           "radialaxis": {
            "gridcolor": "white",
            "linecolor": "white",
            "ticks": ""
           }
          },
          "scene": {
           "xaxis": {
            "backgroundcolor": "#E5ECF6",
            "gridcolor": "white",
            "gridwidth": 2,
            "linecolor": "white",
            "showbackground": true,
            "ticks": "",
            "zerolinecolor": "white"
           },
           "yaxis": {
            "backgroundcolor": "#E5ECF6",
            "gridcolor": "white",
            "gridwidth": 2,
            "linecolor": "white",
            "showbackground": true,
            "ticks": "",
            "zerolinecolor": "white"
           },
           "zaxis": {
            "backgroundcolor": "#E5ECF6",
            "gridcolor": "white",
            "gridwidth": 2,
            "linecolor": "white",
            "showbackground": true,
            "ticks": "",
            "zerolinecolor": "white"
           }
          },
          "shapedefaults": {
           "line": {
            "color": "#2a3f5f"
           }
          },
          "ternary": {
           "aaxis": {
            "gridcolor": "white",
            "linecolor": "white",
            "ticks": ""
           },
           "baxis": {
            "gridcolor": "white",
            "linecolor": "white",
            "ticks": ""
           },
           "bgcolor": "#E5ECF6",
           "caxis": {
            "gridcolor": "white",
            "linecolor": "white",
            "ticks": ""
           }
          },
          "title": {
           "x": 0.05
          },
          "xaxis": {
           "automargin": true,
           "gridcolor": "white",
           "linecolor": "white",
           "ticks": "",
           "title": {
            "standoff": 15
           },
           "zerolinecolor": "white",
           "zerolinewidth": 2
          },
          "yaxis": {
           "automargin": true,
           "gridcolor": "white",
           "linecolor": "white",
           "ticks": "",
           "title": {
            "standoff": 15
           },
           "zerolinecolor": "white",
           "zerolinewidth": 2
          }
         }
        },
        "title": {
         "text": "Distribution of Speed Over Days in 2021"
        },
        "xaxis": {
         "anchor": "y",
         "domain": [
          0,
          1
         ],
         "title": {
          "text": ""
         }
        },
        "yaxis": {
         "anchor": "x",
         "domain": [
          0,
          1
         ],
         "title": {
          "text": "Speed (mph)"
         }
        }
       }
      },
      "text/html": [
       "<div>                            <div id=\"74483027-4614-46d2-bd9f-994b8f41c5df\" class=\"plotly-graph-div\" style=\"height:525px; width:100%;\"></div>            <script type=\"text/javascript\">                require([\"plotly\"], function(Plotly) {                    window.PLOTLYENV=window.PLOTLYENV || {};                                    if (document.getElementById(\"74483027-4614-46d2-bd9f-994b8f41c5df\")) {                    Plotly.newPlot(                        \"74483027-4614-46d2-bd9f-994b8f41c5df\",                        [{\"alignmentgroup\": \"True\", \"hovertemplate\": \"variable=%{x}<br>value=%{y}<extra></extra>\", \"legendgroup\": \"\", \"marker\": {\"color\": \"#636efa\"}, \"name\": \"\", \"notched\": false, \"offsetgroup\": \"\", \"orientation\": \"v\", \"showlegend\": false, \"type\": \"box\", \"x\": [\"0\", \"0\", \"0\", \"0\", \"0\", \"0\", \"0\", \"0\", \"0\", \"0\", \"0\", \"0\", \"0\", \"0\", \"0\", \"0\", \"0\", \"0\", \"0\", \"0\", \"0\", \"0\", \"0\", \"0\", \"0\", \"0\", \"0\", \"0\", \"0\", \"0\", \"0\", \"0\", \"0\", \"0\", \"0\", \"0\", \"0\", \"0\", \"0\", \"0\", \"0\", \"0\", \"0\", \"0\", \"0\", \"0\", \"0\", \"0\", \"0\", \"0\", \"0\", \"0\", \"0\", \"0\", \"0\", \"0\", \"0\", \"0\", \"0\", \"0\", \"0\", \"0\", \"0\", \"0\", \"0\", \"0\", \"0\", \"0\", \"0\", \"0\", \"0\", \"0\", \"0\", \"0\", \"0\", \"0\", \"0\", \"0\", \"0\", \"0\", \"0\", \"0\", \"0\", \"0\", \"0\", \"0\", \"0\", \"0\", \"0\", \"0\", \"0\", \"0\", \"0\", \"0\", \"0\", \"0\", \"0\", \"0\", \"0\", \"0\", \"0\", \"0\", \"0\", \"0\", \"0\", \"0\", \"0\", \"0\", \"0\", \"0\", \"0\", \"0\", \"0\", \"0\", \"0\", \"0\", \"0\", \"0\", \"0\", \"0\", \"0\", \"0\", \"0\", \"0\", \"0\", \"0\", \"0\", \"0\", \"0\", \"0\", \"0\", \"0\", \"0\", \"0\", \"0\", \"0\", \"0\", \"0\", \"0\", \"0\", \"0\", \"0\", \"0\", \"0\", \"0\", \"0\", \"0\", \"0\", \"0\", \"0\", \"0\", \"0\", \"0\", \"0\", \"0\", \"0\", \"0\", \"0\", \"0\", \"0\", \"0\", \"0\", \"0\", \"0\", \"0\", \"0\", \"0\", \"0\", \"0\", \"0\", \"0\", \"0\", \"0\", \"0\", \"0\", \"0\", \"0\", \"0\", \"0\", \"0\", \"0\", \"0\", \"0\", \"0\", \"0\", \"0\", \"0\", \"0\", \"0\", \"0\", \"0\", \"0\", \"0\", \"0\", \"0\", \"0\", \"0\", \"0\", \"0\", \"0\", \"0\", \"0\", \"0\", \"0\", \"0\", \"0\", \"0\", \"0\", \"0\", \"0\", \"0\", \"0\", \"0\", \"0\", \"0\", \"0\", \"0\", \"0\", \"0\", \"0\", \"0\", \"0\", \"0\", \"0\", \"0\", \"0\", \"0\", \"0\", \"0\", \"0\", \"0\", \"0\", \"0\", \"0\", \"0\", \"0\", \"0\", \"0\", \"0\", \"0\", \"0\", \"0\", \"0\", \"0\", \"0\", \"0\", \"0\", \"0\", \"0\", \"0\", \"0\", \"0\", \"0\", \"0\", \"0\", \"0\", \"0\", \"0\", \"0\", \"0\", \"0\", \"0\", \"0\", \"0\", \"0\", \"0\", \"0\", \"0\", \"0\", \"0\", \"0\", \"0\", \"0\", \"0\", \"0\", \"0\", \"0\", \"0\", \"0\", \"0\", \"0\", \"0\", \"0\", \"0\", \"0\", \"0\", \"0\", \"0\", \"0\", \"0\", \"0\", \"0\", \"0\", \"0\", \"0\", \"0\", \"0\", \"0\", \"0\", \"0\", \"0\", \"0\", \"0\", \"0\", \"0\", \"0\", \"0\", \"0\", \"0\", \"0\", \"0\", \"0\", \"0\", \"0\", \"0\", \"0\", \"0\", \"0\", \"0\", \"0\", \"0\", \"0\", \"0\", \"0\", \"0\", \"0\", \"0\", \"0\", \"0\", \"0\", \"0\", \"0\", \"0\", \"0\", \"0\", \"0\", \"0\", \"0\", \"0\", \"0\", \"0\", \"0\", \"0\", \"0\", \"0\", \"0\", \"0\", \"0\", \"0\", \"0\", \"0\", \"0\", \"0\", \"0\", \"0\", \"0\", \"0\", \"0\", \"0\", \"0\", \"0\", \"0\", \"0\", \"0\", \"0\"], \"x0\": \" \", \"xaxis\": \"x\", \"y\": [64.65368786549706, 64.89354395102352, 65.48587947733913, 63.402812043128634, 63.07175188511164, 62.970855263157915, 61.49096765350866, 59.73368375365501, 64.13388706140363, 65.39443119517544, 63.08842653508769, 63.02988898026334, 62.74611293859649, 61.033871527777684, 59.22377604166668, 63.96832236842119, 65.14781615497074, 63.15734100877186, 62.626364674707695, 62.49791027046786, 61.12141173245601, 59.992028051900526, 63.83824561403515, 65.27467150950287, 62.573403234649106, 61.90236522295337, 62.64790981359649, 62.15071271929813, 62.142768640350916, 64.10596125731001, 65.07828490497076, 62.556334978070126, 61.84043037280713, 61.661161366959135, 61.61925621345033, 60.69130299707606, 63.509774762427, 65.24992415935675, 62.07013751827485, 62.053675986842315, 61.71656158625728, 62.04470952600802, 60.46005528143278, 63.640011878655095, 64.72001233552635, 63.149006761695816, 61.85819456701979, 61.80281980994154, 61.497425611156885, 60.988855994152104, 63.13847359283637, 64.59840095029234, 61.875748812134454, 61.558286275584955, 61.51209247076027, 61.09062911184204, 60.18319809941526, 62.72166895102342, 64.49196134868419, 61.704237938596464, 61.334130116959244, 61.87831871345027, 60.83347816154969, 60.1943023574561, 62.66943759137432, 64.70574607090646, 61.878101242690065, 61.21312108555181, 61.52886239035084, 61.35926260964894, 60.2012541118422, 62.80864400584806, 64.51258342868037, 62.05788879751459, 61.045181377924145, 60.85699332967838, 60.59976973684198, 59.481637426900576, 62.31856268274863, 63.73598090277777, 61.537432383040894, 60.926255939327696, 60.81115816885959, 61.2561472039474, 60.01773391812871, 61.6884379568714, 63.545068073830436, 61.54982821637422, 60.93318896198847, 60.386851699561376, 60.23916301169587, 60.330741502193, 62.317454312865536, 64.19036778143278, 61.352746253654914, 61.14155107821659, 60.87808753654973, 60.53609694809939, 59.958654970760264, 62.488644919590726, 64.36060495496882, 61.97922331871344, 61.38912876226392, 61.1979486476608, 60.671430464181284, 60.32905199195917, 62.64306743421065, 64.27403326023388, 61.722566703216344, 61.258469024122995, 61.08378837719302, 60.620682565789394, 60.52108552631581, 62.93707145467854, 64.35045184576025, 62.14110060307019, 61.32956597222236, 60.80178408260235, 60.290427631578886, 59.82355994152049, 62.50671653568638, 64.26997715643267, 61.54324972587718, 61.11251507675451, 61.03586485745617, 60.628640452757814, 60.01729669225149, 62.57202622441533, 64.50017863669584, 61.63473090277777, 61.198050529970914, 60.87844572368422, 60.617521929824456, 60.15711577119884, 62.78974141081883, 64.21353298611109, 61.716194718567216, 61.25731039839205, 60.726386604532216, 60.47207876461983, 59.58744334795324, 62.32483598318729, 64.0085329861111, 61.03796874999997, 60.684524396930065, 60.30072277046789, 59.76027412280702, 59.643749086257344, 62.68630893640363, 64.2146482090643, 64.44155838815787, 60.720882218567375, 60.24436860380116, 60.10169088084793, 59.13685352704679, 61.752248263889044, 63.618949195906495, 59.85562088815785, 60.220048428362766, 60.2114555921053, 59.48688779239757, 59.06221811038019, 61.42283762792415, 63.13518411915197, 59.36514437134507, 59.909810398392, 59.92530701754387, 59.60140031067245, 59.338399122807026, 61.25675484283642, 63.36917626096495, 59.771203399122676, 59.99782483552653, 59.77742552997073, 59.448418311403415, 59.29100146198835, 61.63987207602355, 63.46271061769008, 60.926996984649016, 60.52640442251483, 59.91691017909359, 59.596578033625676, 59.92072277046786, 62.60391995614048, 64.69177037646196, 64.22824241593558, 60.576935307017656, 59.925298336988355, 59.96155170701138, 59.28226471125737, 62.19531250000013, 63.688942342836306, 59.83833881578945, 60.1530573830411, 60.21721171418131, 59.62323601973675, 59.356918402777794, 61.922337353801296, 63.67889071637425, 59.81382218567246, 59.98520285087743, 60.1474926900586, 59.80451388888883, 59.730471948099485, 61.98034996345037, 63.53860836988298, 60.202499823300556, 60.59525950292421, 60.258816246345035, 59.974749177631544, 59.818580500731045, 61.90210206505863, 63.83084429824562, 61.21703718932741, 60.54563916301192, 60.377362481725115, 60.22032986111104, 60.03861339546789, 62.27224581397599, 63.75168631213453, 61.2723368969297, 60.88663468567267, 60.86741593567251, 59.896329038742564, 59.75521518640352, 62.229237938596654, 64.18896381578944, 61.3310224780701, 60.57545184576048, 60.29780610380116, 60.03211440058475, 59.882824378655016, 62.74721902412296, 64.21593019005847, 61.50096445540931, 60.59487573099435, 60.35479989035086, 59.6747906176136, 59.01966968201751, 62.1992141812867, 63.97516995614042, 61.32581921330265, 60.114139254386195, 60.36734283625735, 60.10366822002917, 59.67677860014628, 62.630958972953266, 64.34405062134499, 64.82358232821643, 60.51355994152064, 60.380954404239866, 60.00845486111102, 59.879401041666775, 62.79094937865502, 64.50297377558473, 60.03165021929819, 60.122144554093765, 61.51874999999987, 60.48819490131579, 59.402083790204685, 62.05899442616979, 63.720296966374235, 59.443899853801085, 60.11069398757326, 60.10850740131583, 59.76406067251466, 59.48739172149125, 62.17129340277791, 63.983574946639905, 60.17574287280697, 60.76707145467852, 60.46791483918139, 59.55702485380113, 59.256939418859616, 62.072928088450396, 63.70485654239768, 60.527445175438515, 60.21647203947383, 60.5139057931287, 60.3275561951754, 60.07357821637432, 62.234606633772046, 63.766383863304114, 61.237295778508624, 60.31685261330425, 60.23827668128656, 59.75247669956138, 59.52661001461998, 62.14254203216391, 63.686115679824596, 60.96177700348452, 60.252138614766324, 60.173928179824536, 59.558252253737855, 59.45547035326885, 62.02026577616546, 63.68139521034884, 61.08873863969503, 60.17773334432734, 59.860214825601595, 59.24446748367702, 59.272147405452955, 62.293165342559845, 64.677265101523, 61.46114521541687, 60.33443546613916, 60.242542205309064, 59.9331544457284, 59.859597648322094, 62.29909454662933, 63.83733305645129, 60.944935192702225, 60.40829849890826, 59.78730457794035, 60.675465230944276, 59.77102058740679, 61.893056110907516, 63.281514244880086, 60.48913495001929, 60.0463509601292, 59.926039834359486, 59.5220444884198, 59.35747581354452, 61.884036939314115, 63.530343465992416, 60.4583177587217, 59.457127675168785, 60.17968566769281, 63.976568454998464, 63.55076040750517, 63.23539284667269, 64.02576086558194, 60.68642626795647, 60.37781488199964, 60.03552110817945, 58.835828019642335, 59.19166254397542, 62.57790649736161, 64.05314149076521, 61.22408751099373, 60.76221095353299, 60.22017003811205, 59.472815889768384, 58.67650478232192, 61.634437298446336, 63.48420138888888, 60.97037479844614, 60.41870785693374, 59.405284374083905, 57.289639676781, 57.76933862870129, 61.0463045730687, 63.240252958343525, 61.51292463720305, 60.296655359558024, 60.56616867399085, 59.107678758289474, 63.746340802403424, 64.68154872807591, 64.48172973729952, 61.95330936468026, 62.29180352538728, 61.15995842494882, 60.553988090002846, 63.187970127035015], \"y0\": \" \", \"yaxis\": \"y\"}],                        {\"boxmode\": \"group\", \"legend\": {\"tracegroupgap\": 0}, \"template\": {\"data\": {\"bar\": [{\"error_x\": {\"color\": \"#2a3f5f\"}, \"error_y\": {\"color\": \"#2a3f5f\"}, \"marker\": {\"line\": {\"color\": \"#E5ECF6\", \"width\": 0.5}}, \"type\": \"bar\"}], \"barpolar\": [{\"marker\": {\"line\": {\"color\": \"#E5ECF6\", \"width\": 0.5}}, \"type\": \"barpolar\"}], \"carpet\": [{\"aaxis\": {\"endlinecolor\": \"#2a3f5f\", \"gridcolor\": \"white\", \"linecolor\": \"white\", \"minorgridcolor\": \"white\", \"startlinecolor\": \"#2a3f5f\"}, \"baxis\": {\"endlinecolor\": \"#2a3f5f\", \"gridcolor\": \"white\", \"linecolor\": \"white\", \"minorgridcolor\": \"white\", \"startlinecolor\": \"#2a3f5f\"}, \"type\": \"carpet\"}], \"choropleth\": [{\"colorbar\": {\"outlinewidth\": 0, \"ticks\": \"\"}, \"type\": \"choropleth\"}], \"contour\": [{\"colorbar\": {\"outlinewidth\": 0, \"ticks\": \"\"}, \"colorscale\": [[0.0, \"#0d0887\"], [0.1111111111111111, \"#46039f\"], [0.2222222222222222, \"#7201a8\"], [0.3333333333333333, \"#9c179e\"], [0.4444444444444444, \"#bd3786\"], [0.5555555555555556, \"#d8576b\"], [0.6666666666666666, \"#ed7953\"], [0.7777777777777778, \"#fb9f3a\"], [0.8888888888888888, \"#fdca26\"], [1.0, \"#f0f921\"]], \"type\": \"contour\"}], \"contourcarpet\": [{\"colorbar\": {\"outlinewidth\": 0, \"ticks\": \"\"}, \"type\": \"contourcarpet\"}], \"heatmap\": [{\"colorbar\": {\"outlinewidth\": 0, \"ticks\": \"\"}, \"colorscale\": [[0.0, \"#0d0887\"], [0.1111111111111111, \"#46039f\"], [0.2222222222222222, \"#7201a8\"], [0.3333333333333333, \"#9c179e\"], [0.4444444444444444, \"#bd3786\"], [0.5555555555555556, \"#d8576b\"], [0.6666666666666666, \"#ed7953\"], [0.7777777777777778, \"#fb9f3a\"], [0.8888888888888888, \"#fdca26\"], [1.0, \"#f0f921\"]], \"type\": \"heatmap\"}], \"heatmapgl\": [{\"colorbar\": {\"outlinewidth\": 0, \"ticks\": \"\"}, \"colorscale\": [[0.0, \"#0d0887\"], [0.1111111111111111, \"#46039f\"], [0.2222222222222222, \"#7201a8\"], [0.3333333333333333, \"#9c179e\"], [0.4444444444444444, \"#bd3786\"], [0.5555555555555556, \"#d8576b\"], [0.6666666666666666, \"#ed7953\"], [0.7777777777777778, \"#fb9f3a\"], [0.8888888888888888, \"#fdca26\"], [1.0, \"#f0f921\"]], \"type\": \"heatmapgl\"}], \"histogram\": [{\"marker\": {\"colorbar\": {\"outlinewidth\": 0, \"ticks\": \"\"}}, \"type\": \"histogram\"}], \"histogram2d\": [{\"colorbar\": {\"outlinewidth\": 0, \"ticks\": \"\"}, \"colorscale\": [[0.0, \"#0d0887\"], [0.1111111111111111, \"#46039f\"], [0.2222222222222222, \"#7201a8\"], [0.3333333333333333, \"#9c179e\"], [0.4444444444444444, \"#bd3786\"], [0.5555555555555556, \"#d8576b\"], [0.6666666666666666, \"#ed7953\"], [0.7777777777777778, \"#fb9f3a\"], [0.8888888888888888, \"#fdca26\"], [1.0, \"#f0f921\"]], \"type\": \"histogram2d\"}], \"histogram2dcontour\": [{\"colorbar\": {\"outlinewidth\": 0, \"ticks\": \"\"}, \"colorscale\": [[0.0, \"#0d0887\"], [0.1111111111111111, \"#46039f\"], [0.2222222222222222, \"#7201a8\"], [0.3333333333333333, \"#9c179e\"], [0.4444444444444444, \"#bd3786\"], [0.5555555555555556, \"#d8576b\"], [0.6666666666666666, \"#ed7953\"], [0.7777777777777778, \"#fb9f3a\"], [0.8888888888888888, \"#fdca26\"], [1.0, \"#f0f921\"]], \"type\": \"histogram2dcontour\"}], \"mesh3d\": [{\"colorbar\": {\"outlinewidth\": 0, \"ticks\": \"\"}, \"type\": \"mesh3d\"}], \"parcoords\": [{\"line\": {\"colorbar\": {\"outlinewidth\": 0, \"ticks\": \"\"}}, \"type\": \"parcoords\"}], \"pie\": [{\"automargin\": true, \"type\": \"pie\"}], \"scatter\": [{\"marker\": {\"colorbar\": {\"outlinewidth\": 0, \"ticks\": \"\"}}, \"type\": \"scatter\"}], \"scatter3d\": [{\"line\": {\"colorbar\": {\"outlinewidth\": 0, \"ticks\": \"\"}}, \"marker\": {\"colorbar\": {\"outlinewidth\": 0, \"ticks\": \"\"}}, \"type\": \"scatter3d\"}], \"scattercarpet\": [{\"marker\": {\"colorbar\": {\"outlinewidth\": 0, \"ticks\": \"\"}}, \"type\": \"scattercarpet\"}], \"scattergeo\": [{\"marker\": {\"colorbar\": {\"outlinewidth\": 0, \"ticks\": \"\"}}, \"type\": \"scattergeo\"}], \"scattergl\": [{\"marker\": {\"colorbar\": {\"outlinewidth\": 0, \"ticks\": \"\"}}, \"type\": \"scattergl\"}], \"scattermapbox\": [{\"marker\": {\"colorbar\": {\"outlinewidth\": 0, \"ticks\": \"\"}}, \"type\": \"scattermapbox\"}], \"scatterpolar\": [{\"marker\": {\"colorbar\": {\"outlinewidth\": 0, \"ticks\": \"\"}}, \"type\": \"scatterpolar\"}], \"scatterpolargl\": [{\"marker\": {\"colorbar\": {\"outlinewidth\": 0, \"ticks\": \"\"}}, \"type\": \"scatterpolargl\"}], \"scatterternary\": [{\"marker\": {\"colorbar\": {\"outlinewidth\": 0, \"ticks\": \"\"}}, \"type\": \"scatterternary\"}], \"surface\": [{\"colorbar\": {\"outlinewidth\": 0, \"ticks\": \"\"}, \"colorscale\": [[0.0, \"#0d0887\"], [0.1111111111111111, \"#46039f\"], [0.2222222222222222, \"#7201a8\"], [0.3333333333333333, \"#9c179e\"], [0.4444444444444444, \"#bd3786\"], [0.5555555555555556, \"#d8576b\"], [0.6666666666666666, \"#ed7953\"], [0.7777777777777778, \"#fb9f3a\"], [0.8888888888888888, \"#fdca26\"], [1.0, \"#f0f921\"]], \"type\": \"surface\"}], \"table\": [{\"cells\": {\"fill\": {\"color\": \"#EBF0F8\"}, \"line\": {\"color\": \"white\"}}, \"header\": {\"fill\": {\"color\": \"#C8D4E3\"}, \"line\": {\"color\": \"white\"}}, \"type\": \"table\"}]}, \"layout\": {\"annotationdefaults\": {\"arrowcolor\": \"#2a3f5f\", \"arrowhead\": 0, \"arrowwidth\": 1}, \"autotypenumbers\": \"strict\", \"coloraxis\": {\"colorbar\": {\"outlinewidth\": 0, \"ticks\": \"\"}}, \"colorscale\": {\"diverging\": [[0, \"#8e0152\"], [0.1, \"#c51b7d\"], [0.2, \"#de77ae\"], [0.3, \"#f1b6da\"], [0.4, \"#fde0ef\"], [0.5, \"#f7f7f7\"], [0.6, \"#e6f5d0\"], [0.7, \"#b8e186\"], [0.8, \"#7fbc41\"], [0.9, \"#4d9221\"], [1, \"#276419\"]], \"sequential\": [[0.0, \"#0d0887\"], [0.1111111111111111, \"#46039f\"], [0.2222222222222222, \"#7201a8\"], [0.3333333333333333, \"#9c179e\"], [0.4444444444444444, \"#bd3786\"], [0.5555555555555556, \"#d8576b\"], [0.6666666666666666, \"#ed7953\"], [0.7777777777777778, \"#fb9f3a\"], [0.8888888888888888, \"#fdca26\"], [1.0, \"#f0f921\"]], \"sequentialminus\": [[0.0, \"#0d0887\"], [0.1111111111111111, \"#46039f\"], [0.2222222222222222, \"#7201a8\"], [0.3333333333333333, \"#9c179e\"], [0.4444444444444444, \"#bd3786\"], [0.5555555555555556, \"#d8576b\"], [0.6666666666666666, \"#ed7953\"], [0.7777777777777778, \"#fb9f3a\"], [0.8888888888888888, \"#fdca26\"], [1.0, \"#f0f921\"]]}, \"colorway\": [\"#636efa\", \"#EF553B\", \"#00cc96\", \"#ab63fa\", \"#FFA15A\", \"#19d3f3\", \"#FF6692\", \"#B6E880\", \"#FF97FF\", \"#FECB52\"], \"font\": {\"color\": \"#2a3f5f\"}, \"geo\": {\"bgcolor\": \"white\", \"lakecolor\": \"white\", \"landcolor\": \"#E5ECF6\", \"showlakes\": true, \"showland\": true, \"subunitcolor\": \"white\"}, \"hoverlabel\": {\"align\": \"left\"}, \"hovermode\": \"closest\", \"mapbox\": {\"style\": \"light\"}, \"paper_bgcolor\": \"white\", \"plot_bgcolor\": \"#E5ECF6\", \"polar\": {\"angularaxis\": {\"gridcolor\": \"white\", \"linecolor\": \"white\", \"ticks\": \"\"}, \"bgcolor\": \"#E5ECF6\", \"radialaxis\": {\"gridcolor\": \"white\", \"linecolor\": \"white\", \"ticks\": \"\"}}, \"scene\": {\"xaxis\": {\"backgroundcolor\": \"#E5ECF6\", \"gridcolor\": \"white\", \"gridwidth\": 2, \"linecolor\": \"white\", \"showbackground\": true, \"ticks\": \"\", \"zerolinecolor\": \"white\"}, \"yaxis\": {\"backgroundcolor\": \"#E5ECF6\", \"gridcolor\": \"white\", \"gridwidth\": 2, \"linecolor\": \"white\", \"showbackground\": true, \"ticks\": \"\", \"zerolinecolor\": \"white\"}, \"zaxis\": {\"backgroundcolor\": \"#E5ECF6\", \"gridcolor\": \"white\", \"gridwidth\": 2, \"linecolor\": \"white\", \"showbackground\": true, \"ticks\": \"\", \"zerolinecolor\": \"white\"}}, \"shapedefaults\": {\"line\": {\"color\": \"#2a3f5f\"}}, \"ternary\": {\"aaxis\": {\"gridcolor\": \"white\", \"linecolor\": \"white\", \"ticks\": \"\"}, \"baxis\": {\"gridcolor\": \"white\", \"linecolor\": \"white\", \"ticks\": \"\"}, \"bgcolor\": \"#E5ECF6\", \"caxis\": {\"gridcolor\": \"white\", \"linecolor\": \"white\", \"ticks\": \"\"}}, \"title\": {\"x\": 0.05}, \"xaxis\": {\"automargin\": true, \"gridcolor\": \"white\", \"linecolor\": \"white\", \"ticks\": \"\", \"title\": {\"standoff\": 15}, \"zerolinecolor\": \"white\", \"zerolinewidth\": 2}, \"yaxis\": {\"automargin\": true, \"gridcolor\": \"white\", \"linecolor\": \"white\", \"ticks\": \"\", \"title\": {\"standoff\": 15}, \"zerolinecolor\": \"white\", \"zerolinewidth\": 2}}}, \"title\": {\"text\": \"Distribution of Speed Over Days in 2021\"}, \"xaxis\": {\"anchor\": \"y\", \"domain\": [0.0, 1.0], \"title\": {\"text\": \"\"}}, \"yaxis\": {\"anchor\": \"x\", \"domain\": [0.0, 1.0], \"title\": {\"text\": \"Speed (mph)\"}}},                        {\"responsive\": true}                    ).then(function(){\n",
       "                            \n",
       "var gd = document.getElementById('74483027-4614-46d2-bd9f-994b8f41c5df');\n",
       "var x = new MutationObserver(function (mutations, observer) {{\n",
       "        var display = window.getComputedStyle(gd).display;\n",
       "        if (!display || display === 'none') {{\n",
       "            console.log([gd, 'removed!']);\n",
       "            Plotly.purge(gd);\n",
       "            observer.disconnect();\n",
       "        }}\n",
       "}});\n",
       "\n",
       "// Listen for the removal of the full notebook cells\n",
       "var notebookContainer = gd.closest('#notebook-container');\n",
       "if (notebookContainer) {{\n",
       "    x.observe(notebookContainer, {childList: true});\n",
       "}}\n",
       "\n",
       "// Listen for the clearing of the current output cell\n",
       "var outputEl = gd.closest('.output');\n",
       "if (outputEl) {{\n",
       "    x.observe(outputEl, {childList: true});\n",
       "}}\n",
       "\n",
       "                        })                };                });            </script>        </div>"
      ]
     },
     "metadata": {},
     "output_type": "display_data"
    }
   ],
   "source": [
    "fig = px.box(speed_df.groupby([speed_df.index.month, speed_df.index.day]).mean().mean(axis=1), title='Distribution of Speed Over Days in 2021')\n",
    "fig.update_xaxes(title=\"\")\n",
    "fig.update_yaxes(title=\"Speed (mph)\")"
   ]
  }
 ],
 "metadata": {
  "kernelspec": {
   "display_name": "Python 3",
   "language": "python",
   "name": "python3"
  },
  "language_info": {
   "codemirror_mode": {
    "name": "ipython",
    "version": 3
   },
   "file_extension": ".py",
   "mimetype": "text/x-python",
   "name": "python",
   "nbconvert_exporter": "python",
   "pygments_lexer": "ipython3",
   "version": "3.8.3"
  }
 },
 "nbformat": 4,
 "nbformat_minor": 4
}
