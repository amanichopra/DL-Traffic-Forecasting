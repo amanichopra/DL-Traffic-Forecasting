{
 "cells": [
  {
   "cell_type": "markdown",
   "metadata": {},
   "source": [
    "<a id='top'></a>\n",
    "\n",
    "# Table of Contents"
   ]
  },
  {
   "cell_type": "markdown",
   "metadata": {},
   "source": [
    "1. [EDA for Station Metadata](#eda_station_meta)\n",
    "2. [EDA for Speed Data](#eda_station_speed)\n",
    "3. [EDA for Processed Data](#eda_processed_data)"
   ]
  },
  {
   "cell_type": "markdown",
   "metadata": {},
   "source": [
    "<a id='eda_station_meta'></a>\n",
    "\n",
    "# EDA for Station Metadata"
   ]
  },
  {
   "cell_type": "markdown",
   "metadata": {},
   "source": [
    "**Load**"
   ]
  },
  {
   "cell_type": "code",
   "execution_count": null,
   "metadata": {},
   "outputs": [],
   "source": [
    "import pickle"
   ]
  },
  {
   "cell_type": "code",
   "execution_count": 42,
   "metadata": {},
   "outputs": [
    {
     "data": {
      "text/html": [
       "<div>\n",
       "<style scoped>\n",
       "    .dataframe tbody tr th:only-of-type {\n",
       "        vertical-align: middle;\n",
       "    }\n",
       "\n",
       "    .dataframe tbody tr th {\n",
       "        vertical-align: top;\n",
       "    }\n",
       "\n",
       "    .dataframe thead th {\n",
       "        text-align: right;\n",
       "    }\n",
       "</style>\n",
       "<table border=\"1\" class=\"dataframe\">\n",
       "  <thead>\n",
       "    <tr style=\"text-align: right;\">\n",
       "      <th></th>\n",
       "      <th>ID</th>\n",
       "      <th>Fwy</th>\n",
       "      <th>Dir</th>\n",
       "      <th>Latitude</th>\n",
       "      <th>Longitude</th>\n",
       "      <th>Length</th>\n",
       "      <th>Type</th>\n",
       "      <th>Lanes</th>\n",
       "      <th>Abs_PM</th>\n",
       "    </tr>\n",
       "  </thead>\n",
       "  <tbody>\n",
       "    <tr>\n",
       "      <th>0</th>\n",
       "      <td>715898</td>\n",
       "      <td>5</td>\n",
       "      <td>S</td>\n",
       "      <td>33.880183</td>\n",
       "      <td>-118.021787</td>\n",
       "      <td>0.430</td>\n",
       "      <td>ML</td>\n",
       "      <td>3</td>\n",
       "      <td>117.280</td>\n",
       "    </tr>\n",
       "    <tr>\n",
       "      <th>1</th>\n",
       "      <td>715900</td>\n",
       "      <td>5</td>\n",
       "      <td>S</td>\n",
       "      <td>33.882892</td>\n",
       "      <td>-118.026822</td>\n",
       "      <td>NaN</td>\n",
       "      <td>OR</td>\n",
       "      <td>1</td>\n",
       "      <td>117.630</td>\n",
       "    </tr>\n",
       "    <tr>\n",
       "      <th>2</th>\n",
       "      <td>715901</td>\n",
       "      <td>5</td>\n",
       "      <td>N</td>\n",
       "      <td>33.883400</td>\n",
       "      <td>-118.027451</td>\n",
       "      <td>NaN</td>\n",
       "      <td>OR</td>\n",
       "      <td>1</td>\n",
       "      <td>117.743</td>\n",
       "    </tr>\n",
       "    <tr>\n",
       "      <th>3</th>\n",
       "      <td>715903</td>\n",
       "      <td>5</td>\n",
       "      <td>N</td>\n",
       "      <td>33.886992</td>\n",
       "      <td>-118.034125</td>\n",
       "      <td>NaN</td>\n",
       "      <td>OR</td>\n",
       "      <td>1</td>\n",
       "      <td>118.193</td>\n",
       "    </tr>\n",
       "    <tr>\n",
       "      <th>4</th>\n",
       "      <td>715904</td>\n",
       "      <td>5</td>\n",
       "      <td>S</td>\n",
       "      <td>33.892489</td>\n",
       "      <td>-118.044573</td>\n",
       "      <td>NaN</td>\n",
       "      <td>OR</td>\n",
       "      <td>1</td>\n",
       "      <td>118.840</td>\n",
       "    </tr>\n",
       "    <tr>\n",
       "      <th>...</th>\n",
       "      <td>...</td>\n",
       "      <td>...</td>\n",
       "      <td>...</td>\n",
       "      <td>...</td>\n",
       "      <td>...</td>\n",
       "      <td>...</td>\n",
       "      <td>...</td>\n",
       "      <td>...</td>\n",
       "      <td>...</td>\n",
       "    </tr>\n",
       "    <tr>\n",
       "      <th>4878</th>\n",
       "      <td>777066</td>\n",
       "      <td>405</td>\n",
       "      <td>S</td>\n",
       "      <td>34.161152</td>\n",
       "      <td>-118.469631</td>\n",
       "      <td>0.455</td>\n",
       "      <td>ML</td>\n",
       "      <td>3</td>\n",
       "      <td>63.272</td>\n",
       "    </tr>\n",
       "    <tr>\n",
       "      <th>4879</th>\n",
       "      <td>777067</td>\n",
       "      <td>405</td>\n",
       "      <td>N</td>\n",
       "      <td>34.161136</td>\n",
       "      <td>-118.469426</td>\n",
       "      <td>0.790</td>\n",
       "      <td>HV</td>\n",
       "      <td>1</td>\n",
       "      <td>63.272</td>\n",
       "    </tr>\n",
       "    <tr>\n",
       "      <th>4880</th>\n",
       "      <td>777068</td>\n",
       "      <td>405</td>\n",
       "      <td>S</td>\n",
       "      <td>34.161152</td>\n",
       "      <td>-118.469631</td>\n",
       "      <td>0.790</td>\n",
       "      <td>HV</td>\n",
       "      <td>1</td>\n",
       "      <td>63.272</td>\n",
       "    </tr>\n",
       "    <tr>\n",
       "      <th>4881</th>\n",
       "      <td>777168</td>\n",
       "      <td>10</td>\n",
       "      <td>E</td>\n",
       "      <td>34.068993</td>\n",
       "      <td>-118.149756</td>\n",
       "      <td>0.450</td>\n",
       "      <td>HV</td>\n",
       "      <td>1</td>\n",
       "      <td>20.897</td>\n",
       "    </tr>\n",
       "    <tr>\n",
       "      <th>4882</th>\n",
       "      <td>777169</td>\n",
       "      <td>10</td>\n",
       "      <td>W</td>\n",
       "      <td>34.069270</td>\n",
       "      <td>-118.149982</td>\n",
       "      <td>0.259</td>\n",
       "      <td>HV</td>\n",
       "      <td>2</td>\n",
       "      <td>20.897</td>\n",
       "    </tr>\n",
       "  </tbody>\n",
       "</table>\n",
       "<p>4883 rows × 9 columns</p>\n",
       "</div>"
      ],
      "text/plain": [
       "          ID  Fwy Dir   Latitude   Longitude  Length Type  Lanes   Abs_PM\n",
       "0     715898    5   S  33.880183 -118.021787   0.430   ML      3  117.280\n",
       "1     715900    5   S  33.882892 -118.026822     NaN   OR      1  117.630\n",
       "2     715901    5   N  33.883400 -118.027451     NaN   OR      1  117.743\n",
       "3     715903    5   N  33.886992 -118.034125     NaN   OR      1  118.193\n",
       "4     715904    5   S  33.892489 -118.044573     NaN   OR      1  118.840\n",
       "...      ...  ...  ..        ...         ...     ...  ...    ...      ...\n",
       "4878  777066  405   S  34.161152 -118.469631   0.455   ML      3   63.272\n",
       "4879  777067  405   N  34.161136 -118.469426   0.790   HV      1   63.272\n",
       "4880  777068  405   S  34.161152 -118.469631   0.790   HV      1   63.272\n",
       "4881  777168   10   E  34.068993 -118.149756   0.450   HV      1   20.897\n",
       "4882  777169   10   W  34.069270 -118.149982   0.259   HV      2   20.897\n",
       "\n",
       "[4883 rows x 9 columns]"
      ]
     },
     "execution_count": 42,
     "metadata": {},
     "output_type": "execute_result"
    }
   ],
   "source": [
    "with open('./data/loaded/meta.dat', 'rb') as f:\n",
    "    meta = pickle.load(f)\n",
    "meta"
   ]
  },
  {
   "cell_type": "markdown",
   "metadata": {},
   "source": [
    "**Build Map Visualizing all Stations and General Statistics**"
   ]
  },
  {
   "cell_type": "code",
   "execution_count": null,
   "metadata": {},
   "outputs": [],
   "source": [
    "from folium import Map\n",
    "import folium.plugins as plugins\n",
    "import folium"
   ]
  },
  {
   "cell_type": "code",
   "execution_count": null,
   "metadata": {},
   "outputs": [],
   "source": [
    "dir_mapper = {'S': 'south', 'N': 'north', 'E': 'east', 'W': 'west'}\n",
    "m = Map(location=(34.0522,-118.2437), tiles='https://tile.jawg.io/jawg-dark/{z}/{x}/{y}{r}.png?access-token=yxQukjQJyY3mRrF6htcGR22i1QJ6BP6wslSe2Cmq2k4aT8S0wbDtYMEaPhc8s240', attr='<a href=\"http://jawg.io\" title=\"Tiles Courtesy of Jawg Maps\" target=\"_blank\">&copy; <b>Jawg</b>Maps</a> &copy; <a href=\"https://www.openstreetmap.org/copyright\">OpenStreetMap</a> contributors', control_scale=True, max_bounds=True, prefer_canvas=True, zoom_start=10)\n",
    "for ind, row in meta.iterrows():\n",
    "    icon = folium.features.CustomIcon(f\"./data/icons/{(dir_mapper[row['Dir']])}.png\", icon_size=(15, 15))\n",
    "    style = 'font-family: Impact, Haettenschweiler, \"Franklin Gothic Bold\", Charcoal, \"Helvetica Inserat\", \"Bitstream Vera Sans Bold\", \"Arial Black\", \"sans serif\";'\n",
    "    html = f'''<body style=\"{style}\"><div align=\"center\", style=\"background-color: #BAD6FF; font-family: Arial\">''' + row.to_frame().transpose()[['ID', 'Fwy', 'Length', 'Type', 'Lanes']].transpose().to_html(justify=\"center\", header=False, index=True, index_names=False, col_space=300, classes=\"table-condensed table-responsive table-success\") + '</div></body>' \n",
    "    popup = folium.Popup(html, max_width=300)                \n",
    "    folium.Marker(row[['Latitude', 'Longitude']].values.tolist(), icon=icon, popup=popup).add_to(m)\n",
    "m.save('./plots/station_map.html')"
   ]
  },
  {
   "cell_type": "markdown",
   "metadata": {},
   "source": [
    "**Downsample Stations Using RDP**"
   ]
  },
  {
   "cell_type": "code",
   "execution_count": null,
   "metadata": {},
   "outputs": [],
   "source": [
    "from simplification.cutil import (\n",
    "    simplify_coords,\n",
    "    simplify_coords_idx,\n",
    "    simplify_coords_vw,\n",
    "    simplify_coords_vw_idx,\n",
    "    simplify_coords_vwp,\n",
    ")\n",
    "import pandas as pd"
   ]
  },
  {
   "cell_type": "code",
   "execution_count": null,
   "metadata": {},
   "outputs": [],
   "source": [
    "ds_coords = pd.DataFrame(simplify_coords(meta[[\"Latitude\", 'Longitude']].values, 0.01), columns=['Latitude', 'Longitude'])\n",
    "ds_coords"
   ]
  },
  {
   "cell_type": "markdown",
   "metadata": {},
   "source": [
    "**Downsample Stations Using Rules**"
   ]
  },
  {
   "cell_type": "markdown",
   "metadata": {},
   "source": [
    "All Stations"
   ]
  },
  {
   "cell_type": "code",
   "execution_count": null,
   "metadata": {
    "scrolled": true
   },
   "outputs": [],
   "source": [
    "m = Map(location=(34.0522,-118.2437), tiles='https://tile.jawg.io/jawg-dark/{z}/{x}/{y}{r}.png?access-token=yxQukjQJyY3mRrF6htcGR22i1QJ6BP6wslSe2Cmq2k4aT8S0wbDtYMEaPhc8s240', attr='<a href=\"http://jawg.io\" title=\"Tiles Courtesy of Jawg Maps\" target=\"_blank\">&copy; <b>Jawg</b>Maps</a> &copy; <a href=\"https://www.openstreetmap.org/copyright\">OpenStreetMap</a> contributors', control_scale=True, max_bounds=True, prefer_canvas=True, zoom_start=10)\n",
    "for ind, row in meta[meta['Dir'] == 'N'].iterrows():\n",
    "    icon = folium.features.CustomIcon(f\"./data/icons/north.png\", icon_size=(15, 15))\n",
    "    style = 'font-family: Impact, Haettenschweiler, \"Franklin Gothic Bold\", Charcoal, \"Helvetica Inserat\", \"Bitstream Vera Sans Bold\", \"Arial Black\", \"sans serif\";'\n",
    "    html = f'''<body style=\"{style}\"><div align=\"center\", style=\"background-color: #BAD6FF; font-family: Arial\">''' + row.to_frame().transpose()[['ID', 'Fwy', 'Length', 'Type', 'Lanes']].transpose().to_html(justify=\"center\", header=False, index=True, index_names=False, col_space=300, classes=\"table-condensed table-responsive table-success\") + '</div></body>' \n",
    "    popup = folium.Popup(html, max_width=300)                \n",
    "    folium.Marker(row[['Latitude', 'Longitude']].values.tolist(), icon=icon, popup=popup).add_to(m)"
   ]
  },
  {
   "cell_type": "markdown",
   "metadata": {},
   "source": [
    "After Downsampling"
   ]
  },
  {
   "cell_type": "code",
   "execution_count": null,
   "metadata": {},
   "outputs": [],
   "source": [
    "# 1 deg lat = 69 mi\n",
    "# 1 deg long = 54 mi\n",
    "distance_between_stations = meta[meta['Dir'] == 'N'].sort_values(['Latitude', 'Longitude'])[['Latitude', 'Longitude']].diff()\n",
    "stations = distance_between_stations[((distance_between_stations['Latitude'] * 69) > 0.1) | ((distance_between_stations['Longitude'] * 54) > 0.1)].index.tolist()\n",
    "#stations = set(stations).union(set([s - 1 for s in stations]))\n",
    "len(stations)"
   ]
  },
  {
   "cell_type": "code",
   "execution_count": null,
   "metadata": {},
   "outputs": [],
   "source": [
    "m = Map(location=(34.0522,-118.2437), tiles='https://tile.jawg.io/jawg-dark/{z}/{x}/{y}{r}.png?access-token=yxQukjQJyY3mRrF6htcGR22i1QJ6BP6wslSe2Cmq2k4aT8S0wbDtYMEaPhc8s240', attr='<a href=\"http://jawg.io\" title=\"Tiles Courtesy of Jawg Maps\" target=\"_blank\">&copy; <b>Jawg</b>Maps</a> &copy; <a href=\"https://www.openstreetmap.org/copyright\">OpenStreetMap</a> contributors', control_scale=True, max_bounds=True, prefer_canvas=True, zoom_start=10)\n",
    "for ind, row in meta[meta.index.isin(stations)].iterrows():\n",
    "    icon = folium.features.CustomIcon(f\"./data/icons/north.png\", icon_size=(15, 15))\n",
    "    style = 'font-family: Impact, Haettenschweiler, \"Franklin Gothic Bold\", Charcoal, \"Helvetica Inserat\", \"Bitstream Vera Sans Bold\", \"Arial Black\", \"sans serif\";'\n",
    "    html = f'''<body style=\"{style}\"><div align=\"center\", style=\"background-color: #BAD6FF; font-family: Arial\">''' + row.to_frame().transpose()[['ID', 'Fwy', 'Length', 'Type', 'Lanes']].transpose().to_html(justify=\"center\", header=False, index=True, index_names=False, col_space=300, classes=\"table-condensed table-responsive table-success\") + '</div></body>' \n",
    "    popup = folium.Popup(html, max_width=300)                \n",
    "    folium.Marker(row[['Latitude', 'Longitude']].values.tolist(), icon=icon, popup=popup).add_to(m)"
   ]
  },
  {
   "cell_type": "markdown",
   "metadata": {},
   "source": [
    "<a id='eda_station_speed'></a>\n",
    "\n",
    "# EDA for Speed Data"
   ]
  },
  {
   "cell_type": "markdown",
   "metadata": {},
   "source": [
    "**Data Dictionary**"
   ]
  },
  {
   "cell_type": "code",
   "execution_count": 12,
   "metadata": {},
   "outputs": [
    {
     "data": {
      "text/html": [
       "<div>\n",
       "<style scoped>\n",
       "    .dataframe tbody tr th:only-of-type {\n",
       "        vertical-align: middle;\n",
       "    }\n",
       "\n",
       "    .dataframe tbody tr th {\n",
       "        vertical-align: top;\n",
       "    }\n",
       "\n",
       "    .dataframe thead th {\n",
       "        text-align: right;\n",
       "    }\n",
       "</style>\n",
       "<table border=\"1\" class=\"dataframe\">\n",
       "  <thead>\n",
       "    <tr style=\"text-align: right;\">\n",
       "      <th></th>\n",
       "      <th>Feature</th>\n",
       "      <th>Description</th>\n",
       "      <th>Unit</th>\n",
       "    </tr>\n",
       "  </thead>\n",
       "  <tbody>\n",
       "    <tr>\n",
       "      <th>0</th>\n",
       "      <td>Timestamp</td>\n",
       "      <td>The date and time of the beginning of the summ...</td>\n",
       "      <td>NaN</td>\n",
       "    </tr>\n",
       "    <tr>\n",
       "      <th>1</th>\n",
       "      <td>Station</td>\n",
       "      <td>Unique station identifier. Use this value to c...</td>\n",
       "      <td>NaN</td>\n",
       "    </tr>\n",
       "    <tr>\n",
       "      <th>2</th>\n",
       "      <td>District</td>\n",
       "      <td>District #</td>\n",
       "      <td>NaN</td>\n",
       "    </tr>\n",
       "    <tr>\n",
       "      <th>3</th>\n",
       "      <td>Freeway #</td>\n",
       "      <td>Freeway #</td>\n",
       "      <td>NaN</td>\n",
       "    </tr>\n",
       "    <tr>\n",
       "      <th>4</th>\n",
       "      <td>Direction of Travel</td>\n",
       "      <td>N | S | E | W</td>\n",
       "      <td>NaN</td>\n",
       "    </tr>\n",
       "    <tr>\n",
       "      <th>5</th>\n",
       "      <td>Lane Type</td>\n",
       "      <td>A string indicating the type of lane. Possible...</td>\n",
       "      <td>NaN</td>\n",
       "    </tr>\n",
       "    <tr>\n",
       "      <th>6</th>\n",
       "      <td>Station Length</td>\n",
       "      <td>Segment length covered by the station in miles...</td>\n",
       "      <td>NaN</td>\n",
       "    </tr>\n",
       "    <tr>\n",
       "      <th>7</th>\n",
       "      <td>Samples</td>\n",
       "      <td>Total number of samples received for all lanes.</td>\n",
       "      <td>NaN</td>\n",
       "    </tr>\n",
       "    <tr>\n",
       "      <th>8</th>\n",
       "      <td>% Observed</td>\n",
       "      <td>Percentage of individual lane points at this l...</td>\n",
       "      <td>%</td>\n",
       "    </tr>\n",
       "    <tr>\n",
       "      <th>9</th>\n",
       "      <td>Total Flow</td>\n",
       "      <td>Sum of flows over the 5-minute period across a...</td>\n",
       "      <td>Veh/5-min</td>\n",
       "    </tr>\n",
       "    <tr>\n",
       "      <th>10</th>\n",
       "      <td>Avg Occupancy</td>\n",
       "      <td>Average occupancy across all lanes over the 5-...</td>\n",
       "      <td>%</td>\n",
       "    </tr>\n",
       "    <tr>\n",
       "      <th>11</th>\n",
       "      <td>Avg Speed</td>\n",
       "      <td>Flow-weighted average speed over the 5-minute ...</td>\n",
       "      <td>Mph</td>\n",
       "    </tr>\n",
       "    <tr>\n",
       "      <th>12</th>\n",
       "      <td>Lane N Samples</td>\n",
       "      <td>Number of good samples received for lane N. N ...</td>\n",
       "      <td>NaN</td>\n",
       "    </tr>\n",
       "    <tr>\n",
       "      <th>13</th>\n",
       "      <td>Lane N Flow</td>\n",
       "      <td>Total flow for lane N over the 5-minute period...</td>\n",
       "      <td>Veh/5-min</td>\n",
       "    </tr>\n",
       "    <tr>\n",
       "      <th>14</th>\n",
       "      <td>Lane N Avg Occ</td>\n",
       "      <td>Average occupancy for lane N expressed as a de...</td>\n",
       "      <td>%</td>\n",
       "    </tr>\n",
       "    <tr>\n",
       "      <th>15</th>\n",
       "      <td>Lane N Avg Speed</td>\n",
       "      <td>Flow-weighted average of lane N speeds. If flo...</td>\n",
       "      <td>Mph</td>\n",
       "    </tr>\n",
       "    <tr>\n",
       "      <th>16</th>\n",
       "      <td>Lane N Observed</td>\n",
       "      <td>1 indicates observed data, 0 indicates imputed.</td>\n",
       "      <td>NaN</td>\n",
       "    </tr>\n",
       "  </tbody>\n",
       "</table>\n",
       "</div>"
      ],
      "text/plain": [
       "                Feature                                        Description  \\\n",
       "0             Timestamp  The date and time of the beginning of the summ...   \n",
       "1               Station  Unique station identifier. Use this value to c...   \n",
       "2              District                                        District #    \n",
       "3             Freeway #                                          Freeway #   \n",
       "4   Direction of Travel                                     N | S | E | W    \n",
       "5             Lane Type  A string indicating the type of lane. Possible...   \n",
       "6        Station Length  Segment length covered by the station in miles...   \n",
       "7               Samples   Total number of samples received for all lanes.    \n",
       "8            % Observed  Percentage of individual lane points at this l...   \n",
       "9            Total Flow  Sum of flows over the 5-minute period across a...   \n",
       "10        Avg Occupancy  Average occupancy across all lanes over the 5-...   \n",
       "11            Avg Speed  Flow-weighted average speed over the 5-minute ...   \n",
       "12       Lane N Samples  Number of good samples received for lane N. N ...   \n",
       "13          Lane N Flow  Total flow for lane N over the 5-minute period...   \n",
       "14       Lane N Avg Occ  Average occupancy for lane N expressed as a de...   \n",
       "15     Lane N Avg Speed  Flow-weighted average of lane N speeds. If flo...   \n",
       "16      Lane N Observed    1 indicates observed data, 0 indicates imputed.   \n",
       "\n",
       "         Unit  \n",
       "0         NaN  \n",
       "1         NaN  \n",
       "2         NaN  \n",
       "3         NaN  \n",
       "4         NaN  \n",
       "5         NaN  \n",
       "6         NaN  \n",
       "7         NaN  \n",
       "8           %  \n",
       "9   Veh/5-min  \n",
       "10          %  \n",
       "11        Mph  \n",
       "12        NaN  \n",
       "13  Veh/5-min  \n",
       "14          %  \n",
       "15        Mph  \n",
       "16        NaN  "
      ]
     },
     "execution_count": 12,
     "metadata": {},
     "output_type": "execute_result"
    }
   ],
   "source": [
    "data_dict = pd.read_csv('./data/pems/station_dict.csv', names=['Feature', 'Description', 'Unit']).iloc[1:].reset_index(drop=True)\n",
    "data_dict"
   ]
  },
  {
   "cell_type": "code",
   "execution_count": 13,
   "metadata": {},
   "outputs": [
    {
     "data": {
      "text/plain": [
       "365"
      ]
     },
     "execution_count": 13,
     "metadata": {},
     "output_type": "execute_result"
    }
   ],
   "source": [
    "from glob import glob\n",
    "files = glob('./data/pems/*.gz')\n",
    "len(files)"
   ]
  },
  {
   "cell_type": "code",
   "execution_count": 14,
   "metadata": {},
   "outputs": [
    {
     "data": {
      "text/html": [
       "<div>\n",
       "<style scoped>\n",
       "    .dataframe tbody tr th:only-of-type {\n",
       "        vertical-align: middle;\n",
       "    }\n",
       "\n",
       "    .dataframe tbody tr th {\n",
       "        vertical-align: top;\n",
       "    }\n",
       "\n",
       "    .dataframe thead th {\n",
       "        text-align: right;\n",
       "    }\n",
       "</style>\n",
       "<table border=\"1\" class=\"dataframe\">\n",
       "  <thead>\n",
       "    <tr style=\"text-align: right;\">\n",
       "      <th></th>\n",
       "      <th>Timestamp</th>\n",
       "      <th>Station</th>\n",
       "      <th>Station Length</th>\n",
       "      <th>Samples</th>\n",
       "      <th>Total Flow</th>\n",
       "      <th>Avg Occupancy</th>\n",
       "      <th>Avg Speed</th>\n",
       "      <th>Lane N Samples</th>\n",
       "      <th>Lane N Flow</th>\n",
       "      <th>Lane N Avg Occ</th>\n",
       "      <th>Lane N Avg Speed</th>\n",
       "      <th>Lane N Observed</th>\n",
       "    </tr>\n",
       "  </thead>\n",
       "  <tbody>\n",
       "    <tr>\n",
       "      <th>0</th>\n",
       "      <td>01/05/2021 00:00:00</td>\n",
       "      <td>715898</td>\n",
       "      <td>0.43</td>\n",
       "      <td>0</td>\n",
       "      <td>202.0</td>\n",
       "      <td>0.0357</td>\n",
       "      <td>70.4</td>\n",
       "      <td>0.0</td>\n",
       "      <td>54.0</td>\n",
       "      <td>0.0254</td>\n",
       "      <td>74.2</td>\n",
       "      <td>0</td>\n",
       "    </tr>\n",
       "    <tr>\n",
       "      <th>1</th>\n",
       "      <td>01/05/2021 00:00:00</td>\n",
       "      <td>715900</td>\n",
       "      <td>NaN</td>\n",
       "      <td>0</td>\n",
       "      <td>NaN</td>\n",
       "      <td>NaN</td>\n",
       "      <td>NaN</td>\n",
       "      <td>0.0</td>\n",
       "      <td>NaN</td>\n",
       "      <td>NaN</td>\n",
       "      <td>NaN</td>\n",
       "      <td>0</td>\n",
       "    </tr>\n",
       "    <tr>\n",
       "      <th>2</th>\n",
       "      <td>01/05/2021 00:00:00</td>\n",
       "      <td>715901</td>\n",
       "      <td>NaN</td>\n",
       "      <td>0</td>\n",
       "      <td>NaN</td>\n",
       "      <td>NaN</td>\n",
       "      <td>NaN</td>\n",
       "      <td>0.0</td>\n",
       "      <td>NaN</td>\n",
       "      <td>NaN</td>\n",
       "      <td>NaN</td>\n",
       "      <td>0</td>\n",
       "    </tr>\n",
       "    <tr>\n",
       "      <th>3</th>\n",
       "      <td>01/05/2021 00:00:00</td>\n",
       "      <td>715903</td>\n",
       "      <td>NaN</td>\n",
       "      <td>0</td>\n",
       "      <td>NaN</td>\n",
       "      <td>NaN</td>\n",
       "      <td>NaN</td>\n",
       "      <td>0.0</td>\n",
       "      <td>NaN</td>\n",
       "      <td>NaN</td>\n",
       "      <td>NaN</td>\n",
       "      <td>0</td>\n",
       "    </tr>\n",
       "    <tr>\n",
       "      <th>4</th>\n",
       "      <td>01/05/2021 00:00:00</td>\n",
       "      <td>715904</td>\n",
       "      <td>NaN</td>\n",
       "      <td>9</td>\n",
       "      <td>NaN</td>\n",
       "      <td>NaN</td>\n",
       "      <td>NaN</td>\n",
       "      <td>9.0</td>\n",
       "      <td>NaN</td>\n",
       "      <td>NaN</td>\n",
       "      <td>NaN</td>\n",
       "      <td>0</td>\n",
       "    </tr>\n",
       "  </tbody>\n",
       "</table>\n",
       "</div>"
      ],
      "text/plain": [
       "             Timestamp  Station  Station Length  Samples  Total Flow  \\\n",
       "0  01/05/2021 00:00:00   715898            0.43        0       202.0   \n",
       "1  01/05/2021 00:00:00   715900             NaN        0         NaN   \n",
       "2  01/05/2021 00:00:00   715901             NaN        0         NaN   \n",
       "3  01/05/2021 00:00:00   715903             NaN        0         NaN   \n",
       "4  01/05/2021 00:00:00   715904             NaN        9         NaN   \n",
       "\n",
       "   Avg Occupancy  Avg Speed  Lane N Samples  Lane N Flow  Lane N Avg Occ  \\\n",
       "0         0.0357       70.4             0.0         54.0          0.0254   \n",
       "1            NaN        NaN             0.0          NaN             NaN   \n",
       "2            NaN        NaN             0.0          NaN             NaN   \n",
       "3            NaN        NaN             0.0          NaN             NaN   \n",
       "4            NaN        NaN             9.0          NaN             NaN   \n",
       "\n",
       "   Lane N Avg Speed  Lane N Observed  \n",
       "0              74.2                0  \n",
       "1               NaN                0  \n",
       "2               NaN                0  \n",
       "3               NaN                0  \n",
       "4               NaN                0  "
      ]
     },
     "execution_count": 14,
     "metadata": {},
     "output_type": "execute_result"
    }
   ],
   "source": [
    "import gzip\n",
    "with gzip.open(files[0]) as f: # load one file just to explore\n",
    "    df = pd.read_csv(f, index_col=False, names=data_dict['Feature'].values.tolist())[['Timestamp', 'Station', 'Station Length', 'Samples', 'Total Flow', 'Avg Occupancy', 'Avg Speed', 'Lane N Samples', 'Lane N Flow', 'Lane N Avg Occ', 'Lane N Avg Speed', 'Lane N Observed']]\n",
    "df.head()"
   ]
  },
  {
   "cell_type": "code",
   "execution_count": 15,
   "metadata": {},
   "outputs": [],
   "source": [
    "dir_mapper = {'N': 'north', 'E': 'east', 'S': 'south', 'W': 'west'}"
   ]
  },
  {
   "cell_type": "markdown",
   "metadata": {},
   "source": [
    "**Top 5 Sensors w/ Highest Avg. Speed on 01/05/2021**"
   ]
  },
  {
   "cell_type": "code",
   "execution_count": 16,
   "metadata": {
    "scrolled": false
   },
   "outputs": [],
   "source": [
    "high_speed_sensors = df.groupby('Station')['Avg Speed'].mean().dropna().sort_values().tail(5)\n",
    "high_speed_sensors_meta = meta.merge(high_speed_sensors, left_on='ID', right_index=True)\n",
    "\n",
    "m = Map(location=(34.0522,-118.2437), tiles='https://tile.jawg.io/jawg-dark/{z}/{x}/{y}{r}.png?access-token=yxQukjQJyY3mRrF6htcGR22i1QJ6BP6wslSe2Cmq2k4aT8S0wbDtYMEaPhc8s240', attr='<a href=\"http://jawg.io\" title=\"Tiles Courtesy of Jawg Maps\" target=\"_blank\">&copy; <b>Jawg</b>Maps</a> &copy; <a href=\"https://www.openstreetmap.org/copyright\">OpenStreetMap</a> contributors', control_scale=True, max_bounds=True, prefer_canvas=True, zoom_start=10)\n",
    "for ind, row in high_speed_sensors_meta.iterrows():\n",
    "    icon = folium.features.CustomIcon(f\"./data/icons/{dir_mapper[row['Dir']]}.png\", icon_size=(15, 15))\n",
    "    style = 'font-family: Impact, Haettenschweiler, \"Franklin Gothic Bold\", Charcoal, \"Helvetica Inserat\", \"Bitstream Vera Sans Bold\", \"Arial Black\", \"sans serif\";'\n",
    "    html = f'''<body style=\"{style}\"><div align=\"center\", style=\"background-color: #BAD6FF; font-family: Arial\">''' + row.to_frame().transpose()[['ID', 'Fwy', 'Length', 'Type', 'Lanes', 'Avg Speed']].transpose().to_html(justify=\"center\", header=False, index=True, index_names=False, col_space=300, classes=\"table-condensed table-responsive table-success\") + '</div></body>' \n",
    "    popup = folium.Popup(html, max_width=300)                \n",
    "    folium.Marker(row[['Latitude', 'Longitude']].values.tolist(), icon=icon, popup=popup).add_to(m)"
   ]
  },
  {
   "cell_type": "markdown",
   "metadata": {},
   "source": [
    "**Top 5 Sensors w/ Lowest Avg. Speed on 01/05/2021**"
   ]
  },
  {
   "cell_type": "code",
   "execution_count": null,
   "metadata": {},
   "outputs": [],
   "source": [
    "low_speed_sensors = df.groupby('Station')['Avg Speed'].mean().dropna().sort_values().head(5)\n",
    "low_speed_sensors_meta = meta.merge(low_speed_sensors, left_on='ID', right_index=True)\n",
    "\n",
    "m = Map(location=(34.0522,-118.2437), tiles='https://tile.jawg.io/jawg-dark/{z}/{x}/{y}{r}.png?access-token=yxQukjQJyY3mRrF6htcGR22i1QJ6BP6wslSe2Cmq2k4aT8S0wbDtYMEaPhc8s240', attr='<a href=\"http://jawg.io\" title=\"Tiles Courtesy of Jawg Maps\" target=\"_blank\">&copy; <b>Jawg</b>Maps</a> &copy; <a href=\"https://www.openstreetmap.org/copyright\">OpenStreetMap</a> contributors', control_scale=True, max_bounds=True, prefer_canvas=True, zoom_start=10)\n",
    "for ind, row in low_speed_sensors_meta.iterrows():  \n",
    "    icon = folium.features.CustomIcon(f\"./data/icons/{dir_mapper[row['Dir']]}.png\", icon_size=(15, 15))\n",
    "    style = 'font-family: Impact, Haettenschweiler, \"Franklin Gothic Bold\", Charcoal, \"Helvetica Inserat\", \"Bitstream Vera Sans Bold\", \"Arial Black\", \"sans serif\";'\n",
    "    html = f'''<body style=\"{style}\"><div align=\"center\", style=\"background-color: #BAD6FF; font-family: Arial\">''' + row.to_frame().transpose()[['ID', 'Fwy', 'Length', 'Type', 'Lanes', 'Avg Speed']].transpose().to_html(justify=\"center\", header=False, index=True, index_names=False, col_space=300, classes=\"table-condensed table-responsive table-success\") + '</div></body>' \n",
    "    popup = folium.Popup(html, max_width=300)                \n",
    "    folium.Marker(row[['Latitude', 'Longitude']].values.tolist(), icon=icon, popup=popup).add_to(m)\n"
   ]
  },
  {
   "cell_type": "markdown",
   "metadata": {},
   "source": [
    "**How Does Speed Change Over Time for a Particular Station?**"
   ]
  },
  {
   "cell_type": "code",
   "execution_count": 17,
   "metadata": {},
   "outputs": [
    {
     "data": {
      "text/html": [
       "<div>\n",
       "<style scoped>\n",
       "    .dataframe tbody tr th:only-of-type {\n",
       "        vertical-align: middle;\n",
       "    }\n",
       "\n",
       "    .dataframe tbody tr th {\n",
       "        vertical-align: top;\n",
       "    }\n",
       "\n",
       "    .dataframe thead th {\n",
       "        text-align: right;\n",
       "    }\n",
       "</style>\n",
       "<table border=\"1\" class=\"dataframe\">\n",
       "  <thead>\n",
       "    <tr style=\"text-align: right;\">\n",
       "      <th></th>\n",
       "      <th>Timestamp</th>\n",
       "      <th>Station</th>\n",
       "      <th>Station Length</th>\n",
       "      <th>Samples</th>\n",
       "      <th>Total Flow</th>\n",
       "      <th>Avg Occupancy</th>\n",
       "      <th>Avg Speed</th>\n",
       "      <th>Lane N Samples</th>\n",
       "      <th>Lane N Flow</th>\n",
       "      <th>Lane N Avg Occ</th>\n",
       "      <th>Lane N Avg Speed</th>\n",
       "      <th>Lane N Observed</th>\n",
       "    </tr>\n",
       "  </thead>\n",
       "  <tbody>\n",
       "    <tr>\n",
       "      <th>0</th>\n",
       "      <td>01/05/2021 00:00:00</td>\n",
       "      <td>715898</td>\n",
       "      <td>0.43</td>\n",
       "      <td>0</td>\n",
       "      <td>202.0</td>\n",
       "      <td>0.0357</td>\n",
       "      <td>70.4</td>\n",
       "      <td>0.0</td>\n",
       "      <td>54.0</td>\n",
       "      <td>0.0254</td>\n",
       "      <td>74.2</td>\n",
       "      <td>0</td>\n",
       "    </tr>\n",
       "    <tr>\n",
       "      <th>4888</th>\n",
       "      <td>01/05/2021 00:05:00</td>\n",
       "      <td>715898</td>\n",
       "      <td>0.43</td>\n",
       "      <td>0</td>\n",
       "      <td>198.0</td>\n",
       "      <td>0.0346</td>\n",
       "      <td>70.0</td>\n",
       "      <td>0.0</td>\n",
       "      <td>53.0</td>\n",
       "      <td>0.0246</td>\n",
       "      <td>73.8</td>\n",
       "      <td>0</td>\n",
       "    </tr>\n",
       "    <tr>\n",
       "      <th>9776</th>\n",
       "      <td>01/05/2021 00:10:00</td>\n",
       "      <td>715898</td>\n",
       "      <td>0.43</td>\n",
       "      <td>0</td>\n",
       "      <td>193.0</td>\n",
       "      <td>0.0349</td>\n",
       "      <td>69.8</td>\n",
       "      <td>0.0</td>\n",
       "      <td>51.0</td>\n",
       "      <td>0.0248</td>\n",
       "      <td>73.7</td>\n",
       "      <td>0</td>\n",
       "    </tr>\n",
       "    <tr>\n",
       "      <th>14664</th>\n",
       "      <td>01/05/2021 00:15:00</td>\n",
       "      <td>715898</td>\n",
       "      <td>0.43</td>\n",
       "      <td>0</td>\n",
       "      <td>188.0</td>\n",
       "      <td>0.0337</td>\n",
       "      <td>69.7</td>\n",
       "      <td>0.0</td>\n",
       "      <td>50.0</td>\n",
       "      <td>0.0240</td>\n",
       "      <td>73.5</td>\n",
       "      <td>0</td>\n",
       "    </tr>\n",
       "    <tr>\n",
       "      <th>19552</th>\n",
       "      <td>01/05/2021 00:20:00</td>\n",
       "      <td>715898</td>\n",
       "      <td>0.43</td>\n",
       "      <td>0</td>\n",
       "      <td>179.0</td>\n",
       "      <td>0.0322</td>\n",
       "      <td>69.6</td>\n",
       "      <td>0.0</td>\n",
       "      <td>48.0</td>\n",
       "      <td>0.0229</td>\n",
       "      <td>73.4</td>\n",
       "      <td>0</td>\n",
       "    </tr>\n",
       "  </tbody>\n",
       "</table>\n",
       "</div>"
      ],
      "text/plain": [
       "                 Timestamp  Station  Station Length  Samples  Total Flow  \\\n",
       "0      01/05/2021 00:00:00   715898            0.43        0       202.0   \n",
       "4888   01/05/2021 00:05:00   715898            0.43        0       198.0   \n",
       "9776   01/05/2021 00:10:00   715898            0.43        0       193.0   \n",
       "14664  01/05/2021 00:15:00   715898            0.43        0       188.0   \n",
       "19552  01/05/2021 00:20:00   715898            0.43        0       179.0   \n",
       "\n",
       "       Avg Occupancy  Avg Speed  Lane N Samples  Lane N Flow  Lane N Avg Occ  \\\n",
       "0             0.0357       70.4             0.0         54.0          0.0254   \n",
       "4888          0.0346       70.0             0.0         53.0          0.0246   \n",
       "9776          0.0349       69.8             0.0         51.0          0.0248   \n",
       "14664         0.0337       69.7             0.0         50.0          0.0240   \n",
       "19552         0.0322       69.6             0.0         48.0          0.0229   \n",
       "\n",
       "       Lane N Avg Speed  Lane N Observed  \n",
       "0                  74.2                0  \n",
       "4888               73.8                0  \n",
       "9776               73.7                0  \n",
       "14664              73.5                0  \n",
       "19552              73.4                0  "
      ]
     },
     "execution_count": 17,
     "metadata": {},
     "output_type": "execute_result"
    }
   ],
   "source": [
    "# find station that has most speed readings\n",
    "station_most_speed_readings = df.groupby('Station')['Avg Speed'].count().idxmax()\n",
    "df[df['Station'] == station_most_speed_readings].head()"
   ]
  },
  {
   "cell_type": "code",
   "execution_count": 20,
   "metadata": {},
   "outputs": [
    {
     "data": {
      "application/vnd.plotly.v1+json": {
       "config": {
        "plotlyServerURL": "https://plot.ly"
       },
       "data": [
        {
         "hovertemplate": "Timestamp=%{x}<br>Avg Speed=%{y}<extra></extra>",
         "legendgroup": "",
         "line": {
          "color": "#636efa",
          "dash": "solid"
         },
         "mode": "lines",
         "name": "",
         "orientation": "v",
         "showlegend": false,
         "type": "scatter",
         "x": [
          "01/05/2021 00:00:00",
          "01/05/2021 00:05:00",
          "01/05/2021 00:10:00",
          "01/05/2021 00:15:00",
          "01/05/2021 00:20:00",
          "01/05/2021 00:25:00",
          "01/05/2021 00:30:00",
          "01/05/2021 00:35:00",
          "01/05/2021 00:40:00",
          "01/05/2021 00:45:00",
          "01/05/2021 00:50:00",
          "01/05/2021 00:55:00",
          "01/05/2021 01:00:00",
          "01/05/2021 01:05:00",
          "01/05/2021 01:10:00",
          "01/05/2021 01:15:00",
          "01/05/2021 01:20:00",
          "01/05/2021 01:25:00",
          "01/05/2021 01:30:00",
          "01/05/2021 01:35:00",
          "01/05/2021 01:40:00",
          "01/05/2021 01:45:00",
          "01/05/2021 01:50:00",
          "01/05/2021 01:55:00",
          "01/05/2021 02:00:00",
          "01/05/2021 02:05:00",
          "01/05/2021 02:10:00",
          "01/05/2021 02:15:00",
          "01/05/2021 02:20:00",
          "01/05/2021 02:25:00",
          "01/05/2021 02:30:00",
          "01/05/2021 02:35:00",
          "01/05/2021 02:40:00",
          "01/05/2021 02:45:00",
          "01/05/2021 02:50:00",
          "01/05/2021 02:55:00",
          "01/05/2021 03:00:00",
          "01/05/2021 03:05:00",
          "01/05/2021 03:10:00",
          "01/05/2021 03:15:00",
          "01/05/2021 03:20:00",
          "01/05/2021 03:25:00",
          "01/05/2021 03:30:00",
          "01/05/2021 03:35:00",
          "01/05/2021 03:40:00",
          "01/05/2021 03:45:00",
          "01/05/2021 03:50:00",
          "01/05/2021 03:55:00",
          "01/05/2021 04:00:00",
          "01/05/2021 04:05:00",
          "01/05/2021 04:10:00",
          "01/05/2021 04:15:00",
          "01/05/2021 04:20:00",
          "01/05/2021 04:25:00",
          "01/05/2021 04:30:00",
          "01/05/2021 04:35:00",
          "01/05/2021 04:40:00",
          "01/05/2021 04:45:00",
          "01/05/2021 04:50:00",
          "01/05/2021 04:55:00",
          "01/05/2021 05:00:00",
          "01/05/2021 05:05:00",
          "01/05/2021 05:10:00",
          "01/05/2021 05:15:00",
          "01/05/2021 05:20:00",
          "01/05/2021 05:25:00",
          "01/05/2021 05:30:00",
          "01/05/2021 05:35:00",
          "01/05/2021 05:40:00",
          "01/05/2021 05:45:00",
          "01/05/2021 05:50:00",
          "01/05/2021 05:55:00",
          "01/05/2021 06:00:00",
          "01/05/2021 06:05:00",
          "01/05/2021 06:10:00",
          "01/05/2021 06:15:00",
          "01/05/2021 06:20:00",
          "01/05/2021 06:25:00",
          "01/05/2021 06:30:00",
          "01/05/2021 06:35:00",
          "01/05/2021 06:40:00",
          "01/05/2021 06:45:00",
          "01/05/2021 06:50:00",
          "01/05/2021 06:55:00",
          "01/05/2021 07:00:00",
          "01/05/2021 07:05:00",
          "01/05/2021 07:10:00",
          "01/05/2021 07:15:00",
          "01/05/2021 07:20:00",
          "01/05/2021 07:25:00",
          "01/05/2021 07:30:00",
          "01/05/2021 07:35:00",
          "01/05/2021 07:40:00",
          "01/05/2021 07:45:00",
          "01/05/2021 07:50:00",
          "01/05/2021 07:55:00",
          "01/05/2021 08:00:00",
          "01/05/2021 08:05:00",
          "01/05/2021 08:10:00",
          "01/05/2021 08:15:00",
          "01/05/2021 08:20:00",
          "01/05/2021 08:25:00",
          "01/05/2021 08:30:00",
          "01/05/2021 08:35:00",
          "01/05/2021 08:40:00",
          "01/05/2021 08:45:00",
          "01/05/2021 08:50:00",
          "01/05/2021 08:55:00",
          "01/05/2021 09:00:00",
          "01/05/2021 09:05:00",
          "01/05/2021 09:10:00",
          "01/05/2021 09:15:00",
          "01/05/2021 09:20:00",
          "01/05/2021 09:25:00",
          "01/05/2021 09:30:00",
          "01/05/2021 09:35:00",
          "01/05/2021 09:40:00",
          "01/05/2021 09:45:00",
          "01/05/2021 09:50:00",
          "01/05/2021 09:55:00",
          "01/05/2021 10:00:00",
          "01/05/2021 10:05:00",
          "01/05/2021 10:10:00",
          "01/05/2021 10:15:00",
          "01/05/2021 10:20:00",
          "01/05/2021 10:25:00",
          "01/05/2021 10:30:00",
          "01/05/2021 10:35:00",
          "01/05/2021 10:40:00",
          "01/05/2021 10:45:00",
          "01/05/2021 10:50:00",
          "01/05/2021 10:55:00",
          "01/05/2021 11:00:00",
          "01/05/2021 11:05:00",
          "01/05/2021 11:10:00",
          "01/05/2021 11:15:00",
          "01/05/2021 11:20:00",
          "01/05/2021 11:25:00",
          "01/05/2021 11:30:00",
          "01/05/2021 11:35:00",
          "01/05/2021 11:40:00",
          "01/05/2021 11:45:00",
          "01/05/2021 11:50:00",
          "01/05/2021 11:55:00",
          "01/05/2021 12:00:00",
          "01/05/2021 12:05:00",
          "01/05/2021 12:10:00",
          "01/05/2021 12:15:00",
          "01/05/2021 12:20:00",
          "01/05/2021 12:25:00",
          "01/05/2021 12:30:00",
          "01/05/2021 12:35:00",
          "01/05/2021 12:40:00",
          "01/05/2021 12:45:00",
          "01/05/2021 12:50:00",
          "01/05/2021 12:55:00",
          "01/05/2021 13:00:00",
          "01/05/2021 13:05:00",
          "01/05/2021 13:10:00",
          "01/05/2021 13:15:00",
          "01/05/2021 13:20:00",
          "01/05/2021 13:25:00",
          "01/05/2021 13:30:00",
          "01/05/2021 13:35:00",
          "01/05/2021 13:40:00",
          "01/05/2021 13:45:00",
          "01/05/2021 13:50:00",
          "01/05/2021 13:55:00",
          "01/05/2021 14:00:00",
          "01/05/2021 14:05:00",
          "01/05/2021 14:10:00",
          "01/05/2021 14:15:00",
          "01/05/2021 14:20:00",
          "01/05/2021 14:25:00",
          "01/05/2021 14:30:00",
          "01/05/2021 14:35:00",
          "01/05/2021 14:40:00",
          "01/05/2021 14:45:00",
          "01/05/2021 14:50:00",
          "01/05/2021 14:55:00",
          "01/05/2021 15:00:00",
          "01/05/2021 15:05:00",
          "01/05/2021 15:10:00",
          "01/05/2021 15:15:00",
          "01/05/2021 15:20:00",
          "01/05/2021 15:25:00",
          "01/05/2021 15:30:00",
          "01/05/2021 15:35:00",
          "01/05/2021 15:40:00",
          "01/05/2021 15:45:00",
          "01/05/2021 15:50:00",
          "01/05/2021 15:55:00",
          "01/05/2021 16:00:00",
          "01/05/2021 16:05:00",
          "01/05/2021 16:10:00",
          "01/05/2021 16:15:00",
          "01/05/2021 16:20:00",
          "01/05/2021 16:25:00",
          "01/05/2021 16:30:00",
          "01/05/2021 16:35:00",
          "01/05/2021 16:40:00",
          "01/05/2021 16:45:00",
          "01/05/2021 16:50:00",
          "01/05/2021 16:55:00",
          "01/05/2021 17:00:00",
          "01/05/2021 17:05:00",
          "01/05/2021 17:10:00",
          "01/05/2021 17:15:00",
          "01/05/2021 17:20:00",
          "01/05/2021 17:25:00",
          "01/05/2021 17:30:00",
          "01/05/2021 17:35:00",
          "01/05/2021 17:40:00",
          "01/05/2021 17:45:00",
          "01/05/2021 17:50:00",
          "01/05/2021 17:55:00",
          "01/05/2021 18:00:00",
          "01/05/2021 18:05:00",
          "01/05/2021 18:10:00",
          "01/05/2021 18:15:00",
          "01/05/2021 18:20:00",
          "01/05/2021 18:25:00",
          "01/05/2021 18:30:00",
          "01/05/2021 18:35:00",
          "01/05/2021 18:40:00",
          "01/05/2021 18:45:00",
          "01/05/2021 18:50:00",
          "01/05/2021 18:55:00",
          "01/05/2021 19:00:00",
          "01/05/2021 19:05:00",
          "01/05/2021 19:10:00",
          "01/05/2021 19:15:00",
          "01/05/2021 19:20:00",
          "01/05/2021 19:25:00",
          "01/05/2021 19:30:00",
          "01/05/2021 19:35:00",
          "01/05/2021 19:40:00",
          "01/05/2021 19:45:00",
          "01/05/2021 19:50:00",
          "01/05/2021 19:55:00",
          "01/05/2021 20:00:00",
          "01/05/2021 20:05:00",
          "01/05/2021 20:10:00",
          "01/05/2021 20:15:00",
          "01/05/2021 20:20:00",
          "01/05/2021 20:25:00",
          "01/05/2021 20:30:00",
          "01/05/2021 20:35:00",
          "01/05/2021 20:40:00",
          "01/05/2021 20:45:00",
          "01/05/2021 20:50:00",
          "01/05/2021 20:55:00",
          "01/05/2021 21:00:00",
          "01/05/2021 21:05:00",
          "01/05/2021 21:10:00",
          "01/05/2021 21:15:00",
          "01/05/2021 21:20:00",
          "01/05/2021 21:25:00",
          "01/05/2021 21:30:00",
          "01/05/2021 21:35:00",
          "01/05/2021 21:40:00",
          "01/05/2021 21:45:00",
          "01/05/2021 21:50:00",
          "01/05/2021 21:55:00",
          "01/05/2021 22:00:00",
          "01/05/2021 22:05:00",
          "01/05/2021 22:10:00",
          "01/05/2021 22:15:00",
          "01/05/2021 22:20:00",
          "01/05/2021 22:25:00",
          "01/05/2021 22:30:00",
          "01/05/2021 22:35:00",
          "01/05/2021 22:40:00",
          "01/05/2021 22:45:00",
          "01/05/2021 22:50:00",
          "01/05/2021 22:55:00",
          "01/05/2021 23:00:00",
          "01/05/2021 23:05:00",
          "01/05/2021 23:10:00",
          "01/05/2021 23:15:00",
          "01/05/2021 23:20:00",
          "01/05/2021 23:25:00",
          "01/05/2021 23:30:00",
          "01/05/2021 23:35:00",
          "01/05/2021 23:40:00",
          "01/05/2021 23:45:00",
          "01/05/2021 23:50:00",
          "01/05/2021 23:55:00"
         ],
         "xaxis": "x",
         "y": [
          70.4,
          70,
          69.8,
          69.7,
          69.6,
          69.4,
          69.2,
          68.8,
          68.9,
          68.8,
          68.9,
          68.7,
          69,
          69.2,
          69.3,
          69.3,
          69.1,
          69,
          68.9,
          68.7,
          69,
          68.7,
          68.5,
          68.4,
          68.7,
          68.8,
          69,
          69.1,
          69,
          68.9,
          68.8,
          68.7,
          68.6,
          68.7,
          68.5,
          68.5,
          68.4,
          68.3,
          68.3,
          68.3,
          68.4,
          68.5,
          68.5,
          68.6,
          68.8,
          69.1,
          69,
          68.9,
          68.8,
          68.4,
          68.5,
          69.2,
          69,
          68.9,
          69.3,
          69.6,
          69.9,
          70.1,
          70.3,
          70.2,
          70.3,
          70.2,
          70.2,
          70.3,
          70.7,
          70.5,
          70.4,
          70.4,
          70.6,
          70.6,
          70.5,
          70.4,
          68.6,
          67.3,
          66.5,
          66.2,
          65.9,
          65.6,
          65.2,
          65.4,
          65,
          65,
          65,
          64.8,
          64.5,
          64.2,
          63.8,
          63.1,
          62.6,
          62,
          61.1,
          60.5,
          59.7,
          59.2,
          58.6,
          58.7,
          58.8,
          58.8,
          59.2,
          58.9,
          58.5,
          58.7,
          58.4,
          58.6,
          58.5,
          58.7,
          58.9,
          59.3,
          59.6,
          59.9,
          60,
          60.3,
          60.4,
          60.4,
          60.2,
          60.3,
          60,
          60,
          60,
          60.1,
          60.2,
          60.3,
          60.2,
          60.2,
          60.1,
          60.4,
          60.2,
          60.1,
          60.1,
          60,
          60.1,
          60.1,
          60.2,
          60.1,
          60.2,
          60.2,
          60.5,
          60.3,
          60.2,
          60.2,
          60.1,
          60,
          60.1,
          60.1,
          60.2,
          60.1,
          60.1,
          60,
          59.7,
          59.8,
          59.7,
          59.5,
          59.3,
          59.2,
          59.2,
          59.2,
          59.3,
          59.3,
          58.9,
          58.8,
          58.8,
          58.7,
          58.8,
          58.8,
          58.5,
          58.3,
          58,
          57.7,
          57.7,
          57.6,
          57.2,
          56.6,
          56.2,
          55.8,
          55.6,
          55,
          53.8,
          52.5,
          51,
          50.3,
          50.2,
          49.8,
          49.1,
          48,
          46.6,
          45.1,
          44.2,
          43.9,
          42.7,
          41.8,
          41.3,
          40.3,
          40.7,
          40.1,
          40,
          39.2,
          38.6,
          38.6,
          37.8,
          37.7,
          37.5,
          36.7,
          36.8,
          36.3,
          36.5,
          36.1,
          35.6,
          35.5,
          34.6,
          33.5,
          33.3,
          33,
          33.4,
          34.1,
          34.4,
          35.4,
          36.1,
          37.1,
          37.8,
          38,
          38.9,
          38.8,
          40.5,
          41.6,
          42.7,
          43.6,
          45.4,
          47.5,
          49.7,
          51.7,
          54.5,
          55.9,
          57.5,
          59,
          60.1,
          61.2,
          61.9,
          62.6,
          63.2,
          63.9,
          64.4,
          64.7,
          64.9,
          65.1,
          65.2,
          65.3,
          65.3,
          65.4,
          65.4,
          65.6,
          65.8,
          65.9,
          67.6,
          68.4,
          68.8,
          69.1,
          69.3,
          69.3,
          69.5,
          69.4,
          69.7,
          69.7,
          69.9,
          70.1,
          69.7,
          69.4,
          69.2,
          69.1,
          69.2,
          69.2,
          69.4,
          69.7,
          69.9,
          70,
          70.2,
          70.1,
          69.8,
          69.7,
          69.4,
          69.5,
          69.7,
          69.7,
          69.8,
          69.6,
          69.8,
          69.8,
          69.7,
          69.5
         ],
         "yaxis": "y"
        }
       ],
       "layout": {
        "legend": {
         "tracegroupgap": 0
        },
        "template": {
         "data": {
          "bar": [
           {
            "error_x": {
             "color": "#2a3f5f"
            },
            "error_y": {
             "color": "#2a3f5f"
            },
            "marker": {
             "line": {
              "color": "#E5ECF6",
              "width": 0.5
             }
            },
            "type": "bar"
           }
          ],
          "barpolar": [
           {
            "marker": {
             "line": {
              "color": "#E5ECF6",
              "width": 0.5
             }
            },
            "type": "barpolar"
           }
          ],
          "carpet": [
           {
            "aaxis": {
             "endlinecolor": "#2a3f5f",
             "gridcolor": "white",
             "linecolor": "white",
             "minorgridcolor": "white",
             "startlinecolor": "#2a3f5f"
            },
            "baxis": {
             "endlinecolor": "#2a3f5f",
             "gridcolor": "white",
             "linecolor": "white",
             "minorgridcolor": "white",
             "startlinecolor": "#2a3f5f"
            },
            "type": "carpet"
           }
          ],
          "choropleth": [
           {
            "colorbar": {
             "outlinewidth": 0,
             "ticks": ""
            },
            "type": "choropleth"
           }
          ],
          "contour": [
           {
            "colorbar": {
             "outlinewidth": 0,
             "ticks": ""
            },
            "colorscale": [
             [
              0,
              "#0d0887"
             ],
             [
              0.1111111111111111,
              "#46039f"
             ],
             [
              0.2222222222222222,
              "#7201a8"
             ],
             [
              0.3333333333333333,
              "#9c179e"
             ],
             [
              0.4444444444444444,
              "#bd3786"
             ],
             [
              0.5555555555555556,
              "#d8576b"
             ],
             [
              0.6666666666666666,
              "#ed7953"
             ],
             [
              0.7777777777777778,
              "#fb9f3a"
             ],
             [
              0.8888888888888888,
              "#fdca26"
             ],
             [
              1,
              "#f0f921"
             ]
            ],
            "type": "contour"
           }
          ],
          "contourcarpet": [
           {
            "colorbar": {
             "outlinewidth": 0,
             "ticks": ""
            },
            "type": "contourcarpet"
           }
          ],
          "heatmap": [
           {
            "colorbar": {
             "outlinewidth": 0,
             "ticks": ""
            },
            "colorscale": [
             [
              0,
              "#0d0887"
             ],
             [
              0.1111111111111111,
              "#46039f"
             ],
             [
              0.2222222222222222,
              "#7201a8"
             ],
             [
              0.3333333333333333,
              "#9c179e"
             ],
             [
              0.4444444444444444,
              "#bd3786"
             ],
             [
              0.5555555555555556,
              "#d8576b"
             ],
             [
              0.6666666666666666,
              "#ed7953"
             ],
             [
              0.7777777777777778,
              "#fb9f3a"
             ],
             [
              0.8888888888888888,
              "#fdca26"
             ],
             [
              1,
              "#f0f921"
             ]
            ],
            "type": "heatmap"
           }
          ],
          "heatmapgl": [
           {
            "colorbar": {
             "outlinewidth": 0,
             "ticks": ""
            },
            "colorscale": [
             [
              0,
              "#0d0887"
             ],
             [
              0.1111111111111111,
              "#46039f"
             ],
             [
              0.2222222222222222,
              "#7201a8"
             ],
             [
              0.3333333333333333,
              "#9c179e"
             ],
             [
              0.4444444444444444,
              "#bd3786"
             ],
             [
              0.5555555555555556,
              "#d8576b"
             ],
             [
              0.6666666666666666,
              "#ed7953"
             ],
             [
              0.7777777777777778,
              "#fb9f3a"
             ],
             [
              0.8888888888888888,
              "#fdca26"
             ],
             [
              1,
              "#f0f921"
             ]
            ],
            "type": "heatmapgl"
           }
          ],
          "histogram": [
           {
            "marker": {
             "colorbar": {
              "outlinewidth": 0,
              "ticks": ""
             }
            },
            "type": "histogram"
           }
          ],
          "histogram2d": [
           {
            "colorbar": {
             "outlinewidth": 0,
             "ticks": ""
            },
            "colorscale": [
             [
              0,
              "#0d0887"
             ],
             [
              0.1111111111111111,
              "#46039f"
             ],
             [
              0.2222222222222222,
              "#7201a8"
             ],
             [
              0.3333333333333333,
              "#9c179e"
             ],
             [
              0.4444444444444444,
              "#bd3786"
             ],
             [
              0.5555555555555556,
              "#d8576b"
             ],
             [
              0.6666666666666666,
              "#ed7953"
             ],
             [
              0.7777777777777778,
              "#fb9f3a"
             ],
             [
              0.8888888888888888,
              "#fdca26"
             ],
             [
              1,
              "#f0f921"
             ]
            ],
            "type": "histogram2d"
           }
          ],
          "histogram2dcontour": [
           {
            "colorbar": {
             "outlinewidth": 0,
             "ticks": ""
            },
            "colorscale": [
             [
              0,
              "#0d0887"
             ],
             [
              0.1111111111111111,
              "#46039f"
             ],
             [
              0.2222222222222222,
              "#7201a8"
             ],
             [
              0.3333333333333333,
              "#9c179e"
             ],
             [
              0.4444444444444444,
              "#bd3786"
             ],
             [
              0.5555555555555556,
              "#d8576b"
             ],
             [
              0.6666666666666666,
              "#ed7953"
             ],
             [
              0.7777777777777778,
              "#fb9f3a"
             ],
             [
              0.8888888888888888,
              "#fdca26"
             ],
             [
              1,
              "#f0f921"
             ]
            ],
            "type": "histogram2dcontour"
           }
          ],
          "mesh3d": [
           {
            "colorbar": {
             "outlinewidth": 0,
             "ticks": ""
            },
            "type": "mesh3d"
           }
          ],
          "parcoords": [
           {
            "line": {
             "colorbar": {
              "outlinewidth": 0,
              "ticks": ""
             }
            },
            "type": "parcoords"
           }
          ],
          "pie": [
           {
            "automargin": true,
            "type": "pie"
           }
          ],
          "scatter": [
           {
            "marker": {
             "colorbar": {
              "outlinewidth": 0,
              "ticks": ""
             }
            },
            "type": "scatter"
           }
          ],
          "scatter3d": [
           {
            "line": {
             "colorbar": {
              "outlinewidth": 0,
              "ticks": ""
             }
            },
            "marker": {
             "colorbar": {
              "outlinewidth": 0,
              "ticks": ""
             }
            },
            "type": "scatter3d"
           }
          ],
          "scattercarpet": [
           {
            "marker": {
             "colorbar": {
              "outlinewidth": 0,
              "ticks": ""
             }
            },
            "type": "scattercarpet"
           }
          ],
          "scattergeo": [
           {
            "marker": {
             "colorbar": {
              "outlinewidth": 0,
              "ticks": ""
             }
            },
            "type": "scattergeo"
           }
          ],
          "scattergl": [
           {
            "marker": {
             "colorbar": {
              "outlinewidth": 0,
              "ticks": ""
             }
            },
            "type": "scattergl"
           }
          ],
          "scattermapbox": [
           {
            "marker": {
             "colorbar": {
              "outlinewidth": 0,
              "ticks": ""
             }
            },
            "type": "scattermapbox"
           }
          ],
          "scatterpolar": [
           {
            "marker": {
             "colorbar": {
              "outlinewidth": 0,
              "ticks": ""
             }
            },
            "type": "scatterpolar"
           }
          ],
          "scatterpolargl": [
           {
            "marker": {
             "colorbar": {
              "outlinewidth": 0,
              "ticks": ""
             }
            },
            "type": "scatterpolargl"
           }
          ],
          "scatterternary": [
           {
            "marker": {
             "colorbar": {
              "outlinewidth": 0,
              "ticks": ""
             }
            },
            "type": "scatterternary"
           }
          ],
          "surface": [
           {
            "colorbar": {
             "outlinewidth": 0,
             "ticks": ""
            },
            "colorscale": [
             [
              0,
              "#0d0887"
             ],
             [
              0.1111111111111111,
              "#46039f"
             ],
             [
              0.2222222222222222,
              "#7201a8"
             ],
             [
              0.3333333333333333,
              "#9c179e"
             ],
             [
              0.4444444444444444,
              "#bd3786"
             ],
             [
              0.5555555555555556,
              "#d8576b"
             ],
             [
              0.6666666666666666,
              "#ed7953"
             ],
             [
              0.7777777777777778,
              "#fb9f3a"
             ],
             [
              0.8888888888888888,
              "#fdca26"
             ],
             [
              1,
              "#f0f921"
             ]
            ],
            "type": "surface"
           }
          ],
          "table": [
           {
            "cells": {
             "fill": {
              "color": "#EBF0F8"
             },
             "line": {
              "color": "white"
             }
            },
            "header": {
             "fill": {
              "color": "#C8D4E3"
             },
             "line": {
              "color": "white"
             }
            },
            "type": "table"
           }
          ]
         },
         "layout": {
          "annotationdefaults": {
           "arrowcolor": "#2a3f5f",
           "arrowhead": 0,
           "arrowwidth": 1
          },
          "autotypenumbers": "strict",
          "coloraxis": {
           "colorbar": {
            "outlinewidth": 0,
            "ticks": ""
           }
          },
          "colorscale": {
           "diverging": [
            [
             0,
             "#8e0152"
            ],
            [
             0.1,
             "#c51b7d"
            ],
            [
             0.2,
             "#de77ae"
            ],
            [
             0.3,
             "#f1b6da"
            ],
            [
             0.4,
             "#fde0ef"
            ],
            [
             0.5,
             "#f7f7f7"
            ],
            [
             0.6,
             "#e6f5d0"
            ],
            [
             0.7,
             "#b8e186"
            ],
            [
             0.8,
             "#7fbc41"
            ],
            [
             0.9,
             "#4d9221"
            ],
            [
             1,
             "#276419"
            ]
           ],
           "sequential": [
            [
             0,
             "#0d0887"
            ],
            [
             0.1111111111111111,
             "#46039f"
            ],
            [
             0.2222222222222222,
             "#7201a8"
            ],
            [
             0.3333333333333333,
             "#9c179e"
            ],
            [
             0.4444444444444444,
             "#bd3786"
            ],
            [
             0.5555555555555556,
             "#d8576b"
            ],
            [
             0.6666666666666666,
             "#ed7953"
            ],
            [
             0.7777777777777778,
             "#fb9f3a"
            ],
            [
             0.8888888888888888,
             "#fdca26"
            ],
            [
             1,
             "#f0f921"
            ]
           ],
           "sequentialminus": [
            [
             0,
             "#0d0887"
            ],
            [
             0.1111111111111111,
             "#46039f"
            ],
            [
             0.2222222222222222,
             "#7201a8"
            ],
            [
             0.3333333333333333,
             "#9c179e"
            ],
            [
             0.4444444444444444,
             "#bd3786"
            ],
            [
             0.5555555555555556,
             "#d8576b"
            ],
            [
             0.6666666666666666,
             "#ed7953"
            ],
            [
             0.7777777777777778,
             "#fb9f3a"
            ],
            [
             0.8888888888888888,
             "#fdca26"
            ],
            [
             1,
             "#f0f921"
            ]
           ]
          },
          "colorway": [
           "#636efa",
           "#EF553B",
           "#00cc96",
           "#ab63fa",
           "#FFA15A",
           "#19d3f3",
           "#FF6692",
           "#B6E880",
           "#FF97FF",
           "#FECB52"
          ],
          "font": {
           "color": "#2a3f5f"
          },
          "geo": {
           "bgcolor": "white",
           "lakecolor": "white",
           "landcolor": "#E5ECF6",
           "showlakes": true,
           "showland": true,
           "subunitcolor": "white"
          },
          "hoverlabel": {
           "align": "left"
          },
          "hovermode": "closest",
          "mapbox": {
           "style": "light"
          },
          "paper_bgcolor": "white",
          "plot_bgcolor": "#E5ECF6",
          "polar": {
           "angularaxis": {
            "gridcolor": "white",
            "linecolor": "white",
            "ticks": ""
           },
           "bgcolor": "#E5ECF6",
           "radialaxis": {
            "gridcolor": "white",
            "linecolor": "white",
            "ticks": ""
           }
          },
          "scene": {
           "xaxis": {
            "backgroundcolor": "#E5ECF6",
            "gridcolor": "white",
            "gridwidth": 2,
            "linecolor": "white",
            "showbackground": true,
            "ticks": "",
            "zerolinecolor": "white"
           },
           "yaxis": {
            "backgroundcolor": "#E5ECF6",
            "gridcolor": "white",
            "gridwidth": 2,
            "linecolor": "white",
            "showbackground": true,
            "ticks": "",
            "zerolinecolor": "white"
           },
           "zaxis": {
            "backgroundcolor": "#E5ECF6",
            "gridcolor": "white",
            "gridwidth": 2,
            "linecolor": "white",
            "showbackground": true,
            "ticks": "",
            "zerolinecolor": "white"
           }
          },
          "shapedefaults": {
           "line": {
            "color": "#2a3f5f"
           }
          },
          "ternary": {
           "aaxis": {
            "gridcolor": "white",
            "linecolor": "white",
            "ticks": ""
           },
           "baxis": {
            "gridcolor": "white",
            "linecolor": "white",
            "ticks": ""
           },
           "bgcolor": "#E5ECF6",
           "caxis": {
            "gridcolor": "white",
            "linecolor": "white",
            "ticks": ""
           }
          },
          "title": {
           "x": 0.05
          },
          "xaxis": {
           "automargin": true,
           "gridcolor": "white",
           "linecolor": "white",
           "ticks": "",
           "title": {
            "standoff": 15
           },
           "zerolinecolor": "white",
           "zerolinewidth": 2
          },
          "yaxis": {
           "automargin": true,
           "gridcolor": "white",
           "linecolor": "white",
           "ticks": "",
           "title": {
            "standoff": 15
           },
           "zerolinecolor": "white",
           "zerolinewidth": 2
          }
         }
        },
        "title": {
         "text": "Avg Speed vs. Time for Station 715898"
        },
        "xaxis": {
         "anchor": "y",
         "domain": [
          0,
          1
         ],
         "title": {
          "text": "Timestamp"
         }
        },
        "yaxis": {
         "anchor": "x",
         "domain": [
          0,
          1
         ],
         "title": {
          "text": "Avg Speed"
         }
        }
       }
      },
      "text/html": [
       "<div>                            <div id=\"7ca468d5-84ac-4a9e-b27f-0babdcd21c6b\" class=\"plotly-graph-div\" style=\"height:525px; width:100%;\"></div>            <script type=\"text/javascript\">                require([\"plotly\"], function(Plotly) {                    window.PLOTLYENV=window.PLOTLYENV || {};                                    if (document.getElementById(\"7ca468d5-84ac-4a9e-b27f-0babdcd21c6b\")) {                    Plotly.newPlot(                        \"7ca468d5-84ac-4a9e-b27f-0babdcd21c6b\",                        [{\"hovertemplate\": \"Timestamp=%{x}<br>Avg Speed=%{y}<extra></extra>\", \"legendgroup\": \"\", \"line\": {\"color\": \"#636efa\", \"dash\": \"solid\"}, \"mode\": \"lines\", \"name\": \"\", \"orientation\": \"v\", \"showlegend\": false, \"type\": \"scatter\", \"x\": [\"01/05/2021 00:00:00\", \"01/05/2021 00:05:00\", \"01/05/2021 00:10:00\", \"01/05/2021 00:15:00\", \"01/05/2021 00:20:00\", \"01/05/2021 00:25:00\", \"01/05/2021 00:30:00\", \"01/05/2021 00:35:00\", \"01/05/2021 00:40:00\", \"01/05/2021 00:45:00\", \"01/05/2021 00:50:00\", \"01/05/2021 00:55:00\", \"01/05/2021 01:00:00\", \"01/05/2021 01:05:00\", \"01/05/2021 01:10:00\", \"01/05/2021 01:15:00\", \"01/05/2021 01:20:00\", \"01/05/2021 01:25:00\", \"01/05/2021 01:30:00\", \"01/05/2021 01:35:00\", \"01/05/2021 01:40:00\", \"01/05/2021 01:45:00\", \"01/05/2021 01:50:00\", \"01/05/2021 01:55:00\", \"01/05/2021 02:00:00\", \"01/05/2021 02:05:00\", \"01/05/2021 02:10:00\", \"01/05/2021 02:15:00\", \"01/05/2021 02:20:00\", \"01/05/2021 02:25:00\", \"01/05/2021 02:30:00\", \"01/05/2021 02:35:00\", \"01/05/2021 02:40:00\", \"01/05/2021 02:45:00\", \"01/05/2021 02:50:00\", \"01/05/2021 02:55:00\", \"01/05/2021 03:00:00\", \"01/05/2021 03:05:00\", \"01/05/2021 03:10:00\", \"01/05/2021 03:15:00\", \"01/05/2021 03:20:00\", \"01/05/2021 03:25:00\", \"01/05/2021 03:30:00\", \"01/05/2021 03:35:00\", \"01/05/2021 03:40:00\", \"01/05/2021 03:45:00\", \"01/05/2021 03:50:00\", \"01/05/2021 03:55:00\", \"01/05/2021 04:00:00\", \"01/05/2021 04:05:00\", \"01/05/2021 04:10:00\", \"01/05/2021 04:15:00\", \"01/05/2021 04:20:00\", \"01/05/2021 04:25:00\", \"01/05/2021 04:30:00\", \"01/05/2021 04:35:00\", \"01/05/2021 04:40:00\", \"01/05/2021 04:45:00\", \"01/05/2021 04:50:00\", \"01/05/2021 04:55:00\", \"01/05/2021 05:00:00\", \"01/05/2021 05:05:00\", \"01/05/2021 05:10:00\", \"01/05/2021 05:15:00\", \"01/05/2021 05:20:00\", \"01/05/2021 05:25:00\", \"01/05/2021 05:30:00\", \"01/05/2021 05:35:00\", \"01/05/2021 05:40:00\", \"01/05/2021 05:45:00\", \"01/05/2021 05:50:00\", \"01/05/2021 05:55:00\", \"01/05/2021 06:00:00\", \"01/05/2021 06:05:00\", \"01/05/2021 06:10:00\", \"01/05/2021 06:15:00\", \"01/05/2021 06:20:00\", \"01/05/2021 06:25:00\", \"01/05/2021 06:30:00\", \"01/05/2021 06:35:00\", \"01/05/2021 06:40:00\", \"01/05/2021 06:45:00\", \"01/05/2021 06:50:00\", \"01/05/2021 06:55:00\", \"01/05/2021 07:00:00\", \"01/05/2021 07:05:00\", \"01/05/2021 07:10:00\", \"01/05/2021 07:15:00\", \"01/05/2021 07:20:00\", \"01/05/2021 07:25:00\", \"01/05/2021 07:30:00\", \"01/05/2021 07:35:00\", \"01/05/2021 07:40:00\", \"01/05/2021 07:45:00\", \"01/05/2021 07:50:00\", \"01/05/2021 07:55:00\", \"01/05/2021 08:00:00\", \"01/05/2021 08:05:00\", \"01/05/2021 08:10:00\", \"01/05/2021 08:15:00\", \"01/05/2021 08:20:00\", \"01/05/2021 08:25:00\", \"01/05/2021 08:30:00\", \"01/05/2021 08:35:00\", \"01/05/2021 08:40:00\", \"01/05/2021 08:45:00\", \"01/05/2021 08:50:00\", \"01/05/2021 08:55:00\", \"01/05/2021 09:00:00\", \"01/05/2021 09:05:00\", \"01/05/2021 09:10:00\", \"01/05/2021 09:15:00\", \"01/05/2021 09:20:00\", \"01/05/2021 09:25:00\", \"01/05/2021 09:30:00\", \"01/05/2021 09:35:00\", \"01/05/2021 09:40:00\", \"01/05/2021 09:45:00\", \"01/05/2021 09:50:00\", \"01/05/2021 09:55:00\", \"01/05/2021 10:00:00\", \"01/05/2021 10:05:00\", \"01/05/2021 10:10:00\", \"01/05/2021 10:15:00\", \"01/05/2021 10:20:00\", \"01/05/2021 10:25:00\", \"01/05/2021 10:30:00\", \"01/05/2021 10:35:00\", \"01/05/2021 10:40:00\", \"01/05/2021 10:45:00\", \"01/05/2021 10:50:00\", \"01/05/2021 10:55:00\", \"01/05/2021 11:00:00\", \"01/05/2021 11:05:00\", \"01/05/2021 11:10:00\", \"01/05/2021 11:15:00\", \"01/05/2021 11:20:00\", \"01/05/2021 11:25:00\", \"01/05/2021 11:30:00\", \"01/05/2021 11:35:00\", \"01/05/2021 11:40:00\", \"01/05/2021 11:45:00\", \"01/05/2021 11:50:00\", \"01/05/2021 11:55:00\", \"01/05/2021 12:00:00\", \"01/05/2021 12:05:00\", \"01/05/2021 12:10:00\", \"01/05/2021 12:15:00\", \"01/05/2021 12:20:00\", \"01/05/2021 12:25:00\", \"01/05/2021 12:30:00\", \"01/05/2021 12:35:00\", \"01/05/2021 12:40:00\", \"01/05/2021 12:45:00\", \"01/05/2021 12:50:00\", \"01/05/2021 12:55:00\", \"01/05/2021 13:00:00\", \"01/05/2021 13:05:00\", \"01/05/2021 13:10:00\", \"01/05/2021 13:15:00\", \"01/05/2021 13:20:00\", \"01/05/2021 13:25:00\", \"01/05/2021 13:30:00\", \"01/05/2021 13:35:00\", \"01/05/2021 13:40:00\", \"01/05/2021 13:45:00\", \"01/05/2021 13:50:00\", \"01/05/2021 13:55:00\", \"01/05/2021 14:00:00\", \"01/05/2021 14:05:00\", \"01/05/2021 14:10:00\", \"01/05/2021 14:15:00\", \"01/05/2021 14:20:00\", \"01/05/2021 14:25:00\", \"01/05/2021 14:30:00\", \"01/05/2021 14:35:00\", \"01/05/2021 14:40:00\", \"01/05/2021 14:45:00\", \"01/05/2021 14:50:00\", \"01/05/2021 14:55:00\", \"01/05/2021 15:00:00\", \"01/05/2021 15:05:00\", \"01/05/2021 15:10:00\", \"01/05/2021 15:15:00\", \"01/05/2021 15:20:00\", \"01/05/2021 15:25:00\", \"01/05/2021 15:30:00\", \"01/05/2021 15:35:00\", \"01/05/2021 15:40:00\", \"01/05/2021 15:45:00\", \"01/05/2021 15:50:00\", \"01/05/2021 15:55:00\", \"01/05/2021 16:00:00\", \"01/05/2021 16:05:00\", \"01/05/2021 16:10:00\", \"01/05/2021 16:15:00\", \"01/05/2021 16:20:00\", \"01/05/2021 16:25:00\", \"01/05/2021 16:30:00\", \"01/05/2021 16:35:00\", \"01/05/2021 16:40:00\", \"01/05/2021 16:45:00\", \"01/05/2021 16:50:00\", \"01/05/2021 16:55:00\", \"01/05/2021 17:00:00\", \"01/05/2021 17:05:00\", \"01/05/2021 17:10:00\", \"01/05/2021 17:15:00\", \"01/05/2021 17:20:00\", \"01/05/2021 17:25:00\", \"01/05/2021 17:30:00\", \"01/05/2021 17:35:00\", \"01/05/2021 17:40:00\", \"01/05/2021 17:45:00\", \"01/05/2021 17:50:00\", \"01/05/2021 17:55:00\", \"01/05/2021 18:00:00\", \"01/05/2021 18:05:00\", \"01/05/2021 18:10:00\", \"01/05/2021 18:15:00\", \"01/05/2021 18:20:00\", \"01/05/2021 18:25:00\", \"01/05/2021 18:30:00\", \"01/05/2021 18:35:00\", \"01/05/2021 18:40:00\", \"01/05/2021 18:45:00\", \"01/05/2021 18:50:00\", \"01/05/2021 18:55:00\", \"01/05/2021 19:00:00\", \"01/05/2021 19:05:00\", \"01/05/2021 19:10:00\", \"01/05/2021 19:15:00\", \"01/05/2021 19:20:00\", \"01/05/2021 19:25:00\", \"01/05/2021 19:30:00\", \"01/05/2021 19:35:00\", \"01/05/2021 19:40:00\", \"01/05/2021 19:45:00\", \"01/05/2021 19:50:00\", \"01/05/2021 19:55:00\", \"01/05/2021 20:00:00\", \"01/05/2021 20:05:00\", \"01/05/2021 20:10:00\", \"01/05/2021 20:15:00\", \"01/05/2021 20:20:00\", \"01/05/2021 20:25:00\", \"01/05/2021 20:30:00\", \"01/05/2021 20:35:00\", \"01/05/2021 20:40:00\", \"01/05/2021 20:45:00\", \"01/05/2021 20:50:00\", \"01/05/2021 20:55:00\", \"01/05/2021 21:00:00\", \"01/05/2021 21:05:00\", \"01/05/2021 21:10:00\", \"01/05/2021 21:15:00\", \"01/05/2021 21:20:00\", \"01/05/2021 21:25:00\", \"01/05/2021 21:30:00\", \"01/05/2021 21:35:00\", \"01/05/2021 21:40:00\", \"01/05/2021 21:45:00\", \"01/05/2021 21:50:00\", \"01/05/2021 21:55:00\", \"01/05/2021 22:00:00\", \"01/05/2021 22:05:00\", \"01/05/2021 22:10:00\", \"01/05/2021 22:15:00\", \"01/05/2021 22:20:00\", \"01/05/2021 22:25:00\", \"01/05/2021 22:30:00\", \"01/05/2021 22:35:00\", \"01/05/2021 22:40:00\", \"01/05/2021 22:45:00\", \"01/05/2021 22:50:00\", \"01/05/2021 22:55:00\", \"01/05/2021 23:00:00\", \"01/05/2021 23:05:00\", \"01/05/2021 23:10:00\", \"01/05/2021 23:15:00\", \"01/05/2021 23:20:00\", \"01/05/2021 23:25:00\", \"01/05/2021 23:30:00\", \"01/05/2021 23:35:00\", \"01/05/2021 23:40:00\", \"01/05/2021 23:45:00\", \"01/05/2021 23:50:00\", \"01/05/2021 23:55:00\"], \"xaxis\": \"x\", \"y\": [70.4, 70.0, 69.8, 69.7, 69.6, 69.4, 69.2, 68.8, 68.9, 68.8, 68.9, 68.7, 69.0, 69.2, 69.3, 69.3, 69.1, 69.0, 68.9, 68.7, 69.0, 68.7, 68.5, 68.4, 68.7, 68.8, 69.0, 69.1, 69.0, 68.9, 68.8, 68.7, 68.6, 68.7, 68.5, 68.5, 68.4, 68.3, 68.3, 68.3, 68.4, 68.5, 68.5, 68.6, 68.8, 69.1, 69.0, 68.9, 68.8, 68.4, 68.5, 69.2, 69.0, 68.9, 69.3, 69.6, 69.9, 70.1, 70.3, 70.2, 70.3, 70.2, 70.2, 70.3, 70.7, 70.5, 70.4, 70.4, 70.6, 70.6, 70.5, 70.4, 68.6, 67.3, 66.5, 66.2, 65.9, 65.6, 65.2, 65.4, 65.0, 65.0, 65.0, 64.8, 64.5, 64.2, 63.8, 63.1, 62.6, 62.0, 61.1, 60.5, 59.7, 59.2, 58.6, 58.7, 58.8, 58.8, 59.2, 58.9, 58.5, 58.7, 58.4, 58.6, 58.5, 58.7, 58.9, 59.3, 59.6, 59.9, 60.0, 60.3, 60.4, 60.4, 60.2, 60.3, 60.0, 60.0, 60.0, 60.1, 60.2, 60.3, 60.2, 60.2, 60.1, 60.4, 60.2, 60.1, 60.1, 60.0, 60.1, 60.1, 60.2, 60.1, 60.2, 60.2, 60.5, 60.3, 60.2, 60.2, 60.1, 60.0, 60.1, 60.1, 60.2, 60.1, 60.1, 60.0, 59.7, 59.8, 59.7, 59.5, 59.3, 59.2, 59.2, 59.2, 59.3, 59.3, 58.9, 58.8, 58.8, 58.7, 58.8, 58.8, 58.5, 58.3, 58.0, 57.7, 57.7, 57.6, 57.2, 56.6, 56.2, 55.8, 55.6, 55.0, 53.8, 52.5, 51.0, 50.3, 50.2, 49.8, 49.1, 48.0, 46.6, 45.1, 44.2, 43.9, 42.7, 41.8, 41.3, 40.3, 40.7, 40.1, 40.0, 39.2, 38.6, 38.6, 37.8, 37.7, 37.5, 36.7, 36.8, 36.3, 36.5, 36.1, 35.6, 35.5, 34.6, 33.5, 33.3, 33.0, 33.4, 34.1, 34.4, 35.4, 36.1, 37.1, 37.8, 38.0, 38.9, 38.8, 40.5, 41.6, 42.7, 43.6, 45.4, 47.5, 49.7, 51.7, 54.5, 55.9, 57.5, 59.0, 60.1, 61.2, 61.9, 62.6, 63.2, 63.9, 64.4, 64.7, 64.9, 65.1, 65.2, 65.3, 65.3, 65.4, 65.4, 65.6, 65.8, 65.9, 67.6, 68.4, 68.8, 69.1, 69.3, 69.3, 69.5, 69.4, 69.7, 69.7, 69.9, 70.1, 69.7, 69.4, 69.2, 69.1, 69.2, 69.2, 69.4, 69.7, 69.9, 70.0, 70.2, 70.1, 69.8, 69.7, 69.4, 69.5, 69.7, 69.7, 69.8, 69.6, 69.8, 69.8, 69.7, 69.5], \"yaxis\": \"y\"}],                        {\"legend\": {\"tracegroupgap\": 0}, \"template\": {\"data\": {\"bar\": [{\"error_x\": {\"color\": \"#2a3f5f\"}, \"error_y\": {\"color\": \"#2a3f5f\"}, \"marker\": {\"line\": {\"color\": \"#E5ECF6\", \"width\": 0.5}}, \"type\": \"bar\"}], \"barpolar\": [{\"marker\": {\"line\": {\"color\": \"#E5ECF6\", \"width\": 0.5}}, \"type\": \"barpolar\"}], \"carpet\": [{\"aaxis\": {\"endlinecolor\": \"#2a3f5f\", \"gridcolor\": \"white\", \"linecolor\": \"white\", \"minorgridcolor\": \"white\", \"startlinecolor\": \"#2a3f5f\"}, \"baxis\": {\"endlinecolor\": \"#2a3f5f\", \"gridcolor\": \"white\", \"linecolor\": \"white\", \"minorgridcolor\": \"white\", \"startlinecolor\": \"#2a3f5f\"}, \"type\": \"carpet\"}], \"choropleth\": [{\"colorbar\": {\"outlinewidth\": 0, \"ticks\": \"\"}, \"type\": \"choropleth\"}], \"contour\": [{\"colorbar\": {\"outlinewidth\": 0, \"ticks\": \"\"}, \"colorscale\": [[0.0, \"#0d0887\"], [0.1111111111111111, \"#46039f\"], [0.2222222222222222, \"#7201a8\"], [0.3333333333333333, \"#9c179e\"], [0.4444444444444444, \"#bd3786\"], [0.5555555555555556, \"#d8576b\"], [0.6666666666666666, \"#ed7953\"], [0.7777777777777778, \"#fb9f3a\"], [0.8888888888888888, \"#fdca26\"], [1.0, \"#f0f921\"]], \"type\": \"contour\"}], \"contourcarpet\": [{\"colorbar\": {\"outlinewidth\": 0, \"ticks\": \"\"}, \"type\": \"contourcarpet\"}], \"heatmap\": [{\"colorbar\": {\"outlinewidth\": 0, \"ticks\": \"\"}, \"colorscale\": [[0.0, \"#0d0887\"], [0.1111111111111111, \"#46039f\"], [0.2222222222222222, \"#7201a8\"], [0.3333333333333333, \"#9c179e\"], [0.4444444444444444, \"#bd3786\"], [0.5555555555555556, \"#d8576b\"], [0.6666666666666666, \"#ed7953\"], [0.7777777777777778, \"#fb9f3a\"], [0.8888888888888888, \"#fdca26\"], [1.0, \"#f0f921\"]], \"type\": \"heatmap\"}], \"heatmapgl\": [{\"colorbar\": {\"outlinewidth\": 0, \"ticks\": \"\"}, \"colorscale\": [[0.0, \"#0d0887\"], [0.1111111111111111, \"#46039f\"], [0.2222222222222222, \"#7201a8\"], [0.3333333333333333, \"#9c179e\"], [0.4444444444444444, \"#bd3786\"], [0.5555555555555556, \"#d8576b\"], [0.6666666666666666, \"#ed7953\"], [0.7777777777777778, \"#fb9f3a\"], [0.8888888888888888, \"#fdca26\"], [1.0, \"#f0f921\"]], \"type\": \"heatmapgl\"}], \"histogram\": [{\"marker\": {\"colorbar\": {\"outlinewidth\": 0, \"ticks\": \"\"}}, \"type\": \"histogram\"}], \"histogram2d\": [{\"colorbar\": {\"outlinewidth\": 0, \"ticks\": \"\"}, \"colorscale\": [[0.0, \"#0d0887\"], [0.1111111111111111, \"#46039f\"], [0.2222222222222222, \"#7201a8\"], [0.3333333333333333, \"#9c179e\"], [0.4444444444444444, \"#bd3786\"], [0.5555555555555556, \"#d8576b\"], [0.6666666666666666, \"#ed7953\"], [0.7777777777777778, \"#fb9f3a\"], [0.8888888888888888, \"#fdca26\"], [1.0, \"#f0f921\"]], \"type\": \"histogram2d\"}], \"histogram2dcontour\": [{\"colorbar\": {\"outlinewidth\": 0, \"ticks\": \"\"}, \"colorscale\": [[0.0, \"#0d0887\"], [0.1111111111111111, \"#46039f\"], [0.2222222222222222, \"#7201a8\"], [0.3333333333333333, \"#9c179e\"], [0.4444444444444444, \"#bd3786\"], [0.5555555555555556, \"#d8576b\"], [0.6666666666666666, \"#ed7953\"], [0.7777777777777778, \"#fb9f3a\"], [0.8888888888888888, \"#fdca26\"], [1.0, \"#f0f921\"]], \"type\": \"histogram2dcontour\"}], \"mesh3d\": [{\"colorbar\": {\"outlinewidth\": 0, \"ticks\": \"\"}, \"type\": \"mesh3d\"}], \"parcoords\": [{\"line\": {\"colorbar\": {\"outlinewidth\": 0, \"ticks\": \"\"}}, \"type\": \"parcoords\"}], \"pie\": [{\"automargin\": true, \"type\": \"pie\"}], \"scatter\": [{\"marker\": {\"colorbar\": {\"outlinewidth\": 0, \"ticks\": \"\"}}, \"type\": \"scatter\"}], \"scatter3d\": [{\"line\": {\"colorbar\": {\"outlinewidth\": 0, \"ticks\": \"\"}}, \"marker\": {\"colorbar\": {\"outlinewidth\": 0, \"ticks\": \"\"}}, \"type\": \"scatter3d\"}], \"scattercarpet\": [{\"marker\": {\"colorbar\": {\"outlinewidth\": 0, \"ticks\": \"\"}}, \"type\": \"scattercarpet\"}], \"scattergeo\": [{\"marker\": {\"colorbar\": {\"outlinewidth\": 0, \"ticks\": \"\"}}, \"type\": \"scattergeo\"}], \"scattergl\": [{\"marker\": {\"colorbar\": {\"outlinewidth\": 0, \"ticks\": \"\"}}, \"type\": \"scattergl\"}], \"scattermapbox\": [{\"marker\": {\"colorbar\": {\"outlinewidth\": 0, \"ticks\": \"\"}}, \"type\": \"scattermapbox\"}], \"scatterpolar\": [{\"marker\": {\"colorbar\": {\"outlinewidth\": 0, \"ticks\": \"\"}}, \"type\": \"scatterpolar\"}], \"scatterpolargl\": [{\"marker\": {\"colorbar\": {\"outlinewidth\": 0, \"ticks\": \"\"}}, \"type\": \"scatterpolargl\"}], \"scatterternary\": [{\"marker\": {\"colorbar\": {\"outlinewidth\": 0, \"ticks\": \"\"}}, \"type\": \"scatterternary\"}], \"surface\": [{\"colorbar\": {\"outlinewidth\": 0, \"ticks\": \"\"}, \"colorscale\": [[0.0, \"#0d0887\"], [0.1111111111111111, \"#46039f\"], [0.2222222222222222, \"#7201a8\"], [0.3333333333333333, \"#9c179e\"], [0.4444444444444444, \"#bd3786\"], [0.5555555555555556, \"#d8576b\"], [0.6666666666666666, \"#ed7953\"], [0.7777777777777778, \"#fb9f3a\"], [0.8888888888888888, \"#fdca26\"], [1.0, \"#f0f921\"]], \"type\": \"surface\"}], \"table\": [{\"cells\": {\"fill\": {\"color\": \"#EBF0F8\"}, \"line\": {\"color\": \"white\"}}, \"header\": {\"fill\": {\"color\": \"#C8D4E3\"}, \"line\": {\"color\": \"white\"}}, \"type\": \"table\"}]}, \"layout\": {\"annotationdefaults\": {\"arrowcolor\": \"#2a3f5f\", \"arrowhead\": 0, \"arrowwidth\": 1}, \"autotypenumbers\": \"strict\", \"coloraxis\": {\"colorbar\": {\"outlinewidth\": 0, \"ticks\": \"\"}}, \"colorscale\": {\"diverging\": [[0, \"#8e0152\"], [0.1, \"#c51b7d\"], [0.2, \"#de77ae\"], [0.3, \"#f1b6da\"], [0.4, \"#fde0ef\"], [0.5, \"#f7f7f7\"], [0.6, \"#e6f5d0\"], [0.7, \"#b8e186\"], [0.8, \"#7fbc41\"], [0.9, \"#4d9221\"], [1, \"#276419\"]], \"sequential\": [[0.0, \"#0d0887\"], [0.1111111111111111, \"#46039f\"], [0.2222222222222222, \"#7201a8\"], [0.3333333333333333, \"#9c179e\"], [0.4444444444444444, \"#bd3786\"], [0.5555555555555556, \"#d8576b\"], [0.6666666666666666, \"#ed7953\"], [0.7777777777777778, \"#fb9f3a\"], [0.8888888888888888, \"#fdca26\"], [1.0, \"#f0f921\"]], \"sequentialminus\": [[0.0, \"#0d0887\"], [0.1111111111111111, \"#46039f\"], [0.2222222222222222, \"#7201a8\"], [0.3333333333333333, \"#9c179e\"], [0.4444444444444444, \"#bd3786\"], [0.5555555555555556, \"#d8576b\"], [0.6666666666666666, \"#ed7953\"], [0.7777777777777778, \"#fb9f3a\"], [0.8888888888888888, \"#fdca26\"], [1.0, \"#f0f921\"]]}, \"colorway\": [\"#636efa\", \"#EF553B\", \"#00cc96\", \"#ab63fa\", \"#FFA15A\", \"#19d3f3\", \"#FF6692\", \"#B6E880\", \"#FF97FF\", \"#FECB52\"], \"font\": {\"color\": \"#2a3f5f\"}, \"geo\": {\"bgcolor\": \"white\", \"lakecolor\": \"white\", \"landcolor\": \"#E5ECF6\", \"showlakes\": true, \"showland\": true, \"subunitcolor\": \"white\"}, \"hoverlabel\": {\"align\": \"left\"}, \"hovermode\": \"closest\", \"mapbox\": {\"style\": \"light\"}, \"paper_bgcolor\": \"white\", \"plot_bgcolor\": \"#E5ECF6\", \"polar\": {\"angularaxis\": {\"gridcolor\": \"white\", \"linecolor\": \"white\", \"ticks\": \"\"}, \"bgcolor\": \"#E5ECF6\", \"radialaxis\": {\"gridcolor\": \"white\", \"linecolor\": \"white\", \"ticks\": \"\"}}, \"scene\": {\"xaxis\": {\"backgroundcolor\": \"#E5ECF6\", \"gridcolor\": \"white\", \"gridwidth\": 2, \"linecolor\": \"white\", \"showbackground\": true, \"ticks\": \"\", \"zerolinecolor\": \"white\"}, \"yaxis\": {\"backgroundcolor\": \"#E5ECF6\", \"gridcolor\": \"white\", \"gridwidth\": 2, \"linecolor\": \"white\", \"showbackground\": true, \"ticks\": \"\", \"zerolinecolor\": \"white\"}, \"zaxis\": {\"backgroundcolor\": \"#E5ECF6\", \"gridcolor\": \"white\", \"gridwidth\": 2, \"linecolor\": \"white\", \"showbackground\": true, \"ticks\": \"\", \"zerolinecolor\": \"white\"}}, \"shapedefaults\": {\"line\": {\"color\": \"#2a3f5f\"}}, \"ternary\": {\"aaxis\": {\"gridcolor\": \"white\", \"linecolor\": \"white\", \"ticks\": \"\"}, \"baxis\": {\"gridcolor\": \"white\", \"linecolor\": \"white\", \"ticks\": \"\"}, \"bgcolor\": \"#E5ECF6\", \"caxis\": {\"gridcolor\": \"white\", \"linecolor\": \"white\", \"ticks\": \"\"}}, \"title\": {\"x\": 0.05}, \"xaxis\": {\"automargin\": true, \"gridcolor\": \"white\", \"linecolor\": \"white\", \"ticks\": \"\", \"title\": {\"standoff\": 15}, \"zerolinecolor\": \"white\", \"zerolinewidth\": 2}, \"yaxis\": {\"automargin\": true, \"gridcolor\": \"white\", \"linecolor\": \"white\", \"ticks\": \"\", \"title\": {\"standoff\": 15}, \"zerolinecolor\": \"white\", \"zerolinewidth\": 2}}}, \"title\": {\"text\": \"Avg Speed vs. Time for Station 715898\"}, \"xaxis\": {\"anchor\": \"y\", \"domain\": [0.0, 1.0], \"title\": {\"text\": \"Timestamp\"}}, \"yaxis\": {\"anchor\": \"x\", \"domain\": [0.0, 1.0], \"title\": {\"text\": \"Avg Speed\"}}},                        {\"responsive\": true}                    ).then(function(){\n",
       "                            \n",
       "var gd = document.getElementById('7ca468d5-84ac-4a9e-b27f-0babdcd21c6b');\n",
       "var x = new MutationObserver(function (mutations, observer) {{\n",
       "        var display = window.getComputedStyle(gd).display;\n",
       "        if (!display || display === 'none') {{\n",
       "            console.log([gd, 'removed!']);\n",
       "            Plotly.purge(gd);\n",
       "            observer.disconnect();\n",
       "        }}\n",
       "}});\n",
       "\n",
       "// Listen for the removal of the full notebook cells\n",
       "var notebookContainer = gd.closest('#notebook-container');\n",
       "if (notebookContainer) {{\n",
       "    x.observe(notebookContainer, {childList: true});\n",
       "}}\n",
       "\n",
       "// Listen for the clearing of the current output cell\n",
       "var outputEl = gd.closest('.output');\n",
       "if (outputEl) {{\n",
       "    x.observe(outputEl, {childList: true});\n",
       "}}\n",
       "\n",
       "                        })                };                });            </script>        </div>"
      ]
     },
     "metadata": {},
     "output_type": "display_data"
    }
   ],
   "source": [
    "import plotly.express as px\n",
    "\n",
    "px.line(df[df['Station'] == station_most_speed_readings], x='Timestamp', y='Avg Speed', title=f'Avg Speed vs. Time for Station {station_most_speed_readings}')"
   ]
  },
  {
   "cell_type": "code",
   "execution_count": 26,
   "metadata": {},
   "outputs": [
    {
     "data": {
      "text/plain": [
       "<matplotlib.axes._subplots.AxesSubplot at 0x7fe4e3b61d30>"
      ]
     },
     "execution_count": 26,
     "metadata": {},
     "output_type": "execute_result"
    },
    {
     "data": {
      "image/png": "[encoded data removed]",
      "text/plain": [
       "<Figure size 1440x360 with 1 Axes>"
      ]
     },
     "metadata": {
      "needs_background": "light"
     },
     "output_type": "display_data"
    }
   ],
   "source": [
    "# same thing as above for station 760375\n",
    "df.loc[df['Station'] == 760375, ['Timestamp', 'Avg Speed']].set_index('Timestamp').plot(figsize=[20, 5], title='Average Speed', color='tab:blue')\n"
   ]
  },
  {
   "cell_type": "markdown",
   "metadata": {},
   "source": [
    "**How Does Occupancy Change Over Time for a Particular Station?**"
   ]
  },
  {
   "cell_type": "code",
   "execution_count": 29,
   "metadata": {},
   "outputs": [
    {
     "data": {
      "text/plain": [
       "<matplotlib.axes._subplots.AxesSubplot at 0x7fe4e161d310>"
      ]
     },
     "execution_count": 29,
     "metadata": {},
     "output_type": "execute_result"
    },
    {
     "data": {
      "image/png": "[encoded data removed]",
      "text/plain": [
       "<Figure size 1440x360 with 1 Axes>"
      ]
     },
     "metadata": {
      "needs_background": "light"
     },
     "output_type": "display_data"
    }
   ],
   "source": [
    "df.loc[df['Station'] == 760375, ['Timestamp', 'Avg Occupancy']].set_index('Timestamp').plot(figsize=[20, 5], title='Average Occupancy', color='tab:green')\n"
   ]
  },
  {
   "cell_type": "markdown",
   "metadata": {},
   "source": [
    "**How Does Flow Change Over Time for a Particular Station**"
   ]
  },
  {
   "cell_type": "code",
   "execution_count": 32,
   "metadata": {},
   "outputs": [
    {
     "data": {
      "text/plain": [
       "<matplotlib.axes._subplots.AxesSubplot at 0x7fe4e57ed7f0>"
      ]
     },
     "execution_count": 32,
     "metadata": {},
     "output_type": "execute_result"
    },
    {
     "data": {
      "image/png": "[encoded data removed]",
      "text/plain": [
       "<Figure size 1440x360 with 1 Axes>"
      ]
     },
     "metadata": {
      "needs_background": "light"
     },
     "output_type": "display_data"
    }
   ],
   "source": [
    "df.loc[df['Station'] == 760375, ['Timestamp', 'Total Flow']].set_index('Timestamp').plot(figsize=[20, 5], title='Flow', color='tab:orange')\n"
   ]
  },
  {
   "cell_type": "markdown",
   "metadata": {},
   "source": [
    "**How Speed Changes with PM?**"
   ]
  },
  {
   "cell_type": "code",
   "execution_count": 97,
   "metadata": {},
   "outputs": [],
   "source": [
    "def map_to_time_group(time):\n",
    "    if time.hour >= 7 and time.hour <= 9:\n",
    "        return 'Morning Commute'\n",
    "    elif time.hour >= 16 and time.hour <= 18:\n",
    "        return 'Evening Commute'\n",
    "    else:\n",
    "        return None\n",
    "    \n",
    "hwy_5_nb_stations_pm = meta.loc[(meta['Fwy'] == 5) & (meta['Dir'] == 'N'), ['ID', 'Abs_PM']].drop_duplicates()\n",
    "route = df[df['Station'].isin(hwy_5_nb_stations_pm['ID'])].reset_index(drop=True)\n",
    "route = route.merge(hwy_5_nb_stations_pm, left_on='Station', right_on='ID')\n",
    "route['Time Group'] = pd.to_datetime(route['Timestamp']).map(map_to_time_group)"
   ]
  },
  {
   "cell_type": "code",
   "execution_count": 99,
   "metadata": {},
   "outputs": [
    {
     "data": {
      "text/plain": [
       "<matplotlib.axes._subplots.AxesSubplot at 0x7fe48b335880>"
      ]
     },
     "execution_count": 99,
     "metadata": {},
     "output_type": "execute_result"
    },
    {
     "data": {
      "image/png": "[encoded data removed]",
      "text/plain": [
       "<Figure size 1440x360 with 1 Axes>"
      ]
     },
     "metadata": {
      "needs_background": "light"
     },
     "output_type": "display_data"
    }
   ],
   "source": [
    "route[route['Time Group'] == 'Evening Commute'].plot.scatter(\n",
    "    'Abs_PM', 'Avg Speed', color='tab:purple', label='Evening Commute', \n",
    "    figsize=(20,5), title='Speed Along Fwy 5 Route (6/1/21 4pm-7pm)'\n",
    ")"
   ]
  },
  {
   "cell_type": "markdown",
   "metadata": {},
   "source": [
    "**Speed vs. Time of Day for Month of June**"
   ]
  },
  {
   "cell_type": "code",
   "execution_count": 101,
   "metadata": {},
   "outputs": [],
   "source": [
    "from tqdm.notebook import tqdm"
   ]
  },
  {
   "cell_type": "code",
   "execution_count": 103,
   "metadata": {},
   "outputs": [
    {
     "data": {
      "text/html": [
       "<div>\n",
       "<style scoped>\n",
       "    .dataframe tbody tr th:only-of-type {\n",
       "        vertical-align: middle;\n",
       "    }\n",
       "\n",
       "    .dataframe tbody tr th {\n",
       "        vertical-align: top;\n",
       "    }\n",
       "\n",
       "    .dataframe thead th {\n",
       "        text-align: right;\n",
       "    }\n",
       "</style>\n",
       "<table border=\"1\" class=\"dataframe\">\n",
       "  <thead>\n",
       "    <tr style=\"text-align: right;\">\n",
       "      <th></th>\n",
       "      <th>ID</th>\n",
       "      <th>Fwy</th>\n",
       "      <th>Dir</th>\n",
       "      <th>Latitude</th>\n",
       "      <th>Longitude</th>\n",
       "      <th>Length</th>\n",
       "      <th>Type</th>\n",
       "      <th>Lanes</th>\n",
       "      <th>Abs_PM</th>\n",
       "    </tr>\n",
       "  </thead>\n",
       "  <tbody>\n",
       "    <tr>\n",
       "      <th>0</th>\n",
       "      <td>715898</td>\n",
       "      <td>5</td>\n",
       "      <td>S</td>\n",
       "      <td>33.880183</td>\n",
       "      <td>-118.021787</td>\n",
       "      <td>0.430</td>\n",
       "      <td>ML</td>\n",
       "      <td>3</td>\n",
       "      <td>117.280</td>\n",
       "    </tr>\n",
       "    <tr>\n",
       "      <th>1</th>\n",
       "      <td>715900</td>\n",
       "      <td>5</td>\n",
       "      <td>S</td>\n",
       "      <td>33.882892</td>\n",
       "      <td>-118.026822</td>\n",
       "      <td>NaN</td>\n",
       "      <td>OR</td>\n",
       "      <td>1</td>\n",
       "      <td>117.630</td>\n",
       "    </tr>\n",
       "    <tr>\n",
       "      <th>2</th>\n",
       "      <td>715901</td>\n",
       "      <td>5</td>\n",
       "      <td>N</td>\n",
       "      <td>33.883400</td>\n",
       "      <td>-118.027451</td>\n",
       "      <td>NaN</td>\n",
       "      <td>OR</td>\n",
       "      <td>1</td>\n",
       "      <td>117.743</td>\n",
       "    </tr>\n",
       "    <tr>\n",
       "      <th>3</th>\n",
       "      <td>715903</td>\n",
       "      <td>5</td>\n",
       "      <td>N</td>\n",
       "      <td>33.886992</td>\n",
       "      <td>-118.034125</td>\n",
       "      <td>NaN</td>\n",
       "      <td>OR</td>\n",
       "      <td>1</td>\n",
       "      <td>118.193</td>\n",
       "    </tr>\n",
       "    <tr>\n",
       "      <th>4</th>\n",
       "      <td>715904</td>\n",
       "      <td>5</td>\n",
       "      <td>S</td>\n",
       "      <td>33.892489</td>\n",
       "      <td>-118.044573</td>\n",
       "      <td>NaN</td>\n",
       "      <td>OR</td>\n",
       "      <td>1</td>\n",
       "      <td>118.840</td>\n",
       "    </tr>\n",
       "    <tr>\n",
       "      <th>...</th>\n",
       "      <td>...</td>\n",
       "      <td>...</td>\n",
       "      <td>...</td>\n",
       "      <td>...</td>\n",
       "      <td>...</td>\n",
       "      <td>...</td>\n",
       "      <td>...</td>\n",
       "      <td>...</td>\n",
       "      <td>...</td>\n",
       "    </tr>\n",
       "    <tr>\n",
       "      <th>4878</th>\n",
       "      <td>777066</td>\n",
       "      <td>405</td>\n",
       "      <td>S</td>\n",
       "      <td>34.161152</td>\n",
       "      <td>-118.469631</td>\n",
       "      <td>0.455</td>\n",
       "      <td>ML</td>\n",
       "      <td>3</td>\n",
       "      <td>63.272</td>\n",
       "    </tr>\n",
       "    <tr>\n",
       "      <th>4879</th>\n",
       "      <td>777067</td>\n",
       "      <td>405</td>\n",
       "      <td>N</td>\n",
       "      <td>34.161136</td>\n",
       "      <td>-118.469426</td>\n",
       "      <td>0.790</td>\n",
       "      <td>HV</td>\n",
       "      <td>1</td>\n",
       "      <td>63.272</td>\n",
       "    </tr>\n",
       "    <tr>\n",
       "      <th>4880</th>\n",
       "      <td>777068</td>\n",
       "      <td>405</td>\n",
       "      <td>S</td>\n",
       "      <td>34.161152</td>\n",
       "      <td>-118.469631</td>\n",
       "      <td>0.790</td>\n",
       "      <td>HV</td>\n",
       "      <td>1</td>\n",
       "      <td>63.272</td>\n",
       "    </tr>\n",
       "    <tr>\n",
       "      <th>4881</th>\n",
       "      <td>777168</td>\n",
       "      <td>10</td>\n",
       "      <td>E</td>\n",
       "      <td>34.068993</td>\n",
       "      <td>-118.149756</td>\n",
       "      <td>0.450</td>\n",
       "      <td>HV</td>\n",
       "      <td>1</td>\n",
       "      <td>20.897</td>\n",
       "    </tr>\n",
       "    <tr>\n",
       "      <th>4882</th>\n",
       "      <td>777169</td>\n",
       "      <td>10</td>\n",
       "      <td>W</td>\n",
       "      <td>34.069270</td>\n",
       "      <td>-118.149982</td>\n",
       "      <td>0.259</td>\n",
       "      <td>HV</td>\n",
       "      <td>2</td>\n",
       "      <td>20.897</td>\n",
       "    </tr>\n",
       "  </tbody>\n",
       "</table>\n",
       "<p>4883 rows × 9 columns</p>\n",
       "</div>"
      ],
      "text/plain": [
       "          ID  Fwy Dir   Latitude   Longitude  Length Type  Lanes   Abs_PM\n",
       "0     715898    5   S  33.880183 -118.021787   0.430   ML      3  117.280\n",
       "1     715900    5   S  33.882892 -118.026822     NaN   OR      1  117.630\n",
       "2     715901    5   N  33.883400 -118.027451     NaN   OR      1  117.743\n",
       "3     715903    5   N  33.886992 -118.034125     NaN   OR      1  118.193\n",
       "4     715904    5   S  33.892489 -118.044573     NaN   OR      1  118.840\n",
       "...      ...  ...  ..        ...         ...     ...  ...    ...      ...\n",
       "4878  777066  405   S  34.161152 -118.469631   0.455   ML      3   63.272\n",
       "4879  777067  405   N  34.161136 -118.469426   0.790   HV      1   63.272\n",
       "4880  777068  405   S  34.161152 -118.469631   0.790   HV      1   63.272\n",
       "4881  777168   10   E  34.068993 -118.149756   0.450   HV      1   20.897\n",
       "4882  777169   10   W  34.069270 -118.149982   0.259   HV      2   20.897\n",
       "\n",
       "[4883 rows x 9 columns]"
      ]
     },
     "execution_count": 103,
     "metadata": {},
     "output_type": "execute_result"
    }
   ],
   "source": [
    "meta"
   ]
  },
  {
   "cell_type": "code",
   "execution_count": 106,
   "metadata": {},
   "outputs": [
    {
     "data": {
      "application/vnd.jupyter.widget-view+json": {
       "model_id": "46d210ee7fa14e93b1abd4262134d63f",
       "version_major": 2,
       "version_minor": 0
      },
      "text/plain": [
       "HBox(children=(FloatProgress(value=0.0, max=30.0), HTML(value='')))"
      ]
     },
     "metadata": {},
     "output_type": "display_data"
    },
    {
     "name": "stdout",
     "output_type": "stream",
     "text": [
      "\n"
     ]
    }
   ],
   "source": [
    "# load data for entire month of June\n",
    "data_list = []\n",
    "for i in tqdm( range(151, 181) ):\n",
    "    with gzip.open(files[i]) as f:\n",
    "        df = pd.read_csv(f, index_col=False, names=colnames)[colnames_subset]\n",
    "        df['Timestamp'] = pd.to_datetime(df['Timestamp'])\n",
    "\n",
    "        sub = df[[x in northbound_stations for x in df['Station']]]\n",
    "        sub = pd.DataFrame(sub.reset_index(drop=True))\n",
    "        sub = sub.merge(meta[['ID', 'Abs_PM']], left_on='Station', right_on='ID')\n",
    "        data_list.append(sub)   \n",
    "df = pd.concat(data_list)"
   ]
  },
  {
   "cell_type": "code",
   "execution_count": 107,
   "metadata": {},
   "outputs": [
    {
     "data": {
      "text/plain": [
       "<matplotlib.axes._subplots.AxesSubplot at 0x7fe49a332ee0>"
      ]
     },
     "execution_count": 107,
     "metadata": {},
     "output_type": "execute_result"
    },
    {
     "data": {
      "image/png": "[encoded data removed]",
      "text/plain": [
       "<Figure size 1440x360 with 1 Axes>"
      ]
     },
     "metadata": {
      "needs_background": "light"
     },
     "output_type": "display_data"
    }
   ],
   "source": [
    "# compute average speed for different hours of the day along the route\n",
    "d = {}\n",
    "for h in [9, 12, 15, 18, 21]:\n",
    "    d[h] = df[[x.hour == h for x in df['Timestamp']]].groupby('Abs_PM').mean()['Avg Speed']\n",
    "\n",
    "pd.DataFrame(d).plot(figsize=(20,5), title='Speed Along Fwy 5 During Different Times of Day')"
   ]
  },
  {
   "cell_type": "markdown",
   "metadata": {},
   "source": [
    "**Correlations**"
   ]
  },
  {
   "cell_type": "code",
   "execution_count": 34,
   "metadata": {},
   "outputs": [],
   "source": [
    "import numpy as np"
   ]
  },
  {
   "cell_type": "code",
   "execution_count": 35,
   "metadata": {},
   "outputs": [
    {
     "name": "stdout",
     "output_type": "stream",
     "text": [
      "-0.7945766394221848\n"
     ]
    }
   ],
   "source": [
    "# correlation between speed and occupancy\n",
    "corrs = []\n",
    "for s in [760375, 769926, 769402, 776657, 716237, 774946, 771690, 716312]:\n",
    "    df_sub = df[df['Station'] == s]\n",
    "    corr = df_sub[['Avg Speed', 'Avg Occupancy']].corr()['Avg Speed']['Avg Occupancy']\n",
    "    corrs.append(corr)\n",
    "\n",
    "print(np.mean(corrs))"
   ]
  },
  {
   "cell_type": "code",
   "execution_count": 38,
   "metadata": {},
   "outputs": [
    {
     "name": "stdout",
     "output_type": "stream",
     "text": [
      "0.39933668407396095\n"
     ]
    }
   ],
   "source": [
    "# correlation between rush hour and occupancy\n",
    "# rush hour is an indicator of timestamp during morning or evening commute\n",
    "corrs = []\n",
    "for s in [760375, 769926, 769402, 776657, 716237, 774946, 771690, 716312]:\n",
    "    df_sub = pd.DataFrame(df[df['Station'] == s])\n",
    "    df_sub['Rush Hour'] = [1 if (x.hour >= 7 and x.hour <= 9) or (x.hour >= 16 and x.hour <= 18) else 0 for x in pd.to_datetime(df_sub['Timestamp'])]\n",
    "    corr = df_sub[['Rush Hour', 'Avg Occupancy']].corr()['Rush Hour']['Avg Occupancy']\n",
    "    corrs.append(corr)\n",
    "\n",
    "print(np.mean(corrs))"
   ]
  },
  {
   "cell_type": "markdown",
   "metadata": {},
   "source": [
    "<a id='eda_processed_data'></a>\n",
    "\n",
    "# EDA for Processed Data"
   ]
  },
  {
   "cell_type": "code",
   "execution_count": null,
   "metadata": {},
   "outputs": [],
   "source": [
    "import pickle\n",
    "import pandas as pd"
   ]
  },
  {
   "cell_type": "code",
   "execution_count": null,
   "metadata": {},
   "outputs": [],
   "source": [
    "## save adj_mat \n",
    "with open('./data/processed/adj_mat.dat', 'rb')  as f:\n",
    "    adj_mat = pickle.load(f)\n",
    "\n",
    "## save mapper for adj_mat index to station ID\n",
    "with open('./data/processed/adj_mat_ind_station_mapper.dat', 'rb') as f:\n",
    "    ind_station_mapper = pickle.load(f)\n",
    "\n",
    "## save full speed df concatenated for all days in 2021\n",
    "with open('./data/processed/speeds.dat', 'rb')  as f:\n",
    "    speed_df = pickle.load(f)"
   ]
  },
  {
   "cell_type": "markdown",
   "metadata": {},
   "source": [
    "**Stations in Processed Data**"
   ]
  },
  {
   "cell_type": "code",
   "execution_count": null,
   "metadata": {
    "scrolled": false
   },
   "outputs": [],
   "source": [
    "with open('./data/loaded/meta.dat', 'rb') as f:\n",
    "    meta = pickle.load(f)\n",
    "meta_subs = meta[meta['ID'].isin(ind_station_mapper.values())].reset_index(drop=True)\n",
    "dir_mapper = {'N': 'north', 'E': 'east', 'S': 'south', 'W': 'west'}\n",
    "\n",
    "m = Map(location=(34.0522,-118.2437), tiles='https://tile.jawg.io/jawg-dark/{z}/{x}/{y}{r}.png?access-token=yxQukjQJyY3mRrF6htcGR22i1QJ6BP6wslSe2Cmq2k4aT8S0wbDtYMEaPhc8s240', attr='<a href=\"http://jawg.io\" title=\"Tiles Courtesy of Jawg Maps\" target=\"_blank\">&copy; <b>Jawg</b>Maps</a> &copy; <a href=\"https://www.openstreetmap.org/copyright\">OpenStreetMap</a> contributors', control_scale=True, max_bounds=True, prefer_canvas=True, zoom_start=10)\n",
    "for ind, row in meta_subs.iterrows():  \n",
    "    icon = folium.features.CustomIcon(f\"./data/icons/{dir_mapper[row['Dir']]}.png\", icon_size=(15, 15))\n",
    "    style = 'font-family: Impact, Haettenschweiler, \"Franklin Gothic Bold\", Charcoal, \"Helvetica Inserat\", \"Bitstream Vera Sans Bold\", \"Arial Black\", \"sans serif\";'\n",
    "    html = f'''<body style=\"{style}\"><div align=\"center\", style=\"background-color: #BAD6FF; font-family: Arial\">''' + row.to_frame().transpose()[['ID', 'Fwy', 'Length', 'Type', 'Lanes']].transpose().to_html(justify=\"center\", header=False, index=True, index_names=False, col_space=300, classes=\"table-condensed table-responsive table-success\") + '</div></body>' \n",
    "    popup = folium.Popup(html, max_width=300)                \n",
    "    folium.Marker(row[['Latitude', 'Longitude']].values.tolist(), icon=icon, popup=popup).add_to(m)\n",
    "m.save('./plots/stations_processed.html')"
   ]
  },
  {
   "cell_type": "markdown",
   "metadata": {},
   "source": [
    "**Distribution of % of Missing Speeds for Stations**"
   ]
  },
  {
   "cell_type": "code",
   "execution_count": null,
   "metadata": {},
   "outputs": [],
   "source": [
    "speed_df.apply(lambda x: (x.isna().sum() / speed_df.shape[0])*100).describe()"
   ]
  },
  {
   "cell_type": "code",
   "execution_count": null,
   "metadata": {},
   "outputs": [],
   "source": [
    "fig = px.box(speed_df.groupby([speed_df.index.month, speed_df.index.day]).mean().mean(axis=1), title='Distribution of Speed Over Days in 2021')\n",
    "fig.update_xaxes(title=\"\")\n",
    "fig.update_yaxes(title=\"Speed (mph)\")"
   ]
  },
  {
   "cell_type": "markdown",
   "metadata": {},
   "source": [
    "**[Navigate to the Top](#top)**"
   ]
  }
 ],
 "metadata": {
  "kernelspec": {
   "display_name": "Python 3",
   "language": "python",
   "name": "python3"
  },
  "language_info": {
   "codemirror_mode": {
    "name": "ipython",
    "version": 3
   },
   "file_extension": ".py",
   "mimetype": "text/x-python",
   "name": "python",
   "nbconvert_exporter": "python",
   "pygments_lexer": "ipython3",
   "version": "3.8.3"
  }
 },
 "nbformat": 4,
 "nbformat_minor": 4
}
