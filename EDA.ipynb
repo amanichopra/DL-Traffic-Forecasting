{
 "cells": [
  {
   "cell_type": "markdown",
   "metadata": {},
   "source": [
    "# EDA for Station Metadata"
   ]
  },
  {
   "cell_type": "markdown",
   "metadata": {},
   "source": [
    "**Load**"
   ]
  },
  {
   "cell_type": "code",
   "execution_count": 1,
   "metadata": {},
   "outputs": [],
   "source": [
    "import pickle"
   ]
  },
  {
   "cell_type": "code",
   "execution_count": 45,
   "metadata": {},
   "outputs": [
    {
     "data": {
      "text/html": [
       "<div>\n",
       "<style scoped>\n",
       "    .dataframe tbody tr th:only-of-type {\n",
       "        vertical-align: middle;\n",
       "    }\n",
       "\n",
       "    .dataframe tbody tr th {\n",
       "        vertical-align: top;\n",
       "    }\n",
       "\n",
       "    .dataframe thead th {\n",
       "        text-align: right;\n",
       "    }\n",
       "</style>\n",
       "<table border=\"1\" class=\"dataframe\">\n",
       "  <thead>\n",
       "    <tr style=\"text-align: right;\">\n",
       "      <th></th>\n",
       "      <th>ID</th>\n",
       "      <th>Fwy</th>\n",
       "      <th>Dir</th>\n",
       "      <th>Latitude</th>\n",
       "      <th>Longitude</th>\n",
       "      <th>Length</th>\n",
       "      <th>Type</th>\n",
       "      <th>Lanes</th>\n",
       "    </tr>\n",
       "  </thead>\n",
       "  <tbody>\n",
       "    <tr>\n",
       "      <th>0</th>\n",
       "      <td>715898</td>\n",
       "      <td>5</td>\n",
       "      <td>S</td>\n",
       "      <td>33.880183</td>\n",
       "      <td>-118.021787</td>\n",
       "      <td>0.430</td>\n",
       "      <td>ML</td>\n",
       "      <td>3</td>\n",
       "    </tr>\n",
       "    <tr>\n",
       "      <th>1</th>\n",
       "      <td>715900</td>\n",
       "      <td>5</td>\n",
       "      <td>S</td>\n",
       "      <td>33.882892</td>\n",
       "      <td>-118.026822</td>\n",
       "      <td>NaN</td>\n",
       "      <td>OR</td>\n",
       "      <td>1</td>\n",
       "    </tr>\n",
       "    <tr>\n",
       "      <th>2</th>\n",
       "      <td>715901</td>\n",
       "      <td>5</td>\n",
       "      <td>N</td>\n",
       "      <td>33.883400</td>\n",
       "      <td>-118.027451</td>\n",
       "      <td>NaN</td>\n",
       "      <td>OR</td>\n",
       "      <td>1</td>\n",
       "    </tr>\n",
       "    <tr>\n",
       "      <th>3</th>\n",
       "      <td>715903</td>\n",
       "      <td>5</td>\n",
       "      <td>N</td>\n",
       "      <td>33.886992</td>\n",
       "      <td>-118.034125</td>\n",
       "      <td>NaN</td>\n",
       "      <td>OR</td>\n",
       "      <td>1</td>\n",
       "    </tr>\n",
       "    <tr>\n",
       "      <th>4</th>\n",
       "      <td>715904</td>\n",
       "      <td>5</td>\n",
       "      <td>S</td>\n",
       "      <td>33.892489</td>\n",
       "      <td>-118.044573</td>\n",
       "      <td>NaN</td>\n",
       "      <td>OR</td>\n",
       "      <td>1</td>\n",
       "    </tr>\n",
       "    <tr>\n",
       "      <th>...</th>\n",
       "      <td>...</td>\n",
       "      <td>...</td>\n",
       "      <td>...</td>\n",
       "      <td>...</td>\n",
       "      <td>...</td>\n",
       "      <td>...</td>\n",
       "      <td>...</td>\n",
       "      <td>...</td>\n",
       "    </tr>\n",
       "    <tr>\n",
       "      <th>4878</th>\n",
       "      <td>777066</td>\n",
       "      <td>405</td>\n",
       "      <td>S</td>\n",
       "      <td>34.161152</td>\n",
       "      <td>-118.469631</td>\n",
       "      <td>0.455</td>\n",
       "      <td>ML</td>\n",
       "      <td>3</td>\n",
       "    </tr>\n",
       "    <tr>\n",
       "      <th>4879</th>\n",
       "      <td>777067</td>\n",
       "      <td>405</td>\n",
       "      <td>N</td>\n",
       "      <td>34.161136</td>\n",
       "      <td>-118.469426</td>\n",
       "      <td>0.790</td>\n",
       "      <td>HV</td>\n",
       "      <td>1</td>\n",
       "    </tr>\n",
       "    <tr>\n",
       "      <th>4880</th>\n",
       "      <td>777068</td>\n",
       "      <td>405</td>\n",
       "      <td>S</td>\n",
       "      <td>34.161152</td>\n",
       "      <td>-118.469631</td>\n",
       "      <td>0.790</td>\n",
       "      <td>HV</td>\n",
       "      <td>1</td>\n",
       "    </tr>\n",
       "    <tr>\n",
       "      <th>4881</th>\n",
       "      <td>777168</td>\n",
       "      <td>10</td>\n",
       "      <td>E</td>\n",
       "      <td>34.068993</td>\n",
       "      <td>-118.149756</td>\n",
       "      <td>0.450</td>\n",
       "      <td>HV</td>\n",
       "      <td>1</td>\n",
       "    </tr>\n",
       "    <tr>\n",
       "      <th>4882</th>\n",
       "      <td>777169</td>\n",
       "      <td>10</td>\n",
       "      <td>W</td>\n",
       "      <td>34.069270</td>\n",
       "      <td>-118.149982</td>\n",
       "      <td>0.259</td>\n",
       "      <td>HV</td>\n",
       "      <td>2</td>\n",
       "    </tr>\n",
       "  </tbody>\n",
       "</table>\n",
       "<p>4883 rows × 8 columns</p>\n",
       "</div>"
      ],
      "text/plain": [
       "          ID  Fwy Dir   Latitude   Longitude  Length Type  Lanes\n",
       "0     715898    5   S  33.880183 -118.021787   0.430   ML      3\n",
       "1     715900    5   S  33.882892 -118.026822     NaN   OR      1\n",
       "2     715901    5   N  33.883400 -118.027451     NaN   OR      1\n",
       "3     715903    5   N  33.886992 -118.034125     NaN   OR      1\n",
       "4     715904    5   S  33.892489 -118.044573     NaN   OR      1\n",
       "...      ...  ...  ..        ...         ...     ...  ...    ...\n",
       "4878  777066  405   S  34.161152 -118.469631   0.455   ML      3\n",
       "4879  777067  405   N  34.161136 -118.469426   0.790   HV      1\n",
       "4880  777068  405   S  34.161152 -118.469631   0.790   HV      1\n",
       "4881  777168   10   E  34.068993 -118.149756   0.450   HV      1\n",
       "4882  777169   10   W  34.069270 -118.149982   0.259   HV      2\n",
       "\n",
       "[4883 rows x 8 columns]"
      ]
     },
     "execution_count": 45,
     "metadata": {},
     "output_type": "execute_result"
    }
   ],
   "source": [
    "with open('./data/loaded/meta.dat', 'rb') as f:\n",
    "    meta = pickle.load(f)\n",
    "meta"
   ]
  },
  {
   "cell_type": "markdown",
   "metadata": {},
   "source": [
    "**Build Map Visualizing all Stations and General Statistics**"
   ]
  },
  {
   "cell_type": "code",
   "execution_count": 7,
   "metadata": {},
   "outputs": [],
   "source": [
    "from folium import Map\n",
    "import folium.plugins as plugins"
   ]
  },
  {
   "cell_type": "code",
   "execution_count": 79,
   "metadata": {},
   "outputs": [],
   "source": [
    "dir_mapper = {'S': 'south', 'N': 'north', 'E': 'east', 'W': 'west'}\n",
    "m = Map(location=(34.0522,-118.2437), tiles='https://tile.jawg.io/jawg-dark/{z}/{x}/{y}{r}.png?access-token=yxQukjQJyY3mRrF6htcGR22i1QJ6BP6wslSe2Cmq2k4aT8S0wbDtYMEaPhc8s240', attr='<a href=\"http://jawg.io\" title=\"Tiles Courtesy of Jawg Maps\" target=\"_blank\">&copy; <b>Jawg</b>Maps</a> &copy; <a href=\"https://www.openstreetmap.org/copyright\">OpenStreetMap</a> contributors', control_scale=True, max_bounds=True, prefer_canvas=True, zoom_start=10)\n",
    "for ind, row in meta.iterrows():\n",
    "    icon = folium.features.CustomIcon(f\"./data/icons/{(dir_mapper[row['Dir']])}.png\", icon_size=(15, 15))\n",
    "    style = 'font-family: Impact, Haettenschweiler, \"Franklin Gothic Bold\", Charcoal, \"Helvetica Inserat\", \"Bitstream Vera Sans Bold\", \"Arial Black\", \"sans serif\";'\n",
    "    html = f'''<body style=\"{style}\"><div align=\"center\", style=\"background-color: #BAD6FF; font-family: Arial\">''' + row.to_frame().transpose()[['ID', 'Fwy', 'Length', 'Type', 'Lanes']].transpose().to_html(justify=\"center\", header=False, index=True, index_names=False, col_space=300, classes=\"table-condensed table-responsive table-success\") + '</div></body>' \n",
    "    popup = folium.Popup(html, max_width=300)                \n",
    "    folium.Marker(row[['Latitude', 'Longitude']].values.tolist(), icon=icon, popup=popup).add_to(m)"
   ]
  },
  {
   "cell_type": "code",
   "execution_count": 81,
   "metadata": {},
   "outputs": [],
   "source": [
    "m.save('./plots/station_map.html')"
   ]
  },
  {
   "cell_type": "markdown",
   "metadata": {},
   "source": [
    "**Downsample Stations Using RDP**"
   ]
  },
  {
   "cell_type": "code",
   "execution_count": 93,
   "metadata": {},
   "outputs": [],
   "source": [
    "from simplification.cutil import (\n",
    "    simplify_coords,\n",
    "    simplify_coords_idx,\n",
    "    simplify_coords_vw,\n",
    "    simplify_coords_vw_idx,\n",
    "    simplify_coords_vwp,\n",
    ")\n",
    "import pandas as pd"
   ]
  },
  {
   "cell_type": "code",
   "execution_count": 98,
   "metadata": {},
   "outputs": [
    {
     "data": {
      "text/html": [
       "<div>\n",
       "<style scoped>\n",
       "    .dataframe tbody tr th:only-of-type {\n",
       "        vertical-align: middle;\n",
       "    }\n",
       "\n",
       "    .dataframe tbody tr th {\n",
       "        vertical-align: top;\n",
       "    }\n",
       "\n",
       "    .dataframe thead th {\n",
       "        text-align: right;\n",
       "    }\n",
       "</style>\n",
       "<table border=\"1\" class=\"dataframe\">\n",
       "  <thead>\n",
       "    <tr style=\"text-align: right;\">\n",
       "      <th></th>\n",
       "      <th>Latitude</th>\n",
       "      <th>Longitude</th>\n",
       "    </tr>\n",
       "  </thead>\n",
       "  <tbody>\n",
       "    <tr>\n",
       "      <th>0</th>\n",
       "      <td>33.880183</td>\n",
       "      <td>-118.021787</td>\n",
       "    </tr>\n",
       "    <tr>\n",
       "      <th>1</th>\n",
       "      <td>33.900669</td>\n",
       "      <td>-118.059422</td>\n",
       "    </tr>\n",
       "    <tr>\n",
       "      <th>2</th>\n",
       "      <td>33.916643</td>\n",
       "      <td>-118.079557</td>\n",
       "    </tr>\n",
       "    <tr>\n",
       "      <th>3</th>\n",
       "      <td>33.938544</td>\n",
       "      <td>-118.094941</td>\n",
       "    </tr>\n",
       "    <tr>\n",
       "      <th>4</th>\n",
       "      <td>33.956897</td>\n",
       "      <td>-118.110532</td>\n",
       "    </tr>\n",
       "    <tr>\n",
       "      <th>...</th>\n",
       "      <td>...</td>\n",
       "      <td>...</td>\n",
       "    </tr>\n",
       "    <tr>\n",
       "      <th>1943</th>\n",
       "      <td>33.873704</td>\n",
       "      <td>-118.219282</td>\n",
       "    </tr>\n",
       "    <tr>\n",
       "      <th>1944</th>\n",
       "      <td>34.024458</td>\n",
       "      <td>-118.239564</td>\n",
       "    </tr>\n",
       "    <tr>\n",
       "      <th>1945</th>\n",
       "      <td>34.034315</td>\n",
       "      <td>-118.266848</td>\n",
       "    </tr>\n",
       "    <tr>\n",
       "      <th>1946</th>\n",
       "      <td>34.161152</td>\n",
       "      <td>-118.469631</td>\n",
       "    </tr>\n",
       "    <tr>\n",
       "      <th>1947</th>\n",
       "      <td>34.069270</td>\n",
       "      <td>-118.149982</td>\n",
       "    </tr>\n",
       "  </tbody>\n",
       "</table>\n",
       "<p>1948 rows × 2 columns</p>\n",
       "</div>"
      ],
      "text/plain": [
       "       Latitude   Longitude\n",
       "0     33.880183 -118.021787\n",
       "1     33.900669 -118.059422\n",
       "2     33.916643 -118.079557\n",
       "3     33.938544 -118.094941\n",
       "4     33.956897 -118.110532\n",
       "...         ...         ...\n",
       "1943  33.873704 -118.219282\n",
       "1944  34.024458 -118.239564\n",
       "1945  34.034315 -118.266848\n",
       "1946  34.161152 -118.469631\n",
       "1947  34.069270 -118.149982\n",
       "\n",
       "[1948 rows x 2 columns]"
      ]
     },
     "execution_count": 98,
     "metadata": {},
     "output_type": "execute_result"
    }
   ],
   "source": [
    "ds_coords = pd.DataFrame(simplify_coords(meta[[\"Latitude\", 'Longitude']].values, 0.001), columns=['Latitude', 'Longitude'])\n",
    "ds_coords"
   ]
  },
  {
   "cell_type": "markdown",
   "metadata": {},
   "source": [
    "**Downsample Stations**"
   ]
  },
  {
   "cell_type": "markdown",
   "metadata": {},
   "source": [
    "All Stations"
   ]
  },
  {
   "cell_type": "code",
   "execution_count": null,
   "metadata": {
    "scrolled": true
   },
   "outputs": [],
   "source": [
    "m = Map(location=(34.0522,-118.2437), tiles='https://tile.jawg.io/jawg-dark/{z}/{x}/{y}{r}.png?access-token=yxQukjQJyY3mRrF6htcGR22i1QJ6BP6wslSe2Cmq2k4aT8S0wbDtYMEaPhc8s240', attr='<a href=\"http://jawg.io\" title=\"Tiles Courtesy of Jawg Maps\" target=\"_blank\">&copy; <b>Jawg</b>Maps</a> &copy; <a href=\"https://www.openstreetmap.org/copyright\">OpenStreetMap</a> contributors', control_scale=True, max_bounds=True, prefer_canvas=True, zoom_start=10)\n",
    "for ind, row in meta[meta['Dir'] == 'N'].iterrows():\n",
    "    icon = folium.features.CustomIcon(f\"./data/icons/north.png\", icon_size=(15, 15))\n",
    "    style = 'font-family: Impact, Haettenschweiler, \"Franklin Gothic Bold\", Charcoal, \"Helvetica Inserat\", \"Bitstream Vera Sans Bold\", \"Arial Black\", \"sans serif\";'\n",
    "    html = f'''<body style=\"{style}\"><div align=\"center\", style=\"background-color: #BAD6FF; font-family: Arial\">''' + row.to_frame().transpose()[['ID', 'Fwy', 'Length', 'Type', 'Lanes']].transpose().to_html(justify=\"center\", header=False, index=True, index_names=False, col_space=300, classes=\"table-condensed table-responsive table-success\") + '</div></body>' \n",
    "    popup = folium.Popup(html, max_width=300)                \n",
    "    folium.Marker(row[['Latitude', 'Longitude']].values.tolist(), icon=icon, popup=popup).add_to(m)\n",
    "m"
   ]
  },
  {
   "cell_type": "markdown",
   "metadata": {},
   "source": [
    "After Downsampling"
   ]
  },
  {
   "cell_type": "code",
   "execution_count": 135,
   "metadata": {},
   "outputs": [
    {
     "data": {
      "text/plain": [
       "333"
      ]
     },
     "execution_count": 135,
     "metadata": {},
     "output_type": "execute_result"
    }
   ],
   "source": [
    "# 1 deg lat = 69 mi\n",
    "# 1 deg long = 54 mi\n",
    "distance_between_stations = meta[meta['Dir'] == 'N'].sort_values(['Latitude', 'Longitude'])[['Latitude', 'Longitude']].diff()\n",
    "stations = distance_between_stations[((distance_between_stations['Latitude'] * 69) > 0.1) | ((distance_between_stations['Longitude'] * 54) > 0.1)].index.tolist()\n",
    "#stations = set(stations).union(set([s - 1 for s in stations]))\n",
    "len(stations)"
   ]
  },
  {
   "cell_type": "code",
   "execution_count": null,
   "metadata": {},
   "outputs": [],
   "source": [
    "m = Map(location=(34.0522,-118.2437), tiles='https://tile.jawg.io/jawg-dark/{z}/{x}/{y}{r}.png?access-token=yxQukjQJyY3mRrF6htcGR22i1QJ6BP6wslSe2Cmq2k4aT8S0wbDtYMEaPhc8s240', attr='<a href=\"http://jawg.io\" title=\"Tiles Courtesy of Jawg Maps\" target=\"_blank\">&copy; <b>Jawg</b>Maps</a> &copy; <a href=\"https://www.openstreetmap.org/copyright\">OpenStreetMap</a> contributors', control_scale=True, max_bounds=True, prefer_canvas=True, zoom_start=10)\n",
    "for ind, row in meta[meta.index.isin(stations)].iterrows():\n",
    "    icon = folium.features.CustomIcon(f\"./data/icons/north.png\", icon_size=(15, 15))\n",
    "    style = 'font-family: Impact, Haettenschweiler, \"Franklin Gothic Bold\", Charcoal, \"Helvetica Inserat\", \"Bitstream Vera Sans Bold\", \"Arial Black\", \"sans serif\";'\n",
    "    html = f'''<body style=\"{style}\"><div align=\"center\", style=\"background-color: #BAD6FF; font-family: Arial\">''' + row.to_frame().transpose()[['ID', 'Fwy', 'Length', 'Type', 'Lanes']].transpose().to_html(justify=\"center\", header=False, index=True, index_names=False, col_space=300, classes=\"table-condensed table-responsive table-success\") + '</div></body>' \n",
    "    popup = folium.Popup(html, max_width=300)                \n",
    "    folium.Marker(row[['Latitude', 'Longitude']].values.tolist(), icon=icon, popup=popup).add_to(m)\n",
    "m"
   ]
  },
  {
   "cell_type": "markdown",
   "metadata": {},
   "source": [
    "# EDA for Speed Data"
   ]
  },
  {
   "cell_type": "code",
   "execution_count": 82,
   "metadata": {},
   "outputs": [],
   "source": [
    "import pickle"
   ]
  },
  {
   "cell_type": "code",
   "execution_count": null,
   "metadata": {},
   "outputs": [],
   "source": [
    "with open('./data/loaded/meta.dat', 'rb') as f:\n",
    "    speed_df = pickle.load(f)\n",
    "meta"
   ]
  }
 ],
 "metadata": {
  "kernelspec": {
   "display_name": "Python 3",
   "language": "python",
   "name": "python3"
  },
  "language_info": {
   "codemirror_mode": {
    "name": "ipython",
    "version": 3
   },
   "file_extension": ".py",
   "mimetype": "text/x-python",
   "name": "python",
   "nbconvert_exporter": "python",
   "pygments_lexer": "ipython3",
   "version": "3.8.3"
  }
 },
 "nbformat": 4,
 "nbformat_minor": 4
}
