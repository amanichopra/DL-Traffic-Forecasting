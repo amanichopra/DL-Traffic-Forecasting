{
 "cells": [
  {
   "cell_type": "code",
   "execution_count": null,
   "id": "dcfa609e",
   "metadata": {},
   "outputs": [],
   "source": [
    "import pickle\n",
    "from glob import glob\n",
    "import numpy as np\n",
    "from functools import reduce\n",
    "import operator\n",
    "import pandas as pd"
   ]
  },
  {
   "cell_type": "markdown",
   "id": "80a90efc",
   "metadata": {},
   "source": [
    "# Load Metrics"
   ]
  },
  {
   "cell_type": "code",
   "execution_count": null,
   "id": "7671dcde",
   "metadata": {},
   "outputs": [],
   "source": [
    "trained_mods_path = './models/trained/*'\n",
    "mods = glob(trained_mods_path)\n",
    "metric_paths = []\n",
    "for mod in mods:\n",
    "    metric_paths.append(glob(f'{mod}/metrics*'))\n",
    "metric_paths = reduce(operator.concat, metric_paths)\n",
    "metric_paths"
   ]
  },
  {
   "cell_type": "code",
   "execution_count": null,
   "id": "db33763a",
   "metadata": {},
   "outputs": [],
   "source": [
    "metrics = {}\n",
    "for metric_path in metric_paths:\n",
    "    mod = metric_path.rsplit('/')[-1].split('.')[0].split('_')[-1]\n",
    "    with open(metric_path, 'rb') as f:\n",
    "        met = pickle.load(f)\n",
    "    metrics[mod] = met\n",
    "metrics = pd.DataFrame(metrics).reset_index().rename(columns={'index': 'Type'})\n",
    "metrics "
   ]
  },
  {
   "cell_type": "markdown",
   "id": "1e9c8929",
   "metadata": {},
   "source": [
    "# Transform"
   ]
  },
  {
   "cell_type": "code",
   "execution_count": null,
   "id": "9546fb33",
   "metadata": {},
   "outputs": [],
   "source": [
    "metrics = pd.melt(metrics, id_vars=['Type'], var_name='Model')\n",
    "metrics"
   ]
  },
  {
   "cell_type": "code",
   "execution_count": null,
   "id": "d99028c0",
   "metadata": {},
   "outputs": [],
   "source": [
    "cv_metrics = metrics[metrics['Type'] == 'cv']\n",
    "cv_metrics = pd.concat([cv_metrics.drop(['value'], axis=1), cv_metrics['value'].apply(pd.Series)], axis=1)\n",
    "cv_metrics = pd.melt(cv_metrics, id_vars=['Type', 'Model'], var_name='Fold')\n",
    "cv_metrics = pd.concat([cv_metrics.drop(['value'], axis=1), cv_metrics['value'].apply(pd.Series)], axis=1)\n",
    "\n",
    "test_metrics = metrics[metrics['Type'] == 'test']\n",
    "test_metrics = pd.concat([test_metrics.drop(['value'], axis=1), test_metrics['value'].apply(pd.Series)], axis=1)"
   ]
  },
  {
   "cell_type": "code",
   "execution_count": null,
   "id": "f7f1bf97",
   "metadata": {},
   "outputs": [],
   "source": [
    "metrics = pd.concat([cv_metrics, test_metrics]).reset_index(drop=True)\n",
    "metrics"
   ]
  },
  {
   "cell_type": "markdown",
   "id": "64dcd9ea",
   "metadata": {},
   "source": [
    "# Benchmark"
   ]
  },
  {
   "cell_type": "code",
   "execution_count": null,
   "id": "5fd1d3c3",
   "metadata": {},
   "outputs": [],
   "source": [
    "cv_metrics = metrics[metrics['Type'] == 'cv'].drop('Type', axis=1)\n",
    "avg_cv_metrics = cv_metrics.groupby('Model').mean().reset_index()\n",
    "avg_cv_metrics"
   ]
  },
  {
   "cell_type": "code",
   "execution_count": null,
   "id": "b87fd510",
   "metadata": {},
   "outputs": [],
   "source": [
    "import plotly.express as px"
   ]
  },
  {
   "cell_type": "code",
   "execution_count": null,
   "id": "45e8264b",
   "metadata": {},
   "outputs": [],
   "source": [
    "avg_cv_metrics_plot_data = pd.melt(avg_cv_metrics, id_vars='Model', var_name='Metric', value_name='Value')\n",
    "fig = px.bar(avg_cv_metrics_plot_data, x='Model', y='Value', color='Metric', barmode='group')\n",
    "fig"
   ]
  },
  {
   "cell_type": "code",
   "execution_count": null,
   "id": "42dab09a",
   "metadata": {},
   "outputs": [],
   "source": [
    "# fig.write_html('./plots/benchmark.html')"
   ]
  }
 ],
 "metadata": {
  "kernelspec": {
   "display_name": "Python 3 (ipykernel)",
   "language": "python",
   "name": "python3"
  },
  "language_info": {
   "codemirror_mode": {
    "name": "ipython",
    "version": 3
   },
   "file_extension": ".py",
   "mimetype": "text/x-python",
   "name": "python",
   "nbconvert_exporter": "python",
   "pygments_lexer": "ipython3",
   "version": "3.9.10"
  }
 },
 "nbformat": 4,
 "nbformat_minor": 5
}
