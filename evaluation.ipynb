{
 "cells": [
  {
   "cell_type": "code",
   "execution_count": 49,
   "id": "7b49cdbd",
   "metadata": {},
   "outputs": [],
   "source": [
    "import pickle\n",
    "from glob import glob\n",
    "import numpy as np\n",
    "from functools import reduce\n",
    "import operator\n",
    "import pandas as pd"
   ]
  },
  {
   "cell_type": "markdown",
   "id": "c8d69f59",
   "metadata": {},
   "source": [
    "# Load Metrics"
   ]
  },
  {
   "cell_type": "code",
   "execution_count": 50,
   "id": "376a31f5",
   "metadata": {},
   "outputs": [
    {
     "data": {
      "text/plain": [
       "['./models/trained/ARIMA/metrics_ARIMA(1,0,5).dat',\n",
       " './models/trained/baseline/metrics_baseline_mean.dat',\n",
       " './models/trained/baseline/metrics_baseline_tod.dat',\n",
       " './models/trained/CNN/metrics_CNN.dat',\n",
       " './models/trained/prophet/metrics_prophet.dat',\n",
       " './models/trained/STGCN/metrics_STGCN.dat',\n",
       " './models/trained/LSTM/metrics_LSTM.dat']"
      ]
     },
     "execution_count": 50,
     "metadata": {},
     "output_type": "execute_result"
    }
   ],
   "source": [
    "trained_mods_path = './models/trained/*'\n",
    "mods = glob(trained_mods_path)\n",
    "metric_paths = []\n",
    "for mod in mods:\n",
    "    metric_paths.append(glob(f'{mod}/metrics*'))\n",
    "metric_paths = reduce(operator.concat, metric_paths)\n",
    "metric_paths"
   ]
  },
  {
   "cell_type": "code",
   "execution_count": 51,
   "id": "a674a596",
   "metadata": {
    "scrolled": false
   },
   "outputs": [
    {
     "data": {
      "text/html": [
       "<div>\n",
       "<style scoped>\n",
       "    .dataframe tbody tr th:only-of-type {\n",
       "        vertical-align: middle;\n",
       "    }\n",
       "\n",
       "    .dataframe tbody tr th {\n",
       "        vertical-align: top;\n",
       "    }\n",
       "\n",
       "    .dataframe thead th {\n",
       "        text-align: right;\n",
       "    }\n",
       "</style>\n",
       "<table border=\"1\" class=\"dataframe\">\n",
       "  <thead>\n",
       "    <tr style=\"text-align: right;\">\n",
       "      <th></th>\n",
       "      <th>Type</th>\n",
       "      <th>ARIMA(1,0,5)</th>\n",
       "      <th>mean</th>\n",
       "      <th>tod</th>\n",
       "      <th>CNN</th>\n",
       "      <th>prophet</th>\n",
       "      <th>STGCN</th>\n",
       "      <th>LSTM</th>\n",
       "    </tr>\n",
       "  </thead>\n",
       "  <tbody>\n",
       "    <tr>\n",
       "      <th>0</th>\n",
       "      <td>cv</td>\n",
       "      <td>{1: {'train_time': 1.0791349411010742, 'mse': ...</td>\n",
       "      <td>{1: {'train_time': 8.106231689453125e-06, 'mse...</td>\n",
       "      <td>{1: {'train_time': 6.9141387939453125e-06, 'ms...</td>\n",
       "      <td>{1: {'train_time': 1.2046880722045898, 'mse': ...</td>\n",
       "      <td>{1: {'train_time': 1.7118539810180664, 'mse': ...</td>\n",
       "      <td>{1: {'train_time': 14.103374946945149, 'mse': ...</td>\n",
       "      <td>{1: {'train_time': 1.4748117923736572, 'mse': ...</td>\n",
       "    </tr>\n",
       "    <tr>\n",
       "      <th>1</th>\n",
       "      <td>test</td>\n",
       "      <td>{'mse': 55.524369654566, 'mae': 20.77337119887...</td>\n",
       "      <td>{'mse': 7.3442733509200675, 'mae': 2.036776656...</td>\n",
       "      <td>{'mse': 4.347679951586775, 'mae': 1.3925114026...</td>\n",
       "      <td>{'mse': 0.0090606455, 'mae': 0.059377793, 'rms...</td>\n",
       "      <td>{'mse': 4.359167659768827, 'mae': 1.4214996141...</td>\n",
       "      <td>{'mse': 1.0057943694489999e-06, 'rmse': 0.0010...</td>\n",
       "      <td>{'mse': 0.008303482, 'mae': 0.063231826, 'rmse...</td>\n",
       "    </tr>\n",
       "  </tbody>\n",
       "</table>\n",
       "</div>"
      ],
      "text/plain": [
       "   Type                                       ARIMA(1,0,5)  \\\n",
       "0    cv  {1: {'train_time': 1.0791349411010742, 'mse': ...   \n",
       "1  test  {'mse': 55.524369654566, 'mae': 20.77337119887...   \n",
       "\n",
       "                                                mean  \\\n",
       "0  {1: {'train_time': 8.106231689453125e-06, 'mse...   \n",
       "1  {'mse': 7.3442733509200675, 'mae': 2.036776656...   \n",
       "\n",
       "                                                 tod  \\\n",
       "0  {1: {'train_time': 6.9141387939453125e-06, 'ms...   \n",
       "1  {'mse': 4.347679951586775, 'mae': 1.3925114026...   \n",
       "\n",
       "                                                 CNN  \\\n",
       "0  {1: {'train_time': 1.2046880722045898, 'mse': ...   \n",
       "1  {'mse': 0.0090606455, 'mae': 0.059377793, 'rms...   \n",
       "\n",
       "                                             prophet  \\\n",
       "0  {1: {'train_time': 1.7118539810180664, 'mse': ...   \n",
       "1  {'mse': 4.359167659768827, 'mae': 1.4214996141...   \n",
       "\n",
       "                                               STGCN  \\\n",
       "0  {1: {'train_time': 14.103374946945149, 'mse': ...   \n",
       "1  {'mse': 1.0057943694489999e-06, 'rmse': 0.0010...   \n",
       "\n",
       "                                                LSTM  \n",
       "0  {1: {'train_time': 1.4748117923736572, 'mse': ...  \n",
       "1  {'mse': 0.008303482, 'mae': 0.063231826, 'rmse...  "
      ]
     },
     "execution_count": 51,
     "metadata": {},
     "output_type": "execute_result"
    }
   ],
   "source": [
    "metrics = {}\n",
    "for metric_path in metric_paths:\n",
    "    mod = metric_path.rsplit('/')[-1].split('.')[0].split('_')[-1]\n",
    "    with open(metric_path, 'rb') as f:\n",
    "        met = pickle.load(f)\n",
    "    metrics[mod] = met\n",
    "metrics = pd.DataFrame(metrics).reset_index().rename(columns={'index': 'Type'})\n",
    "metrics "
   ]
  },
  {
   "cell_type": "markdown",
   "id": "46179330",
   "metadata": {},
   "source": [
    "# Transform"
   ]
  },
  {
   "cell_type": "code",
   "execution_count": 52,
   "id": "fd1caf4e",
   "metadata": {},
   "outputs": [
    {
     "data": {
      "text/html": [
       "<div>\n",
       "<style scoped>\n",
       "    .dataframe tbody tr th:only-of-type {\n",
       "        vertical-align: middle;\n",
       "    }\n",
       "\n",
       "    .dataframe tbody tr th {\n",
       "        vertical-align: top;\n",
       "    }\n",
       "\n",
       "    .dataframe thead th {\n",
       "        text-align: right;\n",
       "    }\n",
       "</style>\n",
       "<table border=\"1\" class=\"dataframe\">\n",
       "  <thead>\n",
       "    <tr style=\"text-align: right;\">\n",
       "      <th></th>\n",
       "      <th>Type</th>\n",
       "      <th>Model</th>\n",
       "      <th>value</th>\n",
       "    </tr>\n",
       "  </thead>\n",
       "  <tbody>\n",
       "    <tr>\n",
       "      <th>0</th>\n",
       "      <td>cv</td>\n",
       "      <td>ARIMA(1,0,5)</td>\n",
       "      <td>{1: {'train_time': 1.0791349411010742, 'mse': ...</td>\n",
       "    </tr>\n",
       "    <tr>\n",
       "      <th>1</th>\n",
       "      <td>test</td>\n",
       "      <td>ARIMA(1,0,5)</td>\n",
       "      <td>{'mse': 55.524369654566, 'mae': 20.77337119887...</td>\n",
       "    </tr>\n",
       "    <tr>\n",
       "      <th>2</th>\n",
       "      <td>cv</td>\n",
       "      <td>mean</td>\n",
       "      <td>{1: {'train_time': 8.106231689453125e-06, 'mse...</td>\n",
       "    </tr>\n",
       "    <tr>\n",
       "      <th>3</th>\n",
       "      <td>test</td>\n",
       "      <td>mean</td>\n",
       "      <td>{'mse': 7.3442733509200675, 'mae': 2.036776656...</td>\n",
       "    </tr>\n",
       "    <tr>\n",
       "      <th>4</th>\n",
       "      <td>cv</td>\n",
       "      <td>tod</td>\n",
       "      <td>{1: {'train_time': 6.9141387939453125e-06, 'ms...</td>\n",
       "    </tr>\n",
       "    <tr>\n",
       "      <th>5</th>\n",
       "      <td>test</td>\n",
       "      <td>tod</td>\n",
       "      <td>{'mse': 4.347679951586775, 'mae': 1.3925114026...</td>\n",
       "    </tr>\n",
       "    <tr>\n",
       "      <th>6</th>\n",
       "      <td>cv</td>\n",
       "      <td>CNN</td>\n",
       "      <td>{1: {'train_time': 1.2046880722045898, 'mse': ...</td>\n",
       "    </tr>\n",
       "    <tr>\n",
       "      <th>7</th>\n",
       "      <td>test</td>\n",
       "      <td>CNN</td>\n",
       "      <td>{'mse': 0.0090606455, 'mae': 0.059377793, 'rms...</td>\n",
       "    </tr>\n",
       "    <tr>\n",
       "      <th>8</th>\n",
       "      <td>cv</td>\n",
       "      <td>prophet</td>\n",
       "      <td>{1: {'train_time': 1.7118539810180664, 'mse': ...</td>\n",
       "    </tr>\n",
       "    <tr>\n",
       "      <th>9</th>\n",
       "      <td>test</td>\n",
       "      <td>prophet</td>\n",
       "      <td>{'mse': 4.359167659768827, 'mae': 1.4214996141...</td>\n",
       "    </tr>\n",
       "    <tr>\n",
       "      <th>10</th>\n",
       "      <td>cv</td>\n",
       "      <td>STGCN</td>\n",
       "      <td>{1: {'train_time': 14.103374946945149, 'mse': ...</td>\n",
       "    </tr>\n",
       "    <tr>\n",
       "      <th>11</th>\n",
       "      <td>test</td>\n",
       "      <td>STGCN</td>\n",
       "      <td>{'mse': 1.0057943694489999e-06, 'rmse': 0.0010...</td>\n",
       "    </tr>\n",
       "    <tr>\n",
       "      <th>12</th>\n",
       "      <td>cv</td>\n",
       "      <td>LSTM</td>\n",
       "      <td>{1: {'train_time': 1.4748117923736572, 'mse': ...</td>\n",
       "    </tr>\n",
       "    <tr>\n",
       "      <th>13</th>\n",
       "      <td>test</td>\n",
       "      <td>LSTM</td>\n",
       "      <td>{'mse': 0.008303482, 'mae': 0.063231826, 'rmse...</td>\n",
       "    </tr>\n",
       "  </tbody>\n",
       "</table>\n",
       "</div>"
      ],
      "text/plain": [
       "    Type         Model                                              value\n",
       "0     cv  ARIMA(1,0,5)  {1: {'train_time': 1.0791349411010742, 'mse': ...\n",
       "1   test  ARIMA(1,0,5)  {'mse': 55.524369654566, 'mae': 20.77337119887...\n",
       "2     cv          mean  {1: {'train_time': 8.106231689453125e-06, 'mse...\n",
       "3   test          mean  {'mse': 7.3442733509200675, 'mae': 2.036776656...\n",
       "4     cv           tod  {1: {'train_time': 6.9141387939453125e-06, 'ms...\n",
       "5   test           tod  {'mse': 4.347679951586775, 'mae': 1.3925114026...\n",
       "6     cv           CNN  {1: {'train_time': 1.2046880722045898, 'mse': ...\n",
       "7   test           CNN  {'mse': 0.0090606455, 'mae': 0.059377793, 'rms...\n",
       "8     cv       prophet  {1: {'train_time': 1.7118539810180664, 'mse': ...\n",
       "9   test       prophet  {'mse': 4.359167659768827, 'mae': 1.4214996141...\n",
       "10    cv         STGCN  {1: {'train_time': 14.103374946945149, 'mse': ...\n",
       "11  test         STGCN  {'mse': 1.0057943694489999e-06, 'rmse': 0.0010...\n",
       "12    cv          LSTM  {1: {'train_time': 1.4748117923736572, 'mse': ...\n",
       "13  test          LSTM  {'mse': 0.008303482, 'mae': 0.063231826, 'rmse..."
      ]
     },
     "execution_count": 52,
     "metadata": {},
     "output_type": "execute_result"
    }
   ],
   "source": [
    "metrics = pd.melt(metrics, id_vars=['Type'], var_name='Model')\n",
    "metrics"
   ]
  },
  {
   "cell_type": "code",
   "execution_count": 53,
   "id": "19b9e9d1",
   "metadata": {},
   "outputs": [],
   "source": [
    "cv_metrics = metrics[metrics['Type'] == 'cv']\n",
    "cv_metrics = pd.concat([cv_metrics.drop(['value'], axis=1), cv_metrics['value'].apply(pd.Series)], axis=1)\n",
    "cv_metrics = pd.melt(cv_metrics, id_vars=['Type', 'Model'], var_name='Fold')\n",
    "cv_metrics = pd.concat([cv_metrics.drop(['value'], axis=1), cv_metrics['value'].apply(pd.Series)], axis=1)\n",
    "\n",
    "test_metrics = metrics[metrics['Type'] == 'test']\n",
    "test_metrics = pd.concat([test_metrics.drop(['value'], axis=1), test_metrics['value'].apply(pd.Series)], axis=1)"
   ]
  },
  {
   "cell_type": "code",
   "execution_count": 54,
   "id": "577b1e10",
   "metadata": {},
   "outputs": [
    {
     "data": {
      "text/html": [
       "<div>\n",
       "<style scoped>\n",
       "    .dataframe tbody tr th:only-of-type {\n",
       "        vertical-align: middle;\n",
       "    }\n",
       "\n",
       "    .dataframe tbody tr th {\n",
       "        vertical-align: top;\n",
       "    }\n",
       "\n",
       "    .dataframe thead th {\n",
       "        text-align: right;\n",
       "    }\n",
       "</style>\n",
       "<table border=\"1\" class=\"dataframe\">\n",
       "  <thead>\n",
       "    <tr style=\"text-align: right;\">\n",
       "      <th></th>\n",
       "      <th>Type</th>\n",
       "      <th>Model</th>\n",
       "      <th>Fold</th>\n",
       "      <th>train_time</th>\n",
       "      <th>mse</th>\n",
       "      <th>mae</th>\n",
       "      <th>rmse</th>\n",
       "      <th>r2</th>\n",
       "    </tr>\n",
       "  </thead>\n",
       "  <tbody>\n",
       "    <tr>\n",
       "      <th>0</th>\n",
       "      <td>cv</td>\n",
       "      <td>ARIMA(1,0,5)</td>\n",
       "      <td>1</td>\n",
       "      <td>1.079135</td>\n",
       "      <td>9.812994</td>\n",
       "      <td>2.277368</td>\n",
       "      <td>3.132570</td>\n",
       "      <td>0.547846</td>\n",
       "    </tr>\n",
       "    <tr>\n",
       "      <th>1</th>\n",
       "      <td>cv</td>\n",
       "      <td>mean</td>\n",
       "      <td>1</td>\n",
       "      <td>0.000008</td>\n",
       "      <td>8.729189</td>\n",
       "      <td>2.149273</td>\n",
       "      <td>2.954520</td>\n",
       "      <td>0.458948</td>\n",
       "    </tr>\n",
       "    <tr>\n",
       "      <th>2</th>\n",
       "      <td>cv</td>\n",
       "      <td>tod</td>\n",
       "      <td>1</td>\n",
       "      <td>0.000007</td>\n",
       "      <td>5.435395</td>\n",
       "      <td>1.452499</td>\n",
       "      <td>2.331393</td>\n",
       "      <td>0.367159</td>\n",
       "    </tr>\n",
       "    <tr>\n",
       "      <th>3</th>\n",
       "      <td>cv</td>\n",
       "      <td>CNN</td>\n",
       "      <td>1</td>\n",
       "      <td>1.204688</td>\n",
       "      <td>0.002003</td>\n",
       "      <td>0.028232</td>\n",
       "      <td>0.044760</td>\n",
       "      <td>0.997852</td>\n",
       "    </tr>\n",
       "    <tr>\n",
       "      <th>4</th>\n",
       "      <td>cv</td>\n",
       "      <td>prophet</td>\n",
       "      <td>1</td>\n",
       "      <td>1.711854</td>\n",
       "      <td>4.450230</td>\n",
       "      <td>1.396939</td>\n",
       "      <td>2.109557</td>\n",
       "      <td>0.402251</td>\n",
       "    </tr>\n",
       "    <tr>\n",
       "      <th>5</th>\n",
       "      <td>cv</td>\n",
       "      <td>STGCN</td>\n",
       "      <td>1</td>\n",
       "      <td>14.103375</td>\n",
       "      <td>0.000100</td>\n",
       "      <td>0.005000</td>\n",
       "      <td>0.010000</td>\n",
       "      <td>0.975959</td>\n",
       "    </tr>\n",
       "    <tr>\n",
       "      <th>6</th>\n",
       "      <td>cv</td>\n",
       "      <td>LSTM</td>\n",
       "      <td>1</td>\n",
       "      <td>1.474812</td>\n",
       "      <td>0.002232</td>\n",
       "      <td>0.029077</td>\n",
       "      <td>0.047241</td>\n",
       "      <td>0.997607</td>\n",
       "    </tr>\n",
       "    <tr>\n",
       "      <th>7</th>\n",
       "      <td>cv</td>\n",
       "      <td>ARIMA(1,0,5)</td>\n",
       "      <td>2</td>\n",
       "      <td>2.081563</td>\n",
       "      <td>7.998960</td>\n",
       "      <td>2.149618</td>\n",
       "      <td>2.828243</td>\n",
       "      <td>0.573287</td>\n",
       "    </tr>\n",
       "    <tr>\n",
       "      <th>8</th>\n",
       "      <td>cv</td>\n",
       "      <td>mean</td>\n",
       "      <td>2</td>\n",
       "      <td>0.000007</td>\n",
       "      <td>5.451031</td>\n",
       "      <td>1.936104</td>\n",
       "      <td>2.334744</td>\n",
       "      <td>0.328933</td>\n",
       "    </tr>\n",
       "    <tr>\n",
       "      <th>9</th>\n",
       "      <td>cv</td>\n",
       "      <td>tod</td>\n",
       "      <td>2</td>\n",
       "      <td>0.000006</td>\n",
       "      <td>2.511742</td>\n",
       "      <td>1.248120</td>\n",
       "      <td>1.584848</td>\n",
       "      <td>0.533692</td>\n",
       "    </tr>\n",
       "    <tr>\n",
       "      <th>10</th>\n",
       "      <td>cv</td>\n",
       "      <td>CNN</td>\n",
       "      <td>2</td>\n",
       "      <td>2.324657</td>\n",
       "      <td>0.002011</td>\n",
       "      <td>0.028572</td>\n",
       "      <td>0.044840</td>\n",
       "      <td>0.998013</td>\n",
       "    </tr>\n",
       "    <tr>\n",
       "      <th>11</th>\n",
       "      <td>cv</td>\n",
       "      <td>prophet</td>\n",
       "      <td>2</td>\n",
       "      <td>4.955514</td>\n",
       "      <td>2.784661</td>\n",
       "      <td>1.305229</td>\n",
       "      <td>1.668730</td>\n",
       "      <td>0.481646</td>\n",
       "    </tr>\n",
       "    <tr>\n",
       "      <th>12</th>\n",
       "      <td>cv</td>\n",
       "      <td>STGCN</td>\n",
       "      <td>2</td>\n",
       "      <td>14.827502</td>\n",
       "      <td>0.000001</td>\n",
       "      <td>0.000500</td>\n",
       "      <td>0.001000</td>\n",
       "      <td>0.988159</td>\n",
       "    </tr>\n",
       "    <tr>\n",
       "      <th>13</th>\n",
       "      <td>cv</td>\n",
       "      <td>LSTM</td>\n",
       "      <td>2</td>\n",
       "      <td>2.874735</td>\n",
       "      <td>0.002374</td>\n",
       "      <td>0.032914</td>\n",
       "      <td>0.048722</td>\n",
       "      <td>0.997654</td>\n",
       "    </tr>\n",
       "    <tr>\n",
       "      <th>14</th>\n",
       "      <td>cv</td>\n",
       "      <td>ARIMA(1,0,5)</td>\n",
       "      <td>3</td>\n",
       "      <td>3.622128</td>\n",
       "      <td>6.859188</td>\n",
       "      <td>2.095202</td>\n",
       "      <td>2.619005</td>\n",
       "      <td>0.589327</td>\n",
       "    </tr>\n",
       "    <tr>\n",
       "      <th>15</th>\n",
       "      <td>cv</td>\n",
       "      <td>mean</td>\n",
       "      <td>3</td>\n",
       "      <td>0.000004</td>\n",
       "      <td>5.357928</td>\n",
       "      <td>1.911834</td>\n",
       "      <td>2.314720</td>\n",
       "      <td>0.327287</td>\n",
       "    </tr>\n",
       "    <tr>\n",
       "      <th>16</th>\n",
       "      <td>cv</td>\n",
       "      <td>tod</td>\n",
       "      <td>3</td>\n",
       "      <td>0.000292</td>\n",
       "      <td>2.533557</td>\n",
       "      <td>1.250949</td>\n",
       "      <td>1.591715</td>\n",
       "      <td>0.520948</td>\n",
       "    </tr>\n",
       "    <tr>\n",
       "      <th>17</th>\n",
       "      <td>cv</td>\n",
       "      <td>CNN</td>\n",
       "      <td>3</td>\n",
       "      <td>3.419598</td>\n",
       "      <td>0.002052</td>\n",
       "      <td>0.029611</td>\n",
       "      <td>0.045304</td>\n",
       "      <td>0.998058</td>\n",
       "    </tr>\n",
       "    <tr>\n",
       "      <th>18</th>\n",
       "      <td>cv</td>\n",
       "      <td>prophet</td>\n",
       "      <td>3</td>\n",
       "      <td>10.567373</td>\n",
       "      <td>3.249051</td>\n",
       "      <td>1.375082</td>\n",
       "      <td>1.802512</td>\n",
       "      <td>0.528261</td>\n",
       "    </tr>\n",
       "    <tr>\n",
       "      <th>19</th>\n",
       "      <td>cv</td>\n",
       "      <td>STGCN</td>\n",
       "      <td>3</td>\n",
       "      <td>14.751260</td>\n",
       "      <td>0.000002</td>\n",
       "      <td>0.000645</td>\n",
       "      <td>0.001289</td>\n",
       "      <td>0.983977</td>\n",
       "    </tr>\n",
       "    <tr>\n",
       "      <th>20</th>\n",
       "      <td>cv</td>\n",
       "      <td>LSTM</td>\n",
       "      <td>3</td>\n",
       "      <td>4.381513</td>\n",
       "      <td>0.002333</td>\n",
       "      <td>0.030781</td>\n",
       "      <td>0.048305</td>\n",
       "      <td>0.997793</td>\n",
       "    </tr>\n",
       "    <tr>\n",
       "      <th>21</th>\n",
       "      <td>cv</td>\n",
       "      <td>ARIMA(1,0,5)</td>\n",
       "      <td>4</td>\n",
       "      <td>4.820175</td>\n",
       "      <td>8.232642</td>\n",
       "      <td>2.301465</td>\n",
       "      <td>2.869258</td>\n",
       "      <td>0.589328</td>\n",
       "    </tr>\n",
       "    <tr>\n",
       "      <th>22</th>\n",
       "      <td>cv</td>\n",
       "      <td>mean</td>\n",
       "      <td>4</td>\n",
       "      <td>0.000004</td>\n",
       "      <td>6.808438</td>\n",
       "      <td>2.139465</td>\n",
       "      <td>2.609298</td>\n",
       "      <td>0.329033</td>\n",
       "    </tr>\n",
       "    <tr>\n",
       "      <th>23</th>\n",
       "      <td>cv</td>\n",
       "      <td>tod</td>\n",
       "      <td>4</td>\n",
       "      <td>0.000004</td>\n",
       "      <td>3.098735</td>\n",
       "      <td>1.353341</td>\n",
       "      <td>1.760322</td>\n",
       "      <td>0.532682</td>\n",
       "    </tr>\n",
       "    <tr>\n",
       "      <th>24</th>\n",
       "      <td>cv</td>\n",
       "      <td>CNN</td>\n",
       "      <td>4</td>\n",
       "      <td>4.524552</td>\n",
       "      <td>0.002226</td>\n",
       "      <td>0.029525</td>\n",
       "      <td>0.047181</td>\n",
       "      <td>0.997896</td>\n",
       "    </tr>\n",
       "    <tr>\n",
       "      <th>25</th>\n",
       "      <td>cv</td>\n",
       "      <td>prophet</td>\n",
       "      <td>4</td>\n",
       "      <td>14.757187</td>\n",
       "      <td>4.448072</td>\n",
       "      <td>1.391768</td>\n",
       "      <td>2.109045</td>\n",
       "      <td>0.423921</td>\n",
       "    </tr>\n",
       "    <tr>\n",
       "      <th>26</th>\n",
       "      <td>cv</td>\n",
       "      <td>STGCN</td>\n",
       "      <td>4</td>\n",
       "      <td>14.706712</td>\n",
       "      <td>0.000005</td>\n",
       "      <td>0.001164</td>\n",
       "      <td>0.002328</td>\n",
       "      <td>0.978466</td>\n",
       "    </tr>\n",
       "    <tr>\n",
       "      <th>27</th>\n",
       "      <td>cv</td>\n",
       "      <td>LSTM</td>\n",
       "      <td>4</td>\n",
       "      <td>5.709103</td>\n",
       "      <td>0.002509</td>\n",
       "      <td>0.032263</td>\n",
       "      <td>0.050093</td>\n",
       "      <td>0.997629</td>\n",
       "    </tr>\n",
       "    <tr>\n",
       "      <th>28</th>\n",
       "      <td>cv</td>\n",
       "      <td>ARIMA(1,0,5)</td>\n",
       "      <td>5</td>\n",
       "      <td>6.755497</td>\n",
       "      <td>10.348300</td>\n",
       "      <td>2.298978</td>\n",
       "      <td>3.216877</td>\n",
       "      <td>0.548935</td>\n",
       "    </tr>\n",
       "    <tr>\n",
       "      <th>29</th>\n",
       "      <td>cv</td>\n",
       "      <td>mean</td>\n",
       "      <td>5</td>\n",
       "      <td>0.000005</td>\n",
       "      <td>9.247573</td>\n",
       "      <td>2.143683</td>\n",
       "      <td>3.040982</td>\n",
       "      <td>0.327383</td>\n",
       "    </tr>\n",
       "    <tr>\n",
       "      <th>30</th>\n",
       "      <td>cv</td>\n",
       "      <td>tod</td>\n",
       "      <td>5</td>\n",
       "      <td>0.000004</td>\n",
       "      <td>5.807333</td>\n",
       "      <td>1.473662</td>\n",
       "      <td>2.409841</td>\n",
       "      <td>0.356597</td>\n",
       "    </tr>\n",
       "    <tr>\n",
       "      <th>31</th>\n",
       "      <td>cv</td>\n",
       "      <td>CNN</td>\n",
       "      <td>5</td>\n",
       "      <td>5.623305</td>\n",
       "      <td>0.001937</td>\n",
       "      <td>0.027337</td>\n",
       "      <td>0.044011</td>\n",
       "      <td>0.997919</td>\n",
       "    </tr>\n",
       "    <tr>\n",
       "      <th>32</th>\n",
       "      <td>cv</td>\n",
       "      <td>prophet</td>\n",
       "      <td>5</td>\n",
       "      <td>25.151570</td>\n",
       "      <td>4.927688</td>\n",
       "      <td>1.407239</td>\n",
       "      <td>2.219840</td>\n",
       "      <td>0.384325</td>\n",
       "    </tr>\n",
       "    <tr>\n",
       "      <th>33</th>\n",
       "      <td>cv</td>\n",
       "      <td>STGCN</td>\n",
       "      <td>5</td>\n",
       "      <td>15.051570</td>\n",
       "      <td>0.000006</td>\n",
       "      <td>0.001191</td>\n",
       "      <td>0.002382</td>\n",
       "      <td>0.980337</td>\n",
       "    </tr>\n",
       "    <tr>\n",
       "      <th>34</th>\n",
       "      <td>cv</td>\n",
       "      <td>LSTM</td>\n",
       "      <td>5</td>\n",
       "      <td>7.139128</td>\n",
       "      <td>0.002313</td>\n",
       "      <td>0.031143</td>\n",
       "      <td>0.048090</td>\n",
       "      <td>0.997516</td>\n",
       "    </tr>\n",
       "    <tr>\n",
       "      <th>35</th>\n",
       "      <td>test</td>\n",
       "      <td>ARIMA(1,0,5)</td>\n",
       "      <td>NaN</td>\n",
       "      <td>NaN</td>\n",
       "      <td>55.524370</td>\n",
       "      <td>20.773371</td>\n",
       "      <td>22.801079</td>\n",
       "      <td>0.557439</td>\n",
       "    </tr>\n",
       "    <tr>\n",
       "      <th>36</th>\n",
       "      <td>test</td>\n",
       "      <td>mean</td>\n",
       "      <td>NaN</td>\n",
       "      <td>NaN</td>\n",
       "      <td>7.344273</td>\n",
       "      <td>2.036777</td>\n",
       "      <td>2.710032</td>\n",
       "      <td>0.390239</td>\n",
       "    </tr>\n",
       "    <tr>\n",
       "      <th>37</th>\n",
       "      <td>test</td>\n",
       "      <td>tod</td>\n",
       "      <td>NaN</td>\n",
       "      <td>NaN</td>\n",
       "      <td>4.347680</td>\n",
       "      <td>1.392511</td>\n",
       "      <td>2.085109</td>\n",
       "      <td>0.402642</td>\n",
       "    </tr>\n",
       "    <tr>\n",
       "      <th>38</th>\n",
       "      <td>test</td>\n",
       "      <td>CNN</td>\n",
       "      <td>NaN</td>\n",
       "      <td>NaN</td>\n",
       "      <td>0.009061</td>\n",
       "      <td>0.059378</td>\n",
       "      <td>0.095187</td>\n",
       "      <td>0.996885</td>\n",
       "    </tr>\n",
       "    <tr>\n",
       "      <th>39</th>\n",
       "      <td>test</td>\n",
       "      <td>prophet</td>\n",
       "      <td>NaN</td>\n",
       "      <td>NaN</td>\n",
       "      <td>4.359168</td>\n",
       "      <td>1.421500</td>\n",
       "      <td>2.087862</td>\n",
       "      <td>0.401064</td>\n",
       "    </tr>\n",
       "    <tr>\n",
       "      <th>40</th>\n",
       "      <td>test</td>\n",
       "      <td>STGCN</td>\n",
       "      <td>NaN</td>\n",
       "      <td>NaN</td>\n",
       "      <td>0.000001</td>\n",
       "      <td>0.000501</td>\n",
       "      <td>0.001003</td>\n",
       "      <td>0.989383</td>\n",
       "    </tr>\n",
       "    <tr>\n",
       "      <th>41</th>\n",
       "      <td>test</td>\n",
       "      <td>LSTM</td>\n",
       "      <td>NaN</td>\n",
       "      <td>NaN</td>\n",
       "      <td>0.008303</td>\n",
       "      <td>0.063232</td>\n",
       "      <td>0.091123</td>\n",
       "      <td>0.997146</td>\n",
       "    </tr>\n",
       "  </tbody>\n",
       "</table>\n",
       "</div>"
      ],
      "text/plain": [
       "    Type         Model Fold  train_time        mse        mae       rmse  \\\n",
       "0     cv  ARIMA(1,0,5)    1    1.079135   9.812994   2.277368   3.132570   \n",
       "1     cv          mean    1    0.000008   8.729189   2.149273   2.954520   \n",
       "2     cv           tod    1    0.000007   5.435395   1.452499   2.331393   \n",
       "3     cv           CNN    1    1.204688   0.002003   0.028232   0.044760   \n",
       "4     cv       prophet    1    1.711854   4.450230   1.396939   2.109557   \n",
       "5     cv         STGCN    1   14.103375   0.000100   0.005000   0.010000   \n",
       "6     cv          LSTM    1    1.474812   0.002232   0.029077   0.047241   \n",
       "7     cv  ARIMA(1,0,5)    2    2.081563   7.998960   2.149618   2.828243   \n",
       "8     cv          mean    2    0.000007   5.451031   1.936104   2.334744   \n",
       "9     cv           tod    2    0.000006   2.511742   1.248120   1.584848   \n",
       "10    cv           CNN    2    2.324657   0.002011   0.028572   0.044840   \n",
       "11    cv       prophet    2    4.955514   2.784661   1.305229   1.668730   \n",
       "12    cv         STGCN    2   14.827502   0.000001   0.000500   0.001000   \n",
       "13    cv          LSTM    2    2.874735   0.002374   0.032914   0.048722   \n",
       "14    cv  ARIMA(1,0,5)    3    3.622128   6.859188   2.095202   2.619005   \n",
       "15    cv          mean    3    0.000004   5.357928   1.911834   2.314720   \n",
       "16    cv           tod    3    0.000292   2.533557   1.250949   1.591715   \n",
       "17    cv           CNN    3    3.419598   0.002052   0.029611   0.045304   \n",
       "18    cv       prophet    3   10.567373   3.249051   1.375082   1.802512   \n",
       "19    cv         STGCN    3   14.751260   0.000002   0.000645   0.001289   \n",
       "20    cv          LSTM    3    4.381513   0.002333   0.030781   0.048305   \n",
       "21    cv  ARIMA(1,0,5)    4    4.820175   8.232642   2.301465   2.869258   \n",
       "22    cv          mean    4    0.000004   6.808438   2.139465   2.609298   \n",
       "23    cv           tod    4    0.000004   3.098735   1.353341   1.760322   \n",
       "24    cv           CNN    4    4.524552   0.002226   0.029525   0.047181   \n",
       "25    cv       prophet    4   14.757187   4.448072   1.391768   2.109045   \n",
       "26    cv         STGCN    4   14.706712   0.000005   0.001164   0.002328   \n",
       "27    cv          LSTM    4    5.709103   0.002509   0.032263   0.050093   \n",
       "28    cv  ARIMA(1,0,5)    5    6.755497  10.348300   2.298978   3.216877   \n",
       "29    cv          mean    5    0.000005   9.247573   2.143683   3.040982   \n",
       "30    cv           tod    5    0.000004   5.807333   1.473662   2.409841   \n",
       "31    cv           CNN    5    5.623305   0.001937   0.027337   0.044011   \n",
       "32    cv       prophet    5   25.151570   4.927688   1.407239   2.219840   \n",
       "33    cv         STGCN    5   15.051570   0.000006   0.001191   0.002382   \n",
       "34    cv          LSTM    5    7.139128   0.002313   0.031143   0.048090   \n",
       "35  test  ARIMA(1,0,5)  NaN         NaN  55.524370  20.773371  22.801079   \n",
       "36  test          mean  NaN         NaN   7.344273   2.036777   2.710032   \n",
       "37  test           tod  NaN         NaN   4.347680   1.392511   2.085109   \n",
       "38  test           CNN  NaN         NaN   0.009061   0.059378   0.095187   \n",
       "39  test       prophet  NaN         NaN   4.359168   1.421500   2.087862   \n",
       "40  test         STGCN  NaN         NaN   0.000001   0.000501   0.001003   \n",
       "41  test          LSTM  NaN         NaN   0.008303   0.063232   0.091123   \n",
       "\n",
       "          r2  \n",
       "0   0.547846  \n",
       "1   0.458948  \n",
       "2   0.367159  \n",
       "3   0.997852  \n",
       "4   0.402251  \n",
       "5   0.975959  \n",
       "6   0.997607  \n",
       "7   0.573287  \n",
       "8   0.328933  \n",
       "9   0.533692  \n",
       "10  0.998013  \n",
       "11  0.481646  \n",
       "12  0.988159  \n",
       "13  0.997654  \n",
       "14  0.589327  \n",
       "15  0.327287  \n",
       "16  0.520948  \n",
       "17  0.998058  \n",
       "18  0.528261  \n",
       "19  0.983977  \n",
       "20  0.997793  \n",
       "21  0.589328  \n",
       "22  0.329033  \n",
       "23  0.532682  \n",
       "24  0.997896  \n",
       "25  0.423921  \n",
       "26  0.978466  \n",
       "27  0.997629  \n",
       "28  0.548935  \n",
       "29  0.327383  \n",
       "30  0.356597  \n",
       "31  0.997919  \n",
       "32  0.384325  \n",
       "33  0.980337  \n",
       "34  0.997516  \n",
       "35  0.557439  \n",
       "36  0.390239  \n",
       "37  0.402642  \n",
       "38  0.996885  \n",
       "39  0.401064  \n",
       "40  0.989383  \n",
       "41  0.997146  "
      ]
     },
     "execution_count": 54,
     "metadata": {},
     "output_type": "execute_result"
    }
   ],
   "source": [
    "metrics = pd.concat([cv_metrics, test_metrics]).reset_index(drop=True)\n",
    "metrics"
   ]
  },
  {
   "cell_type": "markdown",
   "id": "408ba8e8",
   "metadata": {},
   "source": [
    "# Benchmark"
   ]
  },
  {
   "cell_type": "markdown",
   "id": "9a4e1468",
   "metadata": {},
   "source": [
    "**CV Metrics**"
   ]
  },
  {
   "cell_type": "code",
   "execution_count": 55,
   "id": "aa00f28e",
   "metadata": {},
   "outputs": [
    {
     "data": {
      "text/html": [
       "<div>\n",
       "<style scoped>\n",
       "    .dataframe tbody tr th:only-of-type {\n",
       "        vertical-align: middle;\n",
       "    }\n",
       "\n",
       "    .dataframe tbody tr th {\n",
       "        vertical-align: top;\n",
       "    }\n",
       "\n",
       "    .dataframe thead th {\n",
       "        text-align: right;\n",
       "    }\n",
       "</style>\n",
       "<table border=\"1\" class=\"dataframe\">\n",
       "  <thead>\n",
       "    <tr style=\"text-align: right;\">\n",
       "      <th></th>\n",
       "      <th>Model</th>\n",
       "      <th>train_time</th>\n",
       "      <th>mse</th>\n",
       "      <th>mae</th>\n",
       "      <th>rmse</th>\n",
       "      <th>r2</th>\n",
       "    </tr>\n",
       "  </thead>\n",
       "  <tbody>\n",
       "    <tr>\n",
       "      <th>0</th>\n",
       "      <td>ARIMA(1,0,5)</td>\n",
       "      <td>3.671700</td>\n",
       "      <td>8.650417</td>\n",
       "      <td>2.224526</td>\n",
       "      <td>2.933191</td>\n",
       "      <td>0.569745</td>\n",
       "    </tr>\n",
       "    <tr>\n",
       "      <th>1</th>\n",
       "      <td>CNN</td>\n",
       "      <td>3.419360</td>\n",
       "      <td>0.002046</td>\n",
       "      <td>0.028655</td>\n",
       "      <td>0.045219</td>\n",
       "      <td>0.997948</td>\n",
       "    </tr>\n",
       "    <tr>\n",
       "      <th>2</th>\n",
       "      <td>LSTM</td>\n",
       "      <td>4.315858</td>\n",
       "      <td>0.002352</td>\n",
       "      <td>0.031236</td>\n",
       "      <td>0.048490</td>\n",
       "      <td>0.997640</td>\n",
       "    </tr>\n",
       "    <tr>\n",
       "      <th>3</th>\n",
       "      <td>STGCN</td>\n",
       "      <td>14.688084</td>\n",
       "      <td>0.000023</td>\n",
       "      <td>0.001700</td>\n",
       "      <td>0.003400</td>\n",
       "      <td>0.981380</td>\n",
       "    </tr>\n",
       "    <tr>\n",
       "      <th>4</th>\n",
       "      <td>mean</td>\n",
       "      <td>0.000006</td>\n",
       "      <td>7.118832</td>\n",
       "      <td>2.056072</td>\n",
       "      <td>2.650853</td>\n",
       "      <td>0.354317</td>\n",
       "    </tr>\n",
       "    <tr>\n",
       "      <th>5</th>\n",
       "      <td>prophet</td>\n",
       "      <td>11.428700</td>\n",
       "      <td>3.971940</td>\n",
       "      <td>1.375251</td>\n",
       "      <td>1.981937</td>\n",
       "      <td>0.444081</td>\n",
       "    </tr>\n",
       "    <tr>\n",
       "      <th>6</th>\n",
       "      <td>tod</td>\n",
       "      <td>0.000063</td>\n",
       "      <td>3.877352</td>\n",
       "      <td>1.355714</td>\n",
       "      <td>1.935624</td>\n",
       "      <td>0.462216</td>\n",
       "    </tr>\n",
       "  </tbody>\n",
       "</table>\n",
       "</div>"
      ],
      "text/plain": [
       "          Model  train_time       mse       mae      rmse        r2\n",
       "0  ARIMA(1,0,5)    3.671700  8.650417  2.224526  2.933191  0.569745\n",
       "1           CNN    3.419360  0.002046  0.028655  0.045219  0.997948\n",
       "2          LSTM    4.315858  0.002352  0.031236  0.048490  0.997640\n",
       "3         STGCN   14.688084  0.000023  0.001700  0.003400  0.981380\n",
       "4          mean    0.000006  7.118832  2.056072  2.650853  0.354317\n",
       "5       prophet   11.428700  3.971940  1.375251  1.981937  0.444081\n",
       "6           tod    0.000063  3.877352  1.355714  1.935624  0.462216"
      ]
     },
     "execution_count": 55,
     "metadata": {},
     "output_type": "execute_result"
    }
   ],
   "source": [
    "cv_metrics = metrics[metrics['Type'] == 'cv'].drop('Type', axis=1)\n",
    "avg_cv_metrics = cv_metrics.groupby('Model').mean().reset_index()\n",
    "avg_cv_metrics"
   ]
  },
  {
   "cell_type": "code",
   "execution_count": 56,
   "id": "195bbbeb",
   "metadata": {},
   "outputs": [],
   "source": [
    "import plotly.express as px"
   ]
  },
  {
   "cell_type": "code",
   "execution_count": 61,
   "id": "2df31f11",
   "metadata": {},
   "outputs": [
    {
     "data": {
      "application/vnd.plotly.v1+json": {
       "config": {
        "plotlyServerURL": "https://plot.ly"
       },
       "data": [
        {
         "alignmentgroup": "True",
         "hovertemplate": "Metric=train_time<br>Model=%{x}<br>Value=%{y}<extra></extra>",
         "legendgroup": "train_time",
         "marker": {
          "color": "#636efa"
         },
         "name": "train_time",
         "offsetgroup": "train_time",
         "orientation": "v",
         "showlegend": true,
         "textposition": "auto",
         "type": "bar",
         "x": [
          "ARIMA(1,0,5)",
          "CNN",
          "LSTM",
          "STGCN",
          "mean",
          "prophet",
          "tod"
         ],
         "xaxis": "x",
         "y": [
          3.671699571609497,
          3.4193599700927733,
          4.3158581256866455,
          14.688083807969011,
          5.7220458984375e-06,
          11.428699684143066,
          6.256103515625e-05
         ],
         "yaxis": "y"
        },
        {
         "alignmentgroup": "True",
         "hovertemplate": "Metric=mse<br>Model=%{x}<br>Value=%{y}<extra></extra>",
         "legendgroup": "mse",
         "marker": {
          "color": "#EF553B"
         },
         "name": "mse",
         "offsetgroup": "mse",
         "orientation": "v",
         "showlegend": true,
         "textposition": "auto",
         "type": "bar",
         "x": [
          "ARIMA(1,0,5)",
          "CNN",
          "LSTM",
          "STGCN",
          "mean",
          "prophet",
          "tod"
         ],
         "xaxis": "x",
         "y": [
          8.650416772504443,
          0.00204589671920985,
          0.0023521771654486656,
          2.2751160498e-05,
          7.118831859348235,
          3.9719401703855413,
          3.877352315361711
         ],
         "yaxis": "y"
        },
        {
         "alignmentgroup": "True",
         "hovertemplate": "Metric=mae<br>Model=%{x}<br>Value=%{y}<extra></extra>",
         "legendgroup": "mae",
         "marker": {
          "color": "#00cc96"
         },
         "name": "mae",
         "offsetgroup": "mae",
         "orientation": "v",
         "showlegend": true,
         "textposition": "auto",
         "type": "bar",
         "x": [
          "ARIMA(1,0,5)",
          "CNN",
          "LSTM",
          "STGCN",
          "mean",
          "prophet",
          "tod"
         ],
         "xaxis": "x",
         "y": [
          2.2245260709497314,
          0.028655463084578513,
          0.03123566284775734,
          0.0016999299999999999,
          2.056071953536703,
          1.3752512936174184,
          1.355714345170756
         ],
         "yaxis": "y"
        },
        {
         "alignmentgroup": "True",
         "hovertemplate": "Metric=rmse<br>Model=%{x}<br>Value=%{y}<extra></extra>",
         "legendgroup": "rmse",
         "marker": {
          "color": "#ab63fa"
         },
         "name": "rmse",
         "offsetgroup": "rmse",
         "orientation": "v",
         "showlegend": true,
         "textposition": "auto",
         "type": "bar",
         "x": [
          "ARIMA(1,0,5)",
          "CNN",
          "LSTM",
          "STGCN",
          "mean",
          "prophet",
          "tod"
         ],
         "xaxis": "x",
         "y": [
          2.933190748483267,
          0.04521905779838562,
          0.04849022403359413,
          0.0033998599999999998,
          2.6508529836042727,
          1.9819368488791607,
          1.9356238605014653
         ],
         "yaxis": "y"
        },
        {
         "alignmentgroup": "True",
         "hovertemplate": "Metric=r2<br>Model=%{x}<br>Value=%{y}<extra></extra>",
         "legendgroup": "r2",
         "marker": {
          "color": "#FFA15A"
         },
         "name": "r2",
         "offsetgroup": "r2",
         "orientation": "v",
         "showlegend": true,
         "textposition": "auto",
         "type": "bar",
         "x": [
          "ARIMA(1,0,5)",
          "CNN",
          "LSTM",
          "STGCN",
          "mean",
          "prophet",
          "tod"
         ],
         "xaxis": "x",
         "y": [
          0.5697447408326886,
          0.9979477898523689,
          0.9976396447479093,
          0.9813795654552677,
          0.35431683856599994,
          0.4440807126256024,
          0.4622157164935354
         ],
         "yaxis": "y"
        }
       ],
       "layout": {
        "barmode": "group",
        "legend": {
         "title": {
          "text": "Metric"
         },
         "tracegroupgap": 0
        },
        "template": {
         "data": {
          "bar": [
           {
            "error_x": {
             "color": "#2a3f5f"
            },
            "error_y": {
             "color": "#2a3f5f"
            },
            "marker": {
             "line": {
              "color": "#E5ECF6",
              "width": 0.5
             }
            },
            "type": "bar"
           }
          ],
          "barpolar": [
           {
            "marker": {
             "line": {
              "color": "#E5ECF6",
              "width": 0.5
             }
            },
            "type": "barpolar"
           }
          ],
          "carpet": [
           {
            "aaxis": {
             "endlinecolor": "#2a3f5f",
             "gridcolor": "white",
             "linecolor": "white",
             "minorgridcolor": "white",
             "startlinecolor": "#2a3f5f"
            },
            "baxis": {
             "endlinecolor": "#2a3f5f",
             "gridcolor": "white",
             "linecolor": "white",
             "minorgridcolor": "white",
             "startlinecolor": "#2a3f5f"
            },
            "type": "carpet"
           }
          ],
          "choropleth": [
           {
            "colorbar": {
             "outlinewidth": 0,
             "ticks": ""
            },
            "type": "choropleth"
           }
          ],
          "contour": [
           {
            "colorbar": {
             "outlinewidth": 0,
             "ticks": ""
            },
            "colorscale": [
             [
              0,
              "#0d0887"
             ],
             [
              0.1111111111111111,
              "#46039f"
             ],
             [
              0.2222222222222222,
              "#7201a8"
             ],
             [
              0.3333333333333333,
              "#9c179e"
             ],
             [
              0.4444444444444444,
              "#bd3786"
             ],
             [
              0.5555555555555556,
              "#d8576b"
             ],
             [
              0.6666666666666666,
              "#ed7953"
             ],
             [
              0.7777777777777778,
              "#fb9f3a"
             ],
             [
              0.8888888888888888,
              "#fdca26"
             ],
             [
              1,
              "#f0f921"
             ]
            ],
            "type": "contour"
           }
          ],
          "contourcarpet": [
           {
            "colorbar": {
             "outlinewidth": 0,
             "ticks": ""
            },
            "type": "contourcarpet"
           }
          ],
          "heatmap": [
           {
            "colorbar": {
             "outlinewidth": 0,
             "ticks": ""
            },
            "colorscale": [
             [
              0,
              "#0d0887"
             ],
             [
              0.1111111111111111,
              "#46039f"
             ],
             [
              0.2222222222222222,
              "#7201a8"
             ],
             [
              0.3333333333333333,
              "#9c179e"
             ],
             [
              0.4444444444444444,
              "#bd3786"
             ],
             [
              0.5555555555555556,
              "#d8576b"
             ],
             [
              0.6666666666666666,
              "#ed7953"
             ],
             [
              0.7777777777777778,
              "#fb9f3a"
             ],
             [
              0.8888888888888888,
              "#fdca26"
             ],
             [
              1,
              "#f0f921"
             ]
            ],
            "type": "heatmap"
           }
          ],
          "heatmapgl": [
           {
            "colorbar": {
             "outlinewidth": 0,
             "ticks": ""
            },
            "colorscale": [
             [
              0,
              "#0d0887"
             ],
             [
              0.1111111111111111,
              "#46039f"
             ],
             [
              0.2222222222222222,
              "#7201a8"
             ],
             [
              0.3333333333333333,
              "#9c179e"
             ],
             [
              0.4444444444444444,
              "#bd3786"
             ],
             [
              0.5555555555555556,
              "#d8576b"
             ],
             [
              0.6666666666666666,
              "#ed7953"
             ],
             [
              0.7777777777777778,
              "#fb9f3a"
             ],
             [
              0.8888888888888888,
              "#fdca26"
             ],
             [
              1,
              "#f0f921"
             ]
            ],
            "type": "heatmapgl"
           }
          ],
          "histogram": [
           {
            "marker": {
             "colorbar": {
              "outlinewidth": 0,
              "ticks": ""
             }
            },
            "type": "histogram"
           }
          ],
          "histogram2d": [
           {
            "colorbar": {
             "outlinewidth": 0,
             "ticks": ""
            },
            "colorscale": [
             [
              0,
              "#0d0887"
             ],
             [
              0.1111111111111111,
              "#46039f"
             ],
             [
              0.2222222222222222,
              "#7201a8"
             ],
             [
              0.3333333333333333,
              "#9c179e"
             ],
             [
              0.4444444444444444,
              "#bd3786"
             ],
             [
              0.5555555555555556,
              "#d8576b"
             ],
             [
              0.6666666666666666,
              "#ed7953"
             ],
             [
              0.7777777777777778,
              "#fb9f3a"
             ],
             [
              0.8888888888888888,
              "#fdca26"
             ],
             [
              1,
              "#f0f921"
             ]
            ],
            "type": "histogram2d"
           }
          ],
          "histogram2dcontour": [
           {
            "colorbar": {
             "outlinewidth": 0,
             "ticks": ""
            },
            "colorscale": [
             [
              0,
              "#0d0887"
             ],
             [
              0.1111111111111111,
              "#46039f"
             ],
             [
              0.2222222222222222,
              "#7201a8"
             ],
             [
              0.3333333333333333,
              "#9c179e"
             ],
             [
              0.4444444444444444,
              "#bd3786"
             ],
             [
              0.5555555555555556,
              "#d8576b"
             ],
             [
              0.6666666666666666,
              "#ed7953"
             ],
             [
              0.7777777777777778,
              "#fb9f3a"
             ],
             [
              0.8888888888888888,
              "#fdca26"
             ],
             [
              1,
              "#f0f921"
             ]
            ],
            "type": "histogram2dcontour"
           }
          ],
          "mesh3d": [
           {
            "colorbar": {
             "outlinewidth": 0,
             "ticks": ""
            },
            "type": "mesh3d"
           }
          ],
          "parcoords": [
           {
            "line": {
             "colorbar": {
              "outlinewidth": 0,
              "ticks": ""
             }
            },
            "type": "parcoords"
           }
          ],
          "pie": [
           {
            "automargin": true,
            "type": "pie"
           }
          ],
          "scatter": [
           {
            "marker": {
             "colorbar": {
              "outlinewidth": 0,
              "ticks": ""
             }
            },
            "type": "scatter"
           }
          ],
          "scatter3d": [
           {
            "line": {
             "colorbar": {
              "outlinewidth": 0,
              "ticks": ""
             }
            },
            "marker": {
             "colorbar": {
              "outlinewidth": 0,
              "ticks": ""
             }
            },
            "type": "scatter3d"
           }
          ],
          "scattercarpet": [
           {
            "marker": {
             "colorbar": {
              "outlinewidth": 0,
              "ticks": ""
             }
            },
            "type": "scattercarpet"
           }
          ],
          "scattergeo": [
           {
            "marker": {
             "colorbar": {
              "outlinewidth": 0,
              "ticks": ""
             }
            },
            "type": "scattergeo"
           }
          ],
          "scattergl": [
           {
            "marker": {
             "colorbar": {
              "outlinewidth": 0,
              "ticks": ""
             }
            },
            "type": "scattergl"
           }
          ],
          "scattermapbox": [
           {
            "marker": {
             "colorbar": {
              "outlinewidth": 0,
              "ticks": ""
             }
            },
            "type": "scattermapbox"
           }
          ],
          "scatterpolar": [
           {
            "marker": {
             "colorbar": {
              "outlinewidth": 0,
              "ticks": ""
             }
            },
            "type": "scatterpolar"
           }
          ],
          "scatterpolargl": [
           {
            "marker": {
             "colorbar": {
              "outlinewidth": 0,
              "ticks": ""
             }
            },
            "type": "scatterpolargl"
           }
          ],
          "scatterternary": [
           {
            "marker": {
             "colorbar": {
              "outlinewidth": 0,
              "ticks": ""
             }
            },
            "type": "scatterternary"
           }
          ],
          "surface": [
           {
            "colorbar": {
             "outlinewidth": 0,
             "ticks": ""
            },
            "colorscale": [
             [
              0,
              "#0d0887"
             ],
             [
              0.1111111111111111,
              "#46039f"
             ],
             [
              0.2222222222222222,
              "#7201a8"
             ],
             [
              0.3333333333333333,
              "#9c179e"
             ],
             [
              0.4444444444444444,
              "#bd3786"
             ],
             [
              0.5555555555555556,
              "#d8576b"
             ],
             [
              0.6666666666666666,
              "#ed7953"
             ],
             [
              0.7777777777777778,
              "#fb9f3a"
             ],
             [
              0.8888888888888888,
              "#fdca26"
             ],
             [
              1,
              "#f0f921"
             ]
            ],
            "type": "surface"
           }
          ],
          "table": [
           {
            "cells": {
             "fill": {
              "color": "#EBF0F8"
             },
             "line": {
              "color": "white"
             }
            },
            "header": {
             "fill": {
              "color": "#C8D4E3"
             },
             "line": {
              "color": "white"
             }
            },
            "type": "table"
           }
          ]
         },
         "layout": {
          "annotationdefaults": {
           "arrowcolor": "#2a3f5f",
           "arrowhead": 0,
           "arrowwidth": 1
          },
          "autotypenumbers": "strict",
          "coloraxis": {
           "colorbar": {
            "outlinewidth": 0,
            "ticks": ""
           }
          },
          "colorscale": {
           "diverging": [
            [
             0,
             "#8e0152"
            ],
            [
             0.1,
             "#c51b7d"
            ],
            [
             0.2,
             "#de77ae"
            ],
            [
             0.3,
             "#f1b6da"
            ],
            [
             0.4,
             "#fde0ef"
            ],
            [
             0.5,
             "#f7f7f7"
            ],
            [
             0.6,
             "#e6f5d0"
            ],
            [
             0.7,
             "#b8e186"
            ],
            [
             0.8,
             "#7fbc41"
            ],
            [
             0.9,
             "#4d9221"
            ],
            [
             1,
             "#276419"
            ]
           ],
           "sequential": [
            [
             0,
             "#0d0887"
            ],
            [
             0.1111111111111111,
             "#46039f"
            ],
            [
             0.2222222222222222,
             "#7201a8"
            ],
            [
             0.3333333333333333,
             "#9c179e"
            ],
            [
             0.4444444444444444,
             "#bd3786"
            ],
            [
             0.5555555555555556,
             "#d8576b"
            ],
            [
             0.6666666666666666,
             "#ed7953"
            ],
            [
             0.7777777777777778,
             "#fb9f3a"
            ],
            [
             0.8888888888888888,
             "#fdca26"
            ],
            [
             1,
             "#f0f921"
            ]
           ],
           "sequentialminus": [
            [
             0,
             "#0d0887"
            ],
            [
             0.1111111111111111,
             "#46039f"
            ],
            [
             0.2222222222222222,
             "#7201a8"
            ],
            [
             0.3333333333333333,
             "#9c179e"
            ],
            [
             0.4444444444444444,
             "#bd3786"
            ],
            [
             0.5555555555555556,
             "#d8576b"
            ],
            [
             0.6666666666666666,
             "#ed7953"
            ],
            [
             0.7777777777777778,
             "#fb9f3a"
            ],
            [
             0.8888888888888888,
             "#fdca26"
            ],
            [
             1,
             "#f0f921"
            ]
           ]
          },
          "colorway": [
           "#636efa",
           "#EF553B",
           "#00cc96",
           "#ab63fa",
           "#FFA15A",
           "#19d3f3",
           "#FF6692",
           "#B6E880",
           "#FF97FF",
           "#FECB52"
          ],
          "font": {
           "color": "#2a3f5f"
          },
          "geo": {
           "bgcolor": "white",
           "lakecolor": "white",
           "landcolor": "#E5ECF6",
           "showlakes": true,
           "showland": true,
           "subunitcolor": "white"
          },
          "hoverlabel": {
           "align": "left"
          },
          "hovermode": "closest",
          "mapbox": {
           "style": "light"
          },
          "paper_bgcolor": "white",
          "plot_bgcolor": "#E5ECF6",
          "polar": {
           "angularaxis": {
            "gridcolor": "white",
            "linecolor": "white",
            "ticks": ""
           },
           "bgcolor": "#E5ECF6",
           "radialaxis": {
            "gridcolor": "white",
            "linecolor": "white",
            "ticks": ""
           }
          },
          "scene": {
           "xaxis": {
            "backgroundcolor": "#E5ECF6",
            "gridcolor": "white",
            "gridwidth": 2,
            "linecolor": "white",
            "showbackground": true,
            "ticks": "",
            "zerolinecolor": "white"
           },
           "yaxis": {
            "backgroundcolor": "#E5ECF6",
            "gridcolor": "white",
            "gridwidth": 2,
            "linecolor": "white",
            "showbackground": true,
            "ticks": "",
            "zerolinecolor": "white"
           },
           "zaxis": {
            "backgroundcolor": "#E5ECF6",
            "gridcolor": "white",
            "gridwidth": 2,
            "linecolor": "white",
            "showbackground": true,
            "ticks": "",
            "zerolinecolor": "white"
           }
          },
          "shapedefaults": {
           "line": {
            "color": "#2a3f5f"
           }
          },
          "ternary": {
           "aaxis": {
            "gridcolor": "white",
            "linecolor": "white",
            "ticks": ""
           },
           "baxis": {
            "gridcolor": "white",
            "linecolor": "white",
            "ticks": ""
           },
           "bgcolor": "#E5ECF6",
           "caxis": {
            "gridcolor": "white",
            "linecolor": "white",
            "ticks": ""
           }
          },
          "title": {
           "x": 0.05
          },
          "xaxis": {
           "automargin": true,
           "gridcolor": "white",
           "linecolor": "white",
           "ticks": "",
           "title": {
            "standoff": 15
           },
           "zerolinecolor": "white",
           "zerolinewidth": 2
          },
          "yaxis": {
           "automargin": true,
           "gridcolor": "white",
           "linecolor": "white",
           "ticks": "",
           "title": {
            "standoff": 15
           },
           "zerolinecolor": "white",
           "zerolinewidth": 2
          }
         }
        },
        "title": {
         "text": "CV Metrics Averaged Across 5 Folds"
        },
        "xaxis": {
         "anchor": "y",
         "domain": [
          0,
          1
         ],
         "title": {
          "text": "Model"
         }
        },
        "yaxis": {
         "anchor": "x",
         "domain": [
          0,
          1
         ],
         "title": {
          "text": "Value"
         }
        }
       }
      },
      "text/html": [
       "<div>                            <div id=\"4eab66fe-5fbf-4574-869e-0619900e8714\" class=\"plotly-graph-div\" style=\"height:525px; width:100%;\"></div>            <script type=\"text/javascript\">                require([\"plotly\"], function(Plotly) {                    window.PLOTLYENV=window.PLOTLYENV || {};                                    if (document.getElementById(\"4eab66fe-5fbf-4574-869e-0619900e8714\")) {                    Plotly.newPlot(                        \"4eab66fe-5fbf-4574-869e-0619900e8714\",                        [{\"alignmentgroup\": \"True\", \"hovertemplate\": \"Metric=train_time<br>Model=%{x}<br>Value=%{y}<extra></extra>\", \"legendgroup\": \"train_time\", \"marker\": {\"color\": \"#636efa\"}, \"name\": \"train_time\", \"offsetgroup\": \"train_time\", \"orientation\": \"v\", \"showlegend\": true, \"textposition\": \"auto\", \"type\": \"bar\", \"x\": [\"ARIMA(1,0,5)\", \"CNN\", \"LSTM\", \"STGCN\", \"mean\", \"prophet\", \"tod\"], \"xaxis\": \"x\", \"y\": [3.671699571609497, 3.4193599700927733, 4.3158581256866455, 14.688083807969011, 5.7220458984375e-06, 11.428699684143066, 6.256103515625e-05], \"yaxis\": \"y\"}, {\"alignmentgroup\": \"True\", \"hovertemplate\": \"Metric=mse<br>Model=%{x}<br>Value=%{y}<extra></extra>\", \"legendgroup\": \"mse\", \"marker\": {\"color\": \"#EF553B\"}, \"name\": \"mse\", \"offsetgroup\": \"mse\", \"orientation\": \"v\", \"showlegend\": true, \"textposition\": \"auto\", \"type\": \"bar\", \"x\": [\"ARIMA(1,0,5)\", \"CNN\", \"LSTM\", \"STGCN\", \"mean\", \"prophet\", \"tod\"], \"xaxis\": \"x\", \"y\": [8.650416772504443, 0.00204589671920985, 0.0023521771654486656, 2.2751160498e-05, 7.118831859348235, 3.9719401703855413, 3.877352315361711], \"yaxis\": \"y\"}, {\"alignmentgroup\": \"True\", \"hovertemplate\": \"Metric=mae<br>Model=%{x}<br>Value=%{y}<extra></extra>\", \"legendgroup\": \"mae\", \"marker\": {\"color\": \"#00cc96\"}, \"name\": \"mae\", \"offsetgroup\": \"mae\", \"orientation\": \"v\", \"showlegend\": true, \"textposition\": \"auto\", \"type\": \"bar\", \"x\": [\"ARIMA(1,0,5)\", \"CNN\", \"LSTM\", \"STGCN\", \"mean\", \"prophet\", \"tod\"], \"xaxis\": \"x\", \"y\": [2.2245260709497314, 0.028655463084578513, 0.03123566284775734, 0.0016999299999999999, 2.056071953536703, 1.3752512936174184, 1.355714345170756], \"yaxis\": \"y\"}, {\"alignmentgroup\": \"True\", \"hovertemplate\": \"Metric=rmse<br>Model=%{x}<br>Value=%{y}<extra></extra>\", \"legendgroup\": \"rmse\", \"marker\": {\"color\": \"#ab63fa\"}, \"name\": \"rmse\", \"offsetgroup\": \"rmse\", \"orientation\": \"v\", \"showlegend\": true, \"textposition\": \"auto\", \"type\": \"bar\", \"x\": [\"ARIMA(1,0,5)\", \"CNN\", \"LSTM\", \"STGCN\", \"mean\", \"prophet\", \"tod\"], \"xaxis\": \"x\", \"y\": [2.933190748483267, 0.04521905779838562, 0.04849022403359413, 0.0033998599999999998, 2.6508529836042727, 1.9819368488791607, 1.9356238605014653], \"yaxis\": \"y\"}, {\"alignmentgroup\": \"True\", \"hovertemplate\": \"Metric=r2<br>Model=%{x}<br>Value=%{y}<extra></extra>\", \"legendgroup\": \"r2\", \"marker\": {\"color\": \"#FFA15A\"}, \"name\": \"r2\", \"offsetgroup\": \"r2\", \"orientation\": \"v\", \"showlegend\": true, \"textposition\": \"auto\", \"type\": \"bar\", \"x\": [\"ARIMA(1,0,5)\", \"CNN\", \"LSTM\", \"STGCN\", \"mean\", \"prophet\", \"tod\"], \"xaxis\": \"x\", \"y\": [0.5697447408326886, 0.9979477898523689, 0.9976396447479093, 0.9813795654552677, 0.35431683856599994, 0.4440807126256024, 0.4622157164935354], \"yaxis\": \"y\"}],                        {\"barmode\": \"group\", \"legend\": {\"title\": {\"text\": \"Metric\"}, \"tracegroupgap\": 0}, \"template\": {\"data\": {\"bar\": [{\"error_x\": {\"color\": \"#2a3f5f\"}, \"error_y\": {\"color\": \"#2a3f5f\"}, \"marker\": {\"line\": {\"color\": \"#E5ECF6\", \"width\": 0.5}}, \"type\": \"bar\"}], \"barpolar\": [{\"marker\": {\"line\": {\"color\": \"#E5ECF6\", \"width\": 0.5}}, \"type\": \"barpolar\"}], \"carpet\": [{\"aaxis\": {\"endlinecolor\": \"#2a3f5f\", \"gridcolor\": \"white\", \"linecolor\": \"white\", \"minorgridcolor\": \"white\", \"startlinecolor\": \"#2a3f5f\"}, \"baxis\": {\"endlinecolor\": \"#2a3f5f\", \"gridcolor\": \"white\", \"linecolor\": \"white\", \"minorgridcolor\": \"white\", \"startlinecolor\": \"#2a3f5f\"}, \"type\": \"carpet\"}], \"choropleth\": [{\"colorbar\": {\"outlinewidth\": 0, \"ticks\": \"\"}, \"type\": \"choropleth\"}], \"contour\": [{\"colorbar\": {\"outlinewidth\": 0, \"ticks\": \"\"}, \"colorscale\": [[0.0, \"#0d0887\"], [0.1111111111111111, \"#46039f\"], [0.2222222222222222, \"#7201a8\"], [0.3333333333333333, \"#9c179e\"], [0.4444444444444444, \"#bd3786\"], [0.5555555555555556, \"#d8576b\"], [0.6666666666666666, \"#ed7953\"], [0.7777777777777778, \"#fb9f3a\"], [0.8888888888888888, \"#fdca26\"], [1.0, \"#f0f921\"]], \"type\": \"contour\"}], \"contourcarpet\": [{\"colorbar\": {\"outlinewidth\": 0, \"ticks\": \"\"}, \"type\": \"contourcarpet\"}], \"heatmap\": [{\"colorbar\": {\"outlinewidth\": 0, \"ticks\": \"\"}, \"colorscale\": [[0.0, \"#0d0887\"], [0.1111111111111111, \"#46039f\"], [0.2222222222222222, \"#7201a8\"], [0.3333333333333333, \"#9c179e\"], [0.4444444444444444, \"#bd3786\"], [0.5555555555555556, \"#d8576b\"], [0.6666666666666666, \"#ed7953\"], [0.7777777777777778, \"#fb9f3a\"], [0.8888888888888888, \"#fdca26\"], [1.0, \"#f0f921\"]], \"type\": \"heatmap\"}], \"heatmapgl\": [{\"colorbar\": {\"outlinewidth\": 0, \"ticks\": \"\"}, \"colorscale\": [[0.0, \"#0d0887\"], [0.1111111111111111, \"#46039f\"], [0.2222222222222222, \"#7201a8\"], [0.3333333333333333, \"#9c179e\"], [0.4444444444444444, \"#bd3786\"], [0.5555555555555556, \"#d8576b\"], [0.6666666666666666, \"#ed7953\"], [0.7777777777777778, \"#fb9f3a\"], [0.8888888888888888, \"#fdca26\"], [1.0, \"#f0f921\"]], \"type\": \"heatmapgl\"}], \"histogram\": [{\"marker\": {\"colorbar\": {\"outlinewidth\": 0, \"ticks\": \"\"}}, \"type\": \"histogram\"}], \"histogram2d\": [{\"colorbar\": {\"outlinewidth\": 0, \"ticks\": \"\"}, \"colorscale\": [[0.0, \"#0d0887\"], [0.1111111111111111, \"#46039f\"], [0.2222222222222222, \"#7201a8\"], [0.3333333333333333, \"#9c179e\"], [0.4444444444444444, \"#bd3786\"], [0.5555555555555556, \"#d8576b\"], [0.6666666666666666, \"#ed7953\"], [0.7777777777777778, \"#fb9f3a\"], [0.8888888888888888, \"#fdca26\"], [1.0, \"#f0f921\"]], \"type\": \"histogram2d\"}], \"histogram2dcontour\": [{\"colorbar\": {\"outlinewidth\": 0, \"ticks\": \"\"}, \"colorscale\": [[0.0, \"#0d0887\"], [0.1111111111111111, \"#46039f\"], [0.2222222222222222, \"#7201a8\"], [0.3333333333333333, \"#9c179e\"], [0.4444444444444444, \"#bd3786\"], [0.5555555555555556, \"#d8576b\"], [0.6666666666666666, \"#ed7953\"], [0.7777777777777778, \"#fb9f3a\"], [0.8888888888888888, \"#fdca26\"], [1.0, \"#f0f921\"]], \"type\": \"histogram2dcontour\"}], \"mesh3d\": [{\"colorbar\": {\"outlinewidth\": 0, \"ticks\": \"\"}, \"type\": \"mesh3d\"}], \"parcoords\": [{\"line\": {\"colorbar\": {\"outlinewidth\": 0, \"ticks\": \"\"}}, \"type\": \"parcoords\"}], \"pie\": [{\"automargin\": true, \"type\": \"pie\"}], \"scatter\": [{\"marker\": {\"colorbar\": {\"outlinewidth\": 0, \"ticks\": \"\"}}, \"type\": \"scatter\"}], \"scatter3d\": [{\"line\": {\"colorbar\": {\"outlinewidth\": 0, \"ticks\": \"\"}}, \"marker\": {\"colorbar\": {\"outlinewidth\": 0, \"ticks\": \"\"}}, \"type\": \"scatter3d\"}], \"scattercarpet\": [{\"marker\": {\"colorbar\": {\"outlinewidth\": 0, \"ticks\": \"\"}}, \"type\": \"scattercarpet\"}], \"scattergeo\": [{\"marker\": {\"colorbar\": {\"outlinewidth\": 0, \"ticks\": \"\"}}, \"type\": \"scattergeo\"}], \"scattergl\": [{\"marker\": {\"colorbar\": {\"outlinewidth\": 0, \"ticks\": \"\"}}, \"type\": \"scattergl\"}], \"scattermapbox\": [{\"marker\": {\"colorbar\": {\"outlinewidth\": 0, \"ticks\": \"\"}}, \"type\": \"scattermapbox\"}], \"scatterpolar\": [{\"marker\": {\"colorbar\": {\"outlinewidth\": 0, \"ticks\": \"\"}}, \"type\": \"scatterpolar\"}], \"scatterpolargl\": [{\"marker\": {\"colorbar\": {\"outlinewidth\": 0, \"ticks\": \"\"}}, \"type\": \"scatterpolargl\"}], \"scatterternary\": [{\"marker\": {\"colorbar\": {\"outlinewidth\": 0, \"ticks\": \"\"}}, \"type\": \"scatterternary\"}], \"surface\": [{\"colorbar\": {\"outlinewidth\": 0, \"ticks\": \"\"}, \"colorscale\": [[0.0, \"#0d0887\"], [0.1111111111111111, \"#46039f\"], [0.2222222222222222, \"#7201a8\"], [0.3333333333333333, \"#9c179e\"], [0.4444444444444444, \"#bd3786\"], [0.5555555555555556, \"#d8576b\"], [0.6666666666666666, \"#ed7953\"], [0.7777777777777778, \"#fb9f3a\"], [0.8888888888888888, \"#fdca26\"], [1.0, \"#f0f921\"]], \"type\": \"surface\"}], \"table\": [{\"cells\": {\"fill\": {\"color\": \"#EBF0F8\"}, \"line\": {\"color\": \"white\"}}, \"header\": {\"fill\": {\"color\": \"#C8D4E3\"}, \"line\": {\"color\": \"white\"}}, \"type\": \"table\"}]}, \"layout\": {\"annotationdefaults\": {\"arrowcolor\": \"#2a3f5f\", \"arrowhead\": 0, \"arrowwidth\": 1}, \"autotypenumbers\": \"strict\", \"coloraxis\": {\"colorbar\": {\"outlinewidth\": 0, \"ticks\": \"\"}}, \"colorscale\": {\"diverging\": [[0, \"#8e0152\"], [0.1, \"#c51b7d\"], [0.2, \"#de77ae\"], [0.3, \"#f1b6da\"], [0.4, \"#fde0ef\"], [0.5, \"#f7f7f7\"], [0.6, \"#e6f5d0\"], [0.7, \"#b8e186\"], [0.8, \"#7fbc41\"], [0.9, \"#4d9221\"], [1, \"#276419\"]], \"sequential\": [[0.0, \"#0d0887\"], [0.1111111111111111, \"#46039f\"], [0.2222222222222222, \"#7201a8\"], [0.3333333333333333, \"#9c179e\"], [0.4444444444444444, \"#bd3786\"], [0.5555555555555556, \"#d8576b\"], [0.6666666666666666, \"#ed7953\"], [0.7777777777777778, \"#fb9f3a\"], [0.8888888888888888, \"#fdca26\"], [1.0, \"#f0f921\"]], \"sequentialminus\": [[0.0, \"#0d0887\"], [0.1111111111111111, \"#46039f\"], [0.2222222222222222, \"#7201a8\"], [0.3333333333333333, \"#9c179e\"], [0.4444444444444444, \"#bd3786\"], [0.5555555555555556, \"#d8576b\"], [0.6666666666666666, \"#ed7953\"], [0.7777777777777778, \"#fb9f3a\"], [0.8888888888888888, \"#fdca26\"], [1.0, \"#f0f921\"]]}, \"colorway\": [\"#636efa\", \"#EF553B\", \"#00cc96\", \"#ab63fa\", \"#FFA15A\", \"#19d3f3\", \"#FF6692\", \"#B6E880\", \"#FF97FF\", \"#FECB52\"], \"font\": {\"color\": \"#2a3f5f\"}, \"geo\": {\"bgcolor\": \"white\", \"lakecolor\": \"white\", \"landcolor\": \"#E5ECF6\", \"showlakes\": true, \"showland\": true, \"subunitcolor\": \"white\"}, \"hoverlabel\": {\"align\": \"left\"}, \"hovermode\": \"closest\", \"mapbox\": {\"style\": \"light\"}, \"paper_bgcolor\": \"white\", \"plot_bgcolor\": \"#E5ECF6\", \"polar\": {\"angularaxis\": {\"gridcolor\": \"white\", \"linecolor\": \"white\", \"ticks\": \"\"}, \"bgcolor\": \"#E5ECF6\", \"radialaxis\": {\"gridcolor\": \"white\", \"linecolor\": \"white\", \"ticks\": \"\"}}, \"scene\": {\"xaxis\": {\"backgroundcolor\": \"#E5ECF6\", \"gridcolor\": \"white\", \"gridwidth\": 2, \"linecolor\": \"white\", \"showbackground\": true, \"ticks\": \"\", \"zerolinecolor\": \"white\"}, \"yaxis\": {\"backgroundcolor\": \"#E5ECF6\", \"gridcolor\": \"white\", \"gridwidth\": 2, \"linecolor\": \"white\", \"showbackground\": true, \"ticks\": \"\", \"zerolinecolor\": \"white\"}, \"zaxis\": {\"backgroundcolor\": \"#E5ECF6\", \"gridcolor\": \"white\", \"gridwidth\": 2, \"linecolor\": \"white\", \"showbackground\": true, \"ticks\": \"\", \"zerolinecolor\": \"white\"}}, \"shapedefaults\": {\"line\": {\"color\": \"#2a3f5f\"}}, \"ternary\": {\"aaxis\": {\"gridcolor\": \"white\", \"linecolor\": \"white\", \"ticks\": \"\"}, \"baxis\": {\"gridcolor\": \"white\", \"linecolor\": \"white\", \"ticks\": \"\"}, \"bgcolor\": \"#E5ECF6\", \"caxis\": {\"gridcolor\": \"white\", \"linecolor\": \"white\", \"ticks\": \"\"}}, \"title\": {\"x\": 0.05}, \"xaxis\": {\"automargin\": true, \"gridcolor\": \"white\", \"linecolor\": \"white\", \"ticks\": \"\", \"title\": {\"standoff\": 15}, \"zerolinecolor\": \"white\", \"zerolinewidth\": 2}, \"yaxis\": {\"automargin\": true, \"gridcolor\": \"white\", \"linecolor\": \"white\", \"ticks\": \"\", \"title\": {\"standoff\": 15}, \"zerolinecolor\": \"white\", \"zerolinewidth\": 2}}}, \"title\": {\"text\": \"CV Metrics Averaged Across 5 Folds\"}, \"xaxis\": {\"anchor\": \"y\", \"domain\": [0.0, 1.0], \"title\": {\"text\": \"Model\"}}, \"yaxis\": {\"anchor\": \"x\", \"domain\": [0.0, 1.0], \"title\": {\"text\": \"Value\"}}},                        {\"responsive\": true}                    ).then(function(){\n",
       "                            \n",
       "var gd = document.getElementById('4eab66fe-5fbf-4574-869e-0619900e8714');\n",
       "var x = new MutationObserver(function (mutations, observer) {{\n",
       "        var display = window.getComputedStyle(gd).display;\n",
       "        if (!display || display === 'none') {{\n",
       "            console.log([gd, 'removed!']);\n",
       "            Plotly.purge(gd);\n",
       "            observer.disconnect();\n",
       "        }}\n",
       "}});\n",
       "\n",
       "// Listen for the removal of the full notebook cells\n",
       "var notebookContainer = gd.closest('#notebook-container');\n",
       "if (notebookContainer) {{\n",
       "    x.observe(notebookContainer, {childList: true});\n",
       "}}\n",
       "\n",
       "// Listen for the clearing of the current output cell\n",
       "var outputEl = gd.closest('.output');\n",
       "if (outputEl) {{\n",
       "    x.observe(outputEl, {childList: true});\n",
       "}}\n",
       "\n",
       "                        })                };                });            </script>        </div>"
      ]
     },
     "metadata": {},
     "output_type": "display_data"
    }
   ],
   "source": [
    "avg_cv_metrics_plot_data = pd.melt(avg_cv_metrics, id_vars='Model', var_name='Metric', value_name='Value')\n",
    "fig = px.bar(avg_cv_metrics_plot_data, x='Model', y='Value', color='Metric', barmode='group', title='CV Metrics Averaged Across 5 Folds')\n",
    "fig"
   ]
  },
  {
   "cell_type": "code",
   "execution_count": 62,
   "id": "2df4d8f8",
   "metadata": {},
   "outputs": [],
   "source": [
    "# fig.write_html('./plots/benchmark_cv.html')"
   ]
  },
  {
   "cell_type": "markdown",
   "id": "b1b58fae",
   "metadata": {},
   "source": [
    "**Test Metrics**"
   ]
  },
  {
   "cell_type": "code",
   "execution_count": 59,
   "id": "64fe7947",
   "metadata": {},
   "outputs": [
    {
     "data": {
      "text/html": [
       "<div>\n",
       "<style scoped>\n",
       "    .dataframe tbody tr th:only-of-type {\n",
       "        vertical-align: middle;\n",
       "    }\n",
       "\n",
       "    .dataframe tbody tr th {\n",
       "        vertical-align: top;\n",
       "    }\n",
       "\n",
       "    .dataframe thead th {\n",
       "        text-align: right;\n",
       "    }\n",
       "</style>\n",
       "<table border=\"1\" class=\"dataframe\">\n",
       "  <thead>\n",
       "    <tr style=\"text-align: right;\">\n",
       "      <th></th>\n",
       "      <th>Model</th>\n",
       "      <th>mse</th>\n",
       "      <th>mae</th>\n",
       "      <th>rmse</th>\n",
       "      <th>r2</th>\n",
       "    </tr>\n",
       "  </thead>\n",
       "  <tbody>\n",
       "    <tr>\n",
       "      <th>35</th>\n",
       "      <td>ARIMA(1,0,5)</td>\n",
       "      <td>55.524370</td>\n",
       "      <td>20.773371</td>\n",
       "      <td>22.801079</td>\n",
       "      <td>0.557439</td>\n",
       "    </tr>\n",
       "    <tr>\n",
       "      <th>36</th>\n",
       "      <td>mean</td>\n",
       "      <td>7.344273</td>\n",
       "      <td>2.036777</td>\n",
       "      <td>2.710032</td>\n",
       "      <td>0.390239</td>\n",
       "    </tr>\n",
       "    <tr>\n",
       "      <th>37</th>\n",
       "      <td>tod</td>\n",
       "      <td>4.347680</td>\n",
       "      <td>1.392511</td>\n",
       "      <td>2.085109</td>\n",
       "      <td>0.402642</td>\n",
       "    </tr>\n",
       "    <tr>\n",
       "      <th>38</th>\n",
       "      <td>CNN</td>\n",
       "      <td>0.009061</td>\n",
       "      <td>0.059378</td>\n",
       "      <td>0.095187</td>\n",
       "      <td>0.996885</td>\n",
       "    </tr>\n",
       "    <tr>\n",
       "      <th>39</th>\n",
       "      <td>prophet</td>\n",
       "      <td>4.359168</td>\n",
       "      <td>1.421500</td>\n",
       "      <td>2.087862</td>\n",
       "      <td>0.401064</td>\n",
       "    </tr>\n",
       "    <tr>\n",
       "      <th>40</th>\n",
       "      <td>STGCN</td>\n",
       "      <td>0.000001</td>\n",
       "      <td>0.000501</td>\n",
       "      <td>0.001003</td>\n",
       "      <td>0.989383</td>\n",
       "    </tr>\n",
       "    <tr>\n",
       "      <th>41</th>\n",
       "      <td>LSTM</td>\n",
       "      <td>0.008303</td>\n",
       "      <td>0.063232</td>\n",
       "      <td>0.091123</td>\n",
       "      <td>0.997146</td>\n",
       "    </tr>\n",
       "  </tbody>\n",
       "</table>\n",
       "</div>"
      ],
      "text/plain": [
       "           Model        mse        mae       rmse        r2\n",
       "35  ARIMA(1,0,5)  55.524370  20.773371  22.801079  0.557439\n",
       "36          mean   7.344273   2.036777   2.710032  0.390239\n",
       "37           tod   4.347680   1.392511   2.085109  0.402642\n",
       "38           CNN   0.009061   0.059378   0.095187  0.996885\n",
       "39       prophet   4.359168   1.421500   2.087862  0.401064\n",
       "40         STGCN   0.000001   0.000501   0.001003  0.989383\n",
       "41          LSTM   0.008303   0.063232   0.091123  0.997146"
      ]
     },
     "execution_count": 59,
     "metadata": {},
     "output_type": "execute_result"
    }
   ],
   "source": [
    "test_metrics = metrics[metrics['Type'] == 'test'].drop(['Type', 'Fold', 'train_time'], axis=1)\n",
    "test_metrics"
   ]
  },
  {
   "cell_type": "code",
   "execution_count": 63,
   "id": "d442ddfb",
   "metadata": {},
   "outputs": [
    {
     "data": {
      "application/vnd.plotly.v1+json": {
       "config": {
        "plotlyServerURL": "https://plot.ly"
       },
       "data": [
        {
         "alignmentgroup": "True",
         "hovertemplate": "Metric=mse<br>Model=%{x}<br>Value=%{y}<extra></extra>",
         "legendgroup": "mse",
         "marker": {
          "color": "#636efa"
         },
         "name": "mse",
         "offsetgroup": "mse",
         "orientation": "v",
         "showlegend": true,
         "textposition": "auto",
         "type": "bar",
         "x": [
          "ARIMA(1,0,5)",
          "mean",
          "tod",
          "CNN",
          "prophet",
          "STGCN",
          "LSTM"
         ],
         "xaxis": "x",
         "y": [
          55.524369654566,
          7.3442733509200675,
          4.347679951586775,
          0.00906064547598362,
          4.359167659768827,
          1.0057943694489999e-06,
          0.008303482085466385
         ],
         "yaxis": "y"
        },
        {
         "alignmentgroup": "True",
         "hovertemplate": "Metric=mae<br>Model=%{x}<br>Value=%{y}<extra></extra>",
         "legendgroup": "mae",
         "marker": {
          "color": "#EF553B"
         },
         "name": "mae",
         "offsetgroup": "mae",
         "orientation": "v",
         "showlegend": true,
         "textposition": "auto",
         "type": "bar",
         "x": [
          "ARIMA(1,0,5)",
          "mean",
          "tod",
          "CNN",
          "prophet",
          "STGCN",
          "LSTM"
         ],
         "xaxis": "x",
         "y": [
          20.77337119887406,
          2.0367766560739304,
          1.3925114026969858,
          0.05937779322266579,
          1.421499614167644,
          0.0005014465,
          0.06323182582855225
         ],
         "yaxis": "y"
        },
        {
         "alignmentgroup": "True",
         "hovertemplate": "Metric=rmse<br>Model=%{x}<br>Value=%{y}<extra></extra>",
         "legendgroup": "rmse",
         "marker": {
          "color": "#00cc96"
         },
         "name": "rmse",
         "offsetgroup": "rmse",
         "orientation": "v",
         "showlegend": true,
         "textposition": "auto",
         "type": "bar",
         "x": [
          "ARIMA(1,0,5)",
          "mean",
          "tod",
          "CNN",
          "prophet",
          "STGCN",
          "LSTM"
         ],
         "xaxis": "x",
         "y": [
          22.8010787879013,
          2.7100319833758544,
          2.085109098245647,
          0.09518742561340332,
          2.087861982931062,
          0.001002893,
          0.09112344682216644
         ],
         "yaxis": "y"
        },
        {
         "alignmentgroup": "True",
         "hovertemplate": "Metric=r2<br>Model=%{x}<br>Value=%{y}<extra></extra>",
         "legendgroup": "r2",
         "marker": {
          "color": "#ab63fa"
         },
         "name": "r2",
         "offsetgroup": "r2",
         "orientation": "v",
         "showlegend": true,
         "textposition": "auto",
         "type": "bar",
         "x": [
          "ARIMA(1,0,5)",
          "mean",
          "tod",
          "CNN",
          "prophet",
          "STGCN",
          "LSTM"
         ],
         "xaxis": "x",
         "y": [
          0.557438747834983,
          0.3902390923,
          0.4026421231010219,
          0.9968854090443541,
          0.4010637472669034,
          0.98938298,
          0.9971456839425668
         ],
         "yaxis": "y"
        }
       ],
       "layout": {
        "barmode": "group",
        "legend": {
         "title": {
          "text": "Metric"
         },
         "tracegroupgap": 0
        },
        "template": {
         "data": {
          "bar": [
           {
            "error_x": {
             "color": "#2a3f5f"
            },
            "error_y": {
             "color": "#2a3f5f"
            },
            "marker": {
             "line": {
              "color": "#E5ECF6",
              "width": 0.5
             }
            },
            "type": "bar"
           }
          ],
          "barpolar": [
           {
            "marker": {
             "line": {
              "color": "#E5ECF6",
              "width": 0.5
             }
            },
            "type": "barpolar"
           }
          ],
          "carpet": [
           {
            "aaxis": {
             "endlinecolor": "#2a3f5f",
             "gridcolor": "white",
             "linecolor": "white",
             "minorgridcolor": "white",
             "startlinecolor": "#2a3f5f"
            },
            "baxis": {
             "endlinecolor": "#2a3f5f",
             "gridcolor": "white",
             "linecolor": "white",
             "minorgridcolor": "white",
             "startlinecolor": "#2a3f5f"
            },
            "type": "carpet"
           }
          ],
          "choropleth": [
           {
            "colorbar": {
             "outlinewidth": 0,
             "ticks": ""
            },
            "type": "choropleth"
           }
          ],
          "contour": [
           {
            "colorbar": {
             "outlinewidth": 0,
             "ticks": ""
            },
            "colorscale": [
             [
              0,
              "#0d0887"
             ],
             [
              0.1111111111111111,
              "#46039f"
             ],
             [
              0.2222222222222222,
              "#7201a8"
             ],
             [
              0.3333333333333333,
              "#9c179e"
             ],
             [
              0.4444444444444444,
              "#bd3786"
             ],
             [
              0.5555555555555556,
              "#d8576b"
             ],
             [
              0.6666666666666666,
              "#ed7953"
             ],
             [
              0.7777777777777778,
              "#fb9f3a"
             ],
             [
              0.8888888888888888,
              "#fdca26"
             ],
             [
              1,
              "#f0f921"
             ]
            ],
            "type": "contour"
           }
          ],
          "contourcarpet": [
           {
            "colorbar": {
             "outlinewidth": 0,
             "ticks": ""
            },
            "type": "contourcarpet"
           }
          ],
          "heatmap": [
           {
            "colorbar": {
             "outlinewidth": 0,
             "ticks": ""
            },
            "colorscale": [
             [
              0,
              "#0d0887"
             ],
             [
              0.1111111111111111,
              "#46039f"
             ],
             [
              0.2222222222222222,
              "#7201a8"
             ],
             [
              0.3333333333333333,
              "#9c179e"
             ],
             [
              0.4444444444444444,
              "#bd3786"
             ],
             [
              0.5555555555555556,
              "#d8576b"
             ],
             [
              0.6666666666666666,
              "#ed7953"
             ],
             [
              0.7777777777777778,
              "#fb9f3a"
             ],
             [
              0.8888888888888888,
              "#fdca26"
             ],
             [
              1,
              "#f0f921"
             ]
            ],
            "type": "heatmap"
           }
          ],
          "heatmapgl": [
           {
            "colorbar": {
             "outlinewidth": 0,
             "ticks": ""
            },
            "colorscale": [
             [
              0,
              "#0d0887"
             ],
             [
              0.1111111111111111,
              "#46039f"
             ],
             [
              0.2222222222222222,
              "#7201a8"
             ],
             [
              0.3333333333333333,
              "#9c179e"
             ],
             [
              0.4444444444444444,
              "#bd3786"
             ],
             [
              0.5555555555555556,
              "#d8576b"
             ],
             [
              0.6666666666666666,
              "#ed7953"
             ],
             [
              0.7777777777777778,
              "#fb9f3a"
             ],
             [
              0.8888888888888888,
              "#fdca26"
             ],
             [
              1,
              "#f0f921"
             ]
            ],
            "type": "heatmapgl"
           }
          ],
          "histogram": [
           {
            "marker": {
             "colorbar": {
              "outlinewidth": 0,
              "ticks": ""
             }
            },
            "type": "histogram"
           }
          ],
          "histogram2d": [
           {
            "colorbar": {
             "outlinewidth": 0,
             "ticks": ""
            },
            "colorscale": [
             [
              0,
              "#0d0887"
             ],
             [
              0.1111111111111111,
              "#46039f"
             ],
             [
              0.2222222222222222,
              "#7201a8"
             ],
             [
              0.3333333333333333,
              "#9c179e"
             ],
             [
              0.4444444444444444,
              "#bd3786"
             ],
             [
              0.5555555555555556,
              "#d8576b"
             ],
             [
              0.6666666666666666,
              "#ed7953"
             ],
             [
              0.7777777777777778,
              "#fb9f3a"
             ],
             [
              0.8888888888888888,
              "#fdca26"
             ],
             [
              1,
              "#f0f921"
             ]
            ],
            "type": "histogram2d"
           }
          ],
          "histogram2dcontour": [
           {
            "colorbar": {
             "outlinewidth": 0,
             "ticks": ""
            },
            "colorscale": [
             [
              0,
              "#0d0887"
             ],
             [
              0.1111111111111111,
              "#46039f"
             ],
             [
              0.2222222222222222,
              "#7201a8"
             ],
             [
              0.3333333333333333,
              "#9c179e"
             ],
             [
              0.4444444444444444,
              "#bd3786"
             ],
             [
              0.5555555555555556,
              "#d8576b"
             ],
             [
              0.6666666666666666,
              "#ed7953"
             ],
             [
              0.7777777777777778,
              "#fb9f3a"
             ],
             [
              0.8888888888888888,
              "#fdca26"
             ],
             [
              1,
              "#f0f921"
             ]
            ],
            "type": "histogram2dcontour"
           }
          ],
          "mesh3d": [
           {
            "colorbar": {
             "outlinewidth": 0,
             "ticks": ""
            },
            "type": "mesh3d"
           }
          ],
          "parcoords": [
           {
            "line": {
             "colorbar": {
              "outlinewidth": 0,
              "ticks": ""
             }
            },
            "type": "parcoords"
           }
          ],
          "pie": [
           {
            "automargin": true,
            "type": "pie"
           }
          ],
          "scatter": [
           {
            "marker": {
             "colorbar": {
              "outlinewidth": 0,
              "ticks": ""
             }
            },
            "type": "scatter"
           }
          ],
          "scatter3d": [
           {
            "line": {
             "colorbar": {
              "outlinewidth": 0,
              "ticks": ""
             }
            },
            "marker": {
             "colorbar": {
              "outlinewidth": 0,
              "ticks": ""
             }
            },
            "type": "scatter3d"
           }
          ],
          "scattercarpet": [
           {
            "marker": {
             "colorbar": {
              "outlinewidth": 0,
              "ticks": ""
             }
            },
            "type": "scattercarpet"
           }
          ],
          "scattergeo": [
           {
            "marker": {
             "colorbar": {
              "outlinewidth": 0,
              "ticks": ""
             }
            },
            "type": "scattergeo"
           }
          ],
          "scattergl": [
           {
            "marker": {
             "colorbar": {
              "outlinewidth": 0,
              "ticks": ""
             }
            },
            "type": "scattergl"
           }
          ],
          "scattermapbox": [
           {
            "marker": {
             "colorbar": {
              "outlinewidth": 0,
              "ticks": ""
             }
            },
            "type": "scattermapbox"
           }
          ],
          "scatterpolar": [
           {
            "marker": {
             "colorbar": {
              "outlinewidth": 0,
              "ticks": ""
             }
            },
            "type": "scatterpolar"
           }
          ],
          "scatterpolargl": [
           {
            "marker": {
             "colorbar": {
              "outlinewidth": 0,
              "ticks": ""
             }
            },
            "type": "scatterpolargl"
           }
          ],
          "scatterternary": [
           {
            "marker": {
             "colorbar": {
              "outlinewidth": 0,
              "ticks": ""
             }
            },
            "type": "scatterternary"
           }
          ],
          "surface": [
           {
            "colorbar": {
             "outlinewidth": 0,
             "ticks": ""
            },
            "colorscale": [
             [
              0,
              "#0d0887"
             ],
             [
              0.1111111111111111,
              "#46039f"
             ],
             [
              0.2222222222222222,
              "#7201a8"
             ],
             [
              0.3333333333333333,
              "#9c179e"
             ],
             [
              0.4444444444444444,
              "#bd3786"
             ],
             [
              0.5555555555555556,
              "#d8576b"
             ],
             [
              0.6666666666666666,
              "#ed7953"
             ],
             [
              0.7777777777777778,
              "#fb9f3a"
             ],
             [
              0.8888888888888888,
              "#fdca26"
             ],
             [
              1,
              "#f0f921"
             ]
            ],
            "type": "surface"
           }
          ],
          "table": [
           {
            "cells": {
             "fill": {
              "color": "#EBF0F8"
             },
             "line": {
              "color": "white"
             }
            },
            "header": {
             "fill": {
              "color": "#C8D4E3"
             },
             "line": {
              "color": "white"
             }
            },
            "type": "table"
           }
          ]
         },
         "layout": {
          "annotationdefaults": {
           "arrowcolor": "#2a3f5f",
           "arrowhead": 0,
           "arrowwidth": 1
          },
          "autotypenumbers": "strict",
          "coloraxis": {
           "colorbar": {
            "outlinewidth": 0,
            "ticks": ""
           }
          },
          "colorscale": {
           "diverging": [
            [
             0,
             "#8e0152"
            ],
            [
             0.1,
             "#c51b7d"
            ],
            [
             0.2,
             "#de77ae"
            ],
            [
             0.3,
             "#f1b6da"
            ],
            [
             0.4,
             "#fde0ef"
            ],
            [
             0.5,
             "#f7f7f7"
            ],
            [
             0.6,
             "#e6f5d0"
            ],
            [
             0.7,
             "#b8e186"
            ],
            [
             0.8,
             "#7fbc41"
            ],
            [
             0.9,
             "#4d9221"
            ],
            [
             1,
             "#276419"
            ]
           ],
           "sequential": [
            [
             0,
             "#0d0887"
            ],
            [
             0.1111111111111111,
             "#46039f"
            ],
            [
             0.2222222222222222,
             "#7201a8"
            ],
            [
             0.3333333333333333,
             "#9c179e"
            ],
            [
             0.4444444444444444,
             "#bd3786"
            ],
            [
             0.5555555555555556,
             "#d8576b"
            ],
            [
             0.6666666666666666,
             "#ed7953"
            ],
            [
             0.7777777777777778,
             "#fb9f3a"
            ],
            [
             0.8888888888888888,
             "#fdca26"
            ],
            [
             1,
             "#f0f921"
            ]
           ],
           "sequentialminus": [
            [
             0,
             "#0d0887"
            ],
            [
             0.1111111111111111,
             "#46039f"
            ],
            [
             0.2222222222222222,
             "#7201a8"
            ],
            [
             0.3333333333333333,
             "#9c179e"
            ],
            [
             0.4444444444444444,
             "#bd3786"
            ],
            [
             0.5555555555555556,
             "#d8576b"
            ],
            [
             0.6666666666666666,
             "#ed7953"
            ],
            [
             0.7777777777777778,
             "#fb9f3a"
            ],
            [
             0.8888888888888888,
             "#fdca26"
            ],
            [
             1,
             "#f0f921"
            ]
           ]
          },
          "colorway": [
           "#636efa",
           "#EF553B",
           "#00cc96",
           "#ab63fa",
           "#FFA15A",
           "#19d3f3",
           "#FF6692",
           "#B6E880",
           "#FF97FF",
           "#FECB52"
          ],
          "font": {
           "color": "#2a3f5f"
          },
          "geo": {
           "bgcolor": "white",
           "lakecolor": "white",
           "landcolor": "#E5ECF6",
           "showlakes": true,
           "showland": true,
           "subunitcolor": "white"
          },
          "hoverlabel": {
           "align": "left"
          },
          "hovermode": "closest",
          "mapbox": {
           "style": "light"
          },
          "paper_bgcolor": "white",
          "plot_bgcolor": "#E5ECF6",
          "polar": {
           "angularaxis": {
            "gridcolor": "white",
            "linecolor": "white",
            "ticks": ""
           },
           "bgcolor": "#E5ECF6",
           "radialaxis": {
            "gridcolor": "white",
            "linecolor": "white",
            "ticks": ""
           }
          },
          "scene": {
           "xaxis": {
            "backgroundcolor": "#E5ECF6",
            "gridcolor": "white",
            "gridwidth": 2,
            "linecolor": "white",
            "showbackground": true,
            "ticks": "",
            "zerolinecolor": "white"
           },
           "yaxis": {
            "backgroundcolor": "#E5ECF6",
            "gridcolor": "white",
            "gridwidth": 2,
            "linecolor": "white",
            "showbackground": true,
            "ticks": "",
            "zerolinecolor": "white"
           },
           "zaxis": {
            "backgroundcolor": "#E5ECF6",
            "gridcolor": "white",
            "gridwidth": 2,
            "linecolor": "white",
            "showbackground": true,
            "ticks": "",
            "zerolinecolor": "white"
           }
          },
          "shapedefaults": {
           "line": {
            "color": "#2a3f5f"
           }
          },
          "ternary": {
           "aaxis": {
            "gridcolor": "white",
            "linecolor": "white",
            "ticks": ""
           },
           "baxis": {
            "gridcolor": "white",
            "linecolor": "white",
            "ticks": ""
           },
           "bgcolor": "#E5ECF6",
           "caxis": {
            "gridcolor": "white",
            "linecolor": "white",
            "ticks": ""
           }
          },
          "title": {
           "x": 0.05
          },
          "xaxis": {
           "automargin": true,
           "gridcolor": "white",
           "linecolor": "white",
           "ticks": "",
           "title": {
            "standoff": 15
           },
           "zerolinecolor": "white",
           "zerolinewidth": 2
          },
          "yaxis": {
           "automargin": true,
           "gridcolor": "white",
           "linecolor": "white",
           "ticks": "",
           "title": {
            "standoff": 15
           },
           "zerolinecolor": "white",
           "zerolinewidth": 2
          }
         }
        },
        "title": {
         "text": "Test Metrics"
        },
        "xaxis": {
         "anchor": "y",
         "domain": [
          0,
          1
         ],
         "title": {
          "text": "Model"
         }
        },
        "yaxis": {
         "anchor": "x",
         "domain": [
          0,
          1
         ],
         "title": {
          "text": "Value"
         }
        }
       }
      },
      "text/html": [
       "<div>                            <div id=\"60fdc431-f0be-4350-b456-f69160634faa\" class=\"plotly-graph-div\" style=\"height:525px; width:100%;\"></div>            <script type=\"text/javascript\">                require([\"plotly\"], function(Plotly) {                    window.PLOTLYENV=window.PLOTLYENV || {};                                    if (document.getElementById(\"60fdc431-f0be-4350-b456-f69160634faa\")) {                    Plotly.newPlot(                        \"60fdc431-f0be-4350-b456-f69160634faa\",                        [{\"alignmentgroup\": \"True\", \"hovertemplate\": \"Metric=mse<br>Model=%{x}<br>Value=%{y}<extra></extra>\", \"legendgroup\": \"mse\", \"marker\": {\"color\": \"#636efa\"}, \"name\": \"mse\", \"offsetgroup\": \"mse\", \"orientation\": \"v\", \"showlegend\": true, \"textposition\": \"auto\", \"type\": \"bar\", \"x\": [\"ARIMA(1,0,5)\", \"mean\", \"tod\", \"CNN\", \"prophet\", \"STGCN\", \"LSTM\"], \"xaxis\": \"x\", \"y\": [55.524369654566, 7.3442733509200675, 4.347679951586775, 0.00906064547598362, 4.359167659768827, 1.0057943694489999e-06, 0.008303482085466385], \"yaxis\": \"y\"}, {\"alignmentgroup\": \"True\", \"hovertemplate\": \"Metric=mae<br>Model=%{x}<br>Value=%{y}<extra></extra>\", \"legendgroup\": \"mae\", \"marker\": {\"color\": \"#EF553B\"}, \"name\": \"mae\", \"offsetgroup\": \"mae\", \"orientation\": \"v\", \"showlegend\": true, \"textposition\": \"auto\", \"type\": \"bar\", \"x\": [\"ARIMA(1,0,5)\", \"mean\", \"tod\", \"CNN\", \"prophet\", \"STGCN\", \"LSTM\"], \"xaxis\": \"x\", \"y\": [20.77337119887406, 2.0367766560739304, 1.3925114026969858, 0.05937779322266579, 1.421499614167644, 0.0005014465, 0.06323182582855225], \"yaxis\": \"y\"}, {\"alignmentgroup\": \"True\", \"hovertemplate\": \"Metric=rmse<br>Model=%{x}<br>Value=%{y}<extra></extra>\", \"legendgroup\": \"rmse\", \"marker\": {\"color\": \"#00cc96\"}, \"name\": \"rmse\", \"offsetgroup\": \"rmse\", \"orientation\": \"v\", \"showlegend\": true, \"textposition\": \"auto\", \"type\": \"bar\", \"x\": [\"ARIMA(1,0,5)\", \"mean\", \"tod\", \"CNN\", \"prophet\", \"STGCN\", \"LSTM\"], \"xaxis\": \"x\", \"y\": [22.8010787879013, 2.7100319833758544, 2.085109098245647, 0.09518742561340332, 2.087861982931062, 0.001002893, 0.09112344682216644], \"yaxis\": \"y\"}, {\"alignmentgroup\": \"True\", \"hovertemplate\": \"Metric=r2<br>Model=%{x}<br>Value=%{y}<extra></extra>\", \"legendgroup\": \"r2\", \"marker\": {\"color\": \"#ab63fa\"}, \"name\": \"r2\", \"offsetgroup\": \"r2\", \"orientation\": \"v\", \"showlegend\": true, \"textposition\": \"auto\", \"type\": \"bar\", \"x\": [\"ARIMA(1,0,5)\", \"mean\", \"tod\", \"CNN\", \"prophet\", \"STGCN\", \"LSTM\"], \"xaxis\": \"x\", \"y\": [0.557438747834983, 0.3902390923, 0.4026421231010219, 0.9968854090443541, 0.4010637472669034, 0.98938298, 0.9971456839425668], \"yaxis\": \"y\"}],                        {\"barmode\": \"group\", \"legend\": {\"title\": {\"text\": \"Metric\"}, \"tracegroupgap\": 0}, \"template\": {\"data\": {\"bar\": [{\"error_x\": {\"color\": \"#2a3f5f\"}, \"error_y\": {\"color\": \"#2a3f5f\"}, \"marker\": {\"line\": {\"color\": \"#E5ECF6\", \"width\": 0.5}}, \"type\": \"bar\"}], \"barpolar\": [{\"marker\": {\"line\": {\"color\": \"#E5ECF6\", \"width\": 0.5}}, \"type\": \"barpolar\"}], \"carpet\": [{\"aaxis\": {\"endlinecolor\": \"#2a3f5f\", \"gridcolor\": \"white\", \"linecolor\": \"white\", \"minorgridcolor\": \"white\", \"startlinecolor\": \"#2a3f5f\"}, \"baxis\": {\"endlinecolor\": \"#2a3f5f\", \"gridcolor\": \"white\", \"linecolor\": \"white\", \"minorgridcolor\": \"white\", \"startlinecolor\": \"#2a3f5f\"}, \"type\": \"carpet\"}], \"choropleth\": [{\"colorbar\": {\"outlinewidth\": 0, \"ticks\": \"\"}, \"type\": \"choropleth\"}], \"contour\": [{\"colorbar\": {\"outlinewidth\": 0, \"ticks\": \"\"}, \"colorscale\": [[0.0, \"#0d0887\"], [0.1111111111111111, \"#46039f\"], [0.2222222222222222, \"#7201a8\"], [0.3333333333333333, \"#9c179e\"], [0.4444444444444444, \"#bd3786\"], [0.5555555555555556, \"#d8576b\"], [0.6666666666666666, \"#ed7953\"], [0.7777777777777778, \"#fb9f3a\"], [0.8888888888888888, \"#fdca26\"], [1.0, \"#f0f921\"]], \"type\": \"contour\"}], \"contourcarpet\": [{\"colorbar\": {\"outlinewidth\": 0, \"ticks\": \"\"}, \"type\": \"contourcarpet\"}], \"heatmap\": [{\"colorbar\": {\"outlinewidth\": 0, \"ticks\": \"\"}, \"colorscale\": [[0.0, \"#0d0887\"], [0.1111111111111111, \"#46039f\"], [0.2222222222222222, \"#7201a8\"], [0.3333333333333333, \"#9c179e\"], [0.4444444444444444, \"#bd3786\"], [0.5555555555555556, \"#d8576b\"], [0.6666666666666666, \"#ed7953\"], [0.7777777777777778, \"#fb9f3a\"], [0.8888888888888888, \"#fdca26\"], [1.0, \"#f0f921\"]], \"type\": \"heatmap\"}], \"heatmapgl\": [{\"colorbar\": {\"outlinewidth\": 0, \"ticks\": \"\"}, \"colorscale\": [[0.0, \"#0d0887\"], [0.1111111111111111, \"#46039f\"], [0.2222222222222222, \"#7201a8\"], [0.3333333333333333, \"#9c179e\"], [0.4444444444444444, \"#bd3786\"], [0.5555555555555556, \"#d8576b\"], [0.6666666666666666, \"#ed7953\"], [0.7777777777777778, \"#fb9f3a\"], [0.8888888888888888, \"#fdca26\"], [1.0, \"#f0f921\"]], \"type\": \"heatmapgl\"}], \"histogram\": [{\"marker\": {\"colorbar\": {\"outlinewidth\": 0, \"ticks\": \"\"}}, \"type\": \"histogram\"}], \"histogram2d\": [{\"colorbar\": {\"outlinewidth\": 0, \"ticks\": \"\"}, \"colorscale\": [[0.0, \"#0d0887\"], [0.1111111111111111, \"#46039f\"], [0.2222222222222222, \"#7201a8\"], [0.3333333333333333, \"#9c179e\"], [0.4444444444444444, \"#bd3786\"], [0.5555555555555556, \"#d8576b\"], [0.6666666666666666, \"#ed7953\"], [0.7777777777777778, \"#fb9f3a\"], [0.8888888888888888, \"#fdca26\"], [1.0, \"#f0f921\"]], \"type\": \"histogram2d\"}], \"histogram2dcontour\": [{\"colorbar\": {\"outlinewidth\": 0, \"ticks\": \"\"}, \"colorscale\": [[0.0, \"#0d0887\"], [0.1111111111111111, \"#46039f\"], [0.2222222222222222, \"#7201a8\"], [0.3333333333333333, \"#9c179e\"], [0.4444444444444444, \"#bd3786\"], [0.5555555555555556, \"#d8576b\"], [0.6666666666666666, \"#ed7953\"], [0.7777777777777778, \"#fb9f3a\"], [0.8888888888888888, \"#fdca26\"], [1.0, \"#f0f921\"]], \"type\": \"histogram2dcontour\"}], \"mesh3d\": [{\"colorbar\": {\"outlinewidth\": 0, \"ticks\": \"\"}, \"type\": \"mesh3d\"}], \"parcoords\": [{\"line\": {\"colorbar\": {\"outlinewidth\": 0, \"ticks\": \"\"}}, \"type\": \"parcoords\"}], \"pie\": [{\"automargin\": true, \"type\": \"pie\"}], \"scatter\": [{\"marker\": {\"colorbar\": {\"outlinewidth\": 0, \"ticks\": \"\"}}, \"type\": \"scatter\"}], \"scatter3d\": [{\"line\": {\"colorbar\": {\"outlinewidth\": 0, \"ticks\": \"\"}}, \"marker\": {\"colorbar\": {\"outlinewidth\": 0, \"ticks\": \"\"}}, \"type\": \"scatter3d\"}], \"scattercarpet\": [{\"marker\": {\"colorbar\": {\"outlinewidth\": 0, \"ticks\": \"\"}}, \"type\": \"scattercarpet\"}], \"scattergeo\": [{\"marker\": {\"colorbar\": {\"outlinewidth\": 0, \"ticks\": \"\"}}, \"type\": \"scattergeo\"}], \"scattergl\": [{\"marker\": {\"colorbar\": {\"outlinewidth\": 0, \"ticks\": \"\"}}, \"type\": \"scattergl\"}], \"scattermapbox\": [{\"marker\": {\"colorbar\": {\"outlinewidth\": 0, \"ticks\": \"\"}}, \"type\": \"scattermapbox\"}], \"scatterpolar\": [{\"marker\": {\"colorbar\": {\"outlinewidth\": 0, \"ticks\": \"\"}}, \"type\": \"scatterpolar\"}], \"scatterpolargl\": [{\"marker\": {\"colorbar\": {\"outlinewidth\": 0, \"ticks\": \"\"}}, \"type\": \"scatterpolargl\"}], \"scatterternary\": [{\"marker\": {\"colorbar\": {\"outlinewidth\": 0, \"ticks\": \"\"}}, \"type\": \"scatterternary\"}], \"surface\": [{\"colorbar\": {\"outlinewidth\": 0, \"ticks\": \"\"}, \"colorscale\": [[0.0, \"#0d0887\"], [0.1111111111111111, \"#46039f\"], [0.2222222222222222, \"#7201a8\"], [0.3333333333333333, \"#9c179e\"], [0.4444444444444444, \"#bd3786\"], [0.5555555555555556, \"#d8576b\"], [0.6666666666666666, \"#ed7953\"], [0.7777777777777778, \"#fb9f3a\"], [0.8888888888888888, \"#fdca26\"], [1.0, \"#f0f921\"]], \"type\": \"surface\"}], \"table\": [{\"cells\": {\"fill\": {\"color\": \"#EBF0F8\"}, \"line\": {\"color\": \"white\"}}, \"header\": {\"fill\": {\"color\": \"#C8D4E3\"}, \"line\": {\"color\": \"white\"}}, \"type\": \"table\"}]}, \"layout\": {\"annotationdefaults\": {\"arrowcolor\": \"#2a3f5f\", \"arrowhead\": 0, \"arrowwidth\": 1}, \"autotypenumbers\": \"strict\", \"coloraxis\": {\"colorbar\": {\"outlinewidth\": 0, \"ticks\": \"\"}}, \"colorscale\": {\"diverging\": [[0, \"#8e0152\"], [0.1, \"#c51b7d\"], [0.2, \"#de77ae\"], [0.3, \"#f1b6da\"], [0.4, \"#fde0ef\"], [0.5, \"#f7f7f7\"], [0.6, \"#e6f5d0\"], [0.7, \"#b8e186\"], [0.8, \"#7fbc41\"], [0.9, \"#4d9221\"], [1, \"#276419\"]], \"sequential\": [[0.0, \"#0d0887\"], [0.1111111111111111, \"#46039f\"], [0.2222222222222222, \"#7201a8\"], [0.3333333333333333, \"#9c179e\"], [0.4444444444444444, \"#bd3786\"], [0.5555555555555556, \"#d8576b\"], [0.6666666666666666, \"#ed7953\"], [0.7777777777777778, \"#fb9f3a\"], [0.8888888888888888, \"#fdca26\"], [1.0, \"#f0f921\"]], \"sequentialminus\": [[0.0, \"#0d0887\"], [0.1111111111111111, \"#46039f\"], [0.2222222222222222, \"#7201a8\"], [0.3333333333333333, \"#9c179e\"], [0.4444444444444444, \"#bd3786\"], [0.5555555555555556, \"#d8576b\"], [0.6666666666666666, \"#ed7953\"], [0.7777777777777778, \"#fb9f3a\"], [0.8888888888888888, \"#fdca26\"], [1.0, \"#f0f921\"]]}, \"colorway\": [\"#636efa\", \"#EF553B\", \"#00cc96\", \"#ab63fa\", \"#FFA15A\", \"#19d3f3\", \"#FF6692\", \"#B6E880\", \"#FF97FF\", \"#FECB52\"], \"font\": {\"color\": \"#2a3f5f\"}, \"geo\": {\"bgcolor\": \"white\", \"lakecolor\": \"white\", \"landcolor\": \"#E5ECF6\", \"showlakes\": true, \"showland\": true, \"subunitcolor\": \"white\"}, \"hoverlabel\": {\"align\": \"left\"}, \"hovermode\": \"closest\", \"mapbox\": {\"style\": \"light\"}, \"paper_bgcolor\": \"white\", \"plot_bgcolor\": \"#E5ECF6\", \"polar\": {\"angularaxis\": {\"gridcolor\": \"white\", \"linecolor\": \"white\", \"ticks\": \"\"}, \"bgcolor\": \"#E5ECF6\", \"radialaxis\": {\"gridcolor\": \"white\", \"linecolor\": \"white\", \"ticks\": \"\"}}, \"scene\": {\"xaxis\": {\"backgroundcolor\": \"#E5ECF6\", \"gridcolor\": \"white\", \"gridwidth\": 2, \"linecolor\": \"white\", \"showbackground\": true, \"ticks\": \"\", \"zerolinecolor\": \"white\"}, \"yaxis\": {\"backgroundcolor\": \"#E5ECF6\", \"gridcolor\": \"white\", \"gridwidth\": 2, \"linecolor\": \"white\", \"showbackground\": true, \"ticks\": \"\", \"zerolinecolor\": \"white\"}, \"zaxis\": {\"backgroundcolor\": \"#E5ECF6\", \"gridcolor\": \"white\", \"gridwidth\": 2, \"linecolor\": \"white\", \"showbackground\": true, \"ticks\": \"\", \"zerolinecolor\": \"white\"}}, \"shapedefaults\": {\"line\": {\"color\": \"#2a3f5f\"}}, \"ternary\": {\"aaxis\": {\"gridcolor\": \"white\", \"linecolor\": \"white\", \"ticks\": \"\"}, \"baxis\": {\"gridcolor\": \"white\", \"linecolor\": \"white\", \"ticks\": \"\"}, \"bgcolor\": \"#E5ECF6\", \"caxis\": {\"gridcolor\": \"white\", \"linecolor\": \"white\", \"ticks\": \"\"}}, \"title\": {\"x\": 0.05}, \"xaxis\": {\"automargin\": true, \"gridcolor\": \"white\", \"linecolor\": \"white\", \"ticks\": \"\", \"title\": {\"standoff\": 15}, \"zerolinecolor\": \"white\", \"zerolinewidth\": 2}, \"yaxis\": {\"automargin\": true, \"gridcolor\": \"white\", \"linecolor\": \"white\", \"ticks\": \"\", \"title\": {\"standoff\": 15}, \"zerolinecolor\": \"white\", \"zerolinewidth\": 2}}}, \"title\": {\"text\": \"Test Metrics\"}, \"xaxis\": {\"anchor\": \"y\", \"domain\": [0.0, 1.0], \"title\": {\"text\": \"Model\"}}, \"yaxis\": {\"anchor\": \"x\", \"domain\": [0.0, 1.0], \"title\": {\"text\": \"Value\"}}},                        {\"responsive\": true}                    ).then(function(){\n",
       "                            \n",
       "var gd = document.getElementById('60fdc431-f0be-4350-b456-f69160634faa');\n",
       "var x = new MutationObserver(function (mutations, observer) {{\n",
       "        var display = window.getComputedStyle(gd).display;\n",
       "        if (!display || display === 'none') {{\n",
       "            console.log([gd, 'removed!']);\n",
       "            Plotly.purge(gd);\n",
       "            observer.disconnect();\n",
       "        }}\n",
       "}});\n",
       "\n",
       "// Listen for the removal of the full notebook cells\n",
       "var notebookContainer = gd.closest('#notebook-container');\n",
       "if (notebookContainer) {{\n",
       "    x.observe(notebookContainer, {childList: true});\n",
       "}}\n",
       "\n",
       "// Listen for the clearing of the current output cell\n",
       "var outputEl = gd.closest('.output');\n",
       "if (outputEl) {{\n",
       "    x.observe(outputEl, {childList: true});\n",
       "}}\n",
       "\n",
       "                        })                };                });            </script>        </div>"
      ]
     },
     "metadata": {},
     "output_type": "display_data"
    }
   ],
   "source": [
    "test_metrics_plot_data = pd.melt(test_metrics, id_vars='Model', var_name='Metric', value_name='Value')\n",
    "fig = px.bar(test_metrics_plot_data, x='Model', y='Value', color='Metric', barmode='group', title='Test Metrics')\n",
    "fig"
   ]
  },
  {
   "cell_type": "code",
   "execution_count": 64,
   "id": "91de1202",
   "metadata": {},
   "outputs": [],
   "source": [
    "# fig.write_html('./plots/benchmark_test.html')"
   ]
  }
 ],
 "metadata": {
  "kernelspec": {
   "display_name": "Python 3 (ipykernel)",
   "language": "python",
   "name": "python3"
  },
  "language_info": {
   "codemirror_mode": {
    "name": "ipython",
    "version": 3
   },
   "file_extension": ".py",
   "mimetype": "text/x-python",
   "name": "python",
   "nbconvert_exporter": "python",
   "pygments_lexer": "ipython3",
   "version": "3.9.10"
  }
 },
 "nbformat": 4,
 "nbformat_minor": 5
}
