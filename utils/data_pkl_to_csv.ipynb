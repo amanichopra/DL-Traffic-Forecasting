{
 "cells": [
  {
   "cell_type": "code",
   "execution_count": 3,
   "id": "89fb939b",
   "metadata": {},
   "outputs": [],
   "source": [
    "import pickle\n",
    "from glob import glob\n",
    "import pandas as pd"
   ]
  },
  {
   "cell_type": "code",
   "execution_count": 4,
   "id": "ad334978",
   "metadata": {},
   "outputs": [],
   "source": [
    "fwy_405_n_ds_pkl_paths = glob('../data/processed/fwy_405_n_ds/*.dat')\n",
    "rdp_ds_pkl_paths = glob('../data/processed/rdp_ds/*.dat')\n",
    "\n",
    "for fwy_405_n_ds_pkl, rdp_ds_pkl in zip(fwy_405_n_ds_pkl_paths, rdp_ds_pkl_paths):\n",
    "    out_filename = fwy_405_n_ds_pkl.rsplit('/')[-1].split('.')[0]\n",
    "    with open(fwy_405_n_ds_pkl, 'rb') as f:\n",
    "        fwy_405_n_ds_file = pickle.load(f)\n",
    "    with open(rdp_ds_pkl, 'rb') as f:\n",
    "        rdp_ds_file = pickle.load(f)\n",
    "    if out_filename == 'adj_mat':\n",
    "        pd.DataFrame(fwy_405_n_ds_file).to_csv(f'../data/processed/fwy_405_n_ds/csvs/{out_filename}.csv')\n",
    "        pd.DataFrame(rdp_ds_file).to_csv(f'../data/processed/rdp_ds/csvs/{out_filename}.csv')\n",
    "    elif out_filename == 'adj_mat_ind_station_mapper':\n",
    "        pd.DataFrame({'adj_mat_ind': fwy_405_n_ds_file.keys(), 'station_ind': fwy_405_n_ds_file.values()}).to_csv(f'../data/processed/fwy_405_n_ds/csvs/{out_filename}.csv')\n",
    "        pd.DataFrame({'adj_mat_ind': rdp_ds_file.keys(), 'station_ind': rdp_ds_file.values()}).to_csv(f'../data/processed/rdp_ds/csvs/{out_filename}.csv')\n",
    "    else:\n",
    "        fwy_405_n_ds_file.to_csv(f'../data/processed/fwy_405_n_ds/csvs/{out_filename}.csv')\n",
    "        rdp_ds_file.to_csv(f'../data/processed/rdp_ds/csvs/{out_filename}.csv')\n"
   ]
  }
 ],
 "metadata": {
  "kernelspec": {
   "display_name": "Python 3 (ipykernel)",
   "language": "python",
   "name": "python3"
  },
  "language_info": {
   "codemirror_mode": {
    "name": "ipython",
    "version": 3
   },
   "file_extension": ".py",
   "mimetype": "text/x-python",
   "name": "python",
   "nbconvert_exporter": "python",
   "pygments_lexer": "ipython3",
   "version": "3.9.10"
  }
 },
 "nbformat": 4,
 "nbformat_minor": 5
}
