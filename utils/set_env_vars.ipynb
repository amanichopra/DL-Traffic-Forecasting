{
 "cells": [
  {
   "cell_type": "code",
   "execution_count": 7,
   "id": "a402f6ec",
   "metadata": {},
   "outputs": [],
   "source": [
    "import pickle\n",
    "from random import choice\n",
    "from utils import load_processed_data"
   ]
  },
  {
   "cell_type": "code",
   "execution_count": 11,
   "id": "986b194c",
   "metadata": {},
   "outputs": [],
   "source": [
    "params = {}"
   ]
  },
  {
   "cell_type": "markdown",
   "id": "86252ac1",
   "metadata": {},
   "source": [
    "Choose Station for Single Station Forecasting Models"
   ]
  },
  {
   "cell_type": "code",
   "execution_count": 12,
   "id": "c8591275",
   "metadata": {},
   "outputs": [],
   "source": [
    "_, _, station_data = load_processed_data('../data/processed/rdp_ds')\n",
    "STATION_ID = choice(station_data.columns)\n",
    "params['station_id'] = STATION_ID"
   ]
  },
  {
   "cell_type": "markdown",
   "id": "4aa1e7cb",
   "metadata": {},
   "source": [
    "Export"
   ]
  },
  {
   "cell_type": "code",
   "execution_count": 15,
   "id": "d86921e9",
   "metadata": {},
   "outputs": [],
   "source": [
    "with open('../models/env.dat', 'wb') as f:\n",
    "    pickle.dump(params, f)"
   ]
  }
 ],
 "metadata": {
  "kernelspec": {
   "display_name": "Python 3 (ipykernel)",
   "language": "python",
   "name": "python3"
  },
  "language_info": {
   "codemirror_mode": {
    "name": "ipython",
    "version": 3
   },
   "file_extension": ".py",
   "mimetype": "text/x-python",
   "name": "python",
   "nbconvert_exporter": "python",
   "pygments_lexer": "ipython3",
   "version": "3.9.10"
  }
 },
 "nbformat": 4,
 "nbformat_minor": 5
}
