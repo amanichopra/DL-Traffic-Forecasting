{
 "cells": [
  {
   "cell_type": "code",
   "execution_count": 9,
   "id": "a402f6ec",
   "metadata": {},
   "outputs": [],
   "source": [
    "import yaml\n",
    "from random import choice\n",
    "from utils import load_processed_data"
   ]
  },
  {
   "cell_type": "code",
   "execution_count": 10,
   "id": "986b194c",
   "metadata": {},
   "outputs": [],
   "source": [
    "params = {}"
   ]
  },
  {
   "cell_type": "markdown",
   "id": "86252ac1",
   "metadata": {},
   "source": [
    "Choose Station for Single Station Forecasting Models"
   ]
  },
  {
   "cell_type": "code",
   "execution_count": 11,
   "id": "c8591275",
   "metadata": {},
   "outputs": [],
   "source": [
    "_, _, station_data = load_processed_data('../data/processed/rdp_ds')\n",
    "STATION_ID = choice(station_data.columns)\n",
    "params['station_id'] = int(STATION_ID)"
   ]
  },
  {
   "cell_type": "markdown",
   "id": "cc597996",
   "metadata": {},
   "source": [
    "Set DL Epochs"
   ]
  },
  {
   "cell_type": "code",
   "execution_count": 12,
   "id": "2ac0d796",
   "metadata": {},
   "outputs": [],
   "source": [
    "params['dl_train_epochs'] = 25\n",
    "params['dl_cv_epochs'] = 10"
   ]
  },
  {
   "cell_type": "markdown",
   "id": "c867af47",
   "metadata": {},
   "source": [
    "Set # Lags to Use for DL"
   ]
  },
  {
   "cell_type": "code",
   "execution_count": 14,
   "id": "52c91ccb",
   "metadata": {},
   "outputs": [],
   "source": [
    "params['num_lags'] = 5"
   ]
  },
  {
   "cell_type": "markdown",
   "id": "4aa1e7cb",
   "metadata": {},
   "source": [
    "Export"
   ]
  },
  {
   "cell_type": "code",
   "execution_count": 15,
   "id": "d86921e9",
   "metadata": {
    "scrolled": false
   },
   "outputs": [],
   "source": [
    "with open('../models/env.yaml', 'w') as f:\n",
    "    yaml.dump(params, f, default_flow_style=False)"
   ]
  }
 ],
 "metadata": {
  "kernelspec": {
   "display_name": "Python 3 (ipykernel)",
   "language": "python",
   "name": "python3"
  },
  "language_info": {
   "codemirror_mode": {
    "name": "ipython",
    "version": 3
   },
   "file_extension": ".py",
   "mimetype": "text/x-python",
   "name": "python",
   "nbconvert_exporter": "python",
   "pygments_lexer": "ipython3",
   "version": "3.9.10"
  }
 },
 "nbformat": 4,
 "nbformat_minor": 5
}
