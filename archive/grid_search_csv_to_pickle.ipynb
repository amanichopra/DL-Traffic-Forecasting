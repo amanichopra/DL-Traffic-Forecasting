{
 "cells": [
  {
   "cell_type": "code",
   "execution_count": 43,
   "id": "7aa6099e",
   "metadata": {},
   "outputs": [],
   "source": [
    "import pandas as pd\n",
    "import pickle"
   ]
  },
  {
   "cell_type": "code",
   "execution_count": 31,
   "id": "c4a1f281",
   "metadata": {
    "scrolled": false
   },
   "outputs": [],
   "source": [
    "xlsx_path = '/Users/amanchopra/Downloads/grid seearch for mods.xlsx'\n",
    "cnn_gs = pd.read_excel(xlsx_path, sheet_name='cnn')\n",
    "lstm_gs = pd.read_excel(xlsx_path, sheet_name='lstm')\n",
    "prophet_gs = pd.read_excel(xlsx_path, sheet_name='prophet')\n",
    "stgcn_gs = pd.read_excel(xlsx_path, sheet_name='STGCN')"
   ]
  },
  {
   "cell_type": "code",
   "execution_count": 34,
   "id": "3abc545d",
   "metadata": {},
   "outputs": [],
   "source": [
    "def get_best_params(df):\n",
    "    best_results_row = df.iloc[df[[col for col in df.columns if 'split' in col]].mean(axis=1).idxmin()]\n",
    "    best_params = best_results_row[[col for col in best_results_row.index if 'param' in col]].to_dict()\n",
    "    return best_params"
   ]
  },
  {
   "cell_type": "code",
   "execution_count": 35,
   "id": "aaedb67c",
   "metadata": {},
   "outputs": [],
   "source": [
    "cnn_bp = get_best_params(cnn_gs)\n",
    "lstm_bp = get_best_params(lstm_gs)\n",
    "prophet_bp = get_best_params(prophet_gs)\n",
    "stgcn_bp = get_best_params(stgcn_gs)"
   ]
  },
  {
   "cell_type": "code",
   "execution_count": 44,
   "id": "5718983d",
   "metadata": {},
   "outputs": [],
   "source": [
    "with open('../models/trained/CNN/grid_search_CNN.dat', 'wb') as f:\n",
    "    pickle.dump({'best_params': cnn_bp, 'results': cnn_gs}, f)"
   ]
  },
  {
   "cell_type": "code",
   "execution_count": 45,
   "id": "70ebcdfa",
   "metadata": {},
   "outputs": [],
   "source": [
    "with open('../models/trained/LSTM/grid_search_LSTM.dat', 'wb') as f:\n",
    "    pickle.dump({'best_params': lstm_bp, 'results': lstm_gs}, f)"
   ]
  },
  {
   "cell_type": "code",
   "execution_count": 46,
   "id": "21f0a767",
   "metadata": {},
   "outputs": [],
   "source": [
    "with open('../models/trained/prophet/grid_search_prophet.dat', 'wb') as f:\n",
    "    pickle.dump({'best_params': prophet_bp, 'results': prophet_gs}, f)"
   ]
  },
  {
   "cell_type": "code",
   "execution_count": 47,
   "id": "d7b05362",
   "metadata": {},
   "outputs": [],
   "source": [
    "with open('../models/trained/STGCN/grid_search_STGCN.dat', 'wb') as f:\n",
    "    pickle.dump({'best_params': stgcn_bp, 'results': stgcn_gs}, f)"
   ]
  }
 ],
 "metadata": {
  "kernelspec": {
   "display_name": "Python 3 (ipykernel)",
   "language": "python",
   "name": "python3"
  },
  "language_info": {
   "codemirror_mode": {
    "name": "ipython",
    "version": 3
   },
   "file_extension": ".py",
   "mimetype": "text/x-python",
   "name": "python",
   "nbconvert_exporter": "python",
   "pygments_lexer": "ipython3",
   "version": "3.9.10"
  }
 },
 "nbformat": 4,
 "nbformat_minor": 5
}
