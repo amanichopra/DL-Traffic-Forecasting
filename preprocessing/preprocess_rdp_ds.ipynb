{
 "cells": [
  {
   "cell_type": "markdown",
   "metadata": {},
   "source": [
    "# Data Preparation"
   ]
  },
  {
   "cell_type": "markdown",
   "metadata": {},
   "source": [
    "**Load Station Metadata**"
   ]
  },
  {
   "cell_type": "code",
   "execution_count": 1,
   "metadata": {},
   "outputs": [],
   "source": [
    "import pickle\n",
    "import pandas as pd"
   ]
  },
  {
   "cell_type": "code",
   "execution_count": 2,
   "metadata": {},
   "outputs": [
    {
     "data": {
      "text/html": [
       "<div>\n",
       "<style scoped>\n",
       "    .dataframe tbody tr th:only-of-type {\n",
       "        vertical-align: middle;\n",
       "    }\n",
       "\n",
       "    .dataframe tbody tr th {\n",
       "        vertical-align: top;\n",
       "    }\n",
       "\n",
       "    .dataframe thead th {\n",
       "        text-align: right;\n",
       "    }\n",
       "</style>\n",
       "<table border=\"1\" class=\"dataframe\">\n",
       "  <thead>\n",
       "    <tr style=\"text-align: right;\">\n",
       "      <th></th>\n",
       "      <th>ID</th>\n",
       "      <th>Fwy</th>\n",
       "      <th>Dir</th>\n",
       "      <th>Latitude</th>\n",
       "      <th>Longitude</th>\n",
       "      <th>Length</th>\n",
       "      <th>Type</th>\n",
       "      <th>Lanes</th>\n",
       "      <th>Abs_PM</th>\n",
       "    </tr>\n",
       "  </thead>\n",
       "  <tbody>\n",
       "    <tr>\n",
       "      <th>0</th>\n",
       "      <td>715898</td>\n",
       "      <td>5</td>\n",
       "      <td>S</td>\n",
       "      <td>33.880183</td>\n",
       "      <td>-118.021787</td>\n",
       "      <td>0.430</td>\n",
       "      <td>ML</td>\n",
       "      <td>3</td>\n",
       "      <td>117.280</td>\n",
       "    </tr>\n",
       "    <tr>\n",
       "      <th>1</th>\n",
       "      <td>715900</td>\n",
       "      <td>5</td>\n",
       "      <td>S</td>\n",
       "      <td>33.882892</td>\n",
       "      <td>-118.026822</td>\n",
       "      <td>NaN</td>\n",
       "      <td>OR</td>\n",
       "      <td>1</td>\n",
       "      <td>117.630</td>\n",
       "    </tr>\n",
       "    <tr>\n",
       "      <th>2</th>\n",
       "      <td>715901</td>\n",
       "      <td>5</td>\n",
       "      <td>N</td>\n",
       "      <td>33.883400</td>\n",
       "      <td>-118.027451</td>\n",
       "      <td>NaN</td>\n",
       "      <td>OR</td>\n",
       "      <td>1</td>\n",
       "      <td>117.743</td>\n",
       "    </tr>\n",
       "    <tr>\n",
       "      <th>3</th>\n",
       "      <td>715903</td>\n",
       "      <td>5</td>\n",
       "      <td>N</td>\n",
       "      <td>33.886992</td>\n",
       "      <td>-118.034125</td>\n",
       "      <td>NaN</td>\n",
       "      <td>OR</td>\n",
       "      <td>1</td>\n",
       "      <td>118.193</td>\n",
       "    </tr>\n",
       "    <tr>\n",
       "      <th>4</th>\n",
       "      <td>715904</td>\n",
       "      <td>5</td>\n",
       "      <td>S</td>\n",
       "      <td>33.892489</td>\n",
       "      <td>-118.044573</td>\n",
       "      <td>NaN</td>\n",
       "      <td>OR</td>\n",
       "      <td>1</td>\n",
       "      <td>118.840</td>\n",
       "    </tr>\n",
       "    <tr>\n",
       "      <th>...</th>\n",
       "      <td>...</td>\n",
       "      <td>...</td>\n",
       "      <td>...</td>\n",
       "      <td>...</td>\n",
       "      <td>...</td>\n",
       "      <td>...</td>\n",
       "      <td>...</td>\n",
       "      <td>...</td>\n",
       "      <td>...</td>\n",
       "    </tr>\n",
       "    <tr>\n",
       "      <th>4878</th>\n",
       "      <td>777066</td>\n",
       "      <td>405</td>\n",
       "      <td>S</td>\n",
       "      <td>34.161152</td>\n",
       "      <td>-118.469631</td>\n",
       "      <td>0.455</td>\n",
       "      <td>ML</td>\n",
       "      <td>3</td>\n",
       "      <td>63.272</td>\n",
       "    </tr>\n",
       "    <tr>\n",
       "      <th>4879</th>\n",
       "      <td>777067</td>\n",
       "      <td>405</td>\n",
       "      <td>N</td>\n",
       "      <td>34.161136</td>\n",
       "      <td>-118.469426</td>\n",
       "      <td>0.790</td>\n",
       "      <td>HV</td>\n",
       "      <td>1</td>\n",
       "      <td>63.272</td>\n",
       "    </tr>\n",
       "    <tr>\n",
       "      <th>4880</th>\n",
       "      <td>777068</td>\n",
       "      <td>405</td>\n",
       "      <td>S</td>\n",
       "      <td>34.161152</td>\n",
       "      <td>-118.469631</td>\n",
       "      <td>0.790</td>\n",
       "      <td>HV</td>\n",
       "      <td>1</td>\n",
       "      <td>63.272</td>\n",
       "    </tr>\n",
       "    <tr>\n",
       "      <th>4881</th>\n",
       "      <td>777168</td>\n",
       "      <td>10</td>\n",
       "      <td>E</td>\n",
       "      <td>34.068993</td>\n",
       "      <td>-118.149756</td>\n",
       "      <td>0.450</td>\n",
       "      <td>HV</td>\n",
       "      <td>1</td>\n",
       "      <td>20.897</td>\n",
       "    </tr>\n",
       "    <tr>\n",
       "      <th>4882</th>\n",
       "      <td>777169</td>\n",
       "      <td>10</td>\n",
       "      <td>W</td>\n",
       "      <td>34.069270</td>\n",
       "      <td>-118.149982</td>\n",
       "      <td>0.259</td>\n",
       "      <td>HV</td>\n",
       "      <td>2</td>\n",
       "      <td>20.897</td>\n",
       "    </tr>\n",
       "  </tbody>\n",
       "</table>\n",
       "<p>4883 rows × 9 columns</p>\n",
       "</div>"
      ],
      "text/plain": [
       "          ID  Fwy Dir   Latitude   Longitude  Length Type  Lanes   Abs_PM\n",
       "0     715898    5   S  33.880183 -118.021787   0.430   ML      3  117.280\n",
       "1     715900    5   S  33.882892 -118.026822     NaN   OR      1  117.630\n",
       "2     715901    5   N  33.883400 -118.027451     NaN   OR      1  117.743\n",
       "3     715903    5   N  33.886992 -118.034125     NaN   OR      1  118.193\n",
       "4     715904    5   S  33.892489 -118.044573     NaN   OR      1  118.840\n",
       "...      ...  ...  ..        ...         ...     ...  ...    ...      ...\n",
       "4878  777066  405   S  34.161152 -118.469631   0.455   ML      3   63.272\n",
       "4879  777067  405   N  34.161136 -118.469426   0.790   HV      1   63.272\n",
       "4880  777068  405   S  34.161152 -118.469631   0.790   HV      1   63.272\n",
       "4881  777168   10   E  34.068993 -118.149756   0.450   HV      1   20.897\n",
       "4882  777169   10   W  34.069270 -118.149982   0.259   HV      2   20.897\n",
       "\n",
       "[4883 rows x 9 columns]"
      ]
     },
     "execution_count": 2,
     "metadata": {},
     "output_type": "execute_result"
    }
   ],
   "source": [
    "with open('../data/loaded/meta.dat', 'rb') as f:\n",
    "    meta = pickle.load(f)\n",
    "meta"
   ]
  },
  {
   "cell_type": "markdown",
   "metadata": {},
   "source": [
    "**Downsample Stations Based on RDP**"
   ]
  },
  {
   "cell_type": "code",
   "execution_count": 3,
   "metadata": {},
   "outputs": [
    {
     "data": {
      "text/html": [
       "<div>\n",
       "<style scoped>\n",
       "    .dataframe tbody tr th:only-of-type {\n",
       "        vertical-align: middle;\n",
       "    }\n",
       "\n",
       "    .dataframe tbody tr th {\n",
       "        vertical-align: top;\n",
       "    }\n",
       "\n",
       "    .dataframe thead th {\n",
       "        text-align: right;\n",
       "    }\n",
       "</style>\n",
       "<table border=\"1\" class=\"dataframe\">\n",
       "  <thead>\n",
       "    <tr style=\"text-align: right;\">\n",
       "      <th></th>\n",
       "      <th>Latitude</th>\n",
       "      <th>Longitude</th>\n",
       "    </tr>\n",
       "  </thead>\n",
       "  <tbody>\n",
       "    <tr>\n",
       "      <th>0</th>\n",
       "      <td>33.880183</td>\n",
       "      <td>-118.021787</td>\n",
       "    </tr>\n",
       "    <tr>\n",
       "      <th>1</th>\n",
       "      <td>34.111314</td>\n",
       "      <td>-118.264526</td>\n",
       "    </tr>\n",
       "    <tr>\n",
       "      <th>2</th>\n",
       "      <td>34.120764</td>\n",
       "      <td>-117.888430</td>\n",
       "    </tr>\n",
       "    <tr>\n",
       "      <th>3</th>\n",
       "      <td>34.118291</td>\n",
       "      <td>-118.270166</td>\n",
       "    </tr>\n",
       "    <tr>\n",
       "      <th>4</th>\n",
       "      <td>34.358847</td>\n",
       "      <td>-118.554053</td>\n",
       "    </tr>\n",
       "    <tr>\n",
       "      <th>...</th>\n",
       "      <td>...</td>\n",
       "      <td>...</td>\n",
       "    </tr>\n",
       "    <tr>\n",
       "      <th>687</th>\n",
       "      <td>34.055122</td>\n",
       "      <td>-118.212293</td>\n",
       "    </tr>\n",
       "    <tr>\n",
       "      <th>688</th>\n",
       "      <td>33.873704</td>\n",
       "      <td>-118.219282</td>\n",
       "    </tr>\n",
       "    <tr>\n",
       "      <th>689</th>\n",
       "      <td>34.024458</td>\n",
       "      <td>-118.239564</td>\n",
       "    </tr>\n",
       "    <tr>\n",
       "      <th>690</th>\n",
       "      <td>34.161152</td>\n",
       "      <td>-118.469631</td>\n",
       "    </tr>\n",
       "    <tr>\n",
       "      <th>691</th>\n",
       "      <td>34.069270</td>\n",
       "      <td>-118.149982</td>\n",
       "    </tr>\n",
       "  </tbody>\n",
       "</table>\n",
       "<p>692 rows × 2 columns</p>\n",
       "</div>"
      ],
      "text/plain": [
       "      Latitude   Longitude\n",
       "0    33.880183 -118.021787\n",
       "1    34.111314 -118.264526\n",
       "2    34.120764 -117.888430\n",
       "3    34.118291 -118.270166\n",
       "4    34.358847 -118.554053\n",
       "..         ...         ...\n",
       "687  34.055122 -118.212293\n",
       "688  33.873704 -118.219282\n",
       "689  34.024458 -118.239564\n",
       "690  34.161152 -118.469631\n",
       "691  34.069270 -118.149982\n",
       "\n",
       "[692 rows x 2 columns]"
      ]
     },
     "execution_count": 3,
     "metadata": {},
     "output_type": "execute_result"
    }
   ],
   "source": [
    "from simplification.cutil import simplify_coords\n",
    "\n",
    "ds_coords = pd.DataFrame(simplify_coords(meta[[\"Latitude\", 'Longitude']].values, 0.05), columns=['Latitude', 'Longitude'])\n",
    "ds_coords"
   ]
  },
  {
   "cell_type": "markdown",
   "metadata": {},
   "source": [
    "**Compute Pairwise Distances Based on Haversine Distance**"
   ]
  },
  {
   "cell_type": "code",
   "execution_count": 4,
   "metadata": {},
   "outputs": [],
   "source": [
    "from haversine import haversine\n",
    "from tqdm.notebook import tqdm\n",
    "import time"
   ]
  },
  {
   "cell_type": "code",
   "execution_count": null,
   "metadata": {},
   "outputs": [],
   "source": [
    "#initializing progress bar objects\n",
    "ds_stations = meta.merge(ds_coords, on=['Latitude', 'Longitude'])[['ID', 'Latitude', 'Longitude']]\n",
    "outer_loop=tqdm(ds_stations)\n",
    "inner_loop=tqdm(ds_stations)\n",
    "id1 = []\n",
    "id2 = []\n",
    "distances = []\n",
    "for ind1, row1 in ds_stations.iterrows():\n",
    "    inner_loop.refresh()  #force print final state\n",
    "    inner_loop.reset()  #reuse bar\n",
    "    outer_loop.update() #update outer tqdm\n",
    "    for ind2, row2 in ds_stations.iterrows():\n",
    "        if ind1 == ind2: continue\n",
    "        id1.append(row1['ID'])\n",
    "        id2.append(row2['ID'])\n",
    "        dist = haversine((row1['Latitude'], row1['Longitude']), (row2['Latitude'], row2['Longitude']))\n",
    "        distances.append(dist)\n",
    "        inner_loop.update() #update inner tqdm\n"
   ]
  },
  {
   "cell_type": "code",
   "execution_count": 48,
   "metadata": {},
   "outputs": [
    {
     "data": {
      "text/html": [
       "<div>\n",
       "<style scoped>\n",
       "    .dataframe tbody tr th:only-of-type {\n",
       "        vertical-align: middle;\n",
       "    }\n",
       "\n",
       "    .dataframe tbody tr th {\n",
       "        vertical-align: top;\n",
       "    }\n",
       "\n",
       "    .dataframe thead th {\n",
       "        text-align: right;\n",
       "    }\n",
       "</style>\n",
       "<table border=\"1\" class=\"dataframe\">\n",
       "  <thead>\n",
       "    <tr style=\"text-align: right;\">\n",
       "      <th></th>\n",
       "      <th>Station 1</th>\n",
       "      <th>Station 2</th>\n",
       "      <th>Distance</th>\n",
       "    </tr>\n",
       "  </thead>\n",
       "  <tbody>\n",
       "    <tr>\n",
       "      <th>0</th>\n",
       "      <td>715898</td>\n",
       "      <td>715910</td>\n",
       "      <td>6.220256</td>\n",
       "    </tr>\n",
       "    <tr>\n",
       "      <th>1</th>\n",
       "      <td>715898</td>\n",
       "      <td>759518</td>\n",
       "      <td>6.220256</td>\n",
       "    </tr>\n",
       "    <tr>\n",
       "      <th>2</th>\n",
       "      <td>715898</td>\n",
       "      <td>715928</td>\n",
       "      <td>12.980418</td>\n",
       "    </tr>\n",
       "    <tr>\n",
       "      <th>3</th>\n",
       "      <td>715898</td>\n",
       "      <td>716895</td>\n",
       "      <td>12.980418</td>\n",
       "    </tr>\n",
       "    <tr>\n",
       "      <th>4</th>\n",
       "      <td>715898</td>\n",
       "      <td>715935</td>\n",
       "      <td>15.814186</td>\n",
       "    </tr>\n",
       "    <tr>\n",
       "      <th>...</th>\n",
       "      <td>...</td>\n",
       "      <td>...</td>\n",
       "      <td>...</td>\n",
       "    </tr>\n",
       "    <tr>\n",
       "      <th>2898501</th>\n",
       "      <td>777169</td>\n",
       "      <td>776843</td>\n",
       "      <td>24.049210</td>\n",
       "    </tr>\n",
       "    <tr>\n",
       "      <th>2898502</th>\n",
       "      <td>777169</td>\n",
       "      <td>776845</td>\n",
       "      <td>24.049210</td>\n",
       "    </tr>\n",
       "    <tr>\n",
       "      <th>2898503</th>\n",
       "      <td>777169</td>\n",
       "      <td>776981</td>\n",
       "      <td>9.641063</td>\n",
       "    </tr>\n",
       "    <tr>\n",
       "      <th>2898504</th>\n",
       "      <td>777169</td>\n",
       "      <td>777066</td>\n",
       "      <td>31.149929</td>\n",
       "    </tr>\n",
       "    <tr>\n",
       "      <th>2898505</th>\n",
       "      <td>777169</td>\n",
       "      <td>777068</td>\n",
       "      <td>31.149929</td>\n",
       "    </tr>\n",
       "  </tbody>\n",
       "</table>\n",
       "<p>2898506 rows × 3 columns</p>\n",
       "</div>"
      ],
      "text/plain": [
       "         Station 1  Station 2   Distance\n",
       "0           715898     715910   6.220256\n",
       "1           715898     759518   6.220256\n",
       "2           715898     715928  12.980418\n",
       "3           715898     716895  12.980418\n",
       "4           715898     715935  15.814186\n",
       "...            ...        ...        ...\n",
       "2898501     777169     776843  24.049210\n",
       "2898502     777169     776845  24.049210\n",
       "2898503     777169     776981   9.641063\n",
       "2898504     777169     777066  31.149929\n",
       "2898505     777169     777068  31.149929\n",
       "\n",
       "[2898506 rows x 3 columns]"
      ]
     },
     "execution_count": 48,
     "metadata": {},
     "output_type": "execute_result"
    }
   ],
   "source": [
    "pairwise_dist = pd.DataFrame({'Station 1': id1, 'Station 2': id2, 'Distance': distances})\n",
    "pairwise_dist['Station 1'] = pairwise_dist['Station 1'].astype(int)\n",
    "pairwise_dist['Station 2'] = pairwise_dist['Station 2'].astype(int)\n",
    "pairwise_dist"
   ]
  },
  {
   "cell_type": "markdown",
   "metadata": {},
   "source": [
    "**Construct Adjacency Matrix**"
   ]
  },
  {
   "cell_type": "code",
   "execution_count": 76,
   "metadata": {},
   "outputs": [
    {
     "data": {
      "text/plain": [
       "1428"
      ]
     },
     "execution_count": 76,
     "metadata": {},
     "output_type": "execute_result"
    }
   ],
   "source": [
    "## mapper for station to adj_mat indices\n",
    "station_ind_mapper = {station: ind for ind, station in enumerate(pairwise_dist['Station 1'].sort_values().unique())}\n",
    "len(station_ind_mapper)"
   ]
  },
  {
   "cell_type": "code",
   "execution_count": 17,
   "metadata": {},
   "outputs": [],
   "source": [
    "import numpy as np\n",
    "from tqdm import tqdm"
   ]
  },
  {
   "cell_type": "code",
   "execution_count": 87,
   "metadata": {},
   "outputs": [
    {
     "data": {
      "application/vnd.jupyter.widget-view+json": {
       "model_id": "0e8cf48df2d84449a2ea341d3525924b",
       "version_major": 2,
       "version_minor": 0
      },
      "text/plain": [
       "HBox(children=(FloatProgress(value=0.0, max=4078368.0), HTML(value='')))"
      ]
     },
     "metadata": {},
     "output_type": "display_data"
    }
   ],
   "source": [
    "adj_mat = np.ones((pairwise_dist['Station 1'].nunique(), pairwise_dist['Station 1'].nunique()))\n",
    "progress = tqdm(range(adj_mat.shape[0]**2*2))\n",
    "for ind, row in pairwise_dist.iterrows():\n",
    "    adj_mat[station_ind_mapper[row['Station 1']], station_ind_mapper[row['Station 2']]] = row['Distance']\n",
    "    progress.update()\n",
    "    \n",
    "for ind, row in pairwise_dist.iterrows():\n",
    "    adj_mat[station_ind_mapper[row['Station 2']], station_ind_mapper[row['Station 1']]] = row['Distance']\n",
    "    progress.update()"
   ]
  },
  {
   "cell_type": "markdown",
   "metadata": {},
   "source": [
    "**Load Station Speed Data**"
   ]
  },
  {
   "cell_type": "code",
   "execution_count": 8,
   "metadata": {},
   "outputs": [
    {
     "data": {
      "text/plain": [
       "365"
      ]
     },
     "execution_count": 8,
     "metadata": {},
     "output_type": "execute_result"
    }
   ],
   "source": [
    "from glob import glob\n",
    "files = glob('../data/pems/*.gz')\n",
    "len(files)"
   ]
  },
  {
   "cell_type": "code",
   "execution_count": 99,
   "metadata": {},
   "outputs": [],
   "source": [
    "data_dict = pd.read_csv('../data/pems/station_dict.csv', names=['Feature', 'Description', 'Unit']).iloc[1:].reset_index(drop=True)"
   ]
  },
  {
   "cell_type": "markdown",
   "metadata": {},
   "source": [
    "**Construct Pivot Tables for Each Day For All DS Stations**"
   ]
  },
  {
   "cell_type": "code",
   "execution_count": null,
   "metadata": {},
   "outputs": [],
   "source": [
    "import gzip\n",
    "dfs = []\n",
    "for file in tqdm(files):\n",
    "    with gzip.open(file) as f:\n",
    "        df = pd.read_csv(f, header=None, usecols=[0, 1, 11])\n",
    "        df = df[df[1].isin(ds_stations['ID'])]\n",
    "        pivoted_df = df.pivot_table(values=11, index=0, columns=1)\n",
    "        pivoted_df.index.name = None\n",
    "        pivoted_df.columns.name = None\n",
    "        pivoted_df.index = pd.to_datetime(pivoted_df.index)\n",
    "        dfs.append(pivoted_df)"
   ]
  },
  {
   "cell_type": "markdown",
   "metadata": {},
   "source": [
    "**Merge Station Speed Pivot Table for All Days**"
   ]
  },
  {
   "cell_type": "code",
   "execution_count": null,
   "metadata": {},
   "outputs": [],
   "source": [
    "full_speed_df = pd.concat(dfs).sort_index()\n",
    "full_speed_df"
   ]
  },
  {
   "cell_type": "markdown",
   "metadata": {},
   "source": [
    "**Remove Stations from Adj. Matrix that Don't Appear in Full Speed Data**"
   ]
  },
  {
   "cell_type": "code",
   "execution_count": 100,
   "metadata": {
    "scrolled": true
   },
   "outputs": [
    {
     "data": {
      "text/plain": [
       "668"
      ]
     },
     "execution_count": 100,
     "metadata": {},
     "output_type": "execute_result"
    }
   ],
   "source": [
    "station_ind_mapper_subs = {station: station_ind_mapper[station] for station in station_ind_mapper if station in full_speed_df.columns}\n",
    "ind_to_delete = [i for i in range(adj_mat.shape[0]) if i not in station_ind_mapper_subs.values()]\n",
    "len(ind_to_delete)"
   ]
  },
  {
   "cell_type": "code",
   "execution_count": 101,
   "metadata": {},
   "outputs": [
    {
     "data": {
      "text/plain": [
       "(760, 760)"
      ]
     },
     "execution_count": 101,
     "metadata": {},
     "output_type": "execute_result"
    }
   ],
   "source": [
    "adj_mat_subs = np.delete(np.delete(adj_mat, ind_to_delete, 0), ind_to_delete, 1)\n",
    "adj_mat_subs.shape"
   ]
  },
  {
   "cell_type": "code",
   "execution_count": 102,
   "metadata": {},
   "outputs": [],
   "source": [
    "station_ind_mapper_subs = {station: i for i, station in enumerate(station_ind_mapper_subs)}"
   ]
  },
  {
   "cell_type": "markdown",
   "metadata": {},
   "source": [
    "**Verify Removal Was Successful**"
   ]
  },
  {
   "cell_type": "code",
   "execution_count": 103,
   "metadata": {},
   "outputs": [
    {
     "data": {
      "text/plain": [
       "True"
      ]
     },
     "execution_count": 103,
     "metadata": {},
     "output_type": "execute_result"
    }
   ],
   "source": [
    "station_test, ind_test = list(station_ind_mapper_subs.items())[3] \n",
    "all(np.delete(adj_mat[station_ind_mapper[station_test], ], ind_to_delete, 0) == adj_mat_subs[ind_test, ])"
   ]
  },
  {
   "cell_type": "markdown",
   "metadata": {},
   "source": [
    "**Imputation**"
   ]
  },
  {
   "cell_type": "code",
   "execution_count": 19,
   "metadata": {},
   "outputs": [],
   "source": [
    "full_speed_df = full_speed_df.fillna(method='ffill')"
   ]
  },
  {
   "cell_type": "code",
   "execution_count": 20,
   "metadata": {},
   "outputs": [],
   "source": [
    "## save adj_mat \n",
    "with open('../data/processed/rdp_ds/adj_mat.dat', 'wb')  as f:\n",
    "    pickle.dump(adj_mat_subs, f)\n",
    "\n",
    "## save mapper for adj_mat index to station ID\n",
    "with open('../data/processed/rdp_ds/adj_mat_ind_station_mapper.dat', 'wb') as f:\n",
    "    pickle.dump({station_ind_mapper_subs[station]: station for station in station_ind_mapper_subs}, f)\n",
    "\n",
    "## save full speed df concatenated for all days in 2021\n",
    "with open('../data/processed/rdp_ds/speeds.dat', 'wb')  as f:\n",
    "    pickle.dump(full_speed_df, f)"
   ]
  }
 ],
 "metadata": {
  "kernelspec": {
   "display_name": "Python 3 (ipykernel)",
   "language": "python",
   "name": "python3"
  },
  "language_info": {
   "codemirror_mode": {
    "name": "ipython",
    "version": 3
   },
   "file_extension": ".py",
   "mimetype": "text/x-python",
   "name": "python",
   "nbconvert_exporter": "python",
   "pygments_lexer": "ipython3",
   "version": "3.9.10"
  }
 },
 "nbformat": 4,
 "nbformat_minor": 4
}
